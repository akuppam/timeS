{
 "cells": [
  {
   "cell_type": "code",
   "execution_count": 1,
   "metadata": {},
   "outputs": [
    {
     "data": {
      "text/html": [
       "<div>\n",
       "<style scoped>\n",
       "    .dataframe tbody tr th:only-of-type {\n",
       "        vertical-align: middle;\n",
       "    }\n",
       "\n",
       "    .dataframe tbody tr th {\n",
       "        vertical-align: top;\n",
       "    }\n",
       "\n",
       "    .dataframe thead th {\n",
       "        text-align: right;\n",
       "    }\n",
       "</style>\n",
       "<table border=\"1\" class=\"dataframe\">\n",
       "  <thead>\n",
       "    <tr style=\"text-align: right;\">\n",
       "      <th></th>\n",
       "      <th>date</th>\n",
       "      <th>region</th>\n",
       "      <th>marketing</th>\n",
       "      <th>visits</th>\n",
       "      <th>br</th>\n",
       "      <th>inq</th>\n",
       "      <th>gb</th>\n",
       "      <th>cb</th>\n",
       "      <th>nb</th>\n",
       "      <th>ss</th>\n",
       "      <th>ts</th>\n",
       "      <th>listings</th>\n",
       "    </tr>\n",
       "  </thead>\n",
       "  <tbody>\n",
       "    <tr>\n",
       "      <th>0</th>\n",
       "      <td>1/1/16</td>\n",
       "      <td>AMR</td>\n",
       "      <td>NotPaid</td>\n",
       "      <td>1256288</td>\n",
       "      <td>6043</td>\n",
       "      <td>66022</td>\n",
       "      <td>6071</td>\n",
       "      <td>571</td>\n",
       "      <td>5500</td>\n",
       "      <td>485968.08000</td>\n",
       "      <td>144695.894200</td>\n",
       "      <td>10242216</td>\n",
       "    </tr>\n",
       "    <tr>\n",
       "      <th>1</th>\n",
       "      <td>1/1/16</td>\n",
       "      <td>AMR</td>\n",
       "      <td>Paid</td>\n",
       "      <td>189297</td>\n",
       "      <td>1092</td>\n",
       "      <td>11806</td>\n",
       "      <td>743</td>\n",
       "      <td>2</td>\n",
       "      <td>741</td>\n",
       "      <td>0.00000</td>\n",
       "      <td>14138.809600</td>\n",
       "      <td>2133795</td>\n",
       "    </tr>\n",
       "    <tr>\n",
       "      <th>2</th>\n",
       "      <td>1/1/16</td>\n",
       "      <td>UK</td>\n",
       "      <td>NotPaid</td>\n",
       "      <td>201797</td>\n",
       "      <td>435</td>\n",
       "      <td>9662</td>\n",
       "      <td>436</td>\n",
       "      <td>33</td>\n",
       "      <td>403</td>\n",
       "      <td>72698.92472</td>\n",
       "      <td>8317.105056</td>\n",
       "      <td>3561696</td>\n",
       "    </tr>\n",
       "    <tr>\n",
       "      <th>3</th>\n",
       "      <td>1/1/16</td>\n",
       "      <td>UK</td>\n",
       "      <td>Paid</td>\n",
       "      <td>55934</td>\n",
       "      <td>88</td>\n",
       "      <td>2749</td>\n",
       "      <td>61</td>\n",
       "      <td>1</td>\n",
       "      <td>60</td>\n",
       "      <td>0.00000</td>\n",
       "      <td>815.336426</td>\n",
       "      <td>890424</td>\n",
       "    </tr>\n",
       "    <tr>\n",
       "      <th>4</th>\n",
       "      <td>1/1/16</td>\n",
       "      <td>CE</td>\n",
       "      <td>NotPaid</td>\n",
       "      <td>200786</td>\n",
       "      <td>573</td>\n",
       "      <td>9250</td>\n",
       "      <td>435</td>\n",
       "      <td>31</td>\n",
       "      <td>404</td>\n",
       "      <td>40490.73159</td>\n",
       "      <td>12016.782410</td>\n",
       "      <td>3062480</td>\n",
       "    </tr>\n",
       "  </tbody>\n",
       "</table>\n",
       "</div>"
      ],
      "text/plain": [
       "     date region marketing   visits    br    inq    gb   cb    nb  \\\n",
       "0  1/1/16    AMR   NotPaid  1256288  6043  66022  6071  571  5500   \n",
       "1  1/1/16    AMR      Paid   189297  1092  11806   743    2   741   \n",
       "2  1/1/16     UK   NotPaid   201797   435   9662   436   33   403   \n",
       "3  1/1/16     UK      Paid    55934    88   2749    61    1    60   \n",
       "4  1/1/16     CE   NotPaid   200786   573   9250   435   31   404   \n",
       "\n",
       "             ss             ts  listings  \n",
       "0  485968.08000  144695.894200  10242216  \n",
       "1       0.00000   14138.809600   2133795  \n",
       "2   72698.92472    8317.105056   3561696  \n",
       "3       0.00000     815.336426    890424  \n",
       "4   40490.73159   12016.782410   3062480  "
      ]
     },
     "execution_count": 1,
     "metadata": {},
     "output_type": "execute_result"
    }
   ],
   "source": [
    "import warnings\n",
    "import itertools\n",
    "import numpy as np\n",
    "import matplotlib.pyplot as plt\n",
    "#warnings.filterwarnings(\"ignore\")\n",
    "plt.style.use('fivethirtyeight')\n",
    "import pandas as pd\n",
    "import statsmodels.api as sm\n",
    "import matplotlib\n",
    "from sklearn.metrics import mean_squared_error\n",
    "\n",
    "import pickle\n",
    "import simplejson as json\n",
    "\n",
    "matplotlib.rcParams['axes.labelsize'] = 14\n",
    "matplotlib.rcParams['xtick.labelsize'] = 12\n",
    "matplotlib.rcParams['ytick.labelsize'] = 12\n",
    "matplotlib.rcParams['text.color'] = 'k'\n",
    "\n",
    "# Data manipulation\n",
    "import pandas as pd\n",
    "import numpy as np\n",
    "\n",
    "# Visualization\n",
    "import matplotlib.pyplot as plt\n",
    "import seaborn as sns\n",
    "\n",
    "# Set a few plotting defaults\n",
    "%matplotlib inline\n",
    "plt.style.use('fivethirtyeight')\n",
    "plt.rcParams['font.size'] = 18\n",
    "plt.rcParams['patch.edgecolor'] = 'k'\n",
    "plt.rcParams[\"figure.figsize\"] = [16,9]\n",
    "\n",
    "pd.options.display.max_columns = 150\n",
    "\n",
    "df = pd.read_csv(\"/users/akuppam/documents/Hprog/Py/rnb1015_2.csv\")\n",
    "df.head(5)"
   ]
  },
  {
   "cell_type": "code",
   "execution_count": 2,
   "metadata": {},
   "outputs": [
    {
     "data": {
      "text/html": [
       "<div>\n",
       "<style scoped>\n",
       "    .dataframe tbody tr th:only-of-type {\n",
       "        vertical-align: middle;\n",
       "    }\n",
       "\n",
       "    .dataframe tbody tr th {\n",
       "        vertical-align: top;\n",
       "    }\n",
       "\n",
       "    .dataframe thead th {\n",
       "        text-align: right;\n",
       "    }\n",
       "</style>\n",
       "<table border=\"1\" class=\"dataframe\">\n",
       "  <thead>\n",
       "    <tr style=\"text-align: right;\">\n",
       "      <th></th>\n",
       "      <th>visits</th>\n",
       "      <th>br</th>\n",
       "      <th>inq</th>\n",
       "      <th>gb</th>\n",
       "      <th>cb</th>\n",
       "      <th>nb</th>\n",
       "      <th>ss</th>\n",
       "      <th>ts</th>\n",
       "      <th>listings</th>\n",
       "    </tr>\n",
       "  </thead>\n",
       "  <tbody>\n",
       "    <tr>\n",
       "      <th>count</th>\n",
       "      <td>1019.000000</td>\n",
       "      <td>1019.000000</td>\n",
       "      <td>1019.000000</td>\n",
       "      <td>1019.000000</td>\n",
       "      <td>1019.000000</td>\n",
       "      <td>1019.000000</td>\n",
       "      <td>1019.000000</td>\n",
       "      <td>1019.000000</td>\n",
       "      <td>1.019000e+03</td>\n",
       "    </tr>\n",
       "    <tr>\n",
       "      <th>mean</th>\n",
       "      <td>208007.236506</td>\n",
       "      <td>874.540726</td>\n",
       "      <td>5669.378803</td>\n",
       "      <td>738.975466</td>\n",
       "      <td>97.000000</td>\n",
       "      <td>641.975466</td>\n",
       "      <td>64354.344591</td>\n",
       "      <td>67877.867010</td>\n",
       "      <td>4.132623e+06</td>\n",
       "    </tr>\n",
       "    <tr>\n",
       "      <th>std</th>\n",
       "      <td>49970.872125</td>\n",
       "      <td>321.850987</td>\n",
       "      <td>3230.824083</td>\n",
       "      <td>272.000936</td>\n",
       "      <td>42.682245</td>\n",
       "      <td>247.541682</td>\n",
       "      <td>51522.802513</td>\n",
       "      <td>43294.630309</td>\n",
       "      <td>6.174129e+05</td>\n",
       "    </tr>\n",
       "    <tr>\n",
       "      <th>min</th>\n",
       "      <td>65597.000000</td>\n",
       "      <td>143.000000</td>\n",
       "      <td>659.000000</td>\n",
       "      <td>114.000000</td>\n",
       "      <td>17.000000</td>\n",
       "      <td>97.000000</td>\n",
       "      <td>-32805.469450</td>\n",
       "      <td>-3355.851410</td>\n",
       "      <td>2.914890e+05</td>\n",
       "    </tr>\n",
       "    <tr>\n",
       "      <th>25%</th>\n",
       "      <td>180259.000000</td>\n",
       "      <td>655.000000</td>\n",
       "      <td>2768.500000</td>\n",
       "      <td>567.500000</td>\n",
       "      <td>68.000000</td>\n",
       "      <td>491.500000</td>\n",
       "      <td>33014.387520</td>\n",
       "      <td>36549.154035</td>\n",
       "      <td>4.080312e+06</td>\n",
       "    </tr>\n",
       "    <tr>\n",
       "      <th>50%</th>\n",
       "      <td>210091.000000</td>\n",
       "      <td>832.000000</td>\n",
       "      <td>5219.000000</td>\n",
       "      <td>704.000000</td>\n",
       "      <td>91.000000</td>\n",
       "      <td>605.000000</td>\n",
       "      <td>48819.573470</td>\n",
       "      <td>66097.854240</td>\n",
       "      <td>4.196176e+06</td>\n",
       "    </tr>\n",
       "    <tr>\n",
       "      <th>75%</th>\n",
       "      <td>239734.000000</td>\n",
       "      <td>1003.000000</td>\n",
       "      <td>7682.000000</td>\n",
       "      <td>823.000000</td>\n",
       "      <td>118.500000</td>\n",
       "      <td>711.000000</td>\n",
       "      <td>74321.636300</td>\n",
       "      <td>88053.269915</td>\n",
       "      <td>4.391588e+06</td>\n",
       "    </tr>\n",
       "    <tr>\n",
       "      <th>max</th>\n",
       "      <td>423613.000000</td>\n",
       "      <td>2845.000000</td>\n",
       "      <td>18841.000000</td>\n",
       "      <td>2257.000000</td>\n",
       "      <td>477.000000</td>\n",
       "      <td>2109.000000</td>\n",
       "      <td>540698.107300</td>\n",
       "      <td>279106.547400</td>\n",
       "      <td>4.838688e+06</td>\n",
       "    </tr>\n",
       "  </tbody>\n",
       "</table>\n",
       "</div>"
      ],
      "text/plain": [
       "              visits           br           inq           gb           cb  \\\n",
       "count    1019.000000  1019.000000   1019.000000  1019.000000  1019.000000   \n",
       "mean   208007.236506   874.540726   5669.378803   738.975466    97.000000   \n",
       "std     49970.872125   321.850987   3230.824083   272.000936    42.682245   \n",
       "min     65597.000000   143.000000    659.000000   114.000000    17.000000   \n",
       "25%    180259.000000   655.000000   2768.500000   567.500000    68.000000   \n",
       "50%    210091.000000   832.000000   5219.000000   704.000000    91.000000   \n",
       "75%    239734.000000  1003.000000   7682.000000   823.000000   118.500000   \n",
       "max    423613.000000  2845.000000  18841.000000  2257.000000   477.000000   \n",
       "\n",
       "                nb             ss             ts      listings  \n",
       "count  1019.000000    1019.000000    1019.000000  1.019000e+03  \n",
       "mean    641.975466   64354.344591   67877.867010  4.132623e+06  \n",
       "std     247.541682   51522.802513   43294.630309  6.174129e+05  \n",
       "min      97.000000  -32805.469450   -3355.851410  2.914890e+05  \n",
       "25%     491.500000   33014.387520   36549.154035  4.080312e+06  \n",
       "50%     605.000000   48819.573470   66097.854240  4.196176e+06  \n",
       "75%     711.000000   74321.636300   88053.269915  4.391588e+06  \n",
       "max    2109.000000  540698.107300  279106.547400  4.838688e+06  "
      ]
     },
     "execution_count": 2,
     "metadata": {},
     "output_type": "execute_result"
    }
   ],
   "source": [
    "df = df.loc[(df['region'] == 'UK') & (df['marketing'] == 'NotPaid')]\n",
    "df = df[~(df['nb'] < 0)]\n",
    "df.describe()"
   ]
  },
  {
   "cell_type": "code",
   "execution_count": 3,
   "metadata": {},
   "outputs": [
    {
     "data": {
      "text/html": [
       "<div>\n",
       "<style scoped>\n",
       "    .dataframe tbody tr th:only-of-type {\n",
       "        vertical-align: middle;\n",
       "    }\n",
       "\n",
       "    .dataframe tbody tr th {\n",
       "        vertical-align: top;\n",
       "    }\n",
       "\n",
       "    .dataframe thead th {\n",
       "        text-align: right;\n",
       "    }\n",
       "</style>\n",
       "<table border=\"1\" class=\"dataframe\">\n",
       "  <thead>\n",
       "    <tr style=\"text-align: right;\">\n",
       "      <th></th>\n",
       "      <th>date</th>\n",
       "      <th>region</th>\n",
       "      <th>marketing</th>\n",
       "      <th>visits</th>\n",
       "      <th>br</th>\n",
       "      <th>inq</th>\n",
       "      <th>gb</th>\n",
       "      <th>cb</th>\n",
       "      <th>nb</th>\n",
       "      <th>ss</th>\n",
       "      <th>ts</th>\n",
       "      <th>listings</th>\n",
       "    </tr>\n",
       "  </thead>\n",
       "  <tbody>\n",
       "    <tr>\n",
       "      <th>2</th>\n",
       "      <td>1/1/16</td>\n",
       "      <td>UK</td>\n",
       "      <td>NotPaid</td>\n",
       "      <td>201797</td>\n",
       "      <td>435</td>\n",
       "      <td>9662</td>\n",
       "      <td>436</td>\n",
       "      <td>33</td>\n",
       "      <td>403</td>\n",
       "      <td>72698.92472</td>\n",
       "      <td>8317.105056</td>\n",
       "      <td>3561696</td>\n",
       "    </tr>\n",
       "    <tr>\n",
       "      <th>12</th>\n",
       "      <td>1/2/16</td>\n",
       "      <td>UK</td>\n",
       "      <td>NotPaid</td>\n",
       "      <td>230068</td>\n",
       "      <td>500</td>\n",
       "      <td>11385</td>\n",
       "      <td>484</td>\n",
       "      <td>33</td>\n",
       "      <td>451</td>\n",
       "      <td>88212.13002</td>\n",
       "      <td>9777.677209</td>\n",
       "      <td>3544800</td>\n",
       "    </tr>\n",
       "    <tr>\n",
       "      <th>22</th>\n",
       "      <td>1/3/16</td>\n",
       "      <td>UK</td>\n",
       "      <td>NotPaid</td>\n",
       "      <td>287058</td>\n",
       "      <td>717</td>\n",
       "      <td>14407</td>\n",
       "      <td>724</td>\n",
       "      <td>42</td>\n",
       "      <td>682</td>\n",
       "      <td>88985.55523</td>\n",
       "      <td>12676.852970</td>\n",
       "      <td>3543248</td>\n",
       "    </tr>\n",
       "    <tr>\n",
       "      <th>32</th>\n",
       "      <td>1/4/16</td>\n",
       "      <td>UK</td>\n",
       "      <td>NotPaid</td>\n",
       "      <td>283661</td>\n",
       "      <td>667</td>\n",
       "      <td>14891</td>\n",
       "      <td>754</td>\n",
       "      <td>82</td>\n",
       "      <td>672</td>\n",
       "      <td>266172.54600</td>\n",
       "      <td>14121.575680</td>\n",
       "      <td>3547232</td>\n",
       "    </tr>\n",
       "    <tr>\n",
       "      <th>42</th>\n",
       "      <td>1/5/16</td>\n",
       "      <td>UK</td>\n",
       "      <td>NotPaid</td>\n",
       "      <td>277621</td>\n",
       "      <td>664</td>\n",
       "      <td>13854</td>\n",
       "      <td>780</td>\n",
       "      <td>75</td>\n",
       "      <td>705</td>\n",
       "      <td>256567.41390</td>\n",
       "      <td>14941.685160</td>\n",
       "      <td>3526928</td>\n",
       "    </tr>\n",
       "  </tbody>\n",
       "</table>\n",
       "</div>"
      ],
      "text/plain": [
       "      date region marketing  visits   br    inq   gb  cb   nb            ss  \\\n",
       "2   1/1/16     UK   NotPaid  201797  435   9662  436  33  403   72698.92472   \n",
       "12  1/2/16     UK   NotPaid  230068  500  11385  484  33  451   88212.13002   \n",
       "22  1/3/16     UK   NotPaid  287058  717  14407  724  42  682   88985.55523   \n",
       "32  1/4/16     UK   NotPaid  283661  667  14891  754  82  672  266172.54600   \n",
       "42  1/5/16     UK   NotPaid  277621  664  13854  780  75  705  256567.41390   \n",
       "\n",
       "              ts  listings  \n",
       "2    8317.105056   3561696  \n",
       "12   9777.677209   3544800  \n",
       "22  12676.852970   3543248  \n",
       "32  14121.575680   3547232  \n",
       "42  14941.685160   3526928  "
      ]
     },
     "execution_count": 3,
     "metadata": {},
     "output_type": "execute_result"
    }
   ],
   "source": [
    "df.head()"
   ]
  },
  {
   "cell_type": "code",
   "execution_count": 4,
   "metadata": {},
   "outputs": [],
   "source": [
    "df.index = pd.to_datetime(df.date)"
   ]
  },
  {
   "cell_type": "code",
   "execution_count": 5,
   "metadata": {},
   "outputs": [
    {
     "data": {
      "text/html": [
       "<div>\n",
       "<style scoped>\n",
       "    .dataframe tbody tr th:only-of-type {\n",
       "        vertical-align: middle;\n",
       "    }\n",
       "\n",
       "    .dataframe tbody tr th {\n",
       "        vertical-align: top;\n",
       "    }\n",
       "\n",
       "    .dataframe thead th {\n",
       "        text-align: right;\n",
       "    }\n",
       "</style>\n",
       "<table border=\"1\" class=\"dataframe\">\n",
       "  <thead>\n",
       "    <tr style=\"text-align: right;\">\n",
       "      <th></th>\n",
       "      <th>date</th>\n",
       "      <th>region</th>\n",
       "      <th>marketing</th>\n",
       "      <th>visits</th>\n",
       "      <th>br</th>\n",
       "      <th>inq</th>\n",
       "      <th>gb</th>\n",
       "      <th>cb</th>\n",
       "      <th>nb</th>\n",
       "      <th>ss</th>\n",
       "      <th>ts</th>\n",
       "      <th>listings</th>\n",
       "    </tr>\n",
       "    <tr>\n",
       "      <th>date</th>\n",
       "      <th></th>\n",
       "      <th></th>\n",
       "      <th></th>\n",
       "      <th></th>\n",
       "      <th></th>\n",
       "      <th></th>\n",
       "      <th></th>\n",
       "      <th></th>\n",
       "      <th></th>\n",
       "      <th></th>\n",
       "      <th></th>\n",
       "      <th></th>\n",
       "    </tr>\n",
       "  </thead>\n",
       "  <tbody>\n",
       "    <tr>\n",
       "      <th>2016-01-01</th>\n",
       "      <td>1/1/16</td>\n",
       "      <td>UK</td>\n",
       "      <td>NotPaid</td>\n",
       "      <td>201797</td>\n",
       "      <td>435</td>\n",
       "      <td>9662</td>\n",
       "      <td>436</td>\n",
       "      <td>33</td>\n",
       "      <td>403</td>\n",
       "      <td>72698.92472</td>\n",
       "      <td>8317.105056</td>\n",
       "      <td>3561696</td>\n",
       "    </tr>\n",
       "    <tr>\n",
       "      <th>2016-01-02</th>\n",
       "      <td>1/2/16</td>\n",
       "      <td>UK</td>\n",
       "      <td>NotPaid</td>\n",
       "      <td>230068</td>\n",
       "      <td>500</td>\n",
       "      <td>11385</td>\n",
       "      <td>484</td>\n",
       "      <td>33</td>\n",
       "      <td>451</td>\n",
       "      <td>88212.13002</td>\n",
       "      <td>9777.677209</td>\n",
       "      <td>3544800</td>\n",
       "    </tr>\n",
       "    <tr>\n",
       "      <th>2016-01-03</th>\n",
       "      <td>1/3/16</td>\n",
       "      <td>UK</td>\n",
       "      <td>NotPaid</td>\n",
       "      <td>287058</td>\n",
       "      <td>717</td>\n",
       "      <td>14407</td>\n",
       "      <td>724</td>\n",
       "      <td>42</td>\n",
       "      <td>682</td>\n",
       "      <td>88985.55523</td>\n",
       "      <td>12676.852970</td>\n",
       "      <td>3543248</td>\n",
       "    </tr>\n",
       "    <tr>\n",
       "      <th>2016-01-04</th>\n",
       "      <td>1/4/16</td>\n",
       "      <td>UK</td>\n",
       "      <td>NotPaid</td>\n",
       "      <td>283661</td>\n",
       "      <td>667</td>\n",
       "      <td>14891</td>\n",
       "      <td>754</td>\n",
       "      <td>82</td>\n",
       "      <td>672</td>\n",
       "      <td>266172.54600</td>\n",
       "      <td>14121.575680</td>\n",
       "      <td>3547232</td>\n",
       "    </tr>\n",
       "    <tr>\n",
       "      <th>2016-01-05</th>\n",
       "      <td>1/5/16</td>\n",
       "      <td>UK</td>\n",
       "      <td>NotPaid</td>\n",
       "      <td>277621</td>\n",
       "      <td>664</td>\n",
       "      <td>13854</td>\n",
       "      <td>780</td>\n",
       "      <td>75</td>\n",
       "      <td>705</td>\n",
       "      <td>256567.41390</td>\n",
       "      <td>14941.685160</td>\n",
       "      <td>3526928</td>\n",
       "    </tr>\n",
       "  </tbody>\n",
       "</table>\n",
       "</div>"
      ],
      "text/plain": [
       "              date region marketing  visits   br    inq   gb  cb   nb  \\\n",
       "date                                                                    \n",
       "2016-01-01  1/1/16     UK   NotPaid  201797  435   9662  436  33  403   \n",
       "2016-01-02  1/2/16     UK   NotPaid  230068  500  11385  484  33  451   \n",
       "2016-01-03  1/3/16     UK   NotPaid  287058  717  14407  724  42  682   \n",
       "2016-01-04  1/4/16     UK   NotPaid  283661  667  14891  754  82  672   \n",
       "2016-01-05  1/5/16     UK   NotPaid  277621  664  13854  780  75  705   \n",
       "\n",
       "                      ss            ts  listings  \n",
       "date                                              \n",
       "2016-01-01   72698.92472   8317.105056   3561696  \n",
       "2016-01-02   88212.13002   9777.677209   3544800  \n",
       "2016-01-03   88985.55523  12676.852970   3543248  \n",
       "2016-01-04  266172.54600  14121.575680   3547232  \n",
       "2016-01-05  256567.41390  14941.685160   3526928  "
      ]
     },
     "execution_count": 5,
     "metadata": {},
     "output_type": "execute_result"
    }
   ],
   "source": [
    "df.head()"
   ]
  },
  {
   "cell_type": "code",
   "execution_count": 9,
   "metadata": {},
   "outputs": [
    {
     "data": {
      "text/html": [
       "<div>\n",
       "<style scoped>\n",
       "    .dataframe tbody tr th:only-of-type {\n",
       "        vertical-align: middle;\n",
       "    }\n",
       "\n",
       "    .dataframe tbody tr th {\n",
       "        vertical-align: top;\n",
       "    }\n",
       "\n",
       "    .dataframe thead th {\n",
       "        text-align: right;\n",
       "    }\n",
       "</style>\n",
       "<table border=\"1\" class=\"dataframe\">\n",
       "  <thead>\n",
       "    <tr style=\"text-align: right;\">\n",
       "      <th></th>\n",
       "      <th>y</th>\n",
       "    </tr>\n",
       "    <tr>\n",
       "      <th>date</th>\n",
       "      <th></th>\n",
       "    </tr>\n",
       "  </thead>\n",
       "  <tbody>\n",
       "    <tr>\n",
       "      <th>2016-01-01</th>\n",
       "      <td>403</td>\n",
       "    </tr>\n",
       "    <tr>\n",
       "      <th>2016-01-02</th>\n",
       "      <td>451</td>\n",
       "    </tr>\n",
       "    <tr>\n",
       "      <th>2016-01-03</th>\n",
       "      <td>682</td>\n",
       "    </tr>\n",
       "    <tr>\n",
       "      <th>2016-01-04</th>\n",
       "      <td>672</td>\n",
       "    </tr>\n",
       "    <tr>\n",
       "      <th>2016-01-05</th>\n",
       "      <td>705</td>\n",
       "    </tr>\n",
       "  </tbody>\n",
       "</table>\n",
       "</div>"
      ],
      "text/plain": [
       "              y\n",
       "date           \n",
       "2016-01-01  403\n",
       "2016-01-02  451\n",
       "2016-01-03  682\n",
       "2016-01-04  672\n",
       "2016-01-05  705"
      ]
     },
     "execution_count": 9,
     "metadata": {},
     "output_type": "execute_result"
    }
   ],
   "source": [
    "df = pd.read_csv(\"/users/akuppam/documents/Hprog/Py/rnb1015_2.csv\")\n",
    "df = df.loc[(df['region'] == 'UK') & (df['marketing'] == 'NotPaid')]\n",
    "df = df[~(df['nb'] < 0)]\n",
    "df.describe()\n",
    "df.index = pd.to_datetime(df.date)\n",
    "cols = [\"nb\"]\n",
    "df = df[cols]\n",
    "df.columns = ['y']\n",
    "df.head()"
   ]
  },
  {
   "cell_type": "code",
   "execution_count": 12,
   "metadata": {},
   "outputs": [
    {
     "name": "stdout",
     "output_type": "stream",
     "text": [
      "error =  473349.2492639843\n",
      "SARIMA (0, 0, 0) (0, 0, 0, 7) MSE=473349.249\n",
      "error =  160613.67457470103\n",
      "SARIMA (0, 0, 0) (0, 0, 1, 7) MSE=160613.675\n",
      "error =  25195.419933730776\n",
      "SARIMA (0, 0, 0) (1, 0, 0, 7) MSE=25195.420\n",
      "error =  25208.95700850225\n",
      "SARIMA (0, 0, 0) (1, 0, 1, 7) MSE=25208.957\n",
      "error =  142071.28585315341\n",
      "SARIMA (0, 0, 1) (0, 0, 0, 7) MSE=142071.286\n",
      "error =  67825.32235627675\n",
      "SARIMA (0, 0, 1) (0, 0, 1, 7) MSE=67825.322\n",
      "error =  17001.04936520419\n",
      "SARIMA (0, 0, 1) (1, 0, 0, 7) MSE=17001.049\n",
      "error =  16069.972341029372\n",
      "SARIMA (0, 0, 1) (1, 0, 1, 7) MSE=16069.972\n",
      "error =  120.43698494307559\n",
      "SARIMA (1, 0, 0) (0, 0, 0, 7) MSE=120.437\n",
      "error =  1476.053247349085\n",
      "SARIMA (1, 0, 0) (0, 0, 1, 7) MSE=1476.053\n",
      "error =  3396.998988732902\n",
      "SARIMA (1, 0, 0) (1, 0, 0, 7) MSE=3396.999\n",
      "error =  5729.503401566067\n",
      "SARIMA (1, 0, 0) (1, 0, 1, 7) MSE=5729.503\n",
      "error =  3014.2118573213943\n",
      "SARIMA (1, 0, 1) (0, 0, 0, 7) MSE=3014.212\n",
      "error =  4909.311170398936\n",
      "SARIMA (1, 0, 1) (0, 0, 1, 7) MSE=4909.311\n",
      "error =  6455.534888228716\n",
      "SARIMA (1, 0, 1) (1, 0, 0, 7) MSE=6455.535\n",
      "error =  6953.631832068594\n",
      "SARIMA (1, 0, 1) (1, 0, 1, 7) MSE=6953.632\n",
      "Best SARIMA (1, 0, 0) (0, 0, 0, 7) MSE=120.437\n",
      "best order & sorder = (1, 0, 0) (0, 0, 0, 7)\n",
      "                           Statespace Model Results                           \n",
      "==============================================================================\n",
      "Dep. Variable:                     nb   No. Observations:                 1019\n",
      "Model:               SARIMAX(1, 0, 0)   Log Likelihood               -6334.344\n",
      "Date:                Tue, 13 Nov 2018   AIC                          12672.688\n",
      "Time:                        20:23:29   BIC                          12682.541\n",
      "Sample:                    01-01-2016   HQIC                         12676.429\n",
      "                         - 10-15-2018                                         \n",
      "Covariance Type:                  opg                                         \n",
      "==============================================================================\n",
      "                 coef    std err          z      P>|z|      [0.025      0.975]\n",
      "------------------------------------------------------------------------------\n",
      "ar.L1          0.9840      0.004    255.825      0.000       0.977       0.992\n",
      "sigma2      1.464e+04    217.955     67.186      0.000    1.42e+04    1.51e+04\n",
      "===================================================================================\n",
      "Ljung-Box (Q):                     1124.14   Jarque-Bera (JB):             10688.20\n",
      "Prob(Q):                              0.00   Prob(JB):                         0.00\n",
      "Heteroskedasticity (H):               3.31   Skew:                             0.57\n",
      "Prob(H) (two-sided):                  0.00   Kurtosis:                        18.82\n",
      "===================================================================================\n",
      "\n",
      "Warnings:\n",
      "[1] Covariance matrix calculated using the outer product of gradients (complex-step).\n"
     ]
    }
   ],
   "source": [
    "# SARIMA Model\n",
    "# Not looping thro' every x in X\n",
    "# This works - do a wider grid search\n",
    "import warnings\n",
    "import pandas as pd\n",
    "import numpy as np\n",
    "from pandas import read_csv\n",
    "from pandas import datetime\n",
    "from statsmodels.tsa.arima_model import ARIMA\n",
    "from sklearn.metrics import mean_squared_error\n",
    "import matplotlib.pyplot as plt\n",
    "\n",
    "def evaluate_sarima_model(X, order, sorder):\n",
    "    # make predictions\n",
    "    predictions = list()\n",
    "    model = sm.tsa.statespace.SARIMAX(series,order=order,\n",
    "                                      seasonal_order=sorder,\n",
    "                                      enforce_stationarity=True,\n",
    "                                      enforce_invertibility=True)\n",
    "    model_fit = model.fit(transparams=True)\n",
    "    predictions = model_fit.predict(start=1, end=1019, dynamic=False)\n",
    "    yhat = model_fit.forecast(442)\n",
    "    sarima_series = predictions.append(yhat)\n",
    "    # calculate out of sample error\n",
    "    error = mean_squared_error(series, predictions)\n",
    "    print('error = ', error)\n",
    "    return error\n",
    "\n",
    "def evaluate_sarima_params(dataset, p_values, d_values, q_values, P_values, D_values, Q_values):\n",
    "    dataset = dataset.astype('float32')\n",
    "    best_score, best_params, best_seasonal_params = float(\"inf\"), None, None\n",
    "    for p in p_values:\n",
    "        for d in d_values:\n",
    "            for q in q_values:\n",
    "                for P in P_values:\n",
    "                    for D in D_values:\n",
    "                        for Q in Q_values:\n",
    "                            order = (p,d,q)\n",
    "                            sorder = (P,D,Q,m)\n",
    "                            try:\n",
    "                                mse = evaluate_sarima_model(dataset, order, sorder)\n",
    "                                if mse < best_score:\n",
    "                                    best_score, best_params, best_seasonal_params = mse, order, sorder\n",
    "                                print('SARIMA %s %s MSE=%.3f' % (order, sorder, mse))\n",
    "                            except:\n",
    "                                continue\n",
    "    print('Best SARIMA %s %s MSE=%.3f' % (best_params, best_seasonal_params, best_score))\n",
    "    #model_params = [p,d,q]\n",
    "    #model_seasonal_params = [P,D,Q]\n",
    "    print(\"best order & sorder =\", best_params, best_seasonal_params)\n",
    "    with open('model_params.json','w') as out_params:\n",
    "        json.dump(best_params, out_params)\n",
    "    with open('model_seasonal_params.json','w') as out_seasonal_params:\n",
    "        json.dump(best_seasonal_params, out_seasonal_params)\n",
    "\n",
    "# load dataset\n",
    "df.index = pd.to_datetime(df.date)\n",
    "cols = [\"nb\"]\n",
    "y = df[cols]\n",
    "series = y['nb']\n",
    "#series = [2,5,8,9,3,5,9,1,4,5,8,9]\n",
    "#df = pd.DataFrame(np.random.randint(0,30,size=50),\n",
    "#                  columns=[\"Random\"],\n",
    "#                  index=pd.date_range(\"20180101\", periods=50))\n",
    "#series = df['Random']\n",
    "\n",
    "# evaluate parameters\n",
    "p_values = range(0, 2)\n",
    "d_values = range(0, 1)\n",
    "q_values = range(0, 2)\n",
    "P_values = range(0, 2)\n",
    "D_values = range(0, 1)\n",
    "Q_values = range(0, 2)\n",
    "m = 7\n",
    "\n",
    "import warnings\n",
    "warnings.filterwarnings(\"ignore\")\n",
    "\n",
    "evaluate_sarima_params(series.values, p_values, d_values, q_values, P_values, D_values, Q_values)\n",
    "\n",
    "# select the best set of p,d,q\n",
    "with open('model_params.json') as json_file:\n",
    "    out_params = json.load(json_file)\n",
    "p = out_params[0]\n",
    "d = out_params[1]\n",
    "q = out_params[2]\n",
    "\n",
    "# select the best set of P,D,Q\n",
    "with open('model_seasonal_params.json') as json_file:\n",
    "    out_seasonal_params = json.load(json_file)\n",
    "P = out_seasonal_params[0]\n",
    "D = out_seasonal_params[1]\n",
    "Q = out_seasonal_params[2]\n",
    "#m = out_seasonal_params[3]\n",
    "\n",
    "# apply model\n",
    "model = sm.tsa.statespace.SARIMAX(series,\n",
    "                                  order=(p,d,q),\n",
    "                                  seasonal_order=(P,D,Q,m),\n",
    "                                  enforce_stationarity=True,\n",
    "                                  enforce_invertibility=True)\n",
    "model_fit = model.fit(transparams=True)\n",
    "print(model_fit.summary())\n",
    "\n",
    "pred_fcst = model_fit.predict(start=1, end=1019, dynamic=False)\n",
    "sarima_forecast = model_fit.forecast(442)\n",
    "sarima_series = pred_fcst.append(sarima_forecast)"
   ]
  },
  {
   "cell_type": "code",
   "execution_count": 13,
   "metadata": {},
   "outputs": [
    {
     "name": "stdout",
     "output_type": "stream",
     "text": [
      "error =  473349.2492639843\n",
      "SARIMA (0, 0, 0) (0, 0, 0, 7) MSE=473349.249\n",
      "error =  262630.93347710633\n",
      "SARIMA (0, 0, 0) (0, 0, 1, 7) MSE=262630.933\n",
      "error =  74616.85049070264\n",
      "SARIMA (0, 0, 0) (1, 0, 0, 7) MSE=74616.850\n",
      "error =  75408.27349865956\n",
      "SARIMA (0, 0, 0) (1, 0, 1, 7) MSE=75408.273\n",
      "error =  225391.79174460145\n",
      "SARIMA (0, 0, 1) (0, 0, 0, 7) MSE=225391.792\n",
      "error =  151122.2553594891\n",
      "SARIMA (0, 0, 1) (0, 0, 1, 7) MSE=151122.255\n",
      "error =  71047.89297018608\n",
      "SARIMA (0, 0, 1) (1, 0, 0, 7) MSE=71047.893\n",
      "error =  69565.88147698727\n",
      "SARIMA (0, 0, 1) (1, 0, 1, 7) MSE=69565.881\n",
      "error =  64295.03440317639\n",
      "SARIMA (1, 0, 0) (0, 0, 0, 7) MSE=64295.034\n",
      "error =  64864.766100925284\n",
      "SARIMA (1, 0, 0) (0, 0, 1, 7) MSE=64864.766\n",
      "error =  66033.13127242005\n",
      "SARIMA (1, 0, 0) (1, 0, 0, 7) MSE=66033.131\n",
      "error =  69365.95665689465\n",
      "SARIMA (1, 0, 0) (1, 0, 1, 7) MSE=69365.957\n",
      "error =  63999.20393137108\n",
      "SARIMA (1, 0, 1) (0, 0, 0, 7) MSE=63999.204\n",
      "error =  67557.61789674005\n",
      "SARIMA (1, 0, 1) (0, 0, 1, 7) MSE=67557.618\n",
      "error =  68768.99289370797\n",
      "SARIMA (1, 0, 1) (1, 0, 0, 7) MSE=68768.993\n",
      "error =  70331.51008551622\n",
      "SARIMA (1, 0, 1) (1, 0, 1, 7) MSE=70331.510\n",
      "Best SARIMA (1, 0, 1) (0, 0, 0, 7) MSE=63999.204\n",
      "best order & sorder = (1, 0, 1) (0, 0, 0, 7)\n",
      "                           Statespace Model Results                           \n",
      "==============================================================================\n",
      "Dep. Variable:                     nb   No. Observations:                 1019\n",
      "Model:               SARIMAX(1, 0, 1)   Log Likelihood               -6300.676\n",
      "Date:                Tue, 13 Nov 2018   AIC                          12607.353\n",
      "Time:                        22:32:00   BIC                          12622.133\n",
      "Sample:                    01-01-2016   HQIC                         12612.965\n",
      "                         - 10-15-2018                                         \n",
      "Covariance Type:                  opg                                         \n",
      "==============================================================================\n",
      "                 coef    std err          z      P>|z|      [0.025      0.975]\n",
      "------------------------------------------------------------------------------\n",
      "ar.L1          0.9955      0.003    375.027      0.000       0.990       1.001\n",
      "ma.L1         -0.4638      0.017    -28.061      0.000      -0.496      -0.431\n",
      "sigma2       1.37e+04    287.293     47.673      0.000    1.31e+04    1.43e+04\n",
      "===================================================================================\n",
      "Ljung-Box (Q):                     2211.12   Jarque-Bera (JB):              4496.41\n",
      "Prob(Q):                              0.00   Prob(JB):                         0.00\n",
      "Heteroskedasticity (H):               3.32   Skew:                             1.58\n",
      "Prob(H) (two-sided):                  0.00   Kurtosis:                        12.79\n",
      "===================================================================================\n",
      "\n",
      "Warnings:\n",
      "[1] Covariance matrix calculated using the outer product of gradients (complex-step).\n"
     ]
    }
   ],
   "source": [
    "# Two functions similar to ARIMA\n",
    "# Loop thro' every X (should give the same result or similar - see SARIMA_grid_search-Copy4.ipynb)\n",
    "# This modifies yhat, predictions, history calcs\n",
    "import warnings\n",
    "import pandas as pd\n",
    "import numpy as np\n",
    "from pandas import read_csv\n",
    "from pandas import datetime\n",
    "from statsmodels.tsa.arima_model import ARIMA\n",
    "from sklearn.metrics import mean_squared_error\n",
    "import matplotlib.pyplot as plt\n",
    "\n",
    "def evaluate_sarima_model(X, order, sorder):\n",
    "    history = [x for x in X]\n",
    "    # make predictions\n",
    "    predictions = list()\n",
    "    for t in range(len(X)):\n",
    "        model = sm.tsa.statespace.SARIMAX(series,order=order,\n",
    "                                  seasonal_order=sorder,\n",
    "                                  enforce_stationarity=True,\n",
    "                                  enforce_invertibility=True)\n",
    "        model_fit = model.fit(transparams=True)\n",
    "        yhat = model_fit.forecast()[0]\n",
    "        predictions.append(yhat)\n",
    "        history.append(X[t])\n",
    "    # calculate out of sample error\n",
    "    error = mean_squared_error(series, predictions)\n",
    "    print('error = ', error)\n",
    "    return error\n",
    "\n",
    "def evaluate_sarima_params(dataset, p_values, d_values, q_values, P_values, D_values, Q_values):\n",
    "    dataset = dataset.astype('float32')\n",
    "    best_score, best_params, best_seasonal_params = float(\"inf\"), None, None\n",
    "    for p in p_values:\n",
    "        for d in d_values:\n",
    "            for q in q_values:\n",
    "                for P in P_values:\n",
    "                    for D in D_values:\n",
    "                        for Q in Q_values:\n",
    "                            order = (p,d,q)\n",
    "                            sorder = (P,D,Q,m)\n",
    "                            try:\n",
    "                                mse = evaluate_sarima_model(dataset, order, sorder)\n",
    "                                if mse < best_score:\n",
    "                                    best_score, best_params, best_seasonal_params = mse, order, sorder\n",
    "                                print('SARIMA %s %s MSE=%.3f' % (order, sorder, mse))\n",
    "                            except:\n",
    "                                continue\n",
    "    print('Best SARIMA %s %s MSE=%.3f' % (best_params, best_seasonal_params, best_score))\n",
    "    #model_params = [p,d,q]\n",
    "    #model_seasonal_params = [P,D,Q]\n",
    "    print(\"best order & sorder =\", best_params, best_seasonal_params)\n",
    "    with open('model_params.json','w') as out_params:\n",
    "        json.dump(best_params, out_params)\n",
    "    with open('model_seasonal_params.json','w') as out_seasonal_params:\n",
    "        json.dump(best_seasonal_params, out_seasonal_params)\n",
    "\n",
    "# load dataset\n",
    "df.index = pd.to_datetime(df.date)\n",
    "cols = [\"nb\"]\n",
    "y = df[cols]\n",
    "series = y['nb']\n",
    "\n",
    "# evaluate parameters\n",
    "p_values = range(0, 2)\n",
    "d_values = range(0, 1)\n",
    "q_values = range(0, 2)\n",
    "P_values = range(0, 2)\n",
    "D_values = range(0, 1)\n",
    "Q_values = range(0, 2)\n",
    "m = 7\n",
    "\n",
    "import warnings\n",
    "warnings.filterwarnings(\"ignore\")\n",
    "\n",
    "evaluate_sarima_params(series.values, p_values, d_values, q_values, P_values, D_values, Q_values)\n",
    "\n",
    "# select the best set of p,d,q\n",
    "with open('model_params.json') as json_file:\n",
    "    out_params = json.load(json_file)\n",
    "p = out_params[0]\n",
    "d = out_params[1]\n",
    "q = out_params[2]\n",
    "\n",
    "# select the best set of P,D,Q\n",
    "with open('model_seasonal_params.json') as json_file:\n",
    "    out_seasonal_params = json.load(json_file)\n",
    "P = out_seasonal_params[0]\n",
    "D = out_seasonal_params[1]\n",
    "Q = out_seasonal_params[2]\n",
    "#m = out_seasonal_params[3]\n",
    "\n",
    "# apply model\n",
    "model = sm.tsa.statespace.SARIMAX(series,\n",
    "                                  order=(p,d,q),\n",
    "                                  seasonal_order=(P,D,Q,m),\n",
    "                                  enforce_stationarity=True,\n",
    "                                  enforce_invertibility=True)\n",
    "model_fit = model.fit(transparams=True)\n",
    "print(model_fit.summary())\n",
    "\n",
    "pred_fcst = model_fit.predict(start=1, end=1019, dynamic=False)\n",
    "sarima_forecast = model_fit.forecast(442)\n",
    "sarima_series = pred_fcst.append(sarima_forecast)"
   ]
  },
  {
   "cell_type": "code",
   "execution_count": null,
   "metadata": {},
   "outputs": [],
   "source": [
    "sarima_series.to_csv(\"sarima_series-copy4.csv\")"
   ]
  },
  {
   "cell_type": "code",
   "execution_count": 14,
   "metadata": {},
   "outputs": [
    {
     "data": {
      "text/plain": [
       "[<matplotlib.lines.Line2D at 0x1c173ba0b8>]"
      ]
     },
     "execution_count": 14,
     "metadata": {},
     "output_type": "execute_result"
    },
    {
     "data": {
      "image/png": "[encoded data removed]",
      "text/plain": [
       "<Figure size 432x288 with 1 Axes>"
      ]
     },
     "metadata": {},
     "output_type": "display_data"
    }
   ],
   "source": [
    "plt.plot(sarima_series)"
   ]
  },
  {
   "cell_type": "code",
   "execution_count": null,
   "metadata": {},
   "outputs": [],
   "source": []
  },
  {
   "cell_type": "code",
   "execution_count": 18,
   "metadata": {},
   "outputs": [],
   "source": [
    "    def SarimaFxn(df, fcstdays):\n",
    "\n",
    "        series = df['y']\n",
    "    \n",
    "        # evaluate parameters\n",
    "        p_values = range(0, 2)\n",
    "        d_values = range(0, 2)\n",
    "        q_values = range(0, 2)\n",
    "        P_values = range(0, 2)\n",
    "        D_values = range(0, 2)\n",
    "        Q_values = range(0, 2)\n",
    "        m = 7 #weekly seasonality\n",
    "    \n",
    "        fcstdays = 365\n",
    "    \n",
    "        best_score, best_params, best_seasonal_params = float(\"inf\"), None, None\n",
    "        for p in p_values:\n",
    "            for d in d_values:\n",
    "                for q in q_values:\n",
    "                    for P in P_values:\n",
    "                        for D in D_values:\n",
    "                            for Q in Q_values:\n",
    "                                order = (p,d,q)\n",
    "                                sorder = (P,D,Q,m)\n",
    "                                #try:\n",
    "                                mse = evaluate_sarima_model(series, order, sorder, fcstdays)\n",
    "                                if mse < best_score:\n",
    "                                    best_score, best_params, best_seasonal_params = mse, order, sorder\n",
    "                                #print('SARIMA %s %s MSE=%.3f' % (order, sorder, mse))\n",
    "                                #except:\n",
    "                                #    continue\n",
    "        #print('Best SARIMA %s %s MSE=%.3f' % (best_params, best_seasonal_params, best_score))\n",
    "        #print('Best Params: ', best_params)\n",
    "    \n",
    "    \n",
    "        # apply model\n",
    "        model = sm.tsa.statespace.SARIMAX(series,\n",
    "                                          order=(best_params[0],best_params[1],best_params[2]),\n",
    "                                          seasonal_order=(best_seasonal_params[0],best_seasonal_params[1],best_seasonal_params[2],m),\n",
    "                                          enforce_stationarity=True,\n",
    "                                          enforce_invertibility=True)\n",
    "        model_fit = model.fit(transparams=True)\n",
    "        print(model_fit.summary())\n",
    "    \n",
    "        pred_fcst = model_fit.predict(start=0, end=len(df['y'])-1, dynamic=False)\n",
    "        sarima_forecast = model_fit.forecast(fcstdays)\n",
    "        sarima_series = pred_fcst.append(sarima_forecast)\n",
    "        sarima_series.to_csv('sarima_series.csv')\n",
    "        return sarima_series\n",
    "        #return pred_fcst, sarima_forecast\n",
    "        #return pred_fcst\n",
    "        #return arima_forecast[0]\n",
    "        #return af\n",
    "\n",
    "    \n",
    "    def evaluate_sarima_model(X, order, sorder, fcstdays):\n",
    "        # make predictions\n",
    "        predictions = list()\n",
    "        model = sm.tsa.statespace.SARIMAX(X,order=order,\n",
    "                                          seasonal_order=sorder,\n",
    "                                          enforce_stationarity=True,\n",
    "                                          enforce_invertibility=True)\n",
    "        model_fit = model.fit(transparams=True)\n",
    "        predictions = model_fit.predict(start=0, end=len(X)-1, dynamic=False)\n",
    "        yhat = model_fit.forecast(fcstdays)    \n",
    "        # calculate out of sample error\n",
    "        error = mean_squared_error(X, predictions)\n",
    "        print('error = ', error)\n",
    "        return error\n",
    "    \n",
    "    "
   ]
  },
  {
   "cell_type": "code",
   "execution_count": 19,
   "metadata": {},
   "outputs": [
    {
     "name": "stderr",
     "output_type": "stream",
     "text": [
      "/anaconda3/lib/python3.6/site-packages/statsmodels/tsa/base/tsa_model.py:171: ValueWarning: No frequency information was provided, so inferred frequency D will be used.\n",
      "  % freq, ValueWarning)\n",
      "/anaconda3/lib/python3.6/site-packages/statsmodels/tsa/statespace/representation.py:375: FutureWarning: Using a non-tuple sequence for multidimensional indexing is deprecated; use `arr[tuple(seq)]` instead of `arr[seq]`. In the future this will be interpreted as an array index, `arr[np.array(seq)]`, which will result either in an error or a different result.\n",
      "  return matrix[[slice(None)]*(matrix.ndim-1) + [0]]\n",
      "/anaconda3/lib/python3.6/site-packages/statsmodels/tsa/base/tsa_model.py:171: ValueWarning: No frequency information was provided, so inferred frequency D will be used.\n",
      "  % freq, ValueWarning)\n",
      "/anaconda3/lib/python3.6/site-packages/statsmodels/tsa/statespace/representation.py:375: FutureWarning: Using a non-tuple sequence for multidimensional indexing is deprecated; use `arr[tuple(seq)]` instead of `arr[seq]`. In the future this will be interpreted as an array index, `arr[np.array(seq)]`, which will result either in an error or a different result.\n",
      "  return matrix[[slice(None)]*(matrix.ndim-1) + [0]]\n",
      "/anaconda3/lib/python3.6/site-packages/statsmodels/tsa/base/tsa_model.py:171: ValueWarning: No frequency information was provided, so inferred frequency D will be used.\n",
      "  % freq, ValueWarning)\n",
      "/anaconda3/lib/python3.6/site-packages/statsmodels/tsa/statespace/representation.py:375: FutureWarning: Using a non-tuple sequence for multidimensional indexing is deprecated; use `arr[tuple(seq)]` instead of `arr[seq]`. In the future this will be interpreted as an array index, `arr[np.array(seq)]`, which will result either in an error or a different result.\n",
      "  return matrix[[slice(None)]*(matrix.ndim-1) + [0]]\n",
      "/anaconda3/lib/python3.6/site-packages/statsmodels/tsa/base/tsa_model.py:171: ValueWarning: No frequency information was provided, so inferred frequency D will be used.\n",
      "  % freq, ValueWarning)\n"
     ]
    },
    {
     "name": "stdout",
     "output_type": "stream",
     "text": [
      "error =  473349.2492639843\n",
      "error =  158726.80138897942\n",
      "error =  21897.033366045143\n"
     ]
    },
    {
     "name": "stderr",
     "output_type": "stream",
     "text": [
      "/anaconda3/lib/python3.6/site-packages/statsmodels/tsa/statespace/representation.py:375: FutureWarning: Using a non-tuple sequence for multidimensional indexing is deprecated; use `arr[tuple(seq)]` instead of `arr[seq]`. In the future this will be interpreted as an array index, `arr[np.array(seq)]`, which will result either in an error or a different result.\n",
      "  return matrix[[slice(None)]*(matrix.ndim-1) + [0]]\n",
      "/anaconda3/lib/python3.6/site-packages/statsmodels/tsa/base/tsa_model.py:171: ValueWarning: No frequency information was provided, so inferred frequency D will be used.\n",
      "  % freq, ValueWarning)\n",
      "/anaconda3/lib/python3.6/site-packages/statsmodels/tsa/base/tsa_model.py:171: ValueWarning: No frequency information was provided, so inferred frequency D will be used.\n",
      "  % freq, ValueWarning)\n"
     ]
    },
    {
     "name": "stdout",
     "output_type": "stream",
     "text": [
      "error =  21884.131841966348\n",
      "error =  21689.045008094356\n",
      "error =  21663.114469865388\n"
     ]
    },
    {
     "name": "stderr",
     "output_type": "stream",
     "text": [
      "/anaconda3/lib/python3.6/site-packages/statsmodels/tsa/base/tsa_model.py:171: ValueWarning: No frequency information was provided, so inferred frequency D will be used.\n",
      "  % freq, ValueWarning)\n",
      "/anaconda3/lib/python3.6/site-packages/statsmodels/tsa/base/tsa_model.py:171: ValueWarning: No frequency information was provided, so inferred frequency D will be used.\n",
      "  % freq, ValueWarning)\n"
     ]
    },
    {
     "name": "stdout",
     "output_type": "stream",
     "text": [
      "error =  21885.64553041148\n",
      "error =  20519.454125117903\n",
      "error =  148353.7116792477\n"
     ]
    },
    {
     "name": "stderr",
     "output_type": "stream",
     "text": [
      "/anaconda3/lib/python3.6/site-packages/statsmodels/tsa/base/tsa_model.py:171: ValueWarning: No frequency information was provided, so inferred frequency D will be used.\n",
      "  % freq, ValueWarning)\n",
      "/anaconda3/lib/python3.6/site-packages/statsmodels/tsa/statespace/representation.py:375: FutureWarning: Using a non-tuple sequence for multidimensional indexing is deprecated; use `arr[tuple(seq)]` instead of `arr[seq]`. In the future this will be interpreted as an array index, `arr[np.array(seq)]`, which will result either in an error or a different result.\n",
      "  return matrix[[slice(None)]*(matrix.ndim-1) + [0]]\n",
      "/anaconda3/lib/python3.6/site-packages/statsmodels/tsa/base/tsa_model.py:171: ValueWarning: No frequency information was provided, so inferred frequency D will be used.\n",
      "  % freq, ValueWarning)\n",
      "/anaconda3/lib/python3.6/site-packages/statsmodels/tsa/statespace/representation.py:375: FutureWarning: Using a non-tuple sequence for multidimensional indexing is deprecated; use `arr[tuple(seq)]` instead of `arr[seq]`. In the future this will be interpreted as an array index, `arr[np.array(seq)]`, which will result either in an error or a different result.\n",
      "  return matrix[[slice(None)]*(matrix.ndim-1) + [0]]\n",
      "/anaconda3/lib/python3.6/site-packages/statsmodels/tsa/base/tsa_model.py:171: ValueWarning: No frequency information was provided, so inferred frequency D will be used.\n",
      "  % freq, ValueWarning)\n",
      "/anaconda3/lib/python3.6/site-packages/statsmodels/tsa/statespace/representation.py:375: FutureWarning: Using a non-tuple sequence for multidimensional indexing is deprecated; use `arr[tuple(seq)]` instead of `arr[seq]`. In the future this will be interpreted as an array index, `arr[np.array(seq)]`, which will result either in an error or a different result.\n",
      "  return matrix[[slice(None)]*(matrix.ndim-1) + [0]]\n",
      "/anaconda3/lib/python3.6/site-packages/statsmodels/tsa/base/tsa_model.py:171: ValueWarning: No frequency information was provided, so inferred frequency D will be used.\n",
      "  % freq, ValueWarning)\n"
     ]
    },
    {
     "name": "stdout",
     "output_type": "stream",
     "text": [
      "error =  71559.31872190694\n",
      "error =  17651.229058727946\n"
     ]
    },
    {
     "name": "stderr",
     "output_type": "stream",
     "text": [
      "/anaconda3/lib/python3.6/site-packages/statsmodels/tsa/statespace/representation.py:375: FutureWarning: Using a non-tuple sequence for multidimensional indexing is deprecated; use `arr[tuple(seq)]` instead of `arr[seq]`. In the future this will be interpreted as an array index, `arr[np.array(seq)]`, which will result either in an error or a different result.\n",
      "  return matrix[[slice(None)]*(matrix.ndim-1) + [0]]\n",
      "/anaconda3/lib/python3.6/site-packages/statsmodels/tsa/base/tsa_model.py:171: ValueWarning: No frequency information was provided, so inferred frequency D will be used.\n",
      "  % freq, ValueWarning)\n"
     ]
    },
    {
     "name": "stdout",
     "output_type": "stream",
     "text": [
      "error =  17190.345313168644\n",
      "error =  16142.88915044267\n"
     ]
    },
    {
     "name": "stderr",
     "output_type": "stream",
     "text": [
      "/anaconda3/lib/python3.6/site-packages/statsmodels/tsa/base/tsa_model.py:171: ValueWarning: No frequency information was provided, so inferred frequency D will be used.\n",
      "  % freq, ValueWarning)\n"
     ]
    },
    {
     "name": "stdout",
     "output_type": "stream",
     "text": [
      "error =  15699.815708294069\n"
     ]
    },
    {
     "name": "stderr",
     "output_type": "stream",
     "text": [
      "/anaconda3/lib/python3.6/site-packages/statsmodels/tsa/base/tsa_model.py:171: ValueWarning: No frequency information was provided, so inferred frequency D will be used.\n",
      "  % freq, ValueWarning)\n"
     ]
    },
    {
     "name": "stdout",
     "output_type": "stream",
     "text": [
      "error =  17288.98289935473\n"
     ]
    },
    {
     "name": "stderr",
     "output_type": "stream",
     "text": [
      "/anaconda3/lib/python3.6/site-packages/statsmodels/tsa/base/tsa_model.py:171: ValueWarning: No frequency information was provided, so inferred frequency D will be used.\n",
      "  % freq, ValueWarning)\n"
     ]
    },
    {
     "name": "stdout",
     "output_type": "stream",
     "text": [
      "error =  16027.319022662188\n",
      "error =  14901.615309126595\n",
      "error =  12947.520026472474\n",
      "error =  16755.664296198185\n"
     ]
    },
    {
     "name": "stderr",
     "output_type": "stream",
     "text": [
      "/anaconda3/lib/python3.6/site-packages/statsmodels/tsa/base/tsa_model.py:171: ValueWarning: No frequency information was provided, so inferred frequency D will be used.\n",
      "  % freq, ValueWarning)\n",
      "/anaconda3/lib/python3.6/site-packages/statsmodels/tsa/statespace/representation.py:375: FutureWarning: Using a non-tuple sequence for multidimensional indexing is deprecated; use `arr[tuple(seq)]` instead of `arr[seq]`. In the future this will be interpreted as an array index, `arr[np.array(seq)]`, which will result either in an error or a different result.\n",
      "  return matrix[[slice(None)]*(matrix.ndim-1) + [0]]\n",
      "/anaconda3/lib/python3.6/site-packages/statsmodels/tsa/base/tsa_model.py:171: ValueWarning: No frequency information was provided, so inferred frequency D will be used.\n",
      "  % freq, ValueWarning)\n",
      "/anaconda3/lib/python3.6/site-packages/statsmodels/tsa/statespace/representation.py:375: FutureWarning: Using a non-tuple sequence for multidimensional indexing is deprecated; use `arr[tuple(seq)]` instead of `arr[seq]`. In the future this will be interpreted as an array index, `arr[np.array(seq)]`, which will result either in an error or a different result.\n",
      "  return matrix[[slice(None)]*(matrix.ndim-1) + [0]]\n",
      "/anaconda3/lib/python3.6/site-packages/statsmodels/tsa/base/tsa_model.py:171: ValueWarning: No frequency information was provided, so inferred frequency D will be used.\n",
      "  % freq, ValueWarning)\n",
      "/anaconda3/lib/python3.6/site-packages/statsmodels/tsa/statespace/representation.py:375: FutureWarning: Using a non-tuple sequence for multidimensional indexing is deprecated; use `arr[tuple(seq)]` instead of `arr[seq]`. In the future this will be interpreted as an array index, `arr[np.array(seq)]`, which will result either in an error or a different result.\n",
      "  return matrix[[slice(None)]*(matrix.ndim-1) + [0]]\n",
      "/anaconda3/lib/python3.6/site-packages/statsmodels/tsa/base/tsa_model.py:171: ValueWarning: No frequency information was provided, so inferred frequency D will be used.\n",
      "  % freq, ValueWarning)\n",
      "/anaconda3/lib/python3.6/site-packages/statsmodels/tsa/statespace/representation.py:375: FutureWarning: Using a non-tuple sequence for multidimensional indexing is deprecated; use `arr[tuple(seq)]` instead of `arr[seq]`. In the future this will be interpreted as an array index, `arr[np.array(seq)]`, which will result either in an error or a different result.\n",
      "  return matrix[[slice(None)]*(matrix.ndim-1) + [0]]\n",
      "/anaconda3/lib/python3.6/site-packages/statsmodels/tsa/base/tsa_model.py:171: ValueWarning: No frequency information was provided, so inferred frequency D will be used.\n",
      "  % freq, ValueWarning)\n",
      "/anaconda3/lib/python3.6/site-packages/statsmodels/tsa/base/tsa_model.py:171: ValueWarning: No frequency information was provided, so inferred frequency D will be used.\n",
      "  % freq, ValueWarning)\n"
     ]
    },
    {
     "name": "stdout",
     "output_type": "stream",
     "text": [
      "error =  10405.832730211312\n",
      "error =  12080.86281156166\n",
      "error =  10339.307624202078\n",
      "error =  13510.961695218828\n"
     ]
    },
    {
     "name": "stderr",
     "output_type": "stream",
     "text": [
      "/anaconda3/lib/python3.6/site-packages/statsmodels/tsa/base/tsa_model.py:171: ValueWarning: No frequency information was provided, so inferred frequency D will be used.\n",
      "  % freq, ValueWarning)\n",
      "/anaconda3/lib/python3.6/site-packages/statsmodels/tsa/base/tsa_model.py:171: ValueWarning: No frequency information was provided, so inferred frequency D will be used.\n",
      "  % freq, ValueWarning)\n"
     ]
    },
    {
     "name": "stdout",
     "output_type": "stream",
     "text": [
      "error =  10202.987117961176\n",
      "error =  13878.411624976743\n"
     ]
    },
    {
     "name": "stderr",
     "output_type": "stream",
     "text": [
      "/anaconda3/lib/python3.6/site-packages/statsmodels/tsa/base/tsa_model.py:171: ValueWarning: No frequency information was provided, so inferred frequency D will be used.\n",
      "  % freq, ValueWarning)\n",
      "/anaconda3/lib/python3.6/site-packages/statsmodels/tsa/statespace/representation.py:375: FutureWarning: Using a non-tuple sequence for multidimensional indexing is deprecated; use `arr[tuple(seq)]` instead of `arr[seq]`. In the future this will be interpreted as an array index, `arr[np.array(seq)]`, which will result either in an error or a different result.\n",
      "  return matrix[[slice(None)]*(matrix.ndim-1) + [0]]\n",
      "/anaconda3/lib/python3.6/site-packages/statsmodels/tsa/base/tsa_model.py:171: ValueWarning: No frequency information was provided, so inferred frequency D will be used.\n",
      "  % freq, ValueWarning)\n",
      "/anaconda3/lib/python3.6/site-packages/statsmodels/tsa/statespace/representation.py:375: FutureWarning: Using a non-tuple sequence for multidimensional indexing is deprecated; use `arr[tuple(seq)]` instead of `arr[seq]`. In the future this will be interpreted as an array index, `arr[np.array(seq)]`, which will result either in an error or a different result.\n",
      "  return matrix[[slice(None)]*(matrix.ndim-1) + [0]]\n",
      "/anaconda3/lib/python3.6/site-packages/statsmodels/tsa/base/tsa_model.py:171: ValueWarning: No frequency information was provided, so inferred frequency D will be used.\n",
      "  % freq, ValueWarning)\n",
      "/anaconda3/lib/python3.6/site-packages/statsmodels/tsa/statespace/representation.py:375: FutureWarning: Using a non-tuple sequence for multidimensional indexing is deprecated; use `arr[tuple(seq)]` instead of `arr[seq]`. In the future this will be interpreted as an array index, `arr[np.array(seq)]`, which will result either in an error or a different result.\n",
      "  return matrix[[slice(None)]*(matrix.ndim-1) + [0]]\n",
      "/anaconda3/lib/python3.6/site-packages/statsmodels/tsa/base/tsa_model.py:171: ValueWarning: No frequency information was provided, so inferred frequency D will be used.\n",
      "  % freq, ValueWarning)\n"
     ]
    },
    {
     "name": "stdout",
     "output_type": "stream",
     "text": [
      "error =  11203.646010379354\n",
      "error =  12837.300499586241\n"
     ]
    },
    {
     "name": "stderr",
     "output_type": "stream",
     "text": [
      "/anaconda3/lib/python3.6/site-packages/statsmodels/tsa/statespace/representation.py:375: FutureWarning: Using a non-tuple sequence for multidimensional indexing is deprecated; use `arr[tuple(seq)]` instead of `arr[seq]`. In the future this will be interpreted as an array index, `arr[np.array(seq)]`, which will result either in an error or a different result.\n",
      "  return matrix[[slice(None)]*(matrix.ndim-1) + [0]]\n",
      "/anaconda3/lib/python3.6/site-packages/statsmodels/tsa/base/tsa_model.py:171: ValueWarning: No frequency information was provided, so inferred frequency D will be used.\n",
      "  % freq, ValueWarning)\n",
      "/anaconda3/lib/python3.6/site-packages/statsmodels/tsa/base/tsa_model.py:171: ValueWarning: No frequency information was provided, so inferred frequency D will be used.\n",
      "  % freq, ValueWarning)\n"
     ]
    },
    {
     "name": "stdout",
     "output_type": "stream",
     "text": [
      "error =  8762.183948590233\n",
      "error =  9923.696917979158\n",
      "error =  8669.172077665575\n",
      "error =  10793.47474079135\n"
     ]
    },
    {
     "name": "stderr",
     "output_type": "stream",
     "text": [
      "/anaconda3/lib/python3.6/site-packages/statsmodels/tsa/base/tsa_model.py:171: ValueWarning: No frequency information was provided, so inferred frequency D will be used.\n",
      "  % freq, ValueWarning)\n",
      "/anaconda3/lib/python3.6/site-packages/statsmodels/tsa/base/tsa_model.py:171: ValueWarning: No frequency information was provided, so inferred frequency D will be used.\n",
      "  % freq, ValueWarning)\n"
     ]
    },
    {
     "name": "stdout",
     "output_type": "stream",
     "text": [
      "error =  8393.96414909419\n",
      "error =  14789.827707850336\n"
     ]
    },
    {
     "name": "stderr",
     "output_type": "stream",
     "text": [
      "/anaconda3/lib/python3.6/site-packages/statsmodels/tsa/base/tsa_model.py:171: ValueWarning: No frequency information was provided, so inferred frequency D will be used.\n",
      "  % freq, ValueWarning)\n",
      "/anaconda3/lib/python3.6/site-packages/statsmodels/tsa/base/tsa_model.py:171: ValueWarning: No frequency information was provided, so inferred frequency D will be used.\n",
      "  % freq, ValueWarning)\n"
     ]
    },
    {
     "name": "stdout",
     "output_type": "stream",
     "text": [
      "error =  12801.60664650629\n",
      "error =  15520.774610822653\n"
     ]
    },
    {
     "name": "stderr",
     "output_type": "stream",
     "text": [
      "/anaconda3/lib/python3.6/site-packages/statsmodels/tsa/base/tsa_model.py:171: ValueWarning: No frequency information was provided, so inferred frequency D will be used.\n",
      "  % freq, ValueWarning)\n",
      "/anaconda3/lib/python3.6/site-packages/statsmodels/tsa/base/tsa_model.py:171: ValueWarning: No frequency information was provided, so inferred frequency D will be used.\n",
      "  % freq, ValueWarning)\n"
     ]
    },
    {
     "name": "stdout",
     "output_type": "stream",
     "text": [
      "error =  11887.600532929608\n",
      "error =  11848.295944498701\n"
     ]
    },
    {
     "name": "stderr",
     "output_type": "stream",
     "text": [
      "/anaconda3/lib/python3.6/site-packages/statsmodels/tsa/base/tsa_model.py:171: ValueWarning: No frequency information was provided, so inferred frequency D will be used.\n",
      "  % freq, ValueWarning)\n",
      "/anaconda3/lib/python3.6/site-packages/statsmodels/tsa/base/tsa_model.py:171: ValueWarning: No frequency information was provided, so inferred frequency D will be used.\n",
      "  % freq, ValueWarning)\n"
     ]
    },
    {
     "name": "stdout",
     "output_type": "stream",
     "text": [
      "error =  9747.486057538988\n",
      "error =  13851.04231696658\n"
     ]
    },
    {
     "name": "stderr",
     "output_type": "stream",
     "text": [
      "/anaconda3/lib/python3.6/site-packages/statsmodels/tsa/base/tsa_model.py:171: ValueWarning: No frequency information was provided, so inferred frequency D will be used.\n",
      "  % freq, ValueWarning)\n",
      "/anaconda3/lib/python3.6/site-packages/statsmodels/tsa/base/tsa_model.py:171: ValueWarning: No frequency information was provided, so inferred frequency D will be used.\n",
      "  % freq, ValueWarning)\n"
     ]
    },
    {
     "name": "stdout",
     "output_type": "stream",
     "text": [
      "error =  11633.898815601977\n",
      "error =  13853.536672344657\n"
     ]
    },
    {
     "name": "stderr",
     "output_type": "stream",
     "text": [
      "/anaconda3/lib/python3.6/site-packages/statsmodels/tsa/base/tsa_model.py:171: ValueWarning: No frequency information was provided, so inferred frequency D will be used.\n",
      "  % freq, ValueWarning)\n",
      "/anaconda3/lib/python3.6/site-packages/statsmodels/tsa/base/tsa_model.py:171: ValueWarning: No frequency information was provided, so inferred frequency D will be used.\n",
      "  % freq, ValueWarning)\n"
     ]
    },
    {
     "name": "stdout",
     "output_type": "stream",
     "text": [
      "error =  11181.536167051738\n",
      "error =  14361.729371579508\n"
     ]
    },
    {
     "name": "stderr",
     "output_type": "stream",
     "text": [
      "/anaconda3/lib/python3.6/site-packages/statsmodels/tsa/base/tsa_model.py:171: ValueWarning: No frequency information was provided, so inferred frequency D will be used.\n",
      "  % freq, ValueWarning)\n",
      "/anaconda3/lib/python3.6/site-packages/statsmodels/tsa/base/tsa_model.py:171: ValueWarning: No frequency information was provided, so inferred frequency D will be used.\n",
      "  % freq, ValueWarning)\n"
     ]
    },
    {
     "name": "stdout",
     "output_type": "stream",
     "text": [
      "error =  10854.578577438017\n"
     ]
    },
    {
     "name": "stderr",
     "output_type": "stream",
     "text": [
      "/anaconda3/lib/python3.6/site-packages/statsmodels/tsa/base/tsa_model.py:171: ValueWarning: No frequency information was provided, so inferred frequency D will be used.\n",
      "  % freq, ValueWarning)\n"
     ]
    },
    {
     "name": "stdout",
     "output_type": "stream",
     "text": [
      "error =  9879.639262303783\n"
     ]
    },
    {
     "name": "stderr",
     "output_type": "stream",
     "text": [
      "/anaconda3/lib/python3.6/site-packages/statsmodels/tsa/base/tsa_model.py:171: ValueWarning: No frequency information was provided, so inferred frequency D will be used.\n",
      "  % freq, ValueWarning)\n"
     ]
    },
    {
     "name": "stdout",
     "output_type": "stream",
     "text": [
      "error =  8537.059138770572\n"
     ]
    },
    {
     "name": "stderr",
     "output_type": "stream",
     "text": [
      "/anaconda3/lib/python3.6/site-packages/statsmodels/tsa/base/tsa_model.py:171: ValueWarning: No frequency information was provided, so inferred frequency D will be used.\n",
      "  % freq, ValueWarning)\n"
     ]
    },
    {
     "name": "stdout",
     "output_type": "stream",
     "text": [
      "error =  12615.312025961874\n"
     ]
    },
    {
     "name": "stderr",
     "output_type": "stream",
     "text": [
      "/anaconda3/lib/python3.6/site-packages/statsmodels/tsa/base/tsa_model.py:171: ValueWarning: No frequency information was provided, so inferred frequency D will be used.\n",
      "  % freq, ValueWarning)\n"
     ]
    },
    {
     "name": "stdout",
     "output_type": "stream",
     "text": [
      "error =  10494.51776178772\n",
      "error =  14401.446102103122\n"
     ]
    },
    {
     "name": "stderr",
     "output_type": "stream",
     "text": [
      "/anaconda3/lib/python3.6/site-packages/statsmodels/tsa/base/tsa_model.py:171: ValueWarning: No frequency information was provided, so inferred frequency D will be used.\n",
      "  % freq, ValueWarning)\n",
      "/anaconda3/lib/python3.6/site-packages/statsmodels/tsa/base/tsa_model.py:171: ValueWarning: No frequency information was provided, so inferred frequency D will be used.\n",
      "  % freq, ValueWarning)\n"
     ]
    },
    {
     "name": "stdout",
     "output_type": "stream",
     "text": [
      "error =  12026.373190893815\n",
      "error =  13909.216716639208\n"
     ]
    },
    {
     "name": "stderr",
     "output_type": "stream",
     "text": [
      "/anaconda3/lib/python3.6/site-packages/statsmodels/tsa/base/tsa_model.py:171: ValueWarning: No frequency information was provided, so inferred frequency D will be used.\n",
      "  % freq, ValueWarning)\n",
      "/anaconda3/lib/python3.6/site-packages/statsmodels/tsa/base/tsa_model.py:171: ValueWarning: No frequency information was provided, so inferred frequency D will be used.\n",
      "  % freq, ValueWarning)\n"
     ]
    },
    {
     "name": "stdout",
     "output_type": "stream",
     "text": [
      "error =  9237.667019196922\n",
      "error =  10718.281418174896\n"
     ]
    },
    {
     "name": "stderr",
     "output_type": "stream",
     "text": [
      "/anaconda3/lib/python3.6/site-packages/statsmodels/tsa/base/tsa_model.py:171: ValueWarning: No frequency information was provided, so inferred frequency D will be used.\n",
      "  % freq, ValueWarning)\n",
      "/anaconda3/lib/python3.6/site-packages/statsmodels/tsa/base/tsa_model.py:171: ValueWarning: No frequency information was provided, so inferred frequency D will be used.\n",
      "  % freq, ValueWarning)\n"
     ]
    },
    {
     "name": "stdout",
     "output_type": "stream",
     "text": [
      "error =  9145.504624910263\n",
      "error =  11430.76811527303\n"
     ]
    },
    {
     "name": "stderr",
     "output_type": "stream",
     "text": [
      "/anaconda3/lib/python3.6/site-packages/statsmodels/tsa/base/tsa_model.py:171: ValueWarning: No frequency information was provided, so inferred frequency D will be used.\n",
      "  % freq, ValueWarning)\n",
      "/anaconda3/lib/python3.6/site-packages/statsmodels/tsa/base/tsa_model.py:171: ValueWarning: No frequency information was provided, so inferred frequency D will be used.\n",
      "  % freq, ValueWarning)\n"
     ]
    },
    {
     "name": "stdout",
     "output_type": "stream",
     "text": [
      "error =  8955.647984028767\n",
      "error =  12769.695843310812\n"
     ]
    },
    {
     "name": "stderr",
     "output_type": "stream",
     "text": [
      "/anaconda3/lib/python3.6/site-packages/statsmodels/tsa/base/tsa_model.py:171: ValueWarning: No frequency information was provided, so inferred frequency D will be used.\n",
      "  % freq, ValueWarning)\n",
      "/anaconda3/lib/python3.6/site-packages/statsmodels/tsa/base/tsa_model.py:171: ValueWarning: No frequency information was provided, so inferred frequency D will be used.\n",
      "  % freq, ValueWarning)\n"
     ]
    },
    {
     "name": "stdout",
     "output_type": "stream",
     "text": [
      "error =  10686.51969820325\n",
      "error =  12836.542663750244\n"
     ]
    },
    {
     "name": "stderr",
     "output_type": "stream",
     "text": [
      "/anaconda3/lib/python3.6/site-packages/statsmodels/tsa/base/tsa_model.py:171: ValueWarning: No frequency information was provided, so inferred frequency D will be used.\n",
      "  % freq, ValueWarning)\n",
      "/anaconda3/lib/python3.6/site-packages/statsmodels/tsa/base/tsa_model.py:171: ValueWarning: No frequency information was provided, so inferred frequency D will be used.\n",
      "  % freq, ValueWarning)\n"
     ]
    },
    {
     "name": "stdout",
     "output_type": "stream",
     "text": [
      "error =  8719.137780384328\n"
     ]
    },
    {
     "name": "stderr",
     "output_type": "stream",
     "text": [
      "/anaconda3/lib/python3.6/site-packages/statsmodels/tsa/base/tsa_model.py:171: ValueWarning: No frequency information was provided, so inferred frequency D will be used.\n",
      "  % freq, ValueWarning)\n"
     ]
    },
    {
     "name": "stdout",
     "output_type": "stream",
     "text": [
      "error =  9784.291645905423\n"
     ]
    },
    {
     "name": "stderr",
     "output_type": "stream",
     "text": [
      "/anaconda3/lib/python3.6/site-packages/statsmodels/tsa/base/tsa_model.py:171: ValueWarning: No frequency information was provided, so inferred frequency D will be used.\n",
      "  % freq, ValueWarning)\n"
     ]
    },
    {
     "name": "stdout",
     "output_type": "stream",
     "text": [
      "error =  8631.348944373669\n"
     ]
    },
    {
     "name": "stderr",
     "output_type": "stream",
     "text": [
      "/anaconda3/lib/python3.6/site-packages/statsmodels/tsa/base/tsa_model.py:171: ValueWarning: No frequency information was provided, so inferred frequency D will be used.\n",
      "  % freq, ValueWarning)\n"
     ]
    },
    {
     "name": "stdout",
     "output_type": "stream",
     "text": [
      "error =  10793.269867022012\n"
     ]
    },
    {
     "name": "stderr",
     "output_type": "stream",
     "text": [
      "/anaconda3/lib/python3.6/site-packages/statsmodels/tsa/base/tsa_model.py:171: ValueWarning: No frequency information was provided, so inferred frequency D will be used.\n",
      "  % freq, ValueWarning)\n"
     ]
    },
    {
     "name": "stdout",
     "output_type": "stream",
     "text": [
      "error =  8397.594486519518\n"
     ]
    },
    {
     "name": "stderr",
     "output_type": "stream",
     "text": [
      "/anaconda3/lib/python3.6/site-packages/statsmodels/tsa/base/tsa_model.py:171: ValueWarning: No frequency information was provided, so inferred frequency D will be used.\n",
      "  % freq, ValueWarning)\n"
     ]
    },
    {
     "name": "stdout",
     "output_type": "stream",
     "text": [
      "                                 Statespace Model Results                                \n",
      "=========================================================================================\n",
      "Dep. Variable:                                 y   No. Observations:                 1019\n",
      "Model:             SARIMAX(0, 1, 1)x(1, 1, 1, 7)   Log Likelihood               -5994.640\n",
      "Date:                           Tue, 20 Nov 2018   AIC                          11997.279\n",
      "Time:                                   11:26:16   BIC                          12016.954\n",
      "Sample:                               01-01-2016   HQIC                         12004.753\n",
      "                                    - 10-15-2018                                         \n",
      "Covariance Type:                             opg                                         \n",
      "==============================================================================\n",
      "                 coef    std err          z      P>|z|      [0.025      0.975]\n",
      "------------------------------------------------------------------------------\n",
      "ma.L1         -0.5183      0.011    -46.557      0.000      -0.540      -0.497\n",
      "ar.S.L7        0.2448      0.019     12.835      0.000       0.207       0.282\n",
      "ma.S.L7       -0.9676      0.008   -119.014      0.000      -0.984      -0.952\n",
      "sigma2      8143.0411    105.066     77.504      0.000    7937.115    8348.967\n",
      "===================================================================================\n",
      "Ljung-Box (Q):                       71.40   Jarque-Bera (JB):             24640.30\n",
      "Prob(Q):                              0.00   Prob(JB):                         0.00\n",
      "Heteroskedasticity (H):               3.90   Skew:                             2.07\n",
      "Prob(H) (two-sided):                  0.00   Kurtosis:                        26.83\n",
      "===================================================================================\n",
      "\n",
      "Warnings:\n",
      "[1] Covariance matrix calculated using the outer product of gradients (complex-step).\n"
     ]
    },
    {
     "data": {
      "text/plain": [
       "2016-01-01      0.000000\n",
       "2016-01-02    401.687361\n",
       "2016-01-03    450.681295\n",
       "2016-01-04    680.504967\n",
       "2016-01-05    672.054968\n",
       "2016-01-06    704.787073\n",
       "2016-01-07    672.707346\n",
       "2016-01-08    851.973863\n",
       "2016-01-09    712.728155\n",
       "2016-01-10    881.180035\n",
       "2016-01-11    854.476748\n",
       "2016-01-12    852.673506\n",
       "2016-01-13    745.464644\n",
       "2016-01-14    691.273495\n",
       "2016-01-15    636.372625\n",
       "2016-01-16    582.153873\n",
       "2016-01-17    831.472336\n",
       "2016-01-18    779.432579\n",
       "2016-01-19    723.226698\n",
       "2016-01-20    651.727868\n",
       "2016-01-21    587.673745\n",
       "2016-01-22    570.766804\n",
       "2016-01-23    587.398544\n",
       "2016-01-24    808.316115\n",
       "2016-01-25    724.557754\n",
       "2016-01-26    641.237770\n",
       "2016-01-27    679.636189\n",
       "2016-01-28    650.766952\n",
       "2016-01-29    621.829087\n",
       "2016-01-30    629.249672\n",
       "                 ...    \n",
       "2019-09-16    355.923164\n",
       "2019-09-17    296.572247\n",
       "2019-09-18    270.475307\n",
       "2019-09-19    235.829176\n",
       "2019-09-20    189.941346\n",
       "2019-09-21    196.248042\n",
       "2019-09-22    393.633750\n",
       "2019-09-23    350.452971\n",
       "2019-09-24    291.102054\n",
       "2019-09-25    265.005114\n",
       "2019-09-26    230.358984\n",
       "2019-09-27    184.471154\n",
       "2019-09-28    190.777849\n",
       "2019-09-29    388.163558\n",
       "2019-09-30    344.982779\n",
       "2019-10-01    285.631862\n",
       "2019-10-02    259.534922\n",
       "2019-10-03    224.888792\n",
       "2019-10-04    179.000961\n",
       "2019-10-05    185.307657\n",
       "2019-10-06    382.693365\n",
       "2019-10-07    339.512586\n",
       "2019-10-08    280.161669\n",
       "2019-10-09    254.064729\n",
       "2019-10-10    219.418599\n",
       "2019-10-11    173.530769\n",
       "2019-10-12    179.837464\n",
       "2019-10-13    377.223173\n",
       "2019-10-14    334.042394\n",
       "2019-10-15    274.691477\n",
       "Length: 1384, dtype: float64"
      ]
     },
     "execution_count": 19,
     "metadata": {},
     "output_type": "execute_result"
    }
   ],
   "source": [
    "SarimaFxn(df, 365)"
   ]
  },
  {
   "cell_type": "code",
   "execution_count": 15,
   "metadata": {},
   "outputs": [
    {
     "data": {
      "text/plain": [
       "2016-01-01      0.000000\n",
       "2016-01-02    401.687361\n",
       "2016-01-03    450.681295\n",
       "2016-01-04    680.504967\n",
       "2016-01-05    672.054968\n",
       "2016-01-06    704.787073\n",
       "2016-01-07    672.707346\n",
       "2016-01-08    851.973863\n",
       "2016-01-09    712.728155\n",
       "2016-01-10    881.180035\n",
       "2016-01-11    854.476748\n",
       "2016-01-12    852.673506\n",
       "2016-01-13    745.464644\n",
       "2016-01-14    691.273495\n",
       "2016-01-15    636.372625\n",
       "2016-01-16    582.153873\n",
       "2016-01-17    831.472336\n",
       "2016-01-18    779.432579\n",
       "2016-01-19    723.226698\n",
       "2016-01-20    651.727868\n",
       "2016-01-21    587.673745\n",
       "2016-01-22    570.766804\n",
       "2016-01-23    587.398544\n",
       "2016-01-24    808.316115\n",
       "2016-01-25    724.557754\n",
       "2016-01-26    641.237770\n",
       "2016-01-27    679.636189\n",
       "2016-01-28    650.766952\n",
       "2016-01-29    621.829087\n",
       "2016-01-30    629.249672\n",
       "                 ...    \n",
       "2019-09-16    355.923164\n",
       "2019-09-17    296.572247\n",
       "2019-09-18    270.475307\n",
       "2019-09-19    235.829176\n",
       "2019-09-20    189.941346\n",
       "2019-09-21    196.248042\n",
       "2019-09-22    393.633750\n",
       "2019-09-23    350.452971\n",
       "2019-09-24    291.102054\n",
       "2019-09-25    265.005114\n",
       "2019-09-26    230.358984\n",
       "2019-09-27    184.471154\n",
       "2019-09-28    190.777849\n",
       "2019-09-29    388.163558\n",
       "2019-09-30    344.982779\n",
       "2019-10-01    285.631862\n",
       "2019-10-02    259.534922\n",
       "2019-10-03    224.888792\n",
       "2019-10-04    179.000961\n",
       "2019-10-05    185.307657\n",
       "2019-10-06    382.693365\n",
       "2019-10-07    339.512586\n",
       "2019-10-08    280.161669\n",
       "2019-10-09    254.064729\n",
       "2019-10-10    219.418599\n",
       "2019-10-11    173.530769\n",
       "2019-10-12    179.837464\n",
       "2019-10-13    377.223173\n",
       "2019-10-14    334.042394\n",
       "2019-10-15    274.691477\n",
       "Length: 1384, dtype: float64"
      ]
     },
     "execution_count": 15,
     "metadata": {},
     "output_type": "execute_result"
    }
   ],
   "source": [
    "sarimaS"
   ]
  },
  {
   "cell_type": "code",
   "execution_count": null,
   "metadata": {},
   "outputs": [],
   "source": []
  },
  {
   "cell_type": "code",
   "execution_count": null,
   "metadata": {},
   "outputs": [],
   "source": []
  },
  {
   "cell_type": "code",
   "execution_count": 6,
   "metadata": {},
   "outputs": [
    {
     "data": {
      "text/html": [
       "<div>\n",
       "<style scoped>\n",
       "    .dataframe tbody tr th:only-of-type {\n",
       "        vertical-align: middle;\n",
       "    }\n",
       "\n",
       "    .dataframe tbody tr th {\n",
       "        vertical-align: top;\n",
       "    }\n",
       "\n",
       "    .dataframe thead th {\n",
       "        text-align: right;\n",
       "    }\n",
       "</style>\n",
       "<table border=\"1\" class=\"dataframe\">\n",
       "  <thead>\n",
       "    <tr style=\"text-align: right;\">\n",
       "      <th></th>\n",
       "      <th>y</th>\n",
       "    </tr>\n",
       "    <tr>\n",
       "      <th>date</th>\n",
       "      <th></th>\n",
       "    </tr>\n",
       "  </thead>\n",
       "  <tbody>\n",
       "    <tr>\n",
       "      <th>2016-01-01</th>\n",
       "      <td>403</td>\n",
       "    </tr>\n",
       "    <tr>\n",
       "      <th>2016-01-02</th>\n",
       "      <td>451</td>\n",
       "    </tr>\n",
       "    <tr>\n",
       "      <th>2016-01-03</th>\n",
       "      <td>682</td>\n",
       "    </tr>\n",
       "    <tr>\n",
       "      <th>2016-01-04</th>\n",
       "      <td>672</td>\n",
       "    </tr>\n",
       "    <tr>\n",
       "      <th>2016-01-05</th>\n",
       "      <td>705</td>\n",
       "    </tr>\n",
       "  </tbody>\n",
       "</table>\n",
       "</div>"
      ],
      "text/plain": [
       "              y\n",
       "date           \n",
       "2016-01-01  403\n",
       "2016-01-02  451\n",
       "2016-01-03  682\n",
       "2016-01-04  672\n",
       "2016-01-05  705"
      ]
     },
     "execution_count": 6,
     "metadata": {},
     "output_type": "execute_result"
    }
   ],
   "source": [
    "# load dataset\n",
    "import os\n",
    "import pandas as pd\n",
    "import matplotlib.pyplot as plt\n",
    "import pickle\n",
    "import simplejson as json\n",
    "\n",
    "df = pd.read_csv(\"/users/akuppam/documents/Hprog/Py/rnb1015_2.csv\")\n",
    "df.head(5)\n",
    "\n",
    "df = pd.read_csv(\"/users/akuppam/documents/Hprog/Py/rnb1015_2.csv\")\n",
    "df = df.loc[(df['region'] == 'UK') & (df['marketing'] == 'NotPaid')]\n",
    "df = df[~(df['nb'] < 0)]\n",
    "df.describe()\n",
    "df.index = pd.to_datetime(df.date)\n",
    "cols = [\"nb\"]\n",
    "df = df[cols]\n",
    "df.columns = ['y']\n",
    "df.head()"
   ]
  },
  {
   "cell_type": "code",
   "execution_count": null,
   "metadata": {},
   "outputs": [],
   "source": []
  },
  {
   "cell_type": "code",
   "execution_count": null,
   "metadata": {},
   "outputs": [],
   "source": []
  },
  {
   "cell_type": "code",
   "execution_count": null,
   "metadata": {},
   "outputs": [],
   "source": []
  },
  {
   "cell_type": "code",
   "execution_count": null,
   "metadata": {},
   "outputs": [],
   "source": []
  },
  {
   "cell_type": "code",
   "execution_count": null,
   "metadata": {},
   "outputs": [],
   "source": []
  },
  {
   "cell_type": "code",
   "execution_count": 15,
   "metadata": {},
   "outputs": [],
   "source": []
  },
  {
   "cell_type": "code",
   "execution_count": null,
   "metadata": {},
   "outputs": [],
   "source": []
  }
 ],
 "metadata": {
  "kernelspec": {
   "display_name": "Python 3",
   "language": "python",
   "name": "python3"
  },
  "language_info": {
   "codemirror_mode": {
    "name": "ipython",
    "version": 3
   },
   "file_extension": ".py",
   "mimetype": "text/x-python",
   "name": "python",
   "nbconvert_exporter": "python",
   "pygments_lexer": "ipython3",
   "version": "3.6.5"
  }
 },
 "nbformat": 4,
 "nbformat_minor": 2
}
