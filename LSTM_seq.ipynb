{
 "cells": [
  {
   "cell_type": "code",
   "execution_count": null,
   "metadata": {},
   "outputs": [],
   "source": [
    "# LSTM for sequence modeling\n",
    "# /Users/akuppam/Documents/Pythprog/deep_learning_bundle/.....\n",
    "# .....long_short_term_memory_networks_with_python/code/lesson_06"
   ]
  },
  {
   "cell_type": "code",
   "execution_count": 4,
   "metadata": {},
   "outputs": [
    {
     "name": "stdout",
     "output_type": "stream",
     "text": [
      "_________________________________________________________________\n",
      "Layer (type)                 Output Shape              Param #   \n",
      "=================================================================\n",
      "lstm_4 (LSTM)                (None, 25)                3600      \n",
      "_________________________________________________________________\n",
      "dense_4 (Dense)              (None, 10)                260       \n",
      "=================================================================\n",
      "Total params: 3,860\n",
      "Trainable params: 3,860\n",
      "Non-trainable params: 0\n",
      "_________________________________________________________________\n",
      "None\n",
      "Epoch 1/1\n",
      " - 1s - loss: 2.2279 - acc: 1.0000\n",
      "Epoch 1/1\n",
      " - 0s - loss: 2.2502 - acc: 0.0000e+00\n",
      "Epoch 1/1\n",
      " - 0s - loss: 2.2430 - acc: 1.0000\n",
      "Epoch 1/1\n",
      " - 0s - loss: 2.3172 - acc: 0.0000e+00\n",
      "Epoch 1/1\n",
      " - 0s - loss: 2.2858 - acc: 0.0000e+00\n",
      "Epoch 1/1\n",
      " - 0s - loss: 2.2978 - acc: 0.0000e+00\n",
      "Epoch 1/1\n",
      " - 0s - loss: 2.3391 - acc: 0.0000e+00\n",
      "Epoch 1/1\n",
      " - 0s - loss: 2.2090 - acc: 0.0000e+00\n",
      "Epoch 1/1\n",
      " - 0s - loss: 2.2762 - acc: 0.0000e+00\n",
      "Epoch 1/1\n",
      " - 0s - loss: 2.2533 - acc: 0.0000e+00\n",
      "Accuracy: 18.000000\n",
      "Sequence:  [[6, 6, 3, 8, 4]]\n",
      "Expected:  [3]\n",
      "Predicted: [6]\n"
     ]
    }
   ],
   "source": [
    "from random import randint\n",
    "from numpy import array\n",
    "from numpy import argmax\n",
    "from keras.models import Sequential\n",
    "from keras.layers import LSTM\n",
    "from keras.layers import Dense\n",
    "\n",
    "# generate a sequence of random numbers in [0, n_features)\n",
    "def generate_sequence(length, n_features):\n",
    "\treturn [randint(0, n_features-1) for _ in range(length)]\n",
    "\n",
    "# one hot encode sequence\n",
    "def one_hot_encode(sequence, n_features):\n",
    "\tencoding = list()\n",
    "\tfor value in sequence:\n",
    "\t\tvector = [0 for _ in range(n_features)]\n",
    "\t\tvector[value] = 1\n",
    "\t\tencoding.append(vector)\n",
    "\treturn array(encoding)\n",
    "\n",
    "# decode a one hot encoded string\n",
    "def one_hot_decode(encoded_seq):\n",
    "\treturn [argmax(vector) for vector in encoded_seq]\n",
    "\n",
    "# generate one example for an lstm\n",
    "def generate_example(length, n_features, out_index):\n",
    "\t# generate sequence\n",
    "\tsequence = generate_sequence(length, n_features)\n",
    "\t# one hot encode\n",
    "\tencoded = one_hot_encode(sequence, n_features)\n",
    "\t# reshape sequence to be 3D\n",
    "\tX = encoded.reshape((1, length, n_features))\n",
    "\t# select output\n",
    "\ty = encoded[out_index].reshape(1, n_features)\n",
    "\treturn X, y\n",
    "\n",
    "# define model\n",
    "length = 5\n",
    "n_features = 10\n",
    "out_index = 2\n",
    "model = Sequential()\n",
    "model.add(LSTM(25, input_shape=(length, n_features)))\n",
    "model.add(Dense(n_features, activation='softmax'))\n",
    "model.compile(loss='categorical_crossentropy', optimizer='adam', metrics=['acc'])\n",
    "print(model.summary())\n",
    "\n",
    "# fit model\n",
    "for i in range(10):\n",
    "\tX, y = generate_example(length, n_features, out_index)\n",
    "\tmodel.fit(X, y, epochs=1, verbose=2)\n",
    "\n",
    "# evaluate model\n",
    "correct = 0\n",
    "for i in range(100):\n",
    "\tX, y = generate_example(length, n_features, out_index)\n",
    "\tyhat = model.predict(X)\n",
    "\tif one_hot_decode(yhat) == one_hot_decode(y):\n",
    "\t\tcorrect += 1\n",
    "print('Accuracy: %f' % ((correct/100)*100.0))\n",
    "\n",
    "# prediction on new data\n",
    "X, y = generate_example(length, n_features, out_index)\n",
    "yhat = model.predict(X)\n",
    "print('Sequence:  %s' % [one_hot_decode(x) for x in X])\n",
    "print('Expected:  %s' % one_hot_decode(y))\n",
    "print('Predicted: %s' % one_hot_decode(yhat))"
   ]
  },
  {
   "cell_type": "code",
   "execution_count": 5,
   "metadata": {},
   "outputs": [
    {
     "data": {
      "text/plain": [
       "array([[[0, 0, 0, 0, 0, 0, 1, 0, 0, 0],\n",
       "        [0, 0, 0, 0, 0, 0, 1, 0, 0, 0],\n",
       "        [0, 0, 0, 1, 0, 0, 0, 0, 0, 0],\n",
       "        [0, 0, 0, 0, 0, 0, 0, 0, 1, 0],\n",
       "        [0, 0, 0, 0, 1, 0, 0, 0, 0, 0]]])"
      ]
     },
     "execution_count": 5,
     "metadata": {},
     "output_type": "execute_result"
    }
   ],
   "source": [
    "X"
   ]
  },
  {
   "cell_type": "code",
   "execution_count": 6,
   "metadata": {},
   "outputs": [
    {
     "data": {
      "text/plain": [
       "array([[0, 0, 0, 1, 0, 0, 0, 0, 0, 0]])"
      ]
     },
     "execution_count": 6,
     "metadata": {},
     "output_type": "execute_result"
    }
   ],
   "source": [
    "y"
   ]
  },
  {
   "cell_type": "code",
   "execution_count": null,
   "metadata": {},
   "outputs": [],
   "source": [
    "Accuracy: 7.000000\n",
    "Sequence:  [[6, 9, 5, 4, 2]]\n",
    "Expected:  [5]\n",
    "Predicted: [3]"
   ]
  },
  {
   "cell_type": "code",
   "execution_count": null,
   "metadata": {},
   "outputs": [],
   "source": [
    "Accuracy: 18.000000\n",
    "Sequence:  [[2, 0, 8, 5, 9]]\n",
    "Expected:  [8]\n",
    "Predicted: [7]"
   ]
  },
  {
   "cell_type": "code",
   "execution_count": null,
   "metadata": {},
   "outputs": [],
   "source": [
    "Accuracy: 9.000000\n",
    "Sequence:  [[1, 4, 9, 3, 8]]\n",
    "Expected:  [9]\n",
    "Predicted: [6]"
   ]
  },
  {
   "cell_type": "code",
   "execution_count": null,
   "metadata": {},
   "outputs": [],
   "source": [
    "# generate one example for an lstm\n",
    "def generate_example(length, n_features, out_index):\n",
    "  # generate sequence\n",
    "  sequence = generate_sequence(length, n_features)\n",
    "  # one hot encode\n",
    "  encoded = one_hot_encode(sequence, n_features)\n",
    "  # reshape sequence to be 3D\n",
    "  X = encoded.reshape((1, length, n_features))\n",
    "  # select output\n",
    "  y = encoded[out_index].reshape(1, n_features)\n",
    "return X, y"
   ]
  },
  {
   "cell_type": "code",
   "execution_count": 57,
   "metadata": {},
   "outputs": [],
   "source": [
    "length = 5\n",
    "n_features = 10\n",
    "out_index = 2\n",
    "sequence = generate_sequence(length, n_features)\n",
    "encoded = one_hot_encode(sequence, n_features)\n",
    "X = encoded.reshape((1, length, n_features))\n",
    "y = encoded[out_index].reshape(1, n_features)"
   ]
  },
  {
   "cell_type": "code",
   "execution_count": 58,
   "metadata": {},
   "outputs": [
    {
     "data": {
      "text/plain": [
       "[7, 3, 2, 6, 8]"
      ]
     },
     "execution_count": 58,
     "metadata": {},
     "output_type": "execute_result"
    }
   ],
   "source": [
    "sequence"
   ]
  },
  {
   "cell_type": "code",
   "execution_count": 59,
   "metadata": {},
   "outputs": [
    {
     "data": {
      "text/plain": [
       "array([[0, 0, 0, 0, 0, 0, 0, 1, 0, 0],\n",
       "       [0, 0, 0, 1, 0, 0, 0, 0, 0, 0],\n",
       "       [0, 0, 1, 0, 0, 0, 0, 0, 0, 0],\n",
       "       [0, 0, 0, 0, 0, 0, 1, 0, 0, 0],\n",
       "       [0, 0, 0, 0, 0, 0, 0, 0, 1, 0]])"
      ]
     },
     "execution_count": 59,
     "metadata": {},
     "output_type": "execute_result"
    }
   ],
   "source": [
    "encoded"
   ]
  },
  {
   "cell_type": "code",
   "execution_count": 60,
   "metadata": {},
   "outputs": [
    {
     "data": {
      "text/plain": [
       "array([[[0, 0, 0, 0, 0, 0, 0, 1, 0, 0],\n",
       "        [0, 0, 0, 1, 0, 0, 0, 0, 0, 0],\n",
       "        [0, 0, 1, 0, 0, 0, 0, 0, 0, 0],\n",
       "        [0, 0, 0, 0, 0, 0, 1, 0, 0, 0],\n",
       "        [0, 0, 0, 0, 0, 0, 0, 0, 1, 0]]])"
      ]
     },
     "execution_count": 60,
     "metadata": {},
     "output_type": "execute_result"
    }
   ],
   "source": [
    "X"
   ]
  },
  {
   "cell_type": "code",
   "execution_count": 61,
   "metadata": {},
   "outputs": [
    {
     "data": {
      "text/plain": [
       "array([[0, 0, 1, 0, 0, 0, 0, 0, 0, 0]])"
      ]
     },
     "execution_count": 61,
     "metadata": {},
     "output_type": "execute_result"
    }
   ],
   "source": [
    "y"
   ]
  },
  {
   "cell_type": "code",
   "execution_count": 43,
   "metadata": {},
   "outputs": [
    {
     "data": {
      "text/plain": [
       "array([0, 0, 0, 0, 1, 0, 0, 0, 0, 0])"
      ]
     },
     "execution_count": 43,
     "metadata": {},
     "output_type": "execute_result"
    }
   ],
   "source": [
    "y = encoded[4]\n",
    "y"
   ]
  },
  {
   "cell_type": "code",
   "execution_count": 49,
   "metadata": {},
   "outputs": [
    {
     "data": {
      "text/plain": [
       "array([[[0, 0, 0, 0, 0, 0, 0, 0, 1, 0],\n",
       "        [0, 0, 0, 0, 0, 0, 0, 0, 0, 1],\n",
       "        [0, 0, 0, 0, 0, 0, 0, 0, 1, 0],\n",
       "        [1, 0, 0, 0, 0, 0, 0, 0, 0, 0],\n",
       "        [0, 0, 0, 0, 1, 0, 0, 0, 0, 0]]])"
      ]
     },
     "execution_count": 49,
     "metadata": {},
     "output_type": "execute_result"
    }
   ],
   "source": [
    "X = encoded.reshape(1, 5, 10)\n",
    "X"
   ]
  },
  {
   "cell_type": "code",
   "execution_count": 55,
   "metadata": {},
   "outputs": [
    {
     "data": {
      "text/plain": [
       "array([0, 0, 0, 0, 0, 0, 0, 0, 0, 1])"
      ]
     },
     "execution_count": 55,
     "metadata": {},
     "output_type": "execute_result"
    }
   ],
   "source": [
    "y = encoded[1, :]\n",
    "y"
   ]
  },
  {
   "cell_type": "code",
   "execution_count": 62,
   "metadata": {},
   "outputs": [
    {
     "data": {
      "text/plain": [
       "array([[0.1050853 , 0.10310294, 0.09943166, 0.08954316, 0.10288467,\n",
       "        0.09983714, 0.10728016, 0.10032192, 0.09465036, 0.09786275]],\n",
       "      dtype=float32)"
      ]
     },
     "execution_count": 62,
     "metadata": {},
     "output_type": "execute_result"
    }
   ],
   "source": [
    "yhat - model.predict(X)\n",
    "yhat"
   ]
  },
  {
   "cell_type": "code",
   "execution_count": null,
   "metadata": {},
   "outputs": [],
   "source": []
  }
 ],
 "metadata": {
  "kernelspec": {
   "display_name": "Python 3",
   "language": "python",
   "name": "python3"
  },
  "language_info": {
   "codemirror_mode": {
    "name": "ipython",
    "version": 3
   },
   "file_extension": ".py",
   "mimetype": "text/x-python",
   "name": "python",
   "nbconvert_exporter": "python",
   "pygments_lexer": "ipython3",
   "version": "3.7.1"
  }
 },
 "nbformat": 4,
 "nbformat_minor": 2
}
