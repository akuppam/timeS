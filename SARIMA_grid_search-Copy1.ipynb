{
 "cells": [
  {
   "cell_type": "code",
   "execution_count": 23,
   "metadata": {},
   "outputs": [
    {
     "data": {
      "text/html": [
       "<div>\n",
       "<style scoped>\n",
       "    .dataframe tbody tr th:only-of-type {\n",
       "        vertical-align: middle;\n",
       "    }\n",
       "\n",
       "    .dataframe tbody tr th {\n",
       "        vertical-align: top;\n",
       "    }\n",
       "\n",
       "    .dataframe thead th {\n",
       "        text-align: right;\n",
       "    }\n",
       "</style>\n",
       "<table border=\"1\" class=\"dataframe\">\n",
       "  <thead>\n",
       "    <tr style=\"text-align: right;\">\n",
       "      <th></th>\n",
       "      <th>date</th>\n",
       "      <th>region</th>\n",
       "      <th>marketing</th>\n",
       "      <th>visits</th>\n",
       "      <th>br</th>\n",
       "      <th>inq</th>\n",
       "      <th>gb</th>\n",
       "      <th>cb</th>\n",
       "      <th>nb</th>\n",
       "      <th>ss</th>\n",
       "      <th>ts</th>\n",
       "      <th>listings</th>\n",
       "    </tr>\n",
       "  </thead>\n",
       "  <tbody>\n",
       "    <tr>\n",
       "      <th>0</th>\n",
       "      <td>2016-01-01</td>\n",
       "      <td>all</td>\n",
       "      <td>all</td>\n",
       "      <td>2293712</td>\n",
       "      <td>8845</td>\n",
       "      <td>118349</td>\n",
       "      <td>8205</td>\n",
       "      <td>698</td>\n",
       "      <td>7507</td>\n",
       "      <td>6.740627e+05</td>\n",
       "      <td>191935.4706</td>\n",
       "      <td>28296771</td>\n",
       "    </tr>\n",
       "    <tr>\n",
       "      <th>1</th>\n",
       "      <td>2016-01-02</td>\n",
       "      <td>all</td>\n",
       "      <td>all</td>\n",
       "      <td>2620436</td>\n",
       "      <td>10255</td>\n",
       "      <td>142797</td>\n",
       "      <td>10094</td>\n",
       "      <td>838</td>\n",
       "      <td>9256</td>\n",
       "      <td>7.939500e+05</td>\n",
       "      <td>248524.9014</td>\n",
       "      <td>28205540</td>\n",
       "    </tr>\n",
       "    <tr>\n",
       "      <th>2</th>\n",
       "      <td>2016-01-03</td>\n",
       "      <td>all</td>\n",
       "      <td>all</td>\n",
       "      <td>3186849</td>\n",
       "      <td>12837</td>\n",
       "      <td>184483</td>\n",
       "      <td>12351</td>\n",
       "      <td>890</td>\n",
       "      <td>11461</td>\n",
       "      <td>7.694853e+05</td>\n",
       "      <td>299503.2650</td>\n",
       "      <td>28194192</td>\n",
       "    </tr>\n",
       "    <tr>\n",
       "      <th>3</th>\n",
       "      <td>2016-01-04</td>\n",
       "      <td>all</td>\n",
       "      <td>all</td>\n",
       "      <td>3317763</td>\n",
       "      <td>13517</td>\n",
       "      <td>188283</td>\n",
       "      <td>14251</td>\n",
       "      <td>1415</td>\n",
       "      <td>12836</td>\n",
       "      <td>1.711552e+06</td>\n",
       "      <td>339585.2933</td>\n",
       "      <td>28349902</td>\n",
       "    </tr>\n",
       "    <tr>\n",
       "      <th>4</th>\n",
       "      <td>2016-01-05</td>\n",
       "      <td>all</td>\n",
       "      <td>all</td>\n",
       "      <td>3267402</td>\n",
       "      <td>14318</td>\n",
       "      <td>194315</td>\n",
       "      <td>15468</td>\n",
       "      <td>1584</td>\n",
       "      <td>13884</td>\n",
       "      <td>1.814768e+06</td>\n",
       "      <td>368632.8372</td>\n",
       "      <td>28373795</td>\n",
       "    </tr>\n",
       "  </tbody>\n",
       "</table>\n",
       "</div>"
      ],
      "text/plain": [
       "         date region marketing   visits     br     inq     gb    cb     nb  \\\n",
       "0  2016-01-01    all       all  2293712   8845  118349   8205   698   7507   \n",
       "1  2016-01-02    all       all  2620436  10255  142797  10094   838   9256   \n",
       "2  2016-01-03    all       all  3186849  12837  184483  12351   890  11461   \n",
       "3  2016-01-04    all       all  3317763  13517  188283  14251  1415  12836   \n",
       "4  2016-01-05    all       all  3267402  14318  194315  15468  1584  13884   \n",
       "\n",
       "             ss           ts  listings  \n",
       "0  6.740627e+05  191935.4706  28296771  \n",
       "1  7.939500e+05  248524.9014  28205540  \n",
       "2  7.694853e+05  299503.2650  28194192  \n",
       "3  1.711552e+06  339585.2933  28349902  \n",
       "4  1.814768e+06  368632.8372  28373795  "
      ]
     },
     "execution_count": 23,
     "metadata": {},
     "output_type": "execute_result"
    }
   ],
   "source": [
    "import warnings\n",
    "import itertools\n",
    "import numpy as np\n",
    "import matplotlib.pyplot as plt\n",
    "#warnings.filterwarnings(\"ignore\")\n",
    "plt.style.use('fivethirtyeight')\n",
    "import pandas as pd\n",
    "import statsmodels.api as sm\n",
    "import matplotlib\n",
    "\n",
    "matplotlib.rcParams['axes.labelsize'] = 14\n",
    "matplotlib.rcParams['xtick.labelsize'] = 12\n",
    "matplotlib.rcParams['ytick.labelsize'] = 12\n",
    "matplotlib.rcParams['text.color'] = 'k'\n",
    "\n",
    "# Data manipulation\n",
    "import pandas as pd\n",
    "import numpy as np\n",
    "\n",
    "# Visualization\n",
    "import matplotlib.pyplot as plt\n",
    "import seaborn as sns\n",
    "\n",
    "# Set a few plotting defaults\n",
    "%matplotlib inline\n",
    "plt.style.use('fivethirtyeight')\n",
    "plt.rcParams['font.size'] = 18\n",
    "plt.rcParams['patch.edgecolor'] = 'k'\n",
    "\n",
    "pd.options.display.max_columns = 150\n",
    "\n",
    "# Read in data\n",
    "df = pd.read_csv(\"/users/akuppam/documents/Data/RoverData/rnbl2agg.csv\")\n",
    "df.head(5)"
   ]
  },
  {
   "cell_type": "code",
   "execution_count": 48,
   "metadata": {},
   "outputs": [],
   "source": [
    "p = d = q = range(0, 4) # Define the p, d and q parameters to take any value between 0 and 2\n",
    "pdq = list(itertools.product(p, d, q)) # Generate all different combinations of p, q and q triplets\n",
    "pdq_x_PDQ = [(x[0], x[1], x[2], 12) for x in list(itertools.product(p, d, q))] # Generate all different combinations of seasonal P, D and Q\n",
    "#print('Examples of Seasonal ARIMA parameter combinations for Seasonal ARIMA...')\n",
    "#print('SARIMAX: {} x {}'.format(pdq[1], pdq_x_QDQs[1]))\n",
    "#print('SARIMAX: {} x {}'.format(pdq[2], pdq_x_QDQs[2]))"
   ]
  },
  {
   "cell_type": "code",
   "execution_count": null,
   "metadata": {},
   "outputs": [
    {
     "name": "stdout",
     "output_type": "stream",
     "text": [
      "SARIMA(0, 0, 0)x(0, 0, 0, 12) - AIC:22078.12058011398\n",
      "SARIMA(0, 0, 0)x(0, 0, 1, 12) - AIC:21148.598719898386\n",
      "SARIMA(0, 0, 0)x(0, 0, 2, 12) - AIC:20763.94941937791\n",
      "SARIMA(0, 0, 0)x(0, 0, 3, 12) - AIC:20476.375326267447\n",
      "SARIMA(0, 0, 0)x(0, 1, 0, 12) - AIC:18741.157678337608\n",
      "SARIMA(0, 0, 0)x(0, 1, 1, 12) - AIC:18462.73295483117\n",
      "SARIMA(0, 0, 0)x(0, 1, 2, 12) - AIC:18205.061178221622\n",
      "SARIMA(0, 0, 0)x(0, 1, 3, 12) - AIC:17986.8898170353\n",
      "SARIMA(0, 0, 0)x(0, 2, 0, 12) - AIC:19358.940290706443\n",
      "SARIMA(0, 0, 0)x(0, 2, 1, 12) - AIC:18548.28293280621\n",
      "SARIMA(0, 0, 0)x(0, 2, 2, 12) - AIC:18082.64734177854\n",
      "SARIMA(0, 0, 0)x(0, 2, 3, 12) - AIC:18098.794235290145\n",
      "SARIMA(0, 0, 0)x(0, 3, 0, 12) - AIC:20161.82773109706\n",
      "SARIMA(0, 0, 0)x(0, 3, 1, 12) - AIC:18961.785188447848\n"
     ]
    },
    {
     "name": "stderr",
     "output_type": "stream",
     "text": [
      "/anaconda3/lib/python3.6/site-packages/statsmodels/base/model.py:508: ConvergenceWarning: Maximum Likelihood optimization failed to converge. Check mle_retvals\n",
      "  \"Check mle_retvals\", ConvergenceWarning)\n"
     ]
    },
    {
     "name": "stdout",
     "output_type": "stream",
     "text": [
      "SARIMA(0, 0, 0)x(0, 3, 2, 12) - AIC:18616.255516653546\n",
      "SARIMA(0, 0, 0)x(0, 3, 3, 12) - AIC:19605.8670041119\n",
      "SARIMA(0, 0, 0)x(1, 0, 0, 12) - AIC:18756.417096149697\n",
      "SARIMA(0, 0, 0)x(1, 0, 1, 12) - AIC:18693.305429404514\n",
      "SARIMA(0, 0, 0)x(1, 0, 2, 12) - AIC:18441.286145799633\n",
      "SARIMA(0, 0, 0)x(1, 0, 3, 12) - AIC:18202.81292899439\n",
      "SARIMA(0, 0, 0)x(1, 1, 0, 12) - AIC:18506.939421762065\n",
      "SARIMA(0, 0, 0)x(1, 1, 1, 12) - AIC:18437.960601409068\n",
      "SARIMA(0, 0, 0)x(1, 1, 2, 12) - AIC:18197.225839857438\n",
      "SARIMA(0, 0, 0)x(1, 1, 3, 12) - AIC:17983.989691259558\n",
      "SARIMA(0, 0, 0)x(1, 2, 0, 12) - AIC:18907.87114635668\n",
      "SARIMA(0, 0, 0)x(1, 2, 1, 12) - AIC:18464.644385372525\n",
      "SARIMA(0, 0, 0)x(1, 2, 2, 12) - AIC:18222.521996517855\n",
      "SARIMA(0, 0, 0)x(1, 2, 3, 12) - AIC:17988.690142376523\n",
      "SARIMA(0, 0, 0)x(1, 3, 0, 12) - AIC:19351.93445683398\n",
      "SARIMA(0, 0, 0)x(1, 3, 1, 12) - AIC:18959.603058753113\n"
     ]
    },
    {
     "name": "stderr",
     "output_type": "stream",
     "text": [
      "/anaconda3/lib/python3.6/site-packages/statsmodels/base/model.py:508: ConvergenceWarning: Maximum Likelihood optimization failed to converge. Check mle_retvals\n",
      "  \"Check mle_retvals\", ConvergenceWarning)\n"
     ]
    },
    {
     "name": "stdout",
     "output_type": "stream",
     "text": [
      "SARIMA(0, 0, 0)x(1, 3, 2, 12) - AIC:18605.201405993932\n"
     ]
    },
    {
     "name": "stderr",
     "output_type": "stream",
     "text": [
      "/anaconda3/lib/python3.6/site-packages/statsmodels/base/model.py:508: ConvergenceWarning: Maximum Likelihood optimization failed to converge. Check mle_retvals\n",
      "  \"Check mle_retvals\", ConvergenceWarning)\n"
     ]
    },
    {
     "name": "stdout",
     "output_type": "stream",
     "text": [
      "SARIMA(0, 0, 0)x(1, 3, 3, 12) - AIC:18688.440124070934\n",
      "SARIMA(0, 0, 0)x(2, 0, 0, 12) - AIC:18502.65096862577\n",
      "SARIMA(0, 0, 0)x(2, 0, 1, 12) - AIC:18467.048589284947\n",
      "SARIMA(0, 0, 0)x(2, 0, 2, 12) - AIC:18427.17933406622\n",
      "SARIMA(0, 0, 0)x(2, 0, 3, 12) - AIC:18200.790670061746\n",
      "SARIMA(0, 0, 0)x(2, 1, 0, 12) - AIC:18202.38830753331\n",
      "SARIMA(0, 0, 0)x(2, 1, 1, 12) - AIC:18204.10128326188\n",
      "SARIMA(0, 0, 0)x(2, 1, 2, 12) - AIC:18145.756919580454\n",
      "SARIMA(0, 0, 0)x(2, 1, 3, 12) - AIC:17887.94838104661\n",
      "SARIMA(0, 0, 0)x(2, 2, 0, 12) - AIC:18361.533922509152\n",
      "SARIMA(0, 0, 0)x(2, 2, 1, 12) - AIC:18114.86706225445\n",
      "SARIMA(0, 0, 0)x(2, 2, 2, 12) - AIC:18095.145306988576\n",
      "SARIMA(0, 0, 0)x(2, 2, 3, 12) - AIC:17818.92596997074\n",
      "SARIMA(0, 0, 0)x(2, 3, 0, 12) - AIC:18936.516221673068\n",
      "SARIMA(0, 0, 0)x(2, 3, 1, 12) - AIC:18655.32636360117\n"
     ]
    },
    {
     "name": "stderr",
     "output_type": "stream",
     "text": [
      "/anaconda3/lib/python3.6/site-packages/statsmodels/base/model.py:508: ConvergenceWarning: Maximum Likelihood optimization failed to converge. Check mle_retvals\n",
      "  \"Check mle_retvals\", ConvergenceWarning)\n"
     ]
    },
    {
     "name": "stdout",
     "output_type": "stream",
     "text": [
      "SARIMA(0, 0, 0)x(2, 3, 2, 12) - AIC:18650.006342972927\n"
     ]
    },
    {
     "name": "stderr",
     "output_type": "stream",
     "text": [
      "/anaconda3/lib/python3.6/site-packages/statsmodels/base/model.py:508: ConvergenceWarning: Maximum Likelihood optimization failed to converge. Check mle_retvals\n",
      "  \"Check mle_retvals\", ConvergenceWarning)\n"
     ]
    },
    {
     "name": "stdout",
     "output_type": "stream",
     "text": [
      "SARIMA(0, 0, 0)x(2, 3, 3, 12) - AIC:18408.872710084528\n",
      "SARIMA(0, 0, 0)x(3, 0, 0, 12) - AIC:18201.536865049267\n",
      "SARIMA(0, 0, 0)x(3, 0, 1, 12) - AIC:18203.009225575872\n",
      "SARIMA(0, 0, 0)x(3, 0, 2, 12) - AIC:18177.088815353636\n",
      "SARIMA(0, 0, 0)x(3, 0, 3, 12) - AIC:18126.13535948869\n",
      "SARIMA(0, 0, 0)x(3, 1, 0, 12) - AIC:17986.188172014423\n",
      "SARIMA(0, 0, 0)x(3, 1, 1, 12) - AIC:17987.54141819959\n",
      "SARIMA(0, 0, 0)x(3, 1, 2, 12) - AIC:17907.60626731681\n",
      "SARIMA(0, 0, 0)x(3, 1, 3, 12) - AIC:17866.450309438384\n",
      "SARIMA(0, 0, 0)x(3, 2, 0, 12) - AIC:17980.265018341193\n",
      "SARIMA(0, 0, 0)x(3, 2, 1, 12) - AIC:17839.33452105124\n",
      "SARIMA(0, 0, 0)x(3, 2, 2, 12) - AIC:17847.559132601586\n",
      "SARIMA(0, 0, 0)x(3, 2, 3, 12) - AIC:17766.003483291806\n",
      "SARIMA(0, 0, 0)x(3, 3, 0, 12) - AIC:18588.56339349482\n",
      "SARIMA(0, 0, 0)x(3, 3, 1, 12) - AIC:18705.065370115884\n",
      "SARIMA(0, 0, 0)x(3, 3, 2, 12) - AIC:18687.256842056908\n"
     ]
    },
    {
     "name": "stderr",
     "output_type": "stream",
     "text": [
      "/anaconda3/lib/python3.6/site-packages/statsmodels/base/model.py:508: ConvergenceWarning: Maximum Likelihood optimization failed to converge. Check mle_retvals\n",
      "  \"Check mle_retvals\", ConvergenceWarning)\n"
     ]
    },
    {
     "name": "stdout",
     "output_type": "stream",
     "text": [
      "SARIMA(0, 0, 0)x(3, 3, 3, 12) - AIC:18266.568587712973\n",
      "SARIMA(0, 0, 1)x(0, 0, 0, 12) - AIC:21333.385293837415\n",
      "SARIMA(0, 0, 1)x(0, 0, 1, 12) - AIC:20908.430201783398\n",
      "SARIMA(0, 0, 1)x(0, 0, 2, 12) - AIC:18916.749820364468\n",
      "SARIMA(0, 0, 1)x(0, 0, 3, 12) - AIC:18504.601554528832\n",
      "SARIMA(0, 0, 1)x(0, 1, 0, 12) - AIC:18169.871071660433\n",
      "SARIMA(0, 0, 1)x(0, 1, 1, 12) - AIC:17835.04729206834\n",
      "SARIMA(0, 0, 1)x(0, 1, 2, 12) - AIC:17606.70508081852\n",
      "SARIMA(0, 0, 1)x(0, 1, 3, 12) - AIC:17377.81677184825\n",
      "SARIMA(0, 0, 1)x(0, 2, 0, 12) - AIC:18875.940824774963\n",
      "SARIMA(0, 0, 1)x(0, 2, 1, 12) - AIC:18094.19941151366\n",
      "SARIMA(0, 0, 1)x(0, 2, 2, 12) - AIC:17830.274823546228\n",
      "SARIMA(0, 0, 1)x(0, 2, 3, 12) - AIC:17602.770289475517\n",
      "SARIMA(0, 0, 1)x(0, 3, 0, 12) - AIC:19946.289737570936\n",
      "SARIMA(0, 0, 1)x(0, 3, 1, 12) - AIC:18683.4466918706\n",
      "SARIMA(0, 0, 1)x(0, 3, 2, 12) - AIC:18311.571223898634\n",
      "SARIMA(0, 0, 1)x(0, 3, 3, 12) - AIC:19271.343763964916\n",
      "SARIMA(0, 0, 1)x(1, 0, 0, 12) - AIC:18190.978182112336\n",
      "SARIMA(0, 0, 1)x(1, 0, 1, 12) - AIC:18045.59014715202\n",
      "SARIMA(0, 0, 1)x(1, 0, 2, 12) - AIC:20571.575897597177\n"
     ]
    },
    {
     "name": "stderr",
     "output_type": "stream",
     "text": [
      "/anaconda3/lib/python3.6/site-packages/statsmodels/base/model.py:508: ConvergenceWarning: Maximum Likelihood optimization failed to converge. Check mle_retvals\n",
      "  \"Check mle_retvals\", ConvergenceWarning)\n"
     ]
    },
    {
     "name": "stdout",
     "output_type": "stream",
     "text": [
      "SARIMA(0, 0, 1)x(1, 0, 3, 12) - AIC:18650.949028694857\n",
      "SARIMA(0, 0, 1)x(1, 1, 0, 12) - AIC:17914.797661312135\n",
      "SARIMA(0, 0, 1)x(1, 1, 1, 12) - AIC:17825.687940082746\n",
      "SARIMA(0, 0, 1)x(1, 1, 2, 12) - AIC:17605.09316973589\n",
      "SARIMA(0, 0, 1)x(1, 1, 3, 12) - AIC:17391.329877519252\n",
      "SARIMA(0, 0, 1)x(1, 2, 0, 12) - AIC:18392.13639602056\n",
      "SARIMA(0, 0, 1)x(1, 2, 1, 12) - AIC:17721.001475115554\n",
      "SARIMA(0, 0, 1)x(1, 2, 2, 12) - AIC:17831.121467392484\n"
     ]
    },
    {
     "name": "stderr",
     "output_type": "stream",
     "text": [
      "/anaconda3/lib/python3.6/site-packages/statsmodels/base/model.py:508: ConvergenceWarning: Maximum Likelihood optimization failed to converge. Check mle_retvals\n",
      "  \"Check mle_retvals\", ConvergenceWarning)\n"
     ]
    },
    {
     "name": "stdout",
     "output_type": "stream",
     "text": [
      "SARIMA(0, 0, 1)x(1, 2, 3, 12) - AIC:17230.517324512115\n",
      "SARIMA(0, 0, 1)x(1, 3, 0, 12) - AIC:19019.656051171434\n",
      "SARIMA(0, 0, 1)x(1, 3, 1, 12) - AIC:20046.731634391246\n",
      "SARIMA(0, 0, 1)x(1, 3, 2, 12) - AIC:19668.14449966765\n"
     ]
    },
    {
     "name": "stderr",
     "output_type": "stream",
     "text": [
      "/anaconda3/lib/python3.6/site-packages/statsmodels/base/model.py:508: ConvergenceWarning: Maximum Likelihood optimization failed to converge. Check mle_retvals\n",
      "  \"Check mle_retvals\", ConvergenceWarning)\n"
     ]
    },
    {
     "name": "stdout",
     "output_type": "stream",
     "text": [
      "SARIMA(0, 0, 1)x(1, 3, 3, 12) - AIC:18856.5692757126\n",
      "SARIMA(0, 0, 1)x(2, 0, 0, 12) - AIC:17899.558984555057\n",
      "SARIMA(0, 0, 1)x(2, 0, 1, 12) - AIC:20614.004267545246\n"
     ]
    },
    {
     "name": "stderr",
     "output_type": "stream",
     "text": [
      "/anaconda3/lib/python3.6/site-packages/statsmodels/base/model.py:508: ConvergenceWarning: Maximum Likelihood optimization failed to converge. Check mle_retvals\n",
      "  \"Check mle_retvals\", ConvergenceWarning)\n"
     ]
    },
    {
     "name": "stdout",
     "output_type": "stream",
     "text": [
      "SARIMA(0, 0, 1)x(2, 0, 2, 12) - AIC:18327.85461398904\n"
     ]
    },
    {
     "name": "stderr",
     "output_type": "stream",
     "text": [
      "/anaconda3/lib/python3.6/site-packages/statsmodels/base/model.py:508: ConvergenceWarning: Maximum Likelihood optimization failed to converge. Check mle_retvals\n",
      "  \"Check mle_retvals\", ConvergenceWarning)\n"
     ]
    },
    {
     "name": "stdout",
     "output_type": "stream",
     "text": [
      "SARIMA(0, 0, 1)x(2, 0, 3, 12) - AIC:18949.43730712255\n",
      "SARIMA(0, 0, 1)x(2, 1, 0, 12) - AIC:17651.939326287145\n",
      "SARIMA(0, 0, 1)x(2, 1, 1, 12) - AIC:17638.43332447193\n",
      "SARIMA(0, 0, 1)x(2, 1, 2, 12) - AIC:17604.500884713576\n",
      "SARIMA(0, 0, 1)x(2, 1, 3, 12) - AIC:17382.77138648677\n",
      "SARIMA(0, 0, 1)x(2, 2, 0, 12) - AIC:18018.937844755077\n",
      "SARIMA(0, 0, 1)x(2, 2, 1, 12) - AIC:17495.379880981807\n"
     ]
    },
    {
     "name": "stderr",
     "output_type": "stream",
     "text": [
      "/anaconda3/lib/python3.6/site-packages/statsmodels/base/model.py:508: ConvergenceWarning: Maximum Likelihood optimization failed to converge. Check mle_retvals\n",
      "  \"Check mle_retvals\", ConvergenceWarning)\n"
     ]
    },
    {
     "name": "stdout",
     "output_type": "stream",
     "text": [
      "SARIMA(0, 0, 1)x(2, 2, 2, 12) - AIC:17463.16788174568\n"
     ]
    },
    {
     "name": "stderr",
     "output_type": "stream",
     "text": [
      "/anaconda3/lib/python3.6/site-packages/statsmodels/base/model.py:508: ConvergenceWarning: Maximum Likelihood optimization failed to converge. Check mle_retvals\n",
      "  \"Check mle_retvals\", ConvergenceWarning)\n"
     ]
    },
    {
     "name": "stdout",
     "output_type": "stream",
     "text": [
      "SARIMA(0, 0, 1)x(2, 2, 3, 12) - AIC:17340.470305539224\n",
      "SARIMA(0, 0, 1)x(2, 3, 0, 12) - AIC:19732.967260608715\n"
     ]
    },
    {
     "name": "stderr",
     "output_type": "stream",
     "text": [
      "/anaconda3/lib/python3.6/site-packages/statsmodels/base/model.py:508: ConvergenceWarning: Maximum Likelihood optimization failed to converge. Check mle_retvals\n",
      "  \"Check mle_retvals\", ConvergenceWarning)\n"
     ]
    },
    {
     "name": "stdout",
     "output_type": "stream",
     "text": [
      "SARIMA(0, 0, 1)x(2, 3, 1, 12) - AIC:18350.038004838076\n"
     ]
    },
    {
     "name": "stderr",
     "output_type": "stream",
     "text": [
      "/anaconda3/lib/python3.6/site-packages/statsmodels/base/model.py:508: ConvergenceWarning: Maximum Likelihood optimization failed to converge. Check mle_retvals\n",
      "  \"Check mle_retvals\", ConvergenceWarning)\n"
     ]
    },
    {
     "name": "stdout",
     "output_type": "stream",
     "text": [
      "SARIMA(0, 0, 1)x(2, 3, 2, 12) - AIC:19580.27521154\n"
     ]
    },
    {
     "name": "stderr",
     "output_type": "stream",
     "text": [
      "/anaconda3/lib/python3.6/site-packages/statsmodels/base/model.py:508: ConvergenceWarning: Maximum Likelihood optimization failed to converge. Check mle_retvals\n",
      "  \"Check mle_retvals\", ConvergenceWarning)\n"
     ]
    },
    {
     "name": "stdout",
     "output_type": "stream",
     "text": [
      "SARIMA(0, 0, 1)x(2, 3, 3, 12) - AIC:18156.657797255786\n",
      "SARIMA(0, 0, 1)x(3, 0, 0, 12) - AIC:17632.97600581442\n",
      "SARIMA(0, 0, 1)x(3, 0, 1, 12) - AIC:20361.983176601985\n"
     ]
    },
    {
     "name": "stderr",
     "output_type": "stream",
     "text": [
      "/anaconda3/lib/python3.6/site-packages/statsmodels/base/model.py:508: ConvergenceWarning: Maximum Likelihood optimization failed to converge. Check mle_retvals\n",
      "  \"Check mle_retvals\", ConvergenceWarning)\n"
     ]
    },
    {
     "name": "stdout",
     "output_type": "stream",
     "text": [
      "SARIMA(0, 0, 1)x(3, 0, 2, 12) - AIC:20288.338872097574\n"
     ]
    },
    {
     "name": "stderr",
     "output_type": "stream",
     "text": [
      "/anaconda3/lib/python3.6/site-packages/statsmodels/base/model.py:508: ConvergenceWarning: Maximum Likelihood optimization failed to converge. Check mle_retvals\n",
      "  \"Check mle_retvals\", ConvergenceWarning)\n"
     ]
    },
    {
     "name": "stdout",
     "output_type": "stream",
     "text": [
      "SARIMA(0, 0, 1)x(3, 0, 3, 12) - AIC:20313.57055238619\n",
      "SARIMA(0, 0, 1)x(3, 1, 0, 12) - AIC:17435.73216156037\n",
      "SARIMA(0, 0, 1)x(3, 1, 1, 12) - AIC:17413.63210389504\n"
     ]
    },
    {
     "name": "stderr",
     "output_type": "stream",
     "text": [
      "/anaconda3/lib/python3.6/site-packages/statsmodels/base/model.py:508: ConvergenceWarning: Maximum Likelihood optimization failed to converge. Check mle_retvals\n",
      "  \"Check mle_retvals\", ConvergenceWarning)\n"
     ]
    },
    {
     "name": "stdout",
     "output_type": "stream",
     "text": [
      "SARIMA(0, 0, 1)x(3, 1, 2, 12) - AIC:17391.947574624646\n",
      "SARIMA(0, 0, 1)x(3, 1, 3, 12) - AIC:17344.64881392689\n",
      "SARIMA(0, 0, 1)x(3, 2, 0, 12) - AIC:17499.223256615704\n",
      "SARIMA(0, 0, 1)x(3, 2, 1, 12) - AIC:17262.59225431631\n",
      "SARIMA(0, 0, 1)x(3, 2, 2, 12) - AIC:17639.843167686842\n"
     ]
    },
    {
     "name": "stderr",
     "output_type": "stream",
     "text": [
      "/anaconda3/lib/python3.6/site-packages/statsmodels/base/model.py:508: ConvergenceWarning: Maximum Likelihood optimization failed to converge. Check mle_retvals\n",
      "  \"Check mle_retvals\", ConvergenceWarning)\n"
     ]
    },
    {
     "name": "stdout",
     "output_type": "stream",
     "text": [
      "SARIMA(0, 0, 1)x(3, 2, 3, 12) - AIC:17484.90998825746\n",
      "SARIMA(0, 0, 1)x(3, 3, 0, 12) - AIC:19364.921867673667\n"
     ]
    },
    {
     "name": "stderr",
     "output_type": "stream",
     "text": [
      "/anaconda3/lib/python3.6/site-packages/statsmodels/base/model.py:508: ConvergenceWarning: Maximum Likelihood optimization failed to converge. Check mle_retvals\n",
      "  \"Check mle_retvals\", ConvergenceWarning)\n"
     ]
    },
    {
     "name": "stdout",
     "output_type": "stream",
     "text": [
      "SARIMA(0, 0, 1)x(3, 3, 1, 12) - AIC:17899.32280695541\n",
      "SARIMA(0, 0, 1)x(3, 3, 2, 12) - AIC:19302.525128642697\n"
     ]
    },
    {
     "name": "stderr",
     "output_type": "stream",
     "text": [
      "/anaconda3/lib/python3.6/site-packages/statsmodels/base/model.py:508: ConvergenceWarning: Maximum Likelihood optimization failed to converge. Check mle_retvals\n",
      "  \"Check mle_retvals\", ConvergenceWarning)\n"
     ]
    },
    {
     "name": "stdout",
     "output_type": "stream",
     "text": [
      "SARIMA(0, 0, 1)x(3, 3, 3, 12) - AIC:19180.55299295602\n",
      "SARIMA(0, 0, 2)x(0, 0, 0, 12) - AIC:19966.990101658866\n",
      "SARIMA(0, 0, 2)x(0, 0, 1, 12) - AIC:20845.240756799554\n",
      "SARIMA(0, 0, 2)x(0, 0, 2, 12) - AIC:18539.040069857787\n",
      "SARIMA(0, 0, 2)x(0, 0, 3, 12) - AIC:18137.355342487364\n",
      "SARIMA(0, 0, 2)x(0, 1, 0, 12) - AIC:18091.821149649233\n",
      "SARIMA(0, 0, 2)x(0, 1, 1, 12) - AIC:17632.92828109005\n",
      "SARIMA(0, 0, 2)x(0, 1, 2, 12) - AIC:17448.26028315071\n",
      "SARIMA(0, 0, 2)x(0, 1, 3, 12) - AIC:17233.80073549204\n",
      "SARIMA(0, 0, 2)x(0, 2, 0, 12) - AIC:18844.372076725303\n",
      "SARIMA(0, 0, 2)x(0, 2, 1, 12) - AIC:18003.222600101955\n",
      "SARIMA(0, 0, 2)x(0, 2, 2, 12) - AIC:17706.931099006506\n",
      "SARIMA(0, 0, 2)x(0, 2, 3, 12) - AIC:17484.627793527732\n",
      "SARIMA(0, 0, 2)x(0, 3, 0, 12) - AIC:19887.233767532955\n",
      "SARIMA(0, 0, 2)x(0, 3, 1, 12) - AIC:18662.634985330064\n",
      "SARIMA(0, 0, 2)x(0, 3, 2, 12) - AIC:19581.132656225644\n",
      "SARIMA(0, 0, 2)x(0, 3, 3, 12) - AIC:19183.44845184474\n"
     ]
    },
    {
     "name": "stderr",
     "output_type": "stream",
     "text": [
      "/anaconda3/lib/python3.6/site-packages/statsmodels/base/model.py:508: ConvergenceWarning: Maximum Likelihood optimization failed to converge. Check mle_retvals\n",
      "  \"Check mle_retvals\", ConvergenceWarning)\n"
     ]
    },
    {
     "name": "stdout",
     "output_type": "stream",
     "text": [
      "SARIMA(0, 0, 2)x(1, 0, 0, 12) - AIC:18772.14903497886\n",
      "SARIMA(0, 0, 2)x(1, 0, 1, 12) - AIC:17868.11684791741\n"
     ]
    },
    {
     "name": "stderr",
     "output_type": "stream",
     "text": [
      "/anaconda3/lib/python3.6/site-packages/statsmodels/base/model.py:508: ConvergenceWarning: Maximum Likelihood optimization failed to converge. Check mle_retvals\n",
      "  \"Check mle_retvals\", ConvergenceWarning)\n"
     ]
    },
    {
     "name": "stdout",
     "output_type": "stream",
     "text": [
      "SARIMA(0, 0, 2)x(1, 0, 2, 12) - AIC:17637.411983819577\n"
     ]
    },
    {
     "name": "stderr",
     "output_type": "stream",
     "text": [
      "/anaconda3/lib/python3.6/site-packages/statsmodels/base/model.py:508: ConvergenceWarning: Maximum Likelihood optimization failed to converge. Check mle_retvals\n",
      "  \"Check mle_retvals\", ConvergenceWarning)\n"
     ]
    },
    {
     "name": "stdout",
     "output_type": "stream",
     "text": [
      "SARIMA(0, 0, 2)x(1, 0, 3, 12) - AIC:19396.966968129258\n",
      "SARIMA(0, 0, 2)x(1, 1, 0, 12) - AIC:17783.642201224116\n",
      "SARIMA(0, 0, 2)x(1, 1, 1, 12) - AIC:17666.22415501345\n",
      "SARIMA(0, 0, 2)x(1, 1, 2, 12) - AIC:17450.46979698556\n",
      "SARIMA(0, 0, 2)x(1, 1, 3, 12) - AIC:17227.215476951373\n",
      "SARIMA(0, 0, 2)x(1, 2, 0, 12) - AIC:18230.809831537616\n",
      "SARIMA(0, 0, 2)x(1, 2, 1, 12) - AIC:17947.648831004815\n"
     ]
    },
    {
     "name": "stderr",
     "output_type": "stream",
     "text": [
      "/anaconda3/lib/python3.6/site-packages/statsmodels/base/model.py:508: ConvergenceWarning: Maximum Likelihood optimization failed to converge. Check mle_retvals\n",
      "  \"Check mle_retvals\", ConvergenceWarning)\n"
     ]
    },
    {
     "name": "stdout",
     "output_type": "stream",
     "text": [
      "SARIMA(0, 0, 2)x(1, 2, 2, 12) - AIC:17281.874711177385\n",
      "SARIMA(0, 0, 2)x(1, 2, 3, 12) - AIC:17479.958617400443\n",
      "SARIMA(0, 0, 2)x(1, 3, 0, 12) - AIC:20075.192440476774\n",
      "SARIMA(0, 0, 2)x(1, 3, 1, 12) - AIC:19958.144968766275\n"
     ]
    },
    {
     "name": "stderr",
     "output_type": "stream",
     "text": [
      "/anaconda3/lib/python3.6/site-packages/statsmodels/base/model.py:508: ConvergenceWarning: Maximum Likelihood optimization failed to converge. Check mle_retvals\n",
      "  \"Check mle_retvals\", ConvergenceWarning)\n"
     ]
    },
    {
     "name": "stdout",
     "output_type": "stream",
     "text": [
      "SARIMA(0, 0, 2)x(1, 3, 2, 12) - AIC:17899.89845491515\n"
     ]
    },
    {
     "name": "stderr",
     "output_type": "stream",
     "text": [
      "/anaconda3/lib/python3.6/site-packages/statsmodels/base/model.py:508: ConvergenceWarning: Maximum Likelihood optimization failed to converge. Check mle_retvals\n",
      "  \"Check mle_retvals\", ConvergenceWarning)\n"
     ]
    },
    {
     "name": "stdout",
     "output_type": "stream",
     "text": [
      "SARIMA(0, 0, 2)x(1, 3, 3, 12) - AIC:19179.666183195557\n",
      "SARIMA(0, 0, 2)x(2, 0, 0, 12) - AIC:17758.872496183423\n"
     ]
    },
    {
     "name": "stderr",
     "output_type": "stream",
     "text": [
      "/anaconda3/lib/python3.6/site-packages/statsmodels/base/model.py:508: ConvergenceWarning: Maximum Likelihood optimization failed to converge. Check mle_retvals\n",
      "  \"Check mle_retvals\", ConvergenceWarning)\n"
     ]
    },
    {
     "name": "stdout",
     "output_type": "stream",
     "text": [
      "SARIMA(0, 0, 2)x(2, 0, 1, 12) - AIC:17695.37982349645\n"
     ]
    },
    {
     "name": "stderr",
     "output_type": "stream",
     "text": [
      "/anaconda3/lib/python3.6/site-packages/statsmodels/base/model.py:508: ConvergenceWarning: Maximum Likelihood optimization failed to converge. Check mle_retvals\n",
      "  \"Check mle_retvals\", ConvergenceWarning)\n"
     ]
    },
    {
     "name": "stdout",
     "output_type": "stream",
     "text": [
      "SARIMA(0, 0, 2)x(2, 0, 2, 12) - AIC:18012.09764716541\n"
     ]
    },
    {
     "name": "stderr",
     "output_type": "stream",
     "text": [
      "/anaconda3/lib/python3.6/site-packages/statsmodels/base/model.py:508: ConvergenceWarning: Maximum Likelihood optimization failed to converge. Check mle_retvals\n",
      "  \"Check mle_retvals\", ConvergenceWarning)\n"
     ]
    },
    {
     "name": "stdout",
     "output_type": "stream",
     "text": [
      "SARIMA(0, 0, 2)x(2, 0, 3, 12) - AIC:18907.352651858986\n",
      "SARIMA(0, 0, 2)x(2, 1, 0, 12) - AIC:17525.670362189936\n",
      "SARIMA(0, 0, 2)x(2, 1, 1, 12) - AIC:17459.10534862399\n"
     ]
    },
    {
     "name": "stderr",
     "output_type": "stream",
     "text": [
      "/anaconda3/lib/python3.6/site-packages/statsmodels/base/model.py:508: ConvergenceWarning: Maximum Likelihood optimization failed to converge. Check mle_retvals\n",
      "  \"Check mle_retvals\", ConvergenceWarning)\n"
     ]
    },
    {
     "name": "stdout",
     "output_type": "stream",
     "text": [
      "SARIMA(0, 0, 2)x(2, 1, 2, 12) - AIC:17402.40216729197\n",
      "SARIMA(0, 0, 2)x(2, 1, 3, 12) - AIC:17222.436102596937\n",
      "SARIMA(0, 0, 2)x(2, 2, 0, 12) - AIC:17766.17670225863\n",
      "SARIMA(0, 0, 2)x(2, 2, 1, 12) - AIC:17357.147613149195\n"
     ]
    },
    {
     "name": "stderr",
     "output_type": "stream",
     "text": [
      "/anaconda3/lib/python3.6/site-packages/statsmodels/base/model.py:508: ConvergenceWarning: Maximum Likelihood optimization failed to converge. Check mle_retvals\n",
      "  \"Check mle_retvals\", ConvergenceWarning)\n"
     ]
    },
    {
     "name": "stdout",
     "output_type": "stream",
     "text": [
      "SARIMA(0, 0, 2)x(2, 2, 2, 12) - AIC:17425.820599839957\n"
     ]
    },
    {
     "name": "stderr",
     "output_type": "stream",
     "text": [
      "/anaconda3/lib/python3.6/site-packages/statsmodels/base/model.py:508: ConvergenceWarning: Maximum Likelihood optimization failed to converge. Check mle_retvals\n",
      "  \"Check mle_retvals\", ConvergenceWarning)\n"
     ]
    },
    {
     "name": "stdout",
     "output_type": "stream",
     "text": [
      "SARIMA(0, 0, 2)x(2, 2, 3, 12) - AIC:17477.917489586463\n",
      "SARIMA(0, 0, 2)x(2, 3, 0, 12) - AIC:18604.836551827073\n"
     ]
    },
    {
     "name": "stderr",
     "output_type": "stream",
     "text": [
      "/anaconda3/lib/python3.6/site-packages/statsmodels/base/model.py:508: ConvergenceWarning: Maximum Likelihood optimization failed to converge. Check mle_retvals\n",
      "  \"Check mle_retvals\", ConvergenceWarning)\n"
     ]
    },
    {
     "name": "stdout",
     "output_type": "stream",
     "text": [
      "SARIMA(0, 0, 2)x(2, 3, 1, 12) - AIC:18824.63225184397\n"
     ]
    },
    {
     "name": "stderr",
     "output_type": "stream",
     "text": [
      "/anaconda3/lib/python3.6/site-packages/statsmodels/base/model.py:508: ConvergenceWarning: Maximum Likelihood optimization failed to converge. Check mle_retvals\n",
      "  \"Check mle_retvals\", ConvergenceWarning)\n"
     ]
    },
    {
     "name": "stdout",
     "output_type": "stream",
     "text": [
      "SARIMA(0, 0, 2)x(2, 3, 2, 12) - AIC:18420.38987422017\n",
      "SARIMA(0, 0, 2)x(2, 3, 3, 12) - AIC:19168.649437360196\n",
      "SARIMA(0, 0, 2)x(3, 0, 0, 12) - AIC:17497.26832858373\n"
     ]
    },
    {
     "name": "stderr",
     "output_type": "stream",
     "text": [
      "/anaconda3/lib/python3.6/site-packages/statsmodels/base/model.py:508: ConvergenceWarning: Maximum Likelihood optimization failed to converge. Check mle_retvals\n",
      "  \"Check mle_retvals\", ConvergenceWarning)\n"
     ]
    },
    {
     "name": "stdout",
     "output_type": "stream",
     "text": [
      "SARIMA(0, 0, 2)x(3, 0, 1, 12) - AIC:17500.69374999629\n"
     ]
    },
    {
     "name": "stderr",
     "output_type": "stream",
     "text": [
      "/anaconda3/lib/python3.6/site-packages/statsmodels/base/model.py:508: ConvergenceWarning: Maximum Likelihood optimization failed to converge. Check mle_retvals\n",
      "  \"Check mle_retvals\", ConvergenceWarning)\n"
     ]
    },
    {
     "name": "stdout",
     "output_type": "stream",
     "text": [
      "SARIMA(0, 0, 2)x(3, 0, 2, 12) - AIC:20013.134511310516\n"
     ]
    },
    {
     "name": "stderr",
     "output_type": "stream",
     "text": [
      "/anaconda3/lib/python3.6/site-packages/statsmodels/base/model.py:508: ConvergenceWarning: Maximum Likelihood optimization failed to converge. Check mle_retvals\n",
      "  \"Check mle_retvals\", ConvergenceWarning)\n"
     ]
    },
    {
     "name": "stdout",
     "output_type": "stream",
     "text": [
      "SARIMA(0, 0, 2)x(3, 0, 3, 12) - AIC:20300.716061991556\n",
      "SARIMA(0, 0, 2)x(3, 1, 0, 12) - AIC:17308.078309905042\n",
      "SARIMA(0, 0, 2)x(3, 1, 1, 12) - AIC:17277.104880282066\n",
      "SARIMA(0, 0, 2)x(3, 1, 2, 12) - AIC:17262.49282507676\n"
     ]
    },
    {
     "name": "stderr",
     "output_type": "stream",
     "text": [
      "/anaconda3/lib/python3.6/site-packages/statsmodels/base/model.py:508: ConvergenceWarning: Maximum Likelihood optimization failed to converge. Check mle_retvals\n",
      "  \"Check mle_retvals\", ConvergenceWarning)\n"
     ]
    },
    {
     "name": "stdout",
     "output_type": "stream",
     "text": [
      "SARIMA(0, 0, 2)x(3, 1, 3, 12) - AIC:17211.775668778355\n",
      "SARIMA(0, 0, 2)x(3, 2, 0, 12) - AIC:17425.919759928198\n",
      "SARIMA(0, 0, 2)x(3, 2, 1, 12) - AIC:17127.855652601225\n"
     ]
    },
    {
     "name": "stderr",
     "output_type": "stream",
     "text": [
      "/anaconda3/lib/python3.6/site-packages/statsmodels/base/model.py:508: ConvergenceWarning: Maximum Likelihood optimization failed to converge. Check mle_retvals\n",
      "  \"Check mle_retvals\", ConvergenceWarning)\n"
     ]
    },
    {
     "name": "stdout",
     "output_type": "stream",
     "text": [
      "SARIMA(0, 0, 2)x(3, 2, 2, 12) - AIC:17375.361521532708\n"
     ]
    },
    {
     "name": "stderr",
     "output_type": "stream",
     "text": [
      "/anaconda3/lib/python3.6/site-packages/statsmodels/base/model.py:508: ConvergenceWarning: Maximum Likelihood optimization failed to converge. Check mle_retvals\n",
      "  \"Check mle_retvals\", ConvergenceWarning)\n"
     ]
    },
    {
     "name": "stdout",
     "output_type": "stream",
     "text": [
      "SARIMA(0, 0, 2)x(3, 2, 3, 12) - AIC:17351.973818408853\n",
      "SARIMA(0, 0, 2)x(3, 3, 0, 12) - AIC:18254.607738288323\n"
     ]
    },
    {
     "name": "stderr",
     "output_type": "stream",
     "text": [
      "/anaconda3/lib/python3.6/site-packages/statsmodels/base/model.py:508: ConvergenceWarning: Maximum Likelihood optimization failed to converge. Check mle_retvals\n",
      "  \"Check mle_retvals\", ConvergenceWarning)\n"
     ]
    },
    {
     "name": "stdout",
     "output_type": "stream",
     "text": [
      "SARIMA(0, 0, 2)x(3, 3, 1, 12) - AIC:17899.209234522965\n"
     ]
    },
    {
     "name": "stderr",
     "output_type": "stream",
     "text": [
      "/anaconda3/lib/python3.6/site-packages/statsmodels/base/model.py:508: ConvergenceWarning: Maximum Likelihood optimization failed to converge. Check mle_retvals\n",
      "  \"Check mle_retvals\", ConvergenceWarning)\n"
     ]
    },
    {
     "name": "stdout",
     "output_type": "stream",
     "text": [
      "SARIMA(0, 0, 2)x(3, 3, 2, 12) - AIC:18592.717349934363\n"
     ]
    },
    {
     "name": "stderr",
     "output_type": "stream",
     "text": [
      "/anaconda3/lib/python3.6/site-packages/statsmodels/base/model.py:508: ConvergenceWarning: Maximum Likelihood optimization failed to converge. Check mle_retvals\n",
      "  \"Check mle_retvals\", ConvergenceWarning)\n"
     ]
    },
    {
     "name": "stdout",
     "output_type": "stream",
     "text": [
      "SARIMA(0, 0, 2)x(3, 3, 3, 12) - AIC:19163.644124750834\n",
      "SARIMA(0, 0, 3)x(0, 0, 0, 12) - AIC:21107.43841805791\n",
      "SARIMA(0, 0, 3)x(0, 0, 1, 12) - AIC:18717.289135612707\n",
      "SARIMA(0, 0, 3)x(0, 0, 2, 12) - AIC:20554.720856051077\n"
     ]
    },
    {
     "name": "stderr",
     "output_type": "stream",
     "text": [
      "/anaconda3/lib/python3.6/site-packages/statsmodels/base/model.py:508: ConvergenceWarning: Maximum Likelihood optimization failed to converge. Check mle_retvals\n",
      "  \"Check mle_retvals\", ConvergenceWarning)\n"
     ]
    },
    {
     "name": "stdout",
     "output_type": "stream",
     "text": [
      "SARIMA(0, 0, 3)x(0, 0, 3, 12) - AIC:17965.95882075569\n",
      "SARIMA(0, 0, 3)x(0, 1, 0, 12) - AIC:18124.98452756928\n",
      "SARIMA(0, 0, 3)x(0, 1, 1, 12) - AIC:17549.037939095055\n",
      "SARIMA(0, 0, 3)x(0, 1, 2, 12) - AIC:17329.075394775777\n",
      "SARIMA(0, 0, 3)x(0, 1, 3, 12) - AIC:17283.586588161896\n",
      "SARIMA(0, 0, 3)x(0, 2, 0, 12) - AIC:18849.35593795951\n",
      "SARIMA(0, 0, 3)x(0, 2, 1, 12) - AIC:18126.626727154566\n",
      "SARIMA(0, 0, 3)x(0, 2, 2, 12) - AIC:17830.478433512693\n",
      "SARIMA(0, 0, 3)x(0, 2, 3, 12) - AIC:17604.651625571634\n",
      "SARIMA(0, 0, 3)x(0, 3, 0, 12) - AIC:19844.047627572894\n"
     ]
    },
    {
     "name": "stderr",
     "output_type": "stream",
     "text": [
      "/anaconda3/lib/python3.6/site-packages/statsmodels/base/model.py:508: ConvergenceWarning: Maximum Likelihood optimization failed to converge. Check mle_retvals\n",
      "  \"Check mle_retvals\", ConvergenceWarning)\n"
     ]
    },
    {
     "name": "stdout",
     "output_type": "stream",
     "text": [
      "SARIMA(0, 0, 3)x(0, 3, 1, 12) - AIC:18637.28196003805\n",
      "SARIMA(0, 0, 3)x(0, 3, 2, 12) - AIC:19657.09690476274\n",
      "SARIMA(0, 0, 3)x(0, 3, 3, 12) - AIC:19262.591734179703\n"
     ]
    },
    {
     "name": "stderr",
     "output_type": "stream",
     "text": [
      "/anaconda3/lib/python3.6/site-packages/statsmodels/base/model.py:508: ConvergenceWarning: Maximum Likelihood optimization failed to converge. Check mle_retvals\n",
      "  \"Check mle_retvals\", ConvergenceWarning)\n"
     ]
    },
    {
     "name": "stdout",
     "output_type": "stream",
     "text": [
      "SARIMA(0, 0, 3)x(1, 0, 0, 12) - AIC:18124.097324454477\n"
     ]
    },
    {
     "name": "stderr",
     "output_type": "stream",
     "text": [
      "/anaconda3/lib/python3.6/site-packages/statsmodels/base/model.py:508: ConvergenceWarning: Maximum Likelihood optimization failed to converge. Check mle_retvals\n",
      "  \"Check mle_retvals\", ConvergenceWarning)\n"
     ]
    },
    {
     "name": "stdout",
     "output_type": "stream",
     "text": [
      "SARIMA(0, 0, 3)x(1, 0, 1, 12) - AIC:17794.06558415224\n"
     ]
    },
    {
     "name": "stderr",
     "output_type": "stream",
     "text": [
      "/anaconda3/lib/python3.6/site-packages/statsmodels/base/model.py:508: ConvergenceWarning: Maximum Likelihood optimization failed to converge. Check mle_retvals\n",
      "  \"Check mle_retvals\", ConvergenceWarning)\n"
     ]
    },
    {
     "name": "stdout",
     "output_type": "stream",
     "text": [
      "SARIMA(0, 0, 3)x(1, 0, 2, 12) - AIC:19707.464407448955\n"
     ]
    },
    {
     "name": "stderr",
     "output_type": "stream",
     "text": [
      "/anaconda3/lib/python3.6/site-packages/statsmodels/base/model.py:508: ConvergenceWarning: Maximum Likelihood optimization failed to converge. Check mle_retvals\n",
      "  \"Check mle_retvals\", ConvergenceWarning)\n"
     ]
    },
    {
     "name": "stdout",
     "output_type": "stream",
     "text": [
      "SARIMA(0, 0, 3)x(1, 0, 3, 12) - AIC:19764.24283921833\n",
      "SARIMA(0, 0, 3)x(1, 1, 0, 12) - AIC:17745.924171284685\n",
      "SARIMA(0, 0, 3)x(1, 1, 1, 12) - AIC:17550.892873606255\n"
     ]
    },
    {
     "name": "stderr",
     "output_type": "stream",
     "text": [
      "/anaconda3/lib/python3.6/site-packages/statsmodels/base/model.py:508: ConvergenceWarning: Maximum Likelihood optimization failed to converge. Check mle_retvals\n",
      "  \"Check mle_retvals\", ConvergenceWarning)\n"
     ]
    },
    {
     "name": "stdout",
     "output_type": "stream",
     "text": [
      "SARIMA(0, 0, 3)x(1, 1, 2, 12) - AIC:17331.04305598764\n"
     ]
    },
    {
     "name": "stderr",
     "output_type": "stream",
     "text": [
      "/anaconda3/lib/python3.6/site-packages/statsmodels/base/model.py:508: ConvergenceWarning: Maximum Likelihood optimization failed to converge. Check mle_retvals\n",
      "  \"Check mle_retvals\", ConvergenceWarning)\n"
     ]
    },
    {
     "name": "stdout",
     "output_type": "stream",
     "text": [
      "SARIMA(0, 0, 3)x(1, 1, 3, 12) - AIC:17100.843359744686\n",
      "SARIMA(0, 0, 3)x(1, 2, 0, 12) - AIC:18227.239922138135\n"
     ]
    },
    {
     "name": "stderr",
     "output_type": "stream",
     "text": [
      "/anaconda3/lib/python3.6/site-packages/statsmodels/base/model.py:508: ConvergenceWarning: Maximum Likelihood optimization failed to converge. Check mle_retvals\n",
      "  \"Check mle_retvals\", ConvergenceWarning)\n"
     ]
    },
    {
     "name": "stdout",
     "output_type": "stream",
     "text": [
      "SARIMA(0, 0, 3)x(1, 2, 1, 12) - AIC:17530.53600652079\n"
     ]
    },
    {
     "name": "stderr",
     "output_type": "stream",
     "text": [
      "/anaconda3/lib/python3.6/site-packages/statsmodels/base/model.py:508: ConvergenceWarning: Maximum Likelihood optimization failed to converge. Check mle_retvals\n",
      "  \"Check mle_retvals\", ConvergenceWarning)\n"
     ]
    },
    {
     "name": "stdout",
     "output_type": "stream",
     "text": [
      "SARIMA(0, 0, 3)x(1, 2, 2, 12) - AIC:17496.536700434044\n"
     ]
    },
    {
     "name": "stderr",
     "output_type": "stream",
     "text": [
      "/anaconda3/lib/python3.6/site-packages/statsmodels/base/model.py:508: ConvergenceWarning: Maximum Likelihood optimization failed to converge. Check mle_retvals\n",
      "  \"Check mle_retvals\", ConvergenceWarning)\n"
     ]
    },
    {
     "name": "stdout",
     "output_type": "stream",
     "text": [
      "SARIMA(0, 0, 3)x(1, 2, 3, 12) - AIC:17565.896265131327\n"
     ]
    },
    {
     "name": "stderr",
     "output_type": "stream",
     "text": [
      "/anaconda3/lib/python3.6/site-packages/statsmodels/base/model.py:508: ConvergenceWarning: Maximum Likelihood optimization failed to converge. Check mle_retvals\n",
      "  \"Check mle_retvals\", ConvergenceWarning)\n"
     ]
    },
    {
     "name": "stdout",
     "output_type": "stream",
     "text": [
      "SARIMA(0, 0, 3)x(1, 3, 0, 12) - AIC:19013.18570188437\n",
      "SARIMA(0, 0, 3)x(1, 3, 1, 12) - AIC:20039.480344451767\n"
     ]
    },
    {
     "name": "stderr",
     "output_type": "stream",
     "text": [
      "/anaconda3/lib/python3.6/site-packages/statsmodels/base/model.py:508: ConvergenceWarning: Maximum Likelihood optimization failed to converge. Check mle_retvals\n",
      "  \"Check mle_retvals\", ConvergenceWarning)\n"
     ]
    },
    {
     "name": "stdout",
     "output_type": "stream",
     "text": [
      "SARIMA(0, 0, 3)x(1, 3, 2, 12) - AIC:18645.920262823496\n",
      "SARIMA(0, 0, 3)x(1, 3, 3, 12) - AIC:19264.21191004089\n"
     ]
    },
    {
     "name": "stderr",
     "output_type": "stream",
     "text": [
      "/anaconda3/lib/python3.6/site-packages/statsmodels/base/model.py:508: ConvergenceWarning: Maximum Likelihood optimization failed to converge. Check mle_retvals\n",
      "  \"Check mle_retvals\", ConvergenceWarning)\n"
     ]
    },
    {
     "name": "stdout",
     "output_type": "stream",
     "text": [
      "SARIMA(0, 0, 3)x(2, 0, 0, 12) - AIC:17833.372736986727\n",
      "SARIMA(0, 0, 3)x(2, 0, 1, 12) - AIC:20621.21962636784\n"
     ]
    },
    {
     "name": "stderr",
     "output_type": "stream",
     "text": [
      "/anaconda3/lib/python3.6/site-packages/statsmodels/base/model.py:508: ConvergenceWarning: Maximum Likelihood optimization failed to converge. Check mle_retvals\n",
      "  \"Check mle_retvals\", ConvergenceWarning)\n"
     ]
    },
    {
     "name": "stdout",
     "output_type": "stream",
     "text": [
      "SARIMA(0, 0, 3)x(2, 0, 2, 12) - AIC:18711.579727398086\n"
     ]
    },
    {
     "name": "stderr",
     "output_type": "stream",
     "text": [
      "/anaconda3/lib/python3.6/site-packages/statsmodels/base/model.py:508: ConvergenceWarning: Maximum Likelihood optimization failed to converge. Check mle_retvals\n",
      "  \"Check mle_retvals\", ConvergenceWarning)\n"
     ]
    },
    {
     "name": "stdout",
     "output_type": "stream",
     "text": [
      "SARIMA(0, 0, 3)x(2, 0, 3, 12) - AIC:20279.517281655942\n",
      "SARIMA(0, 0, 3)x(2, 1, 0, 12) - AIC:17441.302917165594\n",
      "SARIMA(0, 0, 3)x(2, 1, 1, 12) - AIC:17404.57179427675\n"
     ]
    },
    {
     "name": "stderr",
     "output_type": "stream",
     "text": [
      "/anaconda3/lib/python3.6/site-packages/statsmodels/base/model.py:508: ConvergenceWarning: Maximum Likelihood optimization failed to converge. Check mle_retvals\n",
      "  \"Check mle_retvals\", ConvergenceWarning)\n"
     ]
    },
    {
     "name": "stdout",
     "output_type": "stream",
     "text": [
      "SARIMA(0, 0, 3)x(2, 1, 2, 12) - AIC:17332.404204200266\n"
     ]
    },
    {
     "name": "stderr",
     "output_type": "stream",
     "text": [
      "/anaconda3/lib/python3.6/site-packages/statsmodels/base/model.py:508: ConvergenceWarning: Maximum Likelihood optimization failed to converge. Check mle_retvals\n",
      "  \"Check mle_retvals\", ConvergenceWarning)\n"
     ]
    },
    {
     "name": "stdout",
     "output_type": "stream",
     "text": [
      "SARIMA(0, 0, 3)x(2, 1, 3, 12) - AIC:17154.533237357304\n",
      "SARIMA(0, 0, 3)x(2, 2, 0, 12) - AIC:17755.925329364516\n",
      "SARIMA(0, 0, 3)x(2, 2, 1, 12) - AIC:17295.162111139063\n"
     ]
    },
    {
     "name": "stderr",
     "output_type": "stream",
     "text": [
      "/anaconda3/lib/python3.6/site-packages/statsmodels/base/model.py:508: ConvergenceWarning: Maximum Likelihood optimization failed to converge. Check mle_retvals\n",
      "  \"Check mle_retvals\", ConvergenceWarning)\n"
     ]
    },
    {
     "name": "stdout",
     "output_type": "stream",
     "text": [
      "SARIMA(0, 0, 3)x(2, 2, 2, 12) - AIC:17262.833496560503\n"
     ]
    },
    {
     "name": "stderr",
     "output_type": "stream",
     "text": [
      "/anaconda3/lib/python3.6/site-packages/statsmodels/base/model.py:508: ConvergenceWarning: Maximum Likelihood optimization failed to converge. Check mle_retvals\n",
      "  \"Check mle_retvals\", ConvergenceWarning)\n"
     ]
    },
    {
     "name": "stdout",
     "output_type": "stream",
     "text": [
      "SARIMA(0, 0, 3)x(2, 2, 3, 12) - AIC:17598.325283284314\n",
      "SARIMA(0, 0, 3)x(2, 3, 0, 12) - AIC:18605.884454669205\n"
     ]
    },
    {
     "name": "stderr",
     "output_type": "stream",
     "text": [
      "/anaconda3/lib/python3.6/site-packages/statsmodels/base/model.py:508: ConvergenceWarning: Maximum Likelihood optimization failed to converge. Check mle_retvals\n",
      "  \"Check mle_retvals\", ConvergenceWarning)\n"
     ]
    },
    {
     "name": "stdout",
     "output_type": "stream",
     "text": [
      "SARIMA(0, 0, 3)x(2, 3, 1, 12) - AIC:19145.853155694298\n"
     ]
    },
    {
     "name": "stderr",
     "output_type": "stream",
     "text": [
      "/anaconda3/lib/python3.6/site-packages/statsmodels/base/model.py:508: ConvergenceWarning: Maximum Likelihood optimization failed to converge. Check mle_retvals\n",
      "  \"Check mle_retvals\", ConvergenceWarning)\n"
     ]
    },
    {
     "name": "stdout",
     "output_type": "stream",
     "text": [
      "SARIMA(0, 0, 3)x(2, 3, 2, 12) - AIC:19642.160154299592\n"
     ]
    },
    {
     "name": "stderr",
     "output_type": "stream",
     "text": [
      "/anaconda3/lib/python3.6/site-packages/statsmodels/base/model.py:508: ConvergenceWarning: Maximum Likelihood optimization failed to converge. Check mle_retvals\n",
      "  \"Check mle_retvals\", ConvergenceWarning)\n"
     ]
    },
    {
     "name": "stdout",
     "output_type": "stream",
     "text": [
      "SARIMA(0, 0, 3)x(2, 3, 3, 12) - AIC:19257.50778709608\n"
     ]
    },
    {
     "name": "stderr",
     "output_type": "stream",
     "text": [
      "/anaconda3/lib/python3.6/site-packages/statsmodels/base/model.py:508: ConvergenceWarning: Maximum Likelihood optimization failed to converge. Check mle_retvals\n",
      "  \"Check mle_retvals\", ConvergenceWarning)\n"
     ]
    },
    {
     "name": "stdout",
     "output_type": "stream",
     "text": [
      "SARIMA(0, 0, 3)x(3, 0, 0, 12) - AIC:17677.770736376566\n"
     ]
    },
    {
     "name": "stderr",
     "output_type": "stream",
     "text": [
      "/anaconda3/lib/python3.6/site-packages/statsmodels/base/model.py:508: ConvergenceWarning: Maximum Likelihood optimization failed to converge. Check mle_retvals\n",
      "  \"Check mle_retvals\", ConvergenceWarning)\n"
     ]
    },
    {
     "name": "stdout",
     "output_type": "stream",
     "text": [
      "SARIMA(0, 0, 3)x(3, 0, 1, 12) - AIC:17648.398054616024\n"
     ]
    },
    {
     "name": "stderr",
     "output_type": "stream",
     "text": [
      "/anaconda3/lib/python3.6/site-packages/statsmodels/base/model.py:508: ConvergenceWarning: Maximum Likelihood optimization failed to converge. Check mle_retvals\n",
      "  \"Check mle_retvals\", ConvergenceWarning)\n"
     ]
    },
    {
     "name": "stdout",
     "output_type": "stream",
     "text": [
      "SARIMA(0, 0, 3)x(3, 0, 2, 12) - AIC:20362.594115818494\n"
     ]
    },
    {
     "name": "stderr",
     "output_type": "stream",
     "text": [
      "/anaconda3/lib/python3.6/site-packages/statsmodels/base/model.py:508: ConvergenceWarning: Maximum Likelihood optimization failed to converge. Check mle_retvals\n",
      "  \"Check mle_retvals\", ConvergenceWarning)\n"
     ]
    },
    {
     "name": "stdout",
     "output_type": "stream",
     "text": [
      "SARIMA(0, 0, 3)x(3, 0, 3, 12) - AIC:20279.88132032971\n",
      "SARIMA(0, 0, 3)x(3, 1, 0, 12) - AIC:17203.948027687904\n"
     ]
    },
    {
     "name": "stderr",
     "output_type": "stream",
     "text": [
      "/anaconda3/lib/python3.6/site-packages/statsmodels/base/model.py:508: ConvergenceWarning: Maximum Likelihood optimization failed to converge. Check mle_retvals\n",
      "  \"Check mle_retvals\", ConvergenceWarning)\n"
     ]
    },
    {
     "name": "stdout",
     "output_type": "stream",
     "text": [
      "SARIMA(0, 0, 3)x(3, 1, 1, 12) - AIC:17229.250235584477\n"
     ]
    },
    {
     "name": "stderr",
     "output_type": "stream",
     "text": [
      "/anaconda3/lib/python3.6/site-packages/statsmodels/base/model.py:508: ConvergenceWarning: Maximum Likelihood optimization failed to converge. Check mle_retvals\n",
      "  \"Check mle_retvals\", ConvergenceWarning)\n"
     ]
    },
    {
     "name": "stdout",
     "output_type": "stream",
     "text": [
      "SARIMA(0, 0, 3)x(3, 1, 2, 12) - AIC:17219.687918936383\n",
      "SARIMA(0, 0, 3)x(3, 1, 3, 12) - AIC:17251.51365494078\n",
      "SARIMA(0, 0, 3)x(3, 2, 0, 12) - AIC:17352.101410429088\n"
     ]
    },
    {
     "name": "stderr",
     "output_type": "stream",
     "text": [
      "/anaconda3/lib/python3.6/site-packages/statsmodels/base/model.py:508: ConvergenceWarning: Maximum Likelihood optimization failed to converge. Check mle_retvals\n",
      "  \"Check mle_retvals\", ConvergenceWarning)\n"
     ]
    },
    {
     "name": "stdout",
     "output_type": "stream",
     "text": [
      "SARIMA(0, 0, 3)x(3, 2, 1, 12) - AIC:17053.17902796623\n"
     ]
    },
    {
     "name": "stderr",
     "output_type": "stream",
     "text": [
      "/anaconda3/lib/python3.6/site-packages/statsmodels/base/model.py:508: ConvergenceWarning: Maximum Likelihood optimization failed to converge. Check mle_retvals\n",
      "  \"Check mle_retvals\", ConvergenceWarning)\n"
     ]
    },
    {
     "name": "stdout",
     "output_type": "stream",
     "text": [
      "SARIMA(0, 0, 3)x(3, 2, 2, 12) - AIC:17127.209536683178\n",
      "SARIMA(0, 0, 3)x(3, 2, 3, 12) - AIC:17590.577092505544\n"
     ]
    },
    {
     "name": "stderr",
     "output_type": "stream",
     "text": [
      "/anaconda3/lib/python3.6/site-packages/statsmodels/base/model.py:508: ConvergenceWarning: Maximum Likelihood optimization failed to converge. Check mle_retvals\n",
      "  \"Check mle_retvals\", ConvergenceWarning)\n"
     ]
    },
    {
     "name": "stdout",
     "output_type": "stream",
     "text": [
      "SARIMA(0, 0, 3)x(3, 3, 0, 12) - AIC:18241.109953440646\n"
     ]
    },
    {
     "name": "stderr",
     "output_type": "stream",
     "text": [
      "/anaconda3/lib/python3.6/site-packages/statsmodels/base/model.py:508: ConvergenceWarning: Maximum Likelihood optimization failed to converge. Check mle_retvals\n",
      "  \"Check mle_retvals\", ConvergenceWarning)\n"
     ]
    },
    {
     "name": "stdout",
     "output_type": "stream",
     "text": [
      "SARIMA(0, 0, 3)x(3, 3, 1, 12) - AIC:19351.37213432305\n",
      "SARIMA(0, 0, 3)x(3, 3, 2, 12) - AIC:19347.068732116542\n"
     ]
    },
    {
     "name": "stderr",
     "output_type": "stream",
     "text": [
      "/anaconda3/lib/python3.6/site-packages/statsmodels/base/model.py:508: ConvergenceWarning: Maximum Likelihood optimization failed to converge. Check mle_retvals\n",
      "  \"Check mle_retvals\", ConvergenceWarning)\n"
     ]
    },
    {
     "name": "stdout",
     "output_type": "stream",
     "text": [
      "SARIMA(0, 0, 3)x(3, 3, 3, 12) - AIC:19265.544633310787\n",
      "SARIMA(0, 1, 0)x(0, 0, 0, 12) - AIC:17733.923948150303\n",
      "SARIMA(0, 1, 0)x(0, 0, 1, 12) - AIC:17452.505936683247\n",
      "SARIMA(0, 1, 0)x(0, 0, 2, 12) - AIC:17236.89995604439\n",
      "SARIMA(0, 1, 0)x(0, 0, 3, 12) - AIC:17022.419305355987\n",
      "SARIMA(0, 1, 0)x(0, 1, 0, 12) - AIC:18408.34410399382\n",
      "SARIMA(0, 1, 0)x(0, 1, 1, 12) - AIC:17592.858348248647\n",
      "SARIMA(0, 1, 0)x(0, 1, 2, 12) - AIC:17075.38333002019\n",
      "SARIMA(0, 1, 0)x(0, 1, 3, 12) - AIC:17129.968757707393\n",
      "SARIMA(0, 1, 0)x(0, 2, 0, 12) - AIC:19270.585687527273\n",
      "SARIMA(0, 1, 0)x(0, 2, 1, 12) - AIC:18006.9310124802\n",
      "SARIMA(0, 1, 0)x(0, 2, 2, 12) - AIC:17886.230742885353\n"
     ]
    },
    {
     "name": "stderr",
     "output_type": "stream",
     "text": [
      "/anaconda3/lib/python3.6/site-packages/statsmodels/base/model.py:508: ConvergenceWarning: Maximum Likelihood optimization failed to converge. Check mle_retvals\n",
      "  \"Check mle_retvals\", ConvergenceWarning)\n"
     ]
    },
    {
     "name": "stdout",
     "output_type": "stream",
     "text": [
      "SARIMA(0, 1, 0)x(0, 2, 3, 12) - AIC:16764.29519571025\n",
      "SARIMA(0, 1, 0)x(0, 3, 0, 12) - AIC:19675.126918220958\n",
      "SARIMA(0, 1, 0)x(0, 3, 1, 12) - AIC:19503.674783683404\n",
      "SARIMA(0, 1, 0)x(0, 3, 2, 12) - AIC:19208.029862941596\n",
      "SARIMA(0, 1, 0)x(0, 3, 3, 12) - AIC:18959.003282594087\n",
      "SARIMA(0, 1, 0)x(1, 0, 0, 12) - AIC:17493.067639575238\n",
      "SARIMA(0, 1, 0)x(1, 0, 1, 12) - AIC:17440.804307791943\n",
      "SARIMA(0, 1, 0)x(1, 0, 2, 12) - AIC:17209.41560595326\n",
      "SARIMA(0, 1, 0)x(1, 0, 3, 12) - AIC:17005.320948285273\n",
      "SARIMA(0, 1, 0)x(1, 1, 0, 12) - AIC:17894.580980681287\n",
      "SARIMA(0, 1, 0)x(1, 1, 1, 12) - AIC:17316.932692095463\n",
      "SARIMA(0, 1, 0)x(1, 1, 2, 12) - AIC:17069.553435747213\n",
      "SARIMA(0, 1, 0)x(1, 1, 3, 12) - AIC:16825.585495979605\n",
      "SARIMA(0, 1, 0)x(1, 2, 0, 12) - AIC:18539.58422178683\n",
      "SARIMA(0, 1, 0)x(1, 2, 1, 12) - AIC:17954.773948917347\n",
      "SARIMA(0, 1, 0)x(1, 2, 2, 12) - AIC:17001.826353878063\n",
      "SARIMA(0, 1, 0)x(1, 2, 3, 12) - AIC:17326.33610000778\n",
      "SARIMA(0, 1, 0)x(1, 3, 0, 12) - AIC:18492.534965518513\n",
      "SARIMA(0, 1, 0)x(1, 3, 1, 12) - AIC:nan\n",
      "SARIMA(0, 1, 0)x(1, 3, 2, 12) - AIC:18652.972235188536\n"
     ]
    },
    {
     "name": "stderr",
     "output_type": "stream",
     "text": [
      "/anaconda3/lib/python3.6/site-packages/statsmodels/base/model.py:508: ConvergenceWarning: Maximum Likelihood optimization failed to converge. Check mle_retvals\n",
      "  \"Check mle_retvals\", ConvergenceWarning)\n"
     ]
    },
    {
     "name": "stdout",
     "output_type": "stream",
     "text": [
      "SARIMA(0, 1, 0)x(1, 3, 3, 12) - AIC:17061.787517613375\n",
      "SARIMA(0, 1, 0)x(2, 0, 0, 12) - AIC:17239.829882925995\n",
      "SARIMA(0, 1, 0)x(2, 0, 1, 12) - AIC:17242.337314153083\n",
      "SARIMA(0, 1, 0)x(2, 0, 2, 12) - AIC:17116.532326009765\n",
      "SARIMA(0, 1, 0)x(2, 0, 3, 12) - AIC:16887.030655830553\n",
      "SARIMA(0, 1, 0)x(2, 1, 0, 12) - AIC:17421.755511912845\n",
      "SARIMA(0, 1, 0)x(2, 1, 1, 12) - AIC:17144.719835869397\n",
      "SARIMA(0, 1, 0)x(2, 1, 2, 12) - AIC:17057.211318357546\n"
     ]
    },
    {
     "name": "stderr",
     "output_type": "stream",
     "text": [
      "/anaconda3/lib/python3.6/site-packages/statsmodels/base/model.py:508: ConvergenceWarning: Maximum Likelihood optimization failed to converge. Check mle_retvals\n",
      "  \"Check mle_retvals\", ConvergenceWarning)\n"
     ]
    },
    {
     "name": "stdout",
     "output_type": "stream",
     "text": [
      "SARIMA(0, 1, 0)x(2, 1, 3, 12) - AIC:16833.60204820955\n",
      "SARIMA(0, 1, 0)x(2, 2, 0, 12) - AIC:17924.32867757728\n",
      "SARIMA(0, 1, 0)x(2, 2, 1, 12) - AIC:17255.226118305298\n",
      "SARIMA(0, 1, 0)x(2, 2, 2, 12) - AIC:17305.374879257914\n",
      "SARIMA(0, 1, 0)x(2, 2, 3, 12) - AIC:17067.369781882167\n",
      "SARIMA(0, 1, 0)x(2, 3, 0, 12) - AIC:18047.68710199918\n",
      "SARIMA(0, 1, 0)x(2, 3, 1, 12) - AIC:17620.10114140324\n"
     ]
    },
    {
     "name": "stderr",
     "output_type": "stream",
     "text": [
      "/anaconda3/lib/python3.6/site-packages/statsmodels/base/model.py:508: ConvergenceWarning: Maximum Likelihood optimization failed to converge. Check mle_retvals\n",
      "  \"Check mle_retvals\", ConvergenceWarning)\n"
     ]
    },
    {
     "name": "stdout",
     "output_type": "stream",
     "text": [
      "SARIMA(0, 1, 0)x(2, 3, 2, 12) - AIC:17521.5350084239\n"
     ]
    },
    {
     "name": "stderr",
     "output_type": "stream",
     "text": [
      "/anaconda3/lib/python3.6/site-packages/statsmodels/base/model.py:508: ConvergenceWarning: Maximum Likelihood optimization failed to converge. Check mle_retvals\n",
      "  \"Check mle_retvals\", ConvergenceWarning)\n"
     ]
    },
    {
     "name": "stdout",
     "output_type": "stream",
     "text": [
      "SARIMA(0, 1, 0)x(2, 3, 3, 12) - AIC:17996.822424383157\n",
      "SARIMA(0, 1, 0)x(3, 0, 0, 12) - AIC:17038.166144226296\n",
      "SARIMA(0, 1, 0)x(3, 0, 1, 12) - AIC:17041.11780107073\n",
      "SARIMA(0, 1, 0)x(3, 0, 2, 12) - AIC:16894.800542297926\n",
      "SARIMA(0, 1, 0)x(3, 0, 3, 12) - AIC:16883.326966131885\n",
      "SARIMA(0, 1, 0)x(3, 1, 0, 12) - AIC:17094.84265537831\n",
      "SARIMA(0, 1, 0)x(3, 1, 1, 12) - AIC:16865.44798634311\n",
      "SARIMA(0, 1, 0)x(3, 1, 2, 12) - AIC:16892.397750130804\n",
      "SARIMA(0, 1, 0)x(3, 1, 3, 12) - AIC:16775.552208928515\n",
      "SARIMA(0, 1, 0)x(3, 2, 0, 12) - AIC:17416.01621055049\n",
      "SARIMA(0, 1, 0)x(3, 2, 1, 12) - AIC:16927.103534615442\n"
     ]
    },
    {
     "name": "stderr",
     "output_type": "stream",
     "text": [
      "/anaconda3/lib/python3.6/site-packages/statsmodels/base/model.py:508: ConvergenceWarning: Maximum Likelihood optimization failed to converge. Check mle_retvals\n",
      "  \"Check mle_retvals\", ConvergenceWarning)\n"
     ]
    },
    {
     "name": "stdout",
     "output_type": "stream",
     "text": [
      "SARIMA(0, 1, 0)x(3, 2, 2, 12) - AIC:16910.9371083344\n"
     ]
    },
    {
     "name": "stderr",
     "output_type": "stream",
     "text": [
      "/anaconda3/lib/python3.6/site-packages/statsmodels/base/model.py:508: ConvergenceWarning: Maximum Likelihood optimization failed to converge. Check mle_retvals\n",
      "  \"Check mle_retvals\", ConvergenceWarning)\n"
     ]
    },
    {
     "name": "stdout",
     "output_type": "stream",
     "text": [
      "SARIMA(0, 1, 0)x(3, 2, 3, 12) - AIC:16934.087343896186\n",
      "SARIMA(0, 1, 0)x(3, 3, 0, 12) - AIC:17743.176679884284\n",
      "SARIMA(0, 1, 0)x(3, 3, 1, 12) - AIC:17353.085565219524\n",
      "SARIMA(0, 1, 0)x(3, 3, 2, 12) - AIC:17846.95897666046\n"
     ]
    },
    {
     "name": "stderr",
     "output_type": "stream",
     "text": [
      "/anaconda3/lib/python3.6/site-packages/statsmodels/base/model.py:508: ConvergenceWarning: Maximum Likelihood optimization failed to converge. Check mle_retvals\n",
      "  \"Check mle_retvals\", ConvergenceWarning)\n"
     ]
    },
    {
     "name": "stdout",
     "output_type": "stream",
     "text": [
      "SARIMA(0, 1, 0)x(3, 3, 3, 12) - AIC:17736.445615153185\n",
      "SARIMA(0, 1, 1)x(0, 0, 0, 12) - AIC:17716.22458494125\n",
      "SARIMA(0, 1, 1)x(0, 0, 1, 12) - AIC:17414.439349345357\n",
      "SARIMA(0, 1, 1)x(0, 0, 2, 12) - AIC:17188.444400046465\n",
      "SARIMA(0, 1, 1)x(0, 0, 3, 12) - AIC:16951.46447156825\n",
      "SARIMA(0, 1, 1)x(0, 1, 0, 12) - AIC:18389.904744897147\n",
      "SARIMA(0, 1, 1)x(0, 1, 1, 12) - AIC:17349.427590574516\n",
      "SARIMA(0, 1, 1)x(0, 1, 2, 12) - AIC:17042.900778661722\n",
      "SARIMA(0, 1, 1)x(0, 1, 3, 12) - AIC:16815.46319807041\n",
      "SARIMA(0, 1, 1)x(0, 2, 0, 12) - AIC:19248.450302142308\n"
     ]
    },
    {
     "name": "stderr",
     "output_type": "stream",
     "text": [
      "/anaconda3/lib/python3.6/site-packages/statsmodels/base/model.py:508: ConvergenceWarning: Maximum Likelihood optimization failed to converge. Check mle_retvals\n",
      "  \"Check mle_retvals\", ConvergenceWarning)\n"
     ]
    },
    {
     "name": "stdout",
     "output_type": "stream",
     "text": [
      "SARIMA(0, 1, 1)x(0, 2, 1, 12) - AIC:18012.444446594556\n"
     ]
    },
    {
     "name": "stderr",
     "output_type": "stream",
     "text": [
      "/anaconda3/lib/python3.6/site-packages/statsmodels/base/model.py:508: ConvergenceWarning: Maximum Likelihood optimization failed to converge. Check mle_retvals\n",
      "  \"Check mle_retvals\", ConvergenceWarning)\n"
     ]
    },
    {
     "name": "stdout",
     "output_type": "stream",
     "text": [
      "SARIMA(0, 1, 1)x(0, 2, 2, 12) - AIC:17025.99825209005\n"
     ]
    },
    {
     "name": "stderr",
     "output_type": "stream",
     "text": [
      "/anaconda3/lib/python3.6/site-packages/statsmodels/base/model.py:508: ConvergenceWarning: Maximum Likelihood optimization failed to converge. Check mle_retvals\n",
      "  \"Check mle_retvals\", ConvergenceWarning)\n"
     ]
    },
    {
     "name": "stdout",
     "output_type": "stream",
     "text": [
      "SARIMA(0, 1, 1)x(0, 2, 3, 12) - AIC:16732.58785683845\n",
      "SARIMA(0, 1, 1)x(0, 3, 0, 12) - AIC:19577.886059239376\n",
      "SARIMA(0, 1, 1)x(0, 3, 1, 12) - AIC:19634.699092852003\n"
     ]
    },
    {
     "name": "stderr",
     "output_type": "stream",
     "text": [
      "/anaconda3/lib/python3.6/site-packages/statsmodels/base/model.py:508: ConvergenceWarning: Maximum Likelihood optimization failed to converge. Check mle_retvals\n",
      "  \"Check mle_retvals\", ConvergenceWarning)\n"
     ]
    },
    {
     "name": "stdout",
     "output_type": "stream",
     "text": [
      "SARIMA(0, 1, 1)x(0, 3, 2, 12) - AIC:17204.551543715064\n"
     ]
    },
    {
     "name": "stderr",
     "output_type": "stream",
     "text": [
      "/anaconda3/lib/python3.6/site-packages/statsmodels/base/model.py:508: ConvergenceWarning: Maximum Likelihood optimization failed to converge. Check mle_retvals\n",
      "  \"Check mle_retvals\", ConvergenceWarning)\n"
     ]
    },
    {
     "name": "stdout",
     "output_type": "stream",
     "text": [
      "SARIMA(0, 1, 1)x(0, 3, 3, 12) - AIC:17126.435993182793\n",
      "SARIMA(0, 1, 1)x(1, 0, 0, 12) - AIC:17491.597396304103\n",
      "SARIMA(0, 1, 1)x(1, 0, 1, 12) - AIC:17411.60865924019\n",
      "SARIMA(0, 1, 1)x(1, 0, 2, 12) - AIC:17163.150624945218\n",
      "SARIMA(0, 1, 1)x(1, 0, 3, 12) - AIC:16950.014520695928\n",
      "SARIMA(0, 1, 1)x(1, 1, 0, 12) - AIC:17881.172331629863\n",
      "SARIMA(0, 1, 1)x(1, 1, 1, 12) - AIC:17298.175096992556\n"
     ]
    },
    {
     "name": "stderr",
     "output_type": "stream",
     "text": [
      "/anaconda3/lib/python3.6/site-packages/statsmodels/base/model.py:508: ConvergenceWarning: Maximum Likelihood optimization failed to converge. Check mle_retvals\n",
      "  \"Check mle_retvals\", ConvergenceWarning)\n"
     ]
    },
    {
     "name": "stdout",
     "output_type": "stream",
     "text": [
      "SARIMA(0, 1, 1)x(1, 1, 2, 12) - AIC:17037.731692477144\n",
      "SARIMA(0, 1, 1)x(1, 1, 3, 12) - AIC:16776.471830768358\n",
      "SARIMA(0, 1, 1)x(1, 2, 0, 12) - AIC:18629.09950828539\n",
      "SARIMA(0, 1, 1)x(1, 2, 1, 12) - AIC:17672.05170567816\n"
     ]
    },
    {
     "name": "stderr",
     "output_type": "stream",
     "text": [
      "/anaconda3/lib/python3.6/site-packages/statsmodels/base/model.py:508: ConvergenceWarning: Maximum Likelihood optimization failed to converge. Check mle_retvals\n",
      "  \"Check mle_retvals\", ConvergenceWarning)\n"
     ]
    },
    {
     "name": "stdout",
     "output_type": "stream",
     "text": [
      "SARIMA(0, 1, 1)x(1, 2, 2, 12) - AIC:17147.67858075391\n"
     ]
    },
    {
     "name": "stderr",
     "output_type": "stream",
     "text": [
      "/anaconda3/lib/python3.6/site-packages/statsmodels/base/model.py:508: ConvergenceWarning: Maximum Likelihood optimization failed to converge. Check mle_retvals\n",
      "  \"Check mle_retvals\", ConvergenceWarning)\n"
     ]
    },
    {
     "name": "stdout",
     "output_type": "stream",
     "text": [
      "SARIMA(0, 1, 1)x(1, 2, 3, 12) - AIC:17623.600745350253\n"
     ]
    },
    {
     "name": "stderr",
     "output_type": "stream",
     "text": [
      "/anaconda3/lib/python3.6/site-packages/statsmodels/base/model.py:508: ConvergenceWarning: Maximum Likelihood optimization failed to converge. Check mle_retvals\n",
      "  \"Check mle_retvals\", ConvergenceWarning)\n"
     ]
    },
    {
     "name": "stdout",
     "output_type": "stream",
     "text": [
      "SARIMA(0, 1, 1)x(1, 3, 0, 12) - AIC:19068.55401047525\n"
     ]
    },
    {
     "name": "stderr",
     "output_type": "stream",
     "text": [
      "/anaconda3/lib/python3.6/site-packages/statsmodels/base/model.py:508: ConvergenceWarning: Maximum Likelihood optimization failed to converge. Check mle_retvals\n",
      "  \"Check mle_retvals\", ConvergenceWarning)\n"
     ]
    },
    {
     "name": "stdout",
     "output_type": "stream",
     "text": [
      "SARIMA(0, 1, 1)x(1, 3, 1, 12) - AIC:19404.3085447166\n"
     ]
    },
    {
     "name": "stderr",
     "output_type": "stream",
     "text": [
      "/anaconda3/lib/python3.6/site-packages/statsmodels/base/model.py:508: ConvergenceWarning: Maximum Likelihood optimization failed to converge. Check mle_retvals\n",
      "  \"Check mle_retvals\", ConvergenceWarning)\n"
     ]
    },
    {
     "name": "stdout",
     "output_type": "stream",
     "text": [
      "SARIMA(0, 1, 1)x(1, 3, 2, 12) - AIC:17406.615010545946\n"
     ]
    },
    {
     "name": "stderr",
     "output_type": "stream",
     "text": [
      "/anaconda3/lib/python3.6/site-packages/statsmodels/base/model.py:508: ConvergenceWarning: Maximum Likelihood optimization failed to converge. Check mle_retvals\n",
      "  \"Check mle_retvals\", ConvergenceWarning)\n"
     ]
    },
    {
     "name": "stdout",
     "output_type": "stream",
     "text": [
      "SARIMA(0, 1, 1)x(1, 3, 3, 12) - AIC:17149.725751221995\n",
      "SARIMA(0, 1, 1)x(2, 0, 0, 12) - AIC:17170.008166221964\n",
      "SARIMA(0, 1, 1)x(2, 0, 1, 12) - AIC:17171.14513547015\n",
      "SARIMA(0, 1, 1)x(2, 0, 2, 12) - AIC:17005.09833194917\n",
      "SARIMA(0, 1, 1)x(2, 0, 3, 12) - AIC:16775.826575415835\n",
      "SARIMA(0, 1, 1)x(2, 1, 0, 12) - AIC:17366.056508786565\n",
      "SARIMA(0, 1, 1)x(2, 1, 1, 12) - AIC:16995.057572845013\n",
      "SARIMA(0, 1, 1)x(2, 1, 2, 12) - AIC:16958.818468826663\n"
     ]
    },
    {
     "name": "stderr",
     "output_type": "stream",
     "text": [
      "/anaconda3/lib/python3.6/site-packages/statsmodels/base/model.py:508: ConvergenceWarning: Maximum Likelihood optimization failed to converge. Check mle_retvals\n",
      "  \"Check mle_retvals\", ConvergenceWarning)\n"
     ]
    },
    {
     "name": "stdout",
     "output_type": "stream",
     "text": [
      "SARIMA(0, 1, 1)x(2, 1, 3, 12) - AIC:16869.10632855713\n",
      "SARIMA(0, 1, 1)x(2, 2, 0, 12) - AIC:17920.335937996635\n",
      "SARIMA(0, 1, 1)x(2, 2, 1, 12) - AIC:17202.790072222717\n",
      "SARIMA(0, 1, 1)x(2, 2, 2, 12) - AIC:17987.774812812826\n"
     ]
    },
    {
     "name": "stderr",
     "output_type": "stream",
     "text": [
      "/anaconda3/lib/python3.6/site-packages/statsmodels/base/model.py:508: ConvergenceWarning: Maximum Likelihood optimization failed to converge. Check mle_retvals\n",
      "  \"Check mle_retvals\", ConvergenceWarning)\n"
     ]
    },
    {
     "name": "stdout",
     "output_type": "stream",
     "text": [
      "SARIMA(0, 1, 1)x(2, 2, 3, 12) - AIC:17467.007260482613\n",
      "SARIMA(0, 1, 1)x(2, 3, 0, 12) - AIC:18033.886581810162\n",
      "SARIMA(0, 1, 1)x(2, 3, 1, 12) - AIC:17517.56828879834\n"
     ]
    },
    {
     "name": "stderr",
     "output_type": "stream",
     "text": [
      "/anaconda3/lib/python3.6/site-packages/statsmodels/base/model.py:508: ConvergenceWarning: Maximum Likelihood optimization failed to converge. Check mle_retvals\n",
      "  \"Check mle_retvals\", ConvergenceWarning)\n"
     ]
    },
    {
     "name": "stdout",
     "output_type": "stream",
     "text": [
      "SARIMA(0, 1, 1)x(2, 3, 2, 12) - AIC:18997.91673946954\n"
     ]
    },
    {
     "name": "stderr",
     "output_type": "stream",
     "text": [
      "/anaconda3/lib/python3.6/site-packages/statsmodels/base/model.py:508: ConvergenceWarning: Maximum Likelihood optimization failed to converge. Check mle_retvals\n",
      "  \"Check mle_retvals\", ConvergenceWarning)\n"
     ]
    },
    {
     "name": "stdout",
     "output_type": "stream",
     "text": [
      "SARIMA(0, 1, 1)x(2, 3, 3, 12) - AIC:18552.59697756443\n",
      "SARIMA(0, 1, 1)x(3, 0, 0, 12) - AIC:16963.871646127125\n",
      "SARIMA(0, 1, 1)x(3, 0, 1, 12) - AIC:16950.28214104574\n",
      "SARIMA(0, 1, 1)x(3, 0, 2, 12) - AIC:16810.66270880111\n",
      "SARIMA(0, 1, 1)x(3, 0, 3, 12) - AIC:16778.375381406586\n",
      "SARIMA(0, 1, 1)x(3, 1, 0, 12) - AIC:16942.471811985197\n",
      "SARIMA(0, 1, 1)x(3, 1, 1, 12) - AIC:16782.953018092747\n"
     ]
    },
    {
     "name": "stderr",
     "output_type": "stream",
     "text": [
      "/anaconda3/lib/python3.6/site-packages/statsmodels/base/model.py:508: ConvergenceWarning: Maximum Likelihood optimization failed to converge. Check mle_retvals\n",
      "  \"Check mle_retvals\", ConvergenceWarning)\n"
     ]
    },
    {
     "name": "stdout",
     "output_type": "stream",
     "text": [
      "SARIMA(0, 1, 1)x(3, 1, 2, 12) - AIC:16783.395103565323\n",
      "SARIMA(0, 1, 1)x(3, 1, 3, 12) - AIC:17070.28850600192\n",
      "SARIMA(0, 1, 1)x(3, 2, 0, 12) - AIC:17284.423779970115\n",
      "SARIMA(0, 1, 1)x(3, 2, 1, 12) - AIC:16782.692853227047\n"
     ]
    },
    {
     "name": "stderr",
     "output_type": "stream",
     "text": [
      "/anaconda3/lib/python3.6/site-packages/statsmodels/base/model.py:508: ConvergenceWarning: Maximum Likelihood optimization failed to converge. Check mle_retvals\n",
      "  \"Check mle_retvals\", ConvergenceWarning)\n"
     ]
    },
    {
     "name": "stdout",
     "output_type": "stream",
     "text": [
      "SARIMA(0, 1, 1)x(3, 2, 2, 12) - AIC:17722.4233119159\n"
     ]
    },
    {
     "name": "stderr",
     "output_type": "stream",
     "text": [
      "/anaconda3/lib/python3.6/site-packages/statsmodels/base/model.py:508: ConvergenceWarning: Maximum Likelihood optimization failed to converge. Check mle_retvals\n",
      "  \"Check mle_retvals\", ConvergenceWarning)\n"
     ]
    },
    {
     "name": "stdout",
     "output_type": "stream",
     "text": [
      "SARIMA(0, 1, 1)x(3, 2, 3, 12) - AIC:17756.718753972797\n",
      "SARIMA(0, 1, 1)x(3, 3, 0, 12) - AIC:17603.136474551546\n",
      "SARIMA(0, 1, 1)x(3, 3, 1, 12) - AIC:nan\n"
     ]
    },
    {
     "name": "stderr",
     "output_type": "stream",
     "text": [
      "/anaconda3/lib/python3.6/site-packages/statsmodels/base/model.py:508: ConvergenceWarning: Maximum Likelihood optimization failed to converge. Check mle_retvals\n",
      "  \"Check mle_retvals\", ConvergenceWarning)\n"
     ]
    },
    {
     "name": "stdout",
     "output_type": "stream",
     "text": [
      "SARIMA(0, 1, 1)x(3, 3, 2, 12) - AIC:18940.174288498114\n"
     ]
    },
    {
     "name": "stderr",
     "output_type": "stream",
     "text": [
      "/anaconda3/lib/python3.6/site-packages/statsmodels/base/model.py:508: ConvergenceWarning: Maximum Likelihood optimization failed to converge. Check mle_retvals\n",
      "  \"Check mle_retvals\", ConvergenceWarning)\n"
     ]
    },
    {
     "name": "stdout",
     "output_type": "stream",
     "text": [
      "SARIMA(0, 1, 1)x(3, 3, 3, 12) - AIC:18018.757788103274\n",
      "SARIMA(0, 1, 2)x(0, 0, 0, 12) - AIC:17530.61093338189\n",
      "SARIMA(0, 1, 2)x(0, 0, 1, 12) - AIC:17293.065016571883\n",
      "SARIMA(0, 1, 2)x(0, 0, 2, 12) - AIC:17048.589980176024\n",
      "SARIMA(0, 1, 2)x(0, 0, 3, 12) - AIC:16841.233409413166\n",
      "SARIMA(0, 1, 2)x(0, 1, 0, 12) - AIC:18087.28906582956\n",
      "SARIMA(0, 1, 2)x(0, 1, 1, 12) - AIC:17351.917702281844\n",
      "SARIMA(0, 1, 2)x(0, 1, 2, 12) - AIC:16923.05849199809\n",
      "SARIMA(0, 1, 2)x(0, 1, 3, 12) - AIC:16678.74711735491\n",
      "SARIMA(0, 1, 2)x(0, 2, 0, 12) - AIC:18850.497479239275\n",
      "SARIMA(0, 1, 2)x(0, 2, 1, 12) - AIC:17690.782584601413\n"
     ]
    },
    {
     "name": "stderr",
     "output_type": "stream",
     "text": [
      "/anaconda3/lib/python3.6/site-packages/statsmodels/base/model.py:508: ConvergenceWarning: Maximum Likelihood optimization failed to converge. Check mle_retvals\n",
      "  \"Check mle_retvals\", ConvergenceWarning)\n"
     ]
    },
    {
     "name": "stdout",
     "output_type": "stream",
     "text": [
      "SARIMA(0, 1, 2)x(0, 2, 2, 12) - AIC:16846.575553964467\n"
     ]
    },
    {
     "name": "stderr",
     "output_type": "stream",
     "text": [
      "/anaconda3/lib/python3.6/site-packages/statsmodels/base/model.py:508: ConvergenceWarning: Maximum Likelihood optimization failed to converge. Check mle_retvals\n",
      "  \"Check mle_retvals\", ConvergenceWarning)\n"
     ]
    },
    {
     "name": "stdout",
     "output_type": "stream",
     "text": [
      "SARIMA(0, 1, 2)x(0, 2, 3, 12) - AIC:16677.93245188634\n",
      "SARIMA(0, 1, 2)x(0, 3, 0, 12) - AIC:19764.5023791813\n",
      "SARIMA(0, 1, 2)x(0, 3, 1, 12) - AIC:18015.56080378449\n"
     ]
    },
    {
     "name": "stderr",
     "output_type": "stream",
     "text": [
      "/anaconda3/lib/python3.6/site-packages/statsmodels/base/model.py:508: ConvergenceWarning: Maximum Likelihood optimization failed to converge. Check mle_retvals\n",
      "  \"Check mle_retvals\", ConvergenceWarning)\n"
     ]
    },
    {
     "name": "stdout",
     "output_type": "stream",
     "text": [
      "SARIMA(0, 1, 2)x(0, 3, 2, 12) - AIC:17125.423109739088\n"
     ]
    },
    {
     "name": "stderr",
     "output_type": "stream",
     "text": [
      "/anaconda3/lib/python3.6/site-packages/statsmodels/base/model.py:508: ConvergenceWarning: Maximum Likelihood optimization failed to converge. Check mle_retvals\n",
      "  \"Check mle_retvals\", ConvergenceWarning)\n"
     ]
    },
    {
     "name": "stdout",
     "output_type": "stream",
     "text": [
      "SARIMA(0, 1, 2)x(0, 3, 3, 12) - AIC:17343.967342851636\n",
      "SARIMA(0, 1, 2)x(1, 0, 0, 12) - AIC:17360.472209541244\n",
      "SARIMA(0, 1, 2)x(1, 0, 1, 12) - AIC:17273.252495697663\n",
      "SARIMA(0, 1, 2)x(1, 0, 2, 12) - AIC:17037.531692988145\n",
      "SARIMA(0, 1, 2)x(1, 0, 3, 12) - AIC:16837.14099412092\n",
      "SARIMA(0, 1, 2)x(1, 1, 0, 12) - AIC:17715.17753293294\n",
      "SARIMA(0, 1, 2)x(1, 1, 1, 12) - AIC:17149.891334383206\n"
     ]
    },
    {
     "name": "stderr",
     "output_type": "stream",
     "text": [
      "/anaconda3/lib/python3.6/site-packages/statsmodels/base/model.py:508: ConvergenceWarning: Maximum Likelihood optimization failed to converge. Check mle_retvals\n",
      "  \"Check mle_retvals\", ConvergenceWarning)\n"
     ]
    },
    {
     "name": "stdout",
     "output_type": "stream",
     "text": [
      "SARIMA(0, 1, 2)x(1, 1, 2, 12) - AIC:16910.092789575952\n"
     ]
    },
    {
     "name": "stderr",
     "output_type": "stream",
     "text": [
      "/anaconda3/lib/python3.6/site-packages/statsmodels/base/model.py:508: ConvergenceWarning: Maximum Likelihood optimization failed to converge. Check mle_retvals\n",
      "  \"Check mle_retvals\", ConvergenceWarning)\n"
     ]
    },
    {
     "name": "stdout",
     "output_type": "stream",
     "text": [
      "SARIMA(0, 1, 2)x(1, 1, 3, 12) - AIC:16662.083215330393\n",
      "SARIMA(0, 1, 2)x(1, 2, 0, 12) - AIC:18382.451458036834\n",
      "SARIMA(0, 1, 2)x(1, 2, 1, 12) - AIC:17490.46454109719\n",
      "SARIMA(0, 1, 2)x(1, 2, 2, 12) - AIC:17703.16315971265\n",
      "SARIMA(0, 1, 2)x(1, 2, 3, 12) - AIC:17473.81720083463\n",
      "SARIMA(0, 1, 2)x(1, 3, 0, 12) - AIC:18272.20811002796\n",
      "SARIMA(0, 1, 2)x(1, 3, 1, 12) - AIC:nan\n"
     ]
    },
    {
     "name": "stderr",
     "output_type": "stream",
     "text": [
      "/anaconda3/lib/python3.6/site-packages/statsmodels/base/model.py:508: ConvergenceWarning: Maximum Likelihood optimization failed to converge. Check mle_retvals\n",
      "  \"Check mle_retvals\", ConvergenceWarning)\n"
     ]
    },
    {
     "name": "stdout",
     "output_type": "stream",
     "text": [
      "SARIMA(0, 1, 2)x(1, 3, 2, 12) - AIC:19011.652732247756\n"
     ]
    },
    {
     "name": "stderr",
     "output_type": "stream",
     "text": [
      "/anaconda3/lib/python3.6/site-packages/statsmodels/base/model.py:508: ConvergenceWarning: Maximum Likelihood optimization failed to converge. Check mle_retvals\n",
      "  \"Check mle_retvals\", ConvergenceWarning)\n"
     ]
    },
    {
     "name": "stdout",
     "output_type": "stream",
     "text": [
      "SARIMA(0, 1, 2)x(1, 3, 3, 12) - AIC:17069.914058781695\n",
      "SARIMA(0, 1, 2)x(2, 0, 0, 12) - AIC:17088.655115164496\n",
      "SARIMA(0, 1, 2)x(2, 0, 1, 12) - AIC:17090.1631351895\n",
      "SARIMA(0, 1, 2)x(2, 0, 2, 12) - AIC:16901.298008534744\n",
      "SARIMA(0, 1, 2)x(2, 0, 3, 12) - AIC:16677.626085017582\n",
      "SARIMA(0, 1, 2)x(2, 1, 0, 12) - AIC:17260.768843162412\n",
      "SARIMA(0, 1, 2)x(2, 1, 1, 12) - AIC:16927.911666256303\n"
     ]
    },
    {
     "name": "stderr",
     "output_type": "stream",
     "text": [
      "/anaconda3/lib/python3.6/site-packages/statsmodels/base/model.py:508: ConvergenceWarning: Maximum Likelihood optimization failed to converge. Check mle_retvals\n",
      "  \"Check mle_retvals\", ConvergenceWarning)\n"
     ]
    },
    {
     "name": "stdout",
     "output_type": "stream",
     "text": [
      "SARIMA(0, 1, 2)x(2, 1, 2, 12) - AIC:16875.210852016142\n"
     ]
    },
    {
     "name": "stderr",
     "output_type": "stream",
     "text": [
      "/anaconda3/lib/python3.6/site-packages/statsmodels/base/model.py:508: ConvergenceWarning: Maximum Likelihood optimization failed to converge. Check mle_retvals\n",
      "  \"Check mle_retvals\", ConvergenceWarning)\n"
     ]
    },
    {
     "name": "stdout",
     "output_type": "stream",
     "text": [
      "SARIMA(0, 1, 2)x(2, 1, 3, 12) - AIC:16644.976708206726\n",
      "SARIMA(0, 1, 2)x(2, 2, 0, 12) - AIC:17739.187302436883\n",
      "SARIMA(0, 1, 2)x(2, 2, 1, 12) - AIC:17099.202983554034\n"
     ]
    },
    {
     "name": "stderr",
     "output_type": "stream",
     "text": [
      "/anaconda3/lib/python3.6/site-packages/statsmodels/base/model.py:508: ConvergenceWarning: Maximum Likelihood optimization failed to converge. Check mle_retvals\n",
      "  \"Check mle_retvals\", ConvergenceWarning)\n"
     ]
    },
    {
     "name": "stdout",
     "output_type": "stream",
     "text": [
      "SARIMA(0, 1, 2)x(2, 2, 2, 12) - AIC:17598.737518827682\n"
     ]
    },
    {
     "name": "stderr",
     "output_type": "stream",
     "text": [
      "/anaconda3/lib/python3.6/site-packages/statsmodels/base/model.py:508: ConvergenceWarning: Maximum Likelihood optimization failed to converge. Check mle_retvals\n",
      "  \"Check mle_retvals\", ConvergenceWarning)\n"
     ]
    },
    {
     "name": "stdout",
     "output_type": "stream",
     "text": [
      "SARIMA(0, 1, 2)x(2, 2, 3, 12) - AIC:17413.593432103662\n",
      "SARIMA(0, 1, 2)x(2, 3, 0, 12) - AIC:17907.435941571595\n",
      "SARIMA(0, 1, 2)x(2, 3, 1, 12) - AIC:nan\n"
     ]
    },
    {
     "name": "stderr",
     "output_type": "stream",
     "text": [
      "/anaconda3/lib/python3.6/site-packages/statsmodels/base/model.py:508: ConvergenceWarning: Maximum Likelihood optimization failed to converge. Check mle_retvals\n",
      "  \"Check mle_retvals\", ConvergenceWarning)\n"
     ]
    },
    {
     "name": "stdout",
     "output_type": "stream",
     "text": [
      "SARIMA(0, 1, 2)x(2, 3, 2, 12) - AIC:18971.334409180014\n"
     ]
    },
    {
     "name": "stderr",
     "output_type": "stream",
     "text": [
      "/anaconda3/lib/python3.6/site-packages/statsmodels/base/model.py:508: ConvergenceWarning: Maximum Likelihood optimization failed to converge. Check mle_retvals\n",
      "  \"Check mle_retvals\", ConvergenceWarning)\n"
     ]
    },
    {
     "name": "stdout",
     "output_type": "stream",
     "text": [
      "SARIMA(0, 1, 2)x(2, 3, 3, 12) - AIC:18817.020011421886\n",
      "SARIMA(0, 1, 2)x(3, 0, 0, 12) - AIC:16886.546928749995\n",
      "SARIMA(0, 1, 2)x(3, 0, 1, 12) - AIC:16888.462596207275\n",
      "SARIMA(0, 1, 2)x(3, 0, 2, 12) - AIC:16728.005355972433\n"
     ]
    },
    {
     "name": "stderr",
     "output_type": "stream",
     "text": [
      "/anaconda3/lib/python3.6/site-packages/statsmodels/base/model.py:508: ConvergenceWarning: Maximum Likelihood optimization failed to converge. Check mle_retvals\n",
      "  \"Check mle_retvals\", ConvergenceWarning)\n"
     ]
    },
    {
     "name": "stdout",
     "output_type": "stream",
     "text": [
      "SARIMA(0, 1, 2)x(3, 0, 3, 12) - AIC:16677.19600639317\n",
      "SARIMA(0, 1, 2)x(3, 1, 0, 12) - AIC:16920.11668340114\n",
      "SARIMA(0, 1, 2)x(3, 1, 1, 12) - AIC:16718.53409017726\n"
     ]
    },
    {
     "name": "stderr",
     "output_type": "stream",
     "text": [
      "/anaconda3/lib/python3.6/site-packages/statsmodels/base/model.py:508: ConvergenceWarning: Maximum Likelihood optimization failed to converge. Check mle_retvals\n",
      "  \"Check mle_retvals\", ConvergenceWarning)\n"
     ]
    },
    {
     "name": "stdout",
     "output_type": "stream",
     "text": [
      "SARIMA(0, 1, 2)x(3, 1, 2, 12) - AIC:16757.10088948706\n"
     ]
    },
    {
     "name": "stderr",
     "output_type": "stream",
     "text": [
      "/anaconda3/lib/python3.6/site-packages/statsmodels/base/model.py:508: ConvergenceWarning: Maximum Likelihood optimization failed to converge. Check mle_retvals\n",
      "  \"Check mle_retvals\", ConvergenceWarning)\n"
     ]
    },
    {
     "name": "stdout",
     "output_type": "stream",
     "text": [
      "SARIMA(0, 1, 2)x(3, 1, 3, 12) - AIC:16824.718378192745\n",
      "SARIMA(0, 1, 2)x(3, 2, 0, 12) - AIC:17231.230325988516\n",
      "SARIMA(0, 1, 2)x(3, 2, 1, 12) - AIC:16760.011514155012\n"
     ]
    },
    {
     "name": "stderr",
     "output_type": "stream",
     "text": [
      "/anaconda3/lib/python3.6/site-packages/statsmodels/base/model.py:508: ConvergenceWarning: Maximum Likelihood optimization failed to converge. Check mle_retvals\n",
      "  \"Check mle_retvals\", ConvergenceWarning)\n"
     ]
    },
    {
     "name": "stdout",
     "output_type": "stream",
     "text": [
      "SARIMA(0, 1, 2)x(3, 2, 2, 12) - AIC:17520.87840404747\n"
     ]
    },
    {
     "name": "stderr",
     "output_type": "stream",
     "text": [
      "/anaconda3/lib/python3.6/site-packages/statsmodels/base/model.py:508: ConvergenceWarning: Maximum Likelihood optimization failed to converge. Check mle_retvals\n",
      "  \"Check mle_retvals\", ConvergenceWarning)\n"
     ]
    },
    {
     "name": "stdout",
     "output_type": "stream",
     "text": [
      "SARIMA(0, 1, 2)x(3, 2, 3, 12) - AIC:17474.040592855705\n"
     ]
    },
    {
     "name": "stderr",
     "output_type": "stream",
     "text": [
      "/anaconda3/lib/python3.6/site-packages/statsmodels/base/model.py:508: ConvergenceWarning: Maximum Likelihood optimization failed to converge. Check mle_retvals\n",
      "  \"Check mle_retvals\", ConvergenceWarning)\n"
     ]
    },
    {
     "name": "stdout",
     "output_type": "stream",
     "text": [
      "SARIMA(0, 1, 2)x(3, 3, 0, 12) - AIC:17568.332017487\n"
     ]
    },
    {
     "name": "stderr",
     "output_type": "stream",
     "text": [
      "/anaconda3/lib/python3.6/site-packages/statsmodels/base/model.py:508: ConvergenceWarning: Maximum Likelihood optimization failed to converge. Check mle_retvals\n",
      "  \"Check mle_retvals\", ConvergenceWarning)\n"
     ]
    },
    {
     "name": "stdout",
     "output_type": "stream",
     "text": [
      "SARIMA(0, 1, 2)x(3, 3, 1, 12) - AIC:17179.70942266658\n"
     ]
    },
    {
     "name": "stderr",
     "output_type": "stream",
     "text": [
      "/anaconda3/lib/python3.6/site-packages/statsmodels/base/model.py:508: ConvergenceWarning: Maximum Likelihood optimization failed to converge. Check mle_retvals\n",
      "  \"Check mle_retvals\", ConvergenceWarning)\n"
     ]
    },
    {
     "name": "stdout",
     "output_type": "stream",
     "text": [
      "SARIMA(0, 1, 2)x(3, 3, 2, 12) - AIC:18316.733079246944\n"
     ]
    },
    {
     "name": "stderr",
     "output_type": "stream",
     "text": [
      "/anaconda3/lib/python3.6/site-packages/statsmodels/base/model.py:508: ConvergenceWarning: Maximum Likelihood optimization failed to converge. Check mle_retvals\n",
      "  \"Check mle_retvals\", ConvergenceWarning)\n"
     ]
    },
    {
     "name": "stdout",
     "output_type": "stream",
     "text": [
      "SARIMA(0, 1, 2)x(3, 3, 3, 12) - AIC:18686.51990180228\n",
      "SARIMA(0, 1, 3)x(0, 0, 0, 12) - AIC:17507.363081386095\n",
      "SARIMA(0, 1, 3)x(0, 0, 1, 12) - AIC:17269.972443424813\n",
      "SARIMA(0, 1, 3)x(0, 0, 2, 12) - AIC:17047.657636685868\n",
      "SARIMA(0, 1, 3)x(0, 0, 3, 12) - AIC:16825.40438520581\n",
      "SARIMA(0, 1, 3)x(0, 1, 0, 12) - AIC:18057.87882258839\n",
      "SARIMA(0, 1, 3)x(0, 1, 1, 12) - AIC:17133.973292480674\n",
      "SARIMA(0, 1, 3)x(0, 1, 2, 12) - AIC:16889.10757940641\n"
     ]
    },
    {
     "name": "stderr",
     "output_type": "stream",
     "text": [
      "/anaconda3/lib/python3.6/site-packages/statsmodels/base/model.py:508: ConvergenceWarning: Maximum Likelihood optimization failed to converge. Check mle_retvals\n",
      "  \"Check mle_retvals\", ConvergenceWarning)\n"
     ]
    },
    {
     "name": "stdout",
     "output_type": "stream",
     "text": [
      "SARIMA(0, 1, 3)x(0, 1, 3, 12) - AIC:16663.00549650823\n",
      "SARIMA(0, 1, 3)x(0, 2, 0, 12) - AIC:18872.228727072255\n",
      "SARIMA(0, 1, 3)x(0, 2, 1, 12) - AIC:17664.192278111666\n"
     ]
    },
    {
     "name": "stderr",
     "output_type": "stream",
     "text": [
      "/anaconda3/lib/python3.6/site-packages/statsmodels/base/model.py:508: ConvergenceWarning: Maximum Likelihood optimization failed to converge. Check mle_retvals\n",
      "  \"Check mle_retvals\", ConvergenceWarning)\n"
     ]
    },
    {
     "name": "stdout",
     "output_type": "stream",
     "text": [
      "SARIMA(0, 1, 3)x(0, 2, 2, 12) - AIC:16931.67156423376\n"
     ]
    },
    {
     "name": "stderr",
     "output_type": "stream",
     "text": [
      "/anaconda3/lib/python3.6/site-packages/statsmodels/base/model.py:508: ConvergenceWarning: Maximum Likelihood optimization failed to converge. Check mle_retvals\n",
      "  \"Check mle_retvals\", ConvergenceWarning)\n"
     ]
    },
    {
     "name": "stdout",
     "output_type": "stream",
     "text": [
      "SARIMA(0, 1, 3)x(0, 2, 3, 12) - AIC:17584.49021850937\n",
      "SARIMA(0, 1, 3)x(0, 3, 0, 12) - AIC:19926.732035454952\n"
     ]
    },
    {
     "name": "stderr",
     "output_type": "stream",
     "text": [
      "/anaconda3/lib/python3.6/site-packages/statsmodels/base/model.py:508: ConvergenceWarning: Maximum Likelihood optimization failed to converge. Check mle_retvals\n",
      "  \"Check mle_retvals\", ConvergenceWarning)\n"
     ]
    },
    {
     "name": "stdout",
     "output_type": "stream",
     "text": [
      "SARIMA(0, 1, 3)x(0, 3, 1, 12) - AIC:17994.357060416256\n"
     ]
    },
    {
     "name": "stderr",
     "output_type": "stream",
     "text": [
      "/anaconda3/lib/python3.6/site-packages/statsmodels/base/model.py:508: ConvergenceWarning: Maximum Likelihood optimization failed to converge. Check mle_retvals\n",
      "  \"Check mle_retvals\", ConvergenceWarning)\n"
     ]
    },
    {
     "name": "stdout",
     "output_type": "stream",
     "text": [
      "SARIMA(0, 1, 3)x(0, 3, 2, 12) - AIC:17459.341299384563\n"
     ]
    },
    {
     "name": "stderr",
     "output_type": "stream",
     "text": [
      "/anaconda3/lib/python3.6/site-packages/statsmodels/base/model.py:508: ConvergenceWarning: Maximum Likelihood optimization failed to converge. Check mle_retvals\n",
      "  \"Check mle_retvals\", ConvergenceWarning)\n"
     ]
    },
    {
     "name": "stdout",
     "output_type": "stream",
     "text": [
      "SARIMA(0, 1, 3)x(0, 3, 3, 12) - AIC:18938.50909584046\n",
      "SARIMA(0, 1, 3)x(1, 0, 0, 12) - AIC:17352.00093392132\n",
      "SARIMA(0, 1, 3)x(1, 0, 1, 12) - AIC:17246.00576882809\n",
      "SARIMA(0, 1, 3)x(1, 0, 2, 12) - AIC:17037.01996972906\n",
      "SARIMA(0, 1, 3)x(1, 0, 3, 12) - AIC:16835.321801743157\n",
      "SARIMA(0, 1, 3)x(1, 1, 0, 12) - AIC:17675.300870646228\n",
      "SARIMA(0, 1, 3)x(1, 1, 1, 12) - AIC:17114.825299909335\n"
     ]
    },
    {
     "name": "stderr",
     "output_type": "stream",
     "text": [
      "/anaconda3/lib/python3.6/site-packages/statsmodels/base/model.py:508: ConvergenceWarning: Maximum Likelihood optimization failed to converge. Check mle_retvals\n",
      "  \"Check mle_retvals\", ConvergenceWarning)\n"
     ]
    },
    {
     "name": "stdout",
     "output_type": "stream",
     "text": [
      "SARIMA(0, 1, 3)x(1, 1, 2, 12) - AIC:16921.717443799047\n",
      "SARIMA(0, 1, 3)x(1, 1, 3, 12) - AIC:16641.309202385022\n",
      "SARIMA(0, 1, 3)x(1, 2, 0, 12) - AIC:18226.062908399254\n",
      "SARIMA(0, 1, 3)x(1, 2, 1, 12) - AIC:17434.51571611038\n",
      "SARIMA(0, 1, 3)x(1, 2, 2, 12) - AIC:17910.625635965185\n"
     ]
    },
    {
     "name": "stderr",
     "output_type": "stream",
     "text": [
      "/anaconda3/lib/python3.6/site-packages/statsmodels/base/model.py:508: ConvergenceWarning: Maximum Likelihood optimization failed to converge. Check mle_retvals\n",
      "  \"Check mle_retvals\", ConvergenceWarning)\n"
     ]
    },
    {
     "name": "stdout",
     "output_type": "stream",
     "text": [
      "SARIMA(0, 1, 3)x(1, 2, 3, 12) - AIC:17336.50961497173\n"
     ]
    },
    {
     "name": "stderr",
     "output_type": "stream",
     "text": [
      "/anaconda3/lib/python3.6/site-packages/statsmodels/base/model.py:508: ConvergenceWarning: Maximum Likelihood optimization failed to converge. Check mle_retvals\n",
      "  \"Check mle_retvals\", ConvergenceWarning)\n"
     ]
    },
    {
     "name": "stdout",
     "output_type": "stream",
     "text": [
      "SARIMA(0, 1, 3)x(1, 3, 0, 12) - AIC:18522.243209292865\n",
      "SARIMA(0, 1, 3)x(1, 3, 1, 12) - AIC:nan\n"
     ]
    },
    {
     "name": "stderr",
     "output_type": "stream",
     "text": [
      "/anaconda3/lib/python3.6/site-packages/statsmodels/base/model.py:508: ConvergenceWarning: Maximum Likelihood optimization failed to converge. Check mle_retvals\n",
      "  \"Check mle_retvals\", ConvergenceWarning)\n"
     ]
    },
    {
     "name": "stdout",
     "output_type": "stream",
     "text": [
      "SARIMA(0, 1, 3)x(1, 3, 2, 12) - AIC:19236.243285236123\n",
      "SARIMA(0, 1, 3)x(1, 3, 3, 12) - AIC:19019.735270132347\n",
      "SARIMA(0, 1, 3)x(2, 0, 0, 12) - AIC:17090.305691504433\n",
      "SARIMA(0, 1, 3)x(2, 0, 1, 12) - AIC:17110.204223051143\n",
      "SARIMA(0, 1, 3)x(2, 0, 2, 12) - AIC:16929.34885511771\n",
      "SARIMA(0, 1, 3)x(2, 0, 3, 12) - AIC:16714.05614854053\n",
      "SARIMA(0, 1, 3)x(2, 1, 0, 12) - AIC:17262.42087702936\n",
      "SARIMA(0, 1, 3)x(2, 1, 1, 12) - AIC:16929.737775118745\n"
     ]
    },
    {
     "name": "stderr",
     "output_type": "stream",
     "text": [
      "/anaconda3/lib/python3.6/site-packages/statsmodels/base/model.py:508: ConvergenceWarning: Maximum Likelihood optimization failed to converge. Check mle_retvals\n",
      "  \"Check mle_retvals\", ConvergenceWarning)\n"
     ]
    },
    {
     "name": "stdout",
     "output_type": "stream",
     "text": [
      "SARIMA(0, 1, 3)x(2, 1, 2, 12) - AIC:17014.42174882423\n"
     ]
    },
    {
     "name": "stderr",
     "output_type": "stream",
     "text": [
      "/anaconda3/lib/python3.6/site-packages/statsmodels/base/model.py:508: ConvergenceWarning: Maximum Likelihood optimization failed to converge. Check mle_retvals\n",
      "  \"Check mle_retvals\", ConvergenceWarning)\n"
     ]
    },
    {
     "name": "stdout",
     "output_type": "stream",
     "text": [
      "SARIMA(0, 1, 3)x(2, 1, 3, 12) - AIC:16809.915588560576\n",
      "SARIMA(0, 1, 3)x(2, 2, 0, 12) - AIC:17720.186588166773\n"
     ]
    },
    {
     "name": "stderr",
     "output_type": "stream",
     "text": [
      "/anaconda3/lib/python3.6/site-packages/statsmodels/base/model.py:508: ConvergenceWarning: Maximum Likelihood optimization failed to converge. Check mle_retvals\n",
      "  \"Check mle_retvals\", ConvergenceWarning)\n"
     ]
    },
    {
     "name": "stdout",
     "output_type": "stream",
     "text": [
      "SARIMA(0, 1, 3)x(2, 2, 1, 12) - AIC:17100.945666980962\n"
     ]
    },
    {
     "name": "stderr",
     "output_type": "stream",
     "text": [
      "/anaconda3/lib/python3.6/site-packages/statsmodels/base/model.py:508: ConvergenceWarning: Maximum Likelihood optimization failed to converge. Check mle_retvals\n",
      "  \"Check mle_retvals\", ConvergenceWarning)\n"
     ]
    },
    {
     "name": "stdout",
     "output_type": "stream",
     "text": [
      "SARIMA(0, 1, 3)x(2, 2, 2, 12) - AIC:17080.186959551003\n"
     ]
    },
    {
     "name": "stderr",
     "output_type": "stream",
     "text": [
      "/anaconda3/lib/python3.6/site-packages/statsmodels/base/model.py:508: ConvergenceWarning: Maximum Likelihood optimization failed to converge. Check mle_retvals\n",
      "  \"Check mle_retvals\", ConvergenceWarning)\n"
     ]
    },
    {
     "name": "stdout",
     "output_type": "stream",
     "text": [
      "SARIMA(0, 1, 3)x(2, 2, 3, 12) - AIC:17672.16680356668\n",
      "SARIMA(0, 1, 3)x(2, 3, 0, 12) - AIC:17887.399351217813\n"
     ]
    },
    {
     "name": "stderr",
     "output_type": "stream",
     "text": [
      "/anaconda3/lib/python3.6/site-packages/statsmodels/base/model.py:508: ConvergenceWarning: Maximum Likelihood optimization failed to converge. Check mle_retvals\n",
      "  \"Check mle_retvals\", ConvergenceWarning)\n"
     ]
    },
    {
     "name": "stdout",
     "output_type": "stream",
     "text": [
      "SARIMA(0, 1, 3)x(2, 3, 1, 12) - AIC:17882.81761590035\n"
     ]
    },
    {
     "name": "stderr",
     "output_type": "stream",
     "text": [
      "/anaconda3/lib/python3.6/site-packages/statsmodels/base/model.py:508: ConvergenceWarning: Maximum Likelihood optimization failed to converge. Check mle_retvals\n",
      "  \"Check mle_retvals\", ConvergenceWarning)\n"
     ]
    },
    {
     "name": "stdout",
     "output_type": "stream",
     "text": [
      "SARIMA(0, 1, 3)x(2, 3, 2, 12) - AIC:19273.963169928364\n"
     ]
    },
    {
     "name": "stderr",
     "output_type": "stream",
     "text": [
      "/anaconda3/lib/python3.6/site-packages/statsmodels/base/model.py:508: ConvergenceWarning: Maximum Likelihood optimization failed to converge. Check mle_retvals\n",
      "  \"Check mle_retvals\", ConvergenceWarning)\n"
     ]
    },
    {
     "name": "stdout",
     "output_type": "stream",
     "text": [
      "SARIMA(0, 1, 3)x(2, 3, 3, 12) - AIC:19021.21833942804\n",
      "SARIMA(0, 1, 3)x(3, 0, 0, 12) - AIC:16888.268687001982\n",
      "SARIMA(0, 1, 3)x(3, 0, 1, 12) - AIC:16906.96186331183\n",
      "SARIMA(0, 1, 3)x(3, 0, 2, 12) - AIC:16782.123188568177\n"
     ]
    },
    {
     "name": "stderr",
     "output_type": "stream",
     "text": [
      "/anaconda3/lib/python3.6/site-packages/statsmodels/base/model.py:508: ConvergenceWarning: Maximum Likelihood optimization failed to converge. Check mle_retvals\n",
      "  \"Check mle_retvals\", ConvergenceWarning)\n"
     ]
    },
    {
     "name": "stdout",
     "output_type": "stream",
     "text": [
      "SARIMA(0, 1, 3)x(3, 0, 3, 12) - AIC:16715.61651258074\n",
      "SARIMA(0, 1, 3)x(3, 1, 0, 12) - AIC:16920.321527587486\n",
      "SARIMA(0, 1, 3)x(3, 1, 1, 12) - AIC:16720.49809650457\n"
     ]
    },
    {
     "name": "stderr",
     "output_type": "stream",
     "text": [
      "/anaconda3/lib/python3.6/site-packages/statsmodels/base/model.py:508: ConvergenceWarning: Maximum Likelihood optimization failed to converge. Check mle_retvals\n",
      "  \"Check mle_retvals\", ConvergenceWarning)\n"
     ]
    },
    {
     "name": "stdout",
     "output_type": "stream",
     "text": [
      "SARIMA(0, 1, 3)x(3, 1, 2, 12) - AIC:16722.524621388948\n"
     ]
    },
    {
     "name": "stderr",
     "output_type": "stream",
     "text": [
      "/anaconda3/lib/python3.6/site-packages/statsmodels/base/model.py:508: ConvergenceWarning: Maximum Likelihood optimization failed to converge. Check mle_retvals\n",
      "  \"Check mle_retvals\", ConvergenceWarning)\n"
     ]
    },
    {
     "name": "stdout",
     "output_type": "stream",
     "text": [
      "SARIMA(0, 1, 3)x(3, 1, 3, 12) - AIC:16998.161838285632\n",
      "SARIMA(0, 1, 3)x(3, 2, 0, 12) - AIC:17218.700131224337\n"
     ]
    },
    {
     "name": "stderr",
     "output_type": "stream",
     "text": [
      "/anaconda3/lib/python3.6/site-packages/statsmodels/base/model.py:508: ConvergenceWarning: Maximum Likelihood optimization failed to converge. Check mle_retvals\n",
      "  \"Check mle_retvals\", ConvergenceWarning)\n"
     ]
    },
    {
     "name": "stdout",
     "output_type": "stream",
     "text": [
      "SARIMA(0, 1, 3)x(3, 2, 1, 12) - AIC:16760.37470762855\n"
     ]
    },
    {
     "name": "stderr",
     "output_type": "stream",
     "text": [
      "/anaconda3/lib/python3.6/site-packages/statsmodels/base/model.py:508: ConvergenceWarning: Maximum Likelihood optimization failed to converge. Check mle_retvals\n",
      "  \"Check mle_retvals\", ConvergenceWarning)\n"
     ]
    },
    {
     "name": "stdout",
     "output_type": "stream",
     "text": [
      "SARIMA(0, 1, 3)x(3, 2, 2, 12) - AIC:17745.72869861356\n"
     ]
    },
    {
     "name": "stderr",
     "output_type": "stream",
     "text": [
      "/anaconda3/lib/python3.6/site-packages/statsmodels/base/model.py:508: ConvergenceWarning: Maximum Likelihood optimization failed to converge. Check mle_retvals\n",
      "  \"Check mle_retvals\", ConvergenceWarning)\n"
     ]
    },
    {
     "name": "stdout",
     "output_type": "stream",
     "text": [
      "SARIMA(0, 1, 3)x(3, 2, 3, 12) - AIC:17667.042708752364\n"
     ]
    },
    {
     "name": "stderr",
     "output_type": "stream",
     "text": [
      "/anaconda3/lib/python3.6/site-packages/statsmodels/base/model.py:508: ConvergenceWarning: Maximum Likelihood optimization failed to converge. Check mle_retvals\n",
      "  \"Check mle_retvals\", ConvergenceWarning)\n"
     ]
    },
    {
     "name": "stdout",
     "output_type": "stream",
     "text": [
      "SARIMA(0, 1, 3)x(3, 3, 0, 12) - AIC:17570.47312480228\n"
     ]
    },
    {
     "name": "stderr",
     "output_type": "stream",
     "text": [
      "/anaconda3/lib/python3.6/site-packages/statsmodels/base/model.py:508: ConvergenceWarning: Maximum Likelihood optimization failed to converge. Check mle_retvals\n",
      "  \"Check mle_retvals\", ConvergenceWarning)\n"
     ]
    },
    {
     "name": "stdout",
     "output_type": "stream",
     "text": [
      "SARIMA(0, 1, 3)x(3, 3, 1, 12) - AIC:17229.839754906785\n"
     ]
    },
    {
     "name": "stderr",
     "output_type": "stream",
     "text": [
      "/anaconda3/lib/python3.6/site-packages/statsmodels/base/model.py:508: ConvergenceWarning: Maximum Likelihood optimization failed to converge. Check mle_retvals\n",
      "  \"Check mle_retvals\", ConvergenceWarning)\n"
     ]
    },
    {
     "name": "stdout",
     "output_type": "stream",
     "text": [
      "SARIMA(0, 1, 3)x(3, 3, 2, 12) - AIC:19106.28026775856\n",
      "SARIMA(0, 1, 3)x(3, 3, 3, 12) - AIC:19023.724055058017\n",
      "SARIMA(0, 2, 0)x(0, 0, 0, 12) - AIC:18430.691282331172\n",
      "SARIMA(0, 2, 0)x(0, 0, 1, 12) - AIC:18187.034162930657\n",
      "SARIMA(0, 2, 0)x(0, 0, 2, 12) - AIC:17976.147714901097\n",
      "SARIMA(0, 2, 0)x(0, 0, 3, 12) - AIC:17749.08784586605\n",
      "SARIMA(0, 2, 0)x(0, 1, 0, 12) - AIC:19054.406184951502\n",
      "SARIMA(0, 2, 0)x(0, 1, 1, 12) - AIC:18280.536311646072\n",
      "SARIMA(0, 2, 0)x(0, 1, 2, 12) - AIC:18047.737410981154\n",
      "SARIMA(0, 2, 0)x(0, 1, 3, 12) - AIC:17836.558296299747\n",
      "SARIMA(0, 2, 0)x(0, 2, 0, 12) - AIC:19941.216489536502\n",
      "SARIMA(0, 2, 0)x(0, 2, 1, 12) - AIC:19020.02452980548\n",
      "SARIMA(0, 2, 0)x(0, 2, 2, 12) - AIC:18631.34568605954\n",
      "SARIMA(0, 2, 0)x(0, 2, 3, 12) - AIC:18408.59892093223\n",
      "SARIMA(0, 2, 0)x(0, 3, 0, 12) - AIC:20489.99331085221\n",
      "SARIMA(0, 2, 0)x(0, 3, 1, 12) - AIC:19151.3347931049\n",
      "SARIMA(0, 2, 0)x(0, 3, 2, 12) - AIC:20049.300669208256\n",
      "SARIMA(0, 2, 0)x(0, 3, 3, 12) - AIC:19808.81999500546\n",
      "SARIMA(0, 2, 0)x(1, 0, 0, 12) - AIC:18205.82763740963\n",
      "SARIMA(0, 2, 0)x(1, 0, 1, 12) - AIC:18180.627829809222\n",
      "SARIMA(0, 2, 0)x(1, 0, 2, 12) - AIC:17969.498418472256\n",
      "SARIMA(0, 2, 0)x(1, 0, 3, 12) - AIC:17747.242212439924\n",
      "SARIMA(0, 2, 0)x(1, 1, 0, 12) - AIC:18449.017703199974\n",
      "SARIMA(0, 2, 0)x(1, 1, 1, 12) - AIC:18103.659779701993\n",
      "SARIMA(0, 2, 0)x(1, 1, 2, 12) - AIC:17789.835108799824\n",
      "SARIMA(0, 2, 0)x(1, 1, 3, 12) - AIC:17651.759353172863\n",
      "SARIMA(0, 2, 0)x(1, 2, 0, 12) - AIC:19013.458462143346\n",
      "SARIMA(0, 2, 0)x(1, 2, 1, 12) - AIC:18485.725185117277\n",
      "SARIMA(0, 2, 0)x(1, 2, 2, 12) - AIC:18115.831282328887\n",
      "SARIMA(0, 2, 0)x(1, 2, 3, 12) - AIC:17903.258634318343\n",
      "SARIMA(0, 2, 0)x(1, 3, 0, 12) - AIC:19178.03842827872\n",
      "SARIMA(0, 2, 0)x(1, 3, 1, 12) - AIC:19531.431259521185\n",
      "SARIMA(0, 2, 0)x(1, 3, 2, 12) - AIC:19274.579242459367\n",
      "SARIMA(0, 2, 0)x(1, 3, 3, 12) - AIC:19026.60490618494\n",
      "SARIMA(0, 2, 0)x(2, 0, 0, 12) - AIC:17994.402601417303\n",
      "SARIMA(0, 2, 0)x(2, 0, 1, 12) - AIC:17986.28142902245\n",
      "SARIMA(0, 2, 0)x(2, 0, 2, 12) - AIC:17960.924977612452\n",
      "SARIMA(0, 2, 0)x(2, 0, 3, 12) - AIC:17652.43813010856\n",
      "SARIMA(0, 2, 0)x(2, 1, 0, 12) - AIC:18129.49142474394\n",
      "SARIMA(0, 2, 0)x(2, 1, 1, 12) - AIC:17870.793310584835\n",
      "SARIMA(0, 2, 0)x(2, 1, 2, 12) - AIC:17836.523488935174\n",
      "SARIMA(0, 2, 0)x(2, 1, 3, 12) - AIC:17549.784315004028\n",
      "SARIMA(0, 2, 0)x(2, 2, 0, 12) - AIC:18473.575101691953\n",
      "SARIMA(0, 2, 0)x(2, 2, 1, 12) - AIC:18084.146241312632\n",
      "SARIMA(0, 2, 0)x(2, 2, 2, 12) - AIC:18055.525039888416\n",
      "SARIMA(0, 2, 0)x(2, 2, 3, 12) - AIC:17694.460040629878\n",
      "SARIMA(0, 2, 0)x(2, 3, 0, 12) - AIC:19045.693670446624\n",
      "SARIMA(0, 2, 0)x(2, 3, 1, 12) - AIC:19043.34067104051\n",
      "SARIMA(0, 2, 0)x(2, 3, 2, 12) - AIC:18881.07462513099\n"
     ]
    },
    {
     "name": "stderr",
     "output_type": "stream",
     "text": [
      "/anaconda3/lib/python3.6/site-packages/statsmodels/base/model.py:508: ConvergenceWarning: Maximum Likelihood optimization failed to converge. Check mle_retvals\n",
      "  \"Check mle_retvals\", ConvergenceWarning)\n"
     ]
    },
    {
     "name": "stdout",
     "output_type": "stream",
     "text": [
      "SARIMA(0, 2, 0)x(2, 3, 3, 12) - AIC:17911.835655147504\n",
      "SARIMA(0, 2, 0)x(3, 0, 0, 12) - AIC:17775.51260526962\n",
      "SARIMA(0, 2, 0)x(3, 0, 1, 12) - AIC:17761.238696811502\n",
      "SARIMA(0, 2, 0)x(3, 0, 2, 12) - AIC:17662.125151219345\n",
      "SARIMA(0, 2, 0)x(3, 0, 3, 12) - AIC:17650.910369718193\n",
      "SARIMA(0, 2, 0)x(3, 1, 0, 12) - AIC:17879.98164442539\n",
      "SARIMA(0, 2, 0)x(3, 1, 1, 12) - AIC:17590.47182879942\n",
      "SARIMA(0, 2, 0)x(3, 1, 2, 12) - AIC:17627.930586101003\n",
      "SARIMA(0, 2, 0)x(3, 1, 3, 12) - AIC:17614.04337851381\n",
      "SARIMA(0, 2, 0)x(3, 2, 0, 12) - AIC:18153.41091173101\n",
      "SARIMA(0, 2, 0)x(3, 2, 1, 12) - AIC:17793.562319194683\n",
      "SARIMA(0, 2, 0)x(3, 2, 2, 12) - AIC:17805.130621760924\n",
      "SARIMA(0, 2, 0)x(3, 2, 3, 12) - AIC:17648.774750257886\n",
      "SARIMA(0, 2, 0)x(3, 3, 0, 12) - AIC:18692.40610908466\n",
      "SARIMA(0, 2, 0)x(3, 3, 1, 12) - AIC:18674.976141152292\n",
      "SARIMA(0, 2, 0)x(3, 3, 2, 12) - AIC:18541.85152928945\n",
      "SARIMA(0, 2, 0)x(3, 3, 3, 12) - AIC:18479.62089215098\n",
      "SARIMA(0, 2, 1)x(0, 0, 0, 12) - AIC:17787.43890217459\n",
      "SARIMA(0, 2, 1)x(0, 0, 1, 12) - AIC:17515.64523359383\n",
      "SARIMA(0, 2, 1)x(0, 0, 2, 12) - AIC:17298.755359549294\n",
      "SARIMA(0, 2, 1)x(0, 0, 3, 12) - AIC:17089.314817357743\n"
     ]
    },
    {
     "name": "stderr",
     "output_type": "stream",
     "text": [
      "/anaconda3/lib/python3.6/site-packages/statsmodels/base/model.py:508: ConvergenceWarning: Maximum Likelihood optimization failed to converge. Check mle_retvals\n",
      "  \"Check mle_retvals\", ConvergenceWarning)\n"
     ]
    },
    {
     "name": "stdout",
     "output_type": "stream",
     "text": [
      "SARIMA(0, 2, 1)x(0, 1, 0, 12) - AIC:18473.2212264116\n",
      "SARIMA(0, 2, 1)x(0, 1, 1, 12) - AIC:17919.828443348873\n",
      "SARIMA(0, 2, 1)x(0, 1, 2, 12) - AIC:17676.420131160146\n",
      "SARIMA(0, 2, 1)x(0, 1, 3, 12) - AIC:17453.904109845193\n",
      "SARIMA(0, 2, 1)x(0, 2, 0, 12) - AIC:19348.00227401708\n",
      "SARIMA(0, 2, 1)x(0, 2, 1, 12) - AIC:18743.571117304997\n"
     ]
    },
    {
     "name": "stderr",
     "output_type": "stream",
     "text": [
      "/anaconda3/lib/python3.6/site-packages/statsmodels/base/model.py:508: ConvergenceWarning: Maximum Likelihood optimization failed to converge. Check mle_retvals\n",
      "  \"Check mle_retvals\", ConvergenceWarning)\n"
     ]
    },
    {
     "name": "stdout",
     "output_type": "stream",
     "text": [
      "SARIMA(0, 2, 1)x(0, 2, 2, 12) - AIC:17027.30138571441\n"
     ]
    },
    {
     "name": "stderr",
     "output_type": "stream",
     "text": [
      "/anaconda3/lib/python3.6/site-packages/statsmodels/base/model.py:508: ConvergenceWarning: Maximum Likelihood optimization failed to converge. Check mle_retvals\n",
      "  \"Check mle_retvals\", ConvergenceWarning)\n"
     ]
    },
    {
     "name": "stdout",
     "output_type": "stream",
     "text": [
      "SARIMA(0, 2, 1)x(0, 2, 3, 12) - AIC:17548.58087871403\n",
      "SARIMA(0, 2, 1)x(0, 3, 0, 12) - AIC:20513.17543752544\n",
      "SARIMA(0, 2, 1)x(0, 3, 1, 12) - AIC:20139.6371206587\n",
      "SARIMA(0, 2, 1)x(0, 3, 2, 12) - AIC:17397.096517298054\n"
     ]
    },
    {
     "name": "stderr",
     "output_type": "stream",
     "text": [
      "/anaconda3/lib/python3.6/site-packages/statsmodels/base/model.py:508: ConvergenceWarning: Maximum Likelihood optimization failed to converge. Check mle_retvals\n",
      "  \"Check mle_retvals\", ConvergenceWarning)\n"
     ]
    },
    {
     "name": "stdout",
     "output_type": "stream",
     "text": [
      "SARIMA(0, 2, 1)x(0, 3, 3, 12) - AIC:19479.68650666428\n",
      "SARIMA(0, 2, 1)x(1, 0, 0, 12) - AIC:17483.97654922952\n",
      "SARIMA(0, 2, 1)x(1, 0, 1, 12) - AIC:17513.419930885713\n",
      "SARIMA(0, 2, 1)x(1, 0, 2, 12) - AIC:17285.722230131276\n",
      "SARIMA(0, 2, 1)x(1, 0, 3, 12) - AIC:17079.446657109882\n",
      "SARIMA(0, 2, 1)x(1, 1, 0, 12) - AIC:18119.740927842562\n",
      "SARIMA(0, 2, 1)x(1, 1, 1, 12) - AIC:17909.177618718153\n",
      "SARIMA(0, 2, 1)x(1, 1, 2, 12) - AIC:17677.6851695288\n",
      "SARIMA(0, 2, 1)x(1, 1, 3, 12) - AIC:17446.5328718646\n",
      "SARIMA(0, 2, 1)x(1, 2, 0, 12) - AIC:18911.988372000298\n",
      "SARIMA(0, 2, 1)x(1, 2, 1, 12) - AIC:18692.97081403027\n",
      "SARIMA(0, 2, 1)x(1, 2, 2, 12) - AIC:18417.668893712085\n"
     ]
    },
    {
     "name": "stderr",
     "output_type": "stream",
     "text": [
      "/anaconda3/lib/python3.6/site-packages/statsmodels/base/model.py:508: ConvergenceWarning: Maximum Likelihood optimization failed to converge. Check mle_retvals\n",
      "  \"Check mle_retvals\", ConvergenceWarning)\n"
     ]
    },
    {
     "name": "stdout",
     "output_type": "stream",
     "text": [
      "SARIMA(0, 2, 1)x(1, 2, 3, 12) - AIC:18148.025102641426\n",
      "SARIMA(0, 2, 1)x(1, 3, 0, 12) - AIC:20177.21119484678\n",
      "SARIMA(0, 2, 1)x(1, 3, 1, 12) - AIC:nan\n",
      "SARIMA(0, 2, 1)x(1, 3, 2, 12) - AIC:nan\n",
      "SARIMA(0, 2, 1)x(1, 3, 3, 12) - AIC:nan\n",
      "SARIMA(0, 2, 1)x(2, 0, 0, 12) - AIC:17329.21590437941\n",
      "SARIMA(0, 2, 1)x(2, 0, 1, 12) - AIC:17331.201483280114\n",
      "SARIMA(0, 2, 1)x(2, 0, 2, 12) - AIC:17287.650775023285\n",
      "SARIMA(0, 2, 1)x(2, 0, 3, 12) - AIC:17011.53903077401\n",
      "SARIMA(0, 2, 1)x(2, 1, 0, 12) - AIC:17414.698782421492\n",
      "SARIMA(0, 2, 1)x(2, 1, 1, 12) - AIC:17069.18076102262\n"
     ]
    },
    {
     "name": "stderr",
     "output_type": "stream",
     "text": [
      "/anaconda3/lib/python3.6/site-packages/statsmodels/base/model.py:508: ConvergenceWarning: Maximum Likelihood optimization failed to converge. Check mle_retvals\n",
      "  \"Check mle_retvals\", ConvergenceWarning)\n"
     ]
    },
    {
     "name": "stdout",
     "output_type": "stream",
     "text": [
      "SARIMA(0, 2, 1)x(2, 1, 2, 12) - AIC:17471.811727962795\n"
     ]
    },
    {
     "name": "stderr",
     "output_type": "stream",
     "text": [
      "/anaconda3/lib/python3.6/site-packages/statsmodels/base/model.py:508: ConvergenceWarning: Maximum Likelihood optimization failed to converge. Check mle_retvals\n",
      "  \"Check mle_retvals\", ConvergenceWarning)\n"
     ]
    },
    {
     "name": "stdout",
     "output_type": "stream",
     "text": [
      "SARIMA(0, 2, 1)x(2, 1, 3, 12) - AIC:17348.57084955102\n",
      "SARIMA(0, 2, 1)x(2, 2, 0, 12) - AIC:18566.889402207722\n",
      "SARIMA(0, 2, 1)x(2, 2, 1, 12) - AIC:17253.863811441403\n"
     ]
    },
    {
     "name": "stderr",
     "output_type": "stream",
     "text": [
      "/anaconda3/lib/python3.6/site-packages/statsmodels/base/model.py:508: ConvergenceWarning: Maximum Likelihood optimization failed to converge. Check mle_retvals\n",
      "  \"Check mle_retvals\", ConvergenceWarning)\n"
     ]
    },
    {
     "name": "stdout",
     "output_type": "stream",
     "text": [
      "SARIMA(0, 2, 1)x(2, 2, 2, 12) - AIC:18280.883405530363\n"
     ]
    },
    {
     "name": "stderr",
     "output_type": "stream",
     "text": [
      "/anaconda3/lib/python3.6/site-packages/statsmodels/base/model.py:508: ConvergenceWarning: Maximum Likelihood optimization failed to converge. Check mle_retvals\n",
      "  \"Check mle_retvals\", ConvergenceWarning)\n"
     ]
    },
    {
     "name": "stdout",
     "output_type": "stream",
     "text": [
      "SARIMA(0, 2, 1)x(2, 2, 3, 12) - AIC:18075.27067768783\n",
      "SARIMA(0, 2, 1)x(2, 3, 0, 12) - AIC:19917.33279704982\n",
      "SARIMA(0, 2, 1)x(2, 3, 1, 12) - AIC:nan\n"
     ]
    }
   ],
   "source": [
    "for param in pdq:\n",
    "    for seasonal_param in pdq_x_PDQ:\n",
    "        try:\n",
    "            mod = sm.tsa.statespace.SARIMAX(df['nb'],\n",
    "                                            order=param,\n",
    "                                            seasonal_order=seasonal_param,\n",
    "                                            enforce_stationarity=False,\n",
    "                                            enforce_invertibility=False)\n",
    "            results = mod.fit()\n",
    "            print('SARIMA{}x{} - AIC:{}'.format(param, seasonal_param, results.aic))\n",
    "            with open('param.json','w') as out_param:\n",
    "                json.dump(param, out_param)\n",
    "        except:\n",
    "            continue"
   ]
  },
  {
   "cell_type": "code",
   "execution_count": 40,
   "metadata": {},
   "outputs": [
    {
     "name": "stdout",
     "output_type": "stream",
     "text": [
      "SARIMA(1, 1, 1)x(1, 1, 1, 12) - AIC:17299.422363435377\n"
     ]
    }
   ],
   "source": [
    "print('SARIMA{}x{} - AIC:{}'.format(param, seasonal_param, results.aic))"
   ]
  },
  {
   "cell_type": "code",
   "execution_count": 41,
   "metadata": {},
   "outputs": [
    {
     "data": {
      "text/plain": [
       "(1, 1, 1)"
      ]
     },
     "execution_count": 41,
     "metadata": {},
     "output_type": "execute_result"
    }
   ],
   "source": [
    "param"
   ]
  },
  {
   "cell_type": "code",
   "execution_count": 42,
   "metadata": {},
   "outputs": [
    {
     "data": {
      "text/plain": [
       "(1, 1, 1, 12)"
      ]
     },
     "execution_count": 42,
     "metadata": {},
     "output_type": "execute_result"
    }
   ],
   "source": [
    "seasonal_param"
   ]
  },
  {
   "cell_type": "code",
   "execution_count": null,
   "metadata": {},
   "outputs": [],
   "source": [
    "import re\n",
    "model_params = [int(s) for s in re.findall(r'\\b\\d+\\b', cfg)]\n",
    "p = model_params[0]\n",
    "d = model_params[1]\n",
    "q = model_params[2]\n",
    "P = model_params[3]\n",
    "D = model_params[4]\n",
    "Q = model_params[5]\n",
    "\n",
    "model = sm.tsa.statespace.SARIMAX(df_SoEu['nb'], \n",
    "                                order=(p,d,q), \n",
    "                                seasonal_order=(P,D,Q,12),   \n",
    "                                enforce_stationarity=False,\n",
    "                                enforce_invertibility=False)\n",
    "results = model.fit()\n",
    "print(results.summary())"
   ]
  },
  {
   "cell_type": "code",
   "execution_count": null,
   "metadata": {},
   "outputs": [],
   "source": []
  },
  {
   "cell_type": "code",
   "execution_count": null,
   "metadata": {},
   "outputs": [],
   "source": []
  },
  {
   "cell_type": "code",
   "execution_count": null,
   "metadata": {},
   "outputs": [],
   "source": []
  },
  {
   "cell_type": "code",
   "execution_count": null,
   "metadata": {},
   "outputs": [],
   "source": []
  },
  {
   "cell_type": "code",
   "execution_count": 47,
   "metadata": {},
   "outputs": [
    {
     "name": "stdout",
     "output_type": "stream",
     "text": [
      "                                 Statespace Model Results                                 \n",
      "==========================================================================================\n",
      "Dep. Variable:                                 nb   No. Observations:                  998\n",
      "Model:             SARIMAX(2, 1, 0)x(2, 1, 0, 12)   Log Likelihood               -8638.535\n",
      "Date:                            Wed, 07 Nov 2018   AIC                          17291.071\n",
      "Time:                                    16:07:54   BIC                          17325.132\n",
      "Sample:                                         0   HQIC                         17304.043\n",
      "                                            - 998                                         \n",
      "Covariance Type:                              opg                                         \n",
      "==============================================================================\n",
      "                 coef    std err          z      P>|z|      [0.025      0.975]\n",
      "------------------------------------------------------------------------------\n",
      "intercept    -15.0607    177.744     -0.085      0.932    -363.433     333.312\n",
      "drift          0.0176      0.271      0.065      0.948      -0.514       0.549\n",
      "ar.L1         -0.2875      0.027    -10.567      0.000      -0.341      -0.234\n",
      "ar.L2         -0.3996      0.026    -15.648      0.000      -0.450      -0.350\n",
      "ar.S.L12      -0.6275      0.023    -27.687      0.000      -0.672      -0.583\n",
      "ar.S.L24      -0.6190      0.025    -25.007      0.000      -0.668      -0.571\n",
      "sigma2      3.905e+06   1.43e+05     27.349      0.000    3.63e+06    4.19e+06\n",
      "===================================================================================\n",
      "Ljung-Box (Q):                     1628.01   Jarque-Bera (JB):               193.39\n",
      "Prob(Q):                              0.00   Prob(JB):                         0.00\n",
      "Heteroskedasticity (H):               3.75   Skew:                             0.42\n",
      "Prob(H) (two-sided):                  0.00   Kurtosis:                         5.03\n",
      "===================================================================================\n",
      "\n",
      "Warnings:\n",
      "[1] Covariance matrix calculated using the outer product of gradients (complex-step).\n"
     ]
    },
    {
     "data": {
      "text/plain": [
       "<matplotlib.axes._subplots.AxesSubplot at 0x1c1ccd2978>"
      ]
     },
     "execution_count": 47,
     "metadata": {},
     "output_type": "execute_result"
    },
    {
     "data": {
      "image/png": "[encoded data removed]",
      "text/plain": [
       "<Figure size 432x288 with 1 Axes>"
      ]
     },
     "metadata": {},
     "output_type": "display_data"
    }
   ],
   "source": [
    "# This was the best model with the lowest AIC (detected manually)\n",
    "# SARIMA(2, 1, 2)x(0, 1, 2, 12) - AIC:16750.35992425388\n",
    "# ---------------------------------------------------------------\n",
    "\n",
    "### CHANGE order & seasonal_order HERE\n",
    "### ------   ### ---------- ### ------\n",
    "\n",
    "mod = sm.tsa.statespace.SARIMAX(df['nb'], \n",
    "                                trend='ct',\n",
    "                                order=param, \n",
    "                                seasonal_order=seasonal_param,   \n",
    "                                enforce_stationarity=False,\n",
    "                                enforce_invertibility=False)\n",
    "results = mod.fit()\n",
    "print(results.summary())\n",
    "\n",
    "h = 442\n",
    "forecast = results.forecast(h)\n",
    "forecast.plot()"
   ]
  },
  {
   "cell_type": "code",
   "execution_count": 22,
   "metadata": {},
   "outputs": [
    {
     "data": {
      "text/plain": [
       "<matplotlib.axes._subplots.AxesSubplot at 0x1c0c0f5f60>"
      ]
     },
     "execution_count": 22,
     "metadata": {},
     "output_type": "execute_result"
    },
    {
     "data": {
      "image/png": "[encoded data removed]",
      "text/plain": [
       "<Figure size 432x288 with 1 Axes>"
      ]
     },
     "metadata": {},
     "output_type": "display_data"
    }
   ],
   "source": [
    "# check errors\n",
    "results.resid.plot()"
   ]
  },
  {
   "cell_type": "code",
   "execution_count": 23,
   "metadata": {},
   "outputs": [
    {
     "name": "stdout",
     "output_type": "stream",
     "text": [
      "count     998.000000\n",
      "mean        3.497017\n",
      "std      1519.003102\n",
      "min     -7081.180335\n",
      "25%      -868.867750\n",
      "50%      -105.389283\n",
      "75%       639.040713\n",
      "max      8611.291991\n",
      "dtype: float64\n"
     ]
    }
   ],
   "source": [
    "print(results.resid.describe())"
   ]
  },
  {
   "cell_type": "code",
   "execution_count": 24,
   "metadata": {},
   "outputs": [
    {
     "data": {
      "text/plain": [
       "<matplotlib.axes._subplots.AxesSubplot at 0x1c0c109f60>"
      ]
     },
     "execution_count": 24,
     "metadata": {},
     "output_type": "execute_result"
    },
    {
     "data": {
      "image/png": "[encoded data removed]",
      "text/plain": [
       "<Figure size 432x288 with 1 Axes>"
      ]
     },
     "metadata": {},
     "output_type": "display_data"
    }
   ],
   "source": [
    "results.resid.plot(kind='kde')"
   ]
  },
  {
   "cell_type": "code",
   "execution_count": 25,
   "metadata": {},
   "outputs": [
    {
     "data": {
      "image/png": "[encoded data removed]",
      "text/plain": [
       "<Figure size 1080x864 with 4 Axes>"
      ]
     },
     "metadata": {},
     "output_type": "display_data"
    }
   ],
   "source": [
    "results.plot_diagnostics(figsize=(15, 12))\n",
    "plt.show()"
   ]
  },
  {
   "cell_type": "code",
   "execution_count": 27,
   "metadata": {},
   "outputs": [
    {
     "name": "stdout",
     "output_type": "stream",
     "text": [
      "<class 'pandas.core.frame.DataFrame'>\n",
      "RangeIndex: 998 entries, 0 to 997\n",
      "Data columns (total 12 columns):\n",
      "date         998 non-null object\n",
      "region       998 non-null object\n",
      "marketing    998 non-null object\n",
      "visits       998 non-null int64\n",
      "br           998 non-null int64\n",
      "inq          998 non-null int64\n",
      "gb           998 non-null int64\n",
      "cb           998 non-null int64\n",
      "nb           998 non-null int64\n",
      "ss           998 non-null float64\n",
      "ts           998 non-null float64\n",
      "listings     998 non-null int64\n",
      "dtypes: float64(2), int64(7), object(3)\n",
      "memory usage: 93.6+ KB\n"
     ]
    }
   ],
   "source": [
    "df.info()"
   ]
  },
  {
   "cell_type": "code",
   "execution_count": null,
   "metadata": {},
   "outputs": [],
   "source": []
  },
  {
   "cell_type": "code",
   "execution_count": null,
   "metadata": {},
   "outputs": [],
   "source": []
  },
  {
   "cell_type": "code",
   "execution_count": 32,
   "metadata": {},
   "outputs": [
    {
     "data": {
      "text/html": [
       "<div>\n",
       "<style scoped>\n",
       "    .dataframe tbody tr th:only-of-type {\n",
       "        vertical-align: middle;\n",
       "    }\n",
       "\n",
       "    .dataframe tbody tr th {\n",
       "        vertical-align: top;\n",
       "    }\n",
       "\n",
       "    .dataframe thead th {\n",
       "        text-align: right;\n",
       "    }\n",
       "</style>\n",
       "<table border=\"1\" class=\"dataframe\">\n",
       "  <thead>\n",
       "    <tr style=\"text-align: right;\">\n",
       "      <th></th>\n",
       "      <th>lower nb</th>\n",
       "      <th>upper nb</th>\n",
       "    </tr>\n",
       "  </thead>\n",
       "  <tbody>\n",
       "    <tr>\n",
       "      <th>999</th>\n",
       "      <td>12641.722338</td>\n",
       "      <td>19880.449091</td>\n",
       "    </tr>\n",
       "    <tr>\n",
       "      <th>1000</th>\n",
       "      <td>11999.585008</td>\n",
       "      <td>19643.286887</td>\n",
       "    </tr>\n",
       "    <tr>\n",
       "      <th>1001</th>\n",
       "      <td>10812.358114</td>\n",
       "      <td>18594.166545</td>\n",
       "    </tr>\n",
       "    <tr>\n",
       "      <th>1002</th>\n",
       "      <td>11317.359367</td>\n",
       "      <td>19281.207384</td>\n",
       "    </tr>\n",
       "    <tr>\n",
       "      <th>1003</th>\n",
       "      <td>11619.061761</td>\n",
       "      <td>20031.841767</td>\n",
       "    </tr>\n",
       "  </tbody>\n",
       "</table>\n",
       "</div>"
      ],
      "text/plain": [
       "          lower nb      upper nb\n",
       "999   12641.722338  19880.449091\n",
       "1000  11999.585008  19643.286887\n",
       "1001  10812.358114  18594.166545\n",
       "1002  11317.359367  19281.207384\n",
       "1003  11619.061761  20031.841767"
      ]
     },
     "execution_count": 32,
     "metadata": {},
     "output_type": "execute_result"
    }
   ],
   "source": [
    "pred = results.get_prediction(start = 999, end = 1118, dynamic=False)\n",
    "pred_ci = pred.conf_int()\n",
    "pred_ci.head()"
   ]
  },
  {
   "cell_type": "code",
   "execution_count": 37,
   "metadata": {},
   "outputs": [
    {
     "data": {
      "text/plain": [
       "count      120.000000\n",
       "mean     15734.283544\n",
       "std        170.318344\n",
       "min      14703.262330\n",
       "25%      15688.603021\n",
       "50%      15762.118940\n",
       "75%      15792.372398\n",
       "max      16261.085714\n",
       "dtype: float64"
      ]
     },
     "execution_count": 37,
     "metadata": {},
     "output_type": "execute_result"
    }
   ],
   "source": [
    "nb_forecast.describe()"
   ]
  },
  {
   "cell_type": "code",
   "execution_count": 35,
   "metadata": {},
   "outputs": [
    {
     "name": "stdout",
     "output_type": "stream",
     "text": [
      "The Mean Squared Error (MSE) of the forecast is nan\n",
      "The Root Mean Square Error (RMSE) of the forecast: nan\n"
     ]
    }
   ],
   "source": [
    "nb_forecast = pred.predicted_mean  # this only has the forecasted 120 time points\n",
    "nb_truth = df['nb']  # this is the observed data 998 time points\n",
    "\n",
    "# Compute the mean square error\n",
    "mse = ((nb_forecast - nb_truth) ** 2).mean()\n",
    "print('The Mean Squared Error (MSE) of the forecast is {}'.format(round(mse, 2)))\n",
    "print('The Root Mean Square Error (RMSE) of the forecast: {:.4f}'\n",
    "      .format(np.sqrt(sum((nb_forecast-nb_truth)**2)/len(nb_forecast))))\n"
   ]
  },
  {
   "cell_type": "code",
   "execution_count": null,
   "metadata": {},
   "outputs": [],
   "source": [
    "nb_pred_concat = pd.concat([nb_truth, nb_forecast])"
   ]
  },
  {
   "cell_type": "code",
   "execution_count": 39,
   "metadata": {},
   "outputs": [],
   "source": [
    "pred_dynamic = results.get_prediction(start = 999, end = 1118, dynamic=True, full_results=True)\n",
    "pred_dynamic_ci = pred_dynamic.conf_int()"
   ]
  },
  {
   "cell_type": "code",
   "execution_count": null,
   "metadata": {},
   "outputs": [],
   "source": [
    "# Extract the predicted and true values of our time series\n",
    "mte_forecast = pred_dynamic.predicted_mean\n",
    "mte_orginal = mte['2013-01-31':]\n",
    "\n",
    "# Compute the mean square error\n",
    "mse = ((mte_forecast - mte_orginal) ** 2).mean()\n",
    "print('The Mean Squared Error (MSE) of the forecast is {}'.format(round(mse, 2)))\n",
    "print('The Root Mean Square Error (RMSE) of the forcast: {:.4f}'\n",
    "      .format(np.sqrt(sum((mte_forecast-mte_orginal)**2)/len(mte_forecast))))"
   ]
  },
  {
   "cell_type": "code",
   "execution_count": 43,
   "metadata": {},
   "outputs": [
    {
     "data": {
      "text/html": [
       "<div>\n",
       "<style scoped>\n",
       "    .dataframe tbody tr th:only-of-type {\n",
       "        vertical-align: middle;\n",
       "    }\n",
       "\n",
       "    .dataframe tbody tr th {\n",
       "        vertical-align: top;\n",
       "    }\n",
       "\n",
       "    .dataframe thead th {\n",
       "        text-align: right;\n",
       "    }\n",
       "</style>\n",
       "<table border=\"1\" class=\"dataframe\">\n",
       "  <thead>\n",
       "    <tr style=\"text-align: right;\">\n",
       "      <th></th>\n",
       "      <th>lower nb</th>\n",
       "      <th>upper nb</th>\n",
       "    </tr>\n",
       "  </thead>\n",
       "  <tbody>\n",
       "    <tr>\n",
       "      <th>998</th>\n",
       "      <td>13872.319314</td>\n",
       "      <td>19694.982109</td>\n",
       "    </tr>\n",
       "    <tr>\n",
       "      <th>999</th>\n",
       "      <td>12641.722338</td>\n",
       "      <td>19880.449091</td>\n",
       "    </tr>\n",
       "    <tr>\n",
       "      <th>1000</th>\n",
       "      <td>11999.585008</td>\n",
       "      <td>19643.286887</td>\n",
       "    </tr>\n",
       "    <tr>\n",
       "      <th>1001</th>\n",
       "      <td>10812.358114</td>\n",
       "      <td>18594.166545</td>\n",
       "    </tr>\n",
       "    <tr>\n",
       "      <th>1002</th>\n",
       "      <td>11317.359367</td>\n",
       "      <td>19281.207384</td>\n",
       "    </tr>\n",
       "  </tbody>\n",
       "</table>\n",
       "</div>"
      ],
      "text/plain": [
       "          lower nb      upper nb\n",
       "998   13872.319314  19694.982109\n",
       "999   12641.722338  19880.449091\n",
       "1000  11999.585008  19643.286887\n",
       "1001  10812.358114  18594.166545\n",
       "1002  11317.359367  19281.207384"
      ]
     },
     "execution_count": 43,
     "metadata": {},
     "output_type": "execute_result"
    }
   ],
   "source": [
    "# Forecasting\n",
    "\n",
    "# Get forecast of 10 years or 120 months steps ahead in future\n",
    "forecast = results.get_forecast(steps = 120)\n",
    "# Get confidence intervals of forecasts\n",
    "forecast_ci = forecast.conf_int()\n",
    "forecast_ci.head()\n"
   ]
  },
  {
   "cell_type": "code",
   "execution_count": null,
   "metadata": {},
   "outputs": [],
   "source": []
  },
  {
   "cell_type": "code",
   "execution_count": null,
   "metadata": {},
   "outputs": [],
   "source": []
  },
  {
   "cell_type": "code",
   "execution_count": null,
   "metadata": {},
   "outputs": [],
   "source": []
  },
  {
   "cell_type": "code",
   "execution_count": 21,
   "metadata": {},
   "outputs": [
    {
     "data": {
      "text/html": [
       "<div>\n",
       "<style scoped>\n",
       "    .dataframe tbody tr th:only-of-type {\n",
       "        vertical-align: middle;\n",
       "    }\n",
       "\n",
       "    .dataframe tbody tr th {\n",
       "        vertical-align: top;\n",
       "    }\n",
       "\n",
       "    .dataframe thead th {\n",
       "        text-align: right;\n",
       "    }\n",
       "</style>\n",
       "<table border=\"1\" class=\"dataframe\">\n",
       "  <thead>\n",
       "    <tr style=\"text-align: right;\">\n",
       "      <th></th>\n",
       "      <th>visits</th>\n",
       "      <th>br</th>\n",
       "      <th>inq</th>\n",
       "      <th>gb</th>\n",
       "      <th>cb</th>\n",
       "      <th>nb</th>\n",
       "      <th>ss</th>\n",
       "      <th>ts</th>\n",
       "      <th>listings</th>\n",
       "    </tr>\n",
       "  </thead>\n",
       "  <tbody>\n",
       "    <tr>\n",
       "      <th>count</th>\n",
       "      <td>1019.000000</td>\n",
       "      <td>1019.000000</td>\n",
       "      <td>1019.000000</td>\n",
       "      <td>1019.000000</td>\n",
       "      <td>1019.000000</td>\n",
       "      <td>1019.000000</td>\n",
       "      <td>1019.000000</td>\n",
       "      <td>1019.000000</td>\n",
       "      <td>1.019000e+03</td>\n",
       "    </tr>\n",
       "    <tr>\n",
       "      <th>mean</th>\n",
       "      <td>75323.031403</td>\n",
       "      <td>127.437684</td>\n",
       "      <td>1870.481845</td>\n",
       "      <td>71.300294</td>\n",
       "      <td>10.877331</td>\n",
       "      <td>60.422964</td>\n",
       "      <td>274.992046</td>\n",
       "      <td>4891.324946</td>\n",
       "      <td>1.258473e+06</td>\n",
       "    </tr>\n",
       "    <tr>\n",
       "      <th>std</th>\n",
       "      <td>30668.661438</td>\n",
       "      <td>59.993490</td>\n",
       "      <td>1373.247034</td>\n",
       "      <td>33.129444</td>\n",
       "      <td>8.420766</td>\n",
       "      <td>28.531110</td>\n",
       "      <td>611.260040</td>\n",
       "      <td>3749.940108</td>\n",
       "      <td>2.592105e+05</td>\n",
       "    </tr>\n",
       "    <tr>\n",
       "      <th>min</th>\n",
       "      <td>13699.000000</td>\n",
       "      <td>12.000000</td>\n",
       "      <td>227.000000</td>\n",
       "      <td>7.000000</td>\n",
       "      <td>0.000000</td>\n",
       "      <td>-55.000000</td>\n",
       "      <td>0.000000</td>\n",
       "      <td>-13107.894210</td>\n",
       "      <td>1.688280e+05</td>\n",
       "    </tr>\n",
       "    <tr>\n",
       "      <th>25%</th>\n",
       "      <td>54087.000000</td>\n",
       "      <td>77.000000</td>\n",
       "      <td>769.500000</td>\n",
       "      <td>43.500000</td>\n",
       "      <td>5.000000</td>\n",
       "      <td>38.000000</td>\n",
       "      <td>0.000000</td>\n",
       "      <td>1778.225913</td>\n",
       "      <td>1.116910e+06</td>\n",
       "    </tr>\n",
       "    <tr>\n",
       "      <th>50%</th>\n",
       "      <td>71396.000000</td>\n",
       "      <td>126.000000</td>\n",
       "      <td>1305.000000</td>\n",
       "      <td>71.000000</td>\n",
       "      <td>10.000000</td>\n",
       "      <td>60.000000</td>\n",
       "      <td>0.000000</td>\n",
       "      <td>3805.584926</td>\n",
       "      <td>1.294740e+06</td>\n",
       "    </tr>\n",
       "    <tr>\n",
       "      <th>75%</th>\n",
       "      <td>93718.500000</td>\n",
       "      <td>171.500000</td>\n",
       "      <td>2777.000000</td>\n",
       "      <td>97.000000</td>\n",
       "      <td>15.000000</td>\n",
       "      <td>81.000000</td>\n",
       "      <td>0.000000</td>\n",
       "      <td>7491.486037</td>\n",
       "      <td>1.429740e+06</td>\n",
       "    </tr>\n",
       "    <tr>\n",
       "      <th>max</th>\n",
       "      <td>189138.000000</td>\n",
       "      <td>340.000000</td>\n",
       "      <td>7011.000000</td>\n",
       "      <td>168.000000</td>\n",
       "      <td>145.000000</td>\n",
       "      <td>148.000000</td>\n",
       "      <td>5274.656665</td>\n",
       "      <td>18210.860160</td>\n",
       "      <td>1.710540e+06</td>\n",
       "    </tr>\n",
       "  </tbody>\n",
       "</table>\n",
       "</div>"
      ],
      "text/plain": [
       "              visits           br          inq           gb           cb  \\\n",
       "count    1019.000000  1019.000000  1019.000000  1019.000000  1019.000000   \n",
       "mean    75323.031403   127.437684  1870.481845    71.300294    10.877331   \n",
       "std     30668.661438    59.993490  1373.247034    33.129444     8.420766   \n",
       "min     13699.000000    12.000000   227.000000     7.000000     0.000000   \n",
       "25%     54087.000000    77.000000   769.500000    43.500000     5.000000   \n",
       "50%     71396.000000   126.000000  1305.000000    71.000000    10.000000   \n",
       "75%     93718.500000   171.500000  2777.000000    97.000000    15.000000   \n",
       "max    189138.000000   340.000000  7011.000000   168.000000   145.000000   \n",
       "\n",
       "                nb           ss            ts      listings  \n",
       "count  1019.000000  1019.000000   1019.000000  1.019000e+03  \n",
       "mean     60.422964   274.992046   4891.324946  1.258473e+06  \n",
       "std      28.531110   611.260040   3749.940108  2.592105e+05  \n",
       "min     -55.000000     0.000000 -13107.894210  1.688280e+05  \n",
       "25%      38.000000     0.000000   1778.225913  1.116910e+06  \n",
       "50%      60.000000     0.000000   3805.584926  1.294740e+06  \n",
       "75%      81.000000     0.000000   7491.486037  1.429740e+06  \n",
       "max     148.000000  5274.656665  18210.860160  1.710540e+06  "
      ]
     },
     "execution_count": 21,
     "metadata": {},
     "output_type": "execute_result"
    }
   ],
   "source": [
    "# load dataset\n",
    "import os\n",
    "import pandas as pd\n",
    "import matplotlib.pyplot as plt\n",
    "import pickle\n",
    "import simplejson as json\n",
    "from statsmodels.tsa.statespace.sarimax import SARIMAX\n",
    "import statsmodels.api as sm\n",
    "\n",
    "df = pd.read_csv(\"/users/akuppam/documents/Hprog/R/Prophet/rnb1015.csv\")\n",
    "df_SoEu = df.loc[(df['region'] == 'SoEu') & (df['marketing'] == 'Paid')]\n",
    "df_SoEu.describe()"
   ]
  },
  {
   "cell_type": "code",
   "execution_count": 22,
   "metadata": {},
   "outputs": [
    {
     "name": "stdout",
     "output_type": "stream",
     "text": [
      " > Model[[(0, 0, 0), (0, 0, 0, 12), 'n']] 79.971\n",
      " > Model[[(0, 0, 0), (0, 1, 0, 12), 'n']] 31.208\n",
      " > Model[[(0, 0, 0), (0, 2, 0, 12), 'n']] 47.953\n",
      " > Model[[(0, 0, 0), (1, 0, 0, 12), 'n']] 30.713\n",
      " > Model[[(0, 0, 0), (0, 0, 1, 12), 'n']] 51.114\n",
      " > Model[[(0, 0, 0), (0, 1, 1, 12), 'n']] 29.654\n",
      " > Model[[(0, 0, 0), (1, 0, 1, 12), 'n']] 29.416\n",
      " > Model[[(0, 0, 0), (1, 1, 0, 12), 'n']] 30.448\n",
      " > Model[[(0, 0, 0), (1, 1, 1, 12), 'n']] 29.319\n",
      " > Model[[(0, 0, 0), (1, 2, 0, 12), 'n']] 39.695\n",
      " > Model[[(0, 0, 0), (1, 0, 2, 12), 'n']] 29.027\n",
      " > Model[[(0, 0, 0), (0, 1, 2, 12), 'n']] 29.232\n",
      " > Model[[(0, 0, 0), (0, 0, 2, 12), 'n']] 42.896\n",
      " > Model[[(0, 0, 0), (2, 0, 0, 12), 'n']] 30.131\n",
      " > Model[[(0, 0, 0), (2, 0, 1, 12), 'n']] 29.125\n",
      " > Model[[(0, 0, 0), (2, 1, 0, 12), 'n']] 29.544\n",
      " > Model[[(0, 0, 0), (0, 2, 1, 12), 'n']] 31.419\n",
      " > Model[[(0, 0, 0), (2, 1, 1, 12), 'n']] 29.438\n",
      " > Model[[(0, 0, 0), (2, 2, 0, 12), 'n']] 35.348\n",
      " > Model[[(0, 0, 0), (2, 0, 2, 12), 'n']] 28.887\n",
      " > Model[[(0, 0, 0), (1, 1, 2, 12), 'n']] 29.108\n",
      " > Model[[(0, 0, 0), (0, 0, 0, 12), 'c']] 31.449\n",
      " > Model[[(0, 0, 0), (0, 0, 1, 12), 'c']] 27.836\n",
      " > Model[[(0, 0, 0), (0, 1, 0, 12), 'c']] 31.236\n",
      " > Model[[(0, 0, 0), (2, 1, 2, 12), 'n']] 29.449\n",
      " > Model[[(0, 0, 0), (1, 2, 1, 12), 'n']] 30.663\n",
      " > Model[[(0, 0, 0), (0, 1, 1, 12), 'c']] 29.761\n",
      " > Model[[(0, 0, 0), (0, 2, 0, 12), 'c']] 47.977\n",
      " > Model[[(0, 0, 0), (0, 0, 2, 12), 'c']] 27.782\n",
      " > Model[[(0, 0, 0), (1, 0, 0, 12), 'c']] 27.725\n",
      " > Model[[(0, 0, 0), (0, 1, 2, 12), 'c']] 29.351\n",
      " > Model[[(0, 0, 0), (0, 2, 2, 12), 'n']] 29.962\n",
      " > Model[[(0, 0, 0), (1, 1, 0, 12), 'c']] 30.502\n",
      " > Model[[(0, 0, 0), (0, 2, 1, 12), 'c']] 31.476\n",
      " > Model[[(0, 0, 0), (1, 1, 1, 12), 'c']] 29.432\n",
      " > Model[[(0, 0, 0), (2, 2, 1, 12), 'n']] 29.819\n",
      " > Model[[(0, 0, 0), (1, 0, 2, 12), 'c']] 27.756\n",
      " > Model[[(0, 0, 0), (1, 2, 0, 12), 'c']] 39.694\n",
      " > Model[[(0, 0, 0), (1, 1, 2, 12), 'c']] 29.226\n",
      " > Model[[(0, 0, 0), (1, 2, 2, 12), 'n']] 29.729\n",
      " > Model[[(0, 0, 0), (1, 2, 1, 12), 'c']] 30.737\n",
      " > Model[[(0, 0, 0), (2, 0, 0, 12), 'c']] 27.960\n",
      " > Model[[(0, 0, 0), (2, 0, 1, 12), 'c']] 27.719\n",
      " > Model[[(0, 0, 0), (2, 1, 0, 12), 'c']] 29.643\n",
      " > Model[[(0, 0, 0), (2, 1, 1, 12), 'c']] 29.541\n",
      " > Model[[(0, 0, 0), (0, 0, 0, 12), 't']] 35.624\n",
      " > Model[[(0, 0, 0), (0, 2, 2, 12), 'c']] 30.056\n",
      " > Model[[(0, 0, 0), (0, 0, 1, 12), 't']] 29.907\n",
      " > Model[[(0, 0, 0), (0, 1, 0, 12), 't']] 31.278\n",
      " > Model[[(0, 0, 0), (2, 0, 2, 12), 'c']] 27.846\n",
      " > Model[[(0, 0, 0), (0, 0, 2, 12), 't']] 29.327\n",
      " > Model[[(0, 0, 0), (0, 1, 1, 12), 't']] 29.871\n",
      " > Model[[(0, 0, 0), (2, 1, 2, 12), 'c']] 29.532\n",
      " > Model[[(0, 0, 0), (0, 2, 0, 12), 't']] 48.014\n",
      " > Model[[(0, 0, 0), (2, 2, 1, 12), 'c']] 29.905\n",
      " > Model[[(0, 0, 0), (1, 0, 1, 12), 't']] 28.844\n",
      " > Model[[(0, 0, 0), (1, 1, 0, 12), 't']] 30.566\n",
      " > Model[[(0, 0, 0), (1, 2, 2, 12), 'c']] 31.575\n",
      " > Model[[(0, 0, 0), (2, 2, 0, 12), 'c']] 35.334\n",
      " > Model[[(0, 0, 0), (0, 2, 1, 12), 't']] 31.584\n",
      " > Model[[(0, 0, 0), (1, 0, 2, 12), 't']] 28.672\n",
      " > Model[[(0, 0, 0), (0, 1, 2, 12), 't']] 29.482\n",
      " > Model[[(0, 0, 0), (1, 1, 1, 12), 't']] 29.560\n",
      " > Model[[(0, 0, 0), (2, 0, 0, 12), 't']] 28.919\n",
      " > Model[[(0, 0, 0), (1, 2, 0, 12), 't']] 39.675\n",
      " > Model[[(0, 0, 0), (1, 1, 2, 12), 't']] 29.340\n",
      " > Model[[(0, 0, 0), (0, 2, 2, 12), 't']] 30.935\n",
      " > Model[[(0, 0, 0), (2, 1, 0, 12), 't']] 29.737\n",
      " > Model[[(0, 0, 0), (0, 0, 0, 12), 'ct']] 27.432\n",
      " > Model[[(0, 0, 0), (0, 0, 1, 12), 'ct']] 25.785\n",
      " > Model[[(0, 0, 0), (0, 1, 0, 12), 'ct']] 31.292\n",
      " > Model[[(0, 0, 0), (2, 1, 1, 12), 't']] 29.652\n",
      " > Model[[(0, 0, 0), (0, 0, 2, 12), 'ct']] 26.234\n",
      " > Model[[(0, 0, 0), (0, 2, 0, 12), 'ct']] 48.029\n",
      " > Model[[(0, 0, 0), (0, 1, 1, 12), 'ct']] 29.782\n",
      " > Model[[(0, 0, 0), (2, 2, 2, 12), 'c']] 71.672\n",
      " > Model[[(0, 0, 0), (2, 1, 2, 12), 't']] 29.708\n",
      " > Model[[(0, 0, 0), (1, 0, 0, 12), 'ct']] 26.835\n",
      " > Model[[(0, 0, 0), (1, 0, 1, 12), 'ct']] 26.723\n",
      " > Model[[(0, 0, 0), (0, 1, 2, 12), 'ct']] 29.392\n",
      " > Model[[(0, 0, 0), (0, 2, 1, 12), 'ct']] 31.932\n",
      " > Model[[(0, 0, 0), (1, 1, 0, 12), 'ct']] 30.545\n",
      " > Model[[(0, 0, 0), (1, 2, 2, 12), 't']] 31.455\n",
      " > Model[[(0, 0, 0), (2, 2, 0, 12), 't']] 35.263\n",
      " > Model[[(0, 0, 0), (1, 0, 2, 12), 'ct']] 26.629\n",
      " > Model[[(0, 0, 0), (1, 1, 1, 12), 'ct']] 29.469\n",
      " > Model[[(0, 0, 0), (2, 2, 1, 12), 't']] 30.137\n",
      " > Model[[(0, 0, 0), (2, 0, 0, 12), 'ct']] 26.411\n",
      " > Model[[(0, 0, 0), (1, 2, 0, 12), 'ct']] 39.627\n",
      " > Model[[(0, 0, 0), (0, 2, 2, 12), 'ct']] 33.311\n",
      " > Model[[(0, 0, 0), (2, 0, 2, 12), 'ct']] 26.339\n",
      " > Model[[(0, 0, 0), (1, 2, 1, 12), 'ct']] 31.628\n",
      " > Model[[(0, 0, 0), (1, 1, 2, 12), 'ct']] 29.282\n",
      " > Model[[(0, 0, 1), (0, 0, 0, 12), 'n']] 47.267\n",
      " > Model[[(0, 0, 1), (0, 0, 1, 12), 'n']] 37.166\n",
      " > Model[[(0, 0, 1), (0, 1, 0, 12), 'n']] 26.883\n",
      " > Model[[(0, 0, 1), (0, 1, 1, 12), 'n']] 23.908\n",
      " > Model[[(0, 0, 1), (0, 0, 2, 12), 'n']] 32.525\n",
      " > Model[[(0, 0, 1), (0, 2, 0, 12), 'n']] 42.966\n",
      " > Model[[(0, 0, 1), (0, 1, 2, 12), 'n']] 23.678\n",
      " > Model[[(0, 0, 0), (2, 1, 0, 12), 'ct']] 29.711\n",
      " > Model[[(0, 0, 1), (1, 0, 1, 12), 'n']] 23.652\n",
      " > Model[[(0, 0, 0), (2, 1, 1, 12), 'ct']] 29.577\n",
      " > Model[[(0, 0, 1), (1, 1, 0, 12), 'n']] 25.403\n",
      " > Model[[(0, 0, 1), (1, 1, 1, 12), 'n']] 23.753\n",
      " > Model[[(0, 0, 1), (1, 0, 2, 12), 'n']] 23.459\n",
      " > Model[[(0, 0, 1), (0, 2, 1, 12), 'n']] 27.069\n",
      " > Model[[(0, 0, 1), (1, 2, 0, 12), 'n']] 34.366\n",
      " > Model[[(0, 0, 1), (2, 1, 0, 12), 'n']] 24.509\n",
      " > Model[[(0, 0, 1), (1, 2, 1, 12), 'n']] 25.595\n",
      " > Model[[(0, 0, 1), (1, 1, 2, 12), 'n']] 23.721\n",
      " > Model[[(0, 0, 1), (2, 2, 0, 12), 'n']] 30.583\n",
      " > Model[[(0, 0, 1), (2, 1, 1, 12), 'n']] 23.387\n",
      " > Model[[(0, 0, 1), (2, 1, 2, 12), 'n']] 23.782\n",
      " > Model[[(0, 0, 1), (0, 0, 0, 12), 'c']] 23.350\n",
      " > Model[[(0, 0, 1), (0, 0, 1, 12), 'c']] 22.500\n",
      " > Model[[(0, 0, 1), (0, 1, 0, 12), 'c']] 26.911\n",
      " > Model[[(0, 0, 0), (1, 2, 2, 12), 'ct']] 32.594\n",
      " > Model[[(0, 0, 1), (0, 1, 1, 12), 'c']] 24.028\n",
      " > Model[[(0, 0, 1), (0, 0, 2, 12), 'c']] 22.551\n",
      " > Model[[(0, 0, 1), (0, 2, 2, 12), 'n']] 24.270\n",
      " > Model[[(0, 0, 1), (0, 2, 0, 12), 'c']] 42.990\n",
      " > Model[[(0, 0, 1), (2, 2, 1, 12), 'n']] 24.746\n",
      " > Model[[(0, 0, 1), (1, 0, 0, 12), 'c']] 22.632\n",
      " > Model[[(0, 0, 0), (2, 2, 0, 12), 'ct']] 35.177\n",
      " > Model[[(0, 0, 1), (0, 1, 2, 12), 'c']] 23.805\n",
      " > Model[[(0, 0, 1), (1, 0, 1, 12), 'c']] 22.543\n",
      " > Model[[(0, 0, 0), (2, 2, 1, 12), 'ct']] 32.873\n",
      " > Model[[(0, 0, 1), (1, 1, 0, 12), 'c']] 25.451\n",
      " > Model[[(0, 0, 1), (0, 2, 1, 12), 'c']] 27.120\n",
      " > Model[[(0, 0, 1), (1, 1, 1, 12), 'c']] 23.808\n",
      " > Model[[(0, 0, 1), (1, 2, 0, 12), 'c']] 34.376\n",
      " > Model[[(0, 0, 1), (1, 0, 2, 12), 'c']] 22.551\n",
      " > Model[[(0, 0, 1), (1, 2, 1, 12), 'c']] 25.656\n",
      " > Model[[(0, 0, 1), (2, 0, 0, 12), 'c']] 22.726\n",
      " > Model[[(0, 0, 1), (2, 1, 0, 12), 'c']] 24.589\n",
      " > Model[[(0, 0, 1), (0, 0, 0, 12), 't']] 25.626\n",
      " > Model[[(0, 0, 1), (0, 0, 1, 12), 't']] 24.062\n",
      " > Model[[(0, 0, 1), (1, 1, 2, 12), 'c']] 23.848\n",
      " > Model[[(0, 0, 1), (0, 1, 0, 12), 't']] 26.949\n",
      " > Model[[(0, 0, 1), (0, 0, 2, 12), 't']] 23.737\n",
      " > Model[[(0, 0, 1), (2, 1, 1, 12), 'c']] 22.751\n",
      " > Model[[(0, 0, 1), (0, 2, 0, 12), 't']] 43.029\n",
      " > Model[[(0, 0, 1), (2, 2, 0, 12), 'c']] 30.581\n",
      " > Model[[(0, 0, 1), (0, 1, 1, 12), 't']] 24.143\n",
      " > Model[[(0, 0, 1), (2, 2, 1, 12), 'c']] 24.815\n",
      " > Model[[(0, 0, 1), (2, 1, 2, 12), 'c']] 23.382\n",
      " > Model[[(0, 0, 1), (1, 0, 0, 12), 't']] 23.747\n",
      " > Model[[(0, 0, 1), (1, 0, 1, 12), 't']] 23.465\n",
      " > Model[[(0, 0, 1), (0, 2, 2, 12), 'c']] 24.351\n",
      " > Model[[(0, 0, 1), (1, 1, 0, 12), 't']] 25.503\n",
      " > Model[[(0, 0, 1), (1, 1, 1, 12), 't']] 23.913\n",
      " > Model[[(0, 0, 1), (1, 0, 2, 12), 't']] 23.535\n",
      " > Model[[(0, 0, 1), (1, 2, 0, 12), 't']] 34.378\n",
      " > Model[[(0, 0, 1), (0, 1, 2, 12), 't']] 23.940\n",
      " > Model[[(0, 0, 1), (0, 2, 1, 12), 't']] 27.367\n",
      " > Model[[(0, 0, 1), (2, 0, 0, 12), 't']] 23.695\n",
      " > Model[[(0, 0, 1), (2, 1, 0, 12), 't']] 24.662\n",
      " > Model[[(0, 0, 1), (1, 1, 2, 12), 't']] 23.963\n",
      " > Model[[(0, 0, 1), (1, 2, 1, 12), 't']] 25.828\n",
      " > Model[[(0, 0, 1), (0, 0, 0, 12), 'ct']] 21.403\n",
      " > Model[[(0, 0, 1), (0, 0, 1, 12), 'ct']] 21.248\n",
      " > Model[[(0, 0, 1), (0, 1, 0, 12), 'ct']] 26.963\n",
      " > Model[[(0, 0, 1), (0, 0, 2, 12), 'ct']] 21.552\n",
      " > Model[[(0, 0, 1), (2, 2, 0, 12), 't']] 30.550\n",
      " > Model[[(0, 0, 1), (0, 2, 0, 12), 'ct']] 43.045\n",
      " > Model[[(0, 0, 1), (0, 2, 2, 12), 't']] 25.315\n"
     ]
    },
    {
     "name": "stdout",
     "output_type": "stream",
     "text": [
      " > Model[[(0, 0, 1), (0, 1, 1, 12), 'ct']] 24.076\n",
      " > Model[[(0, 0, 1), (1, 0, 0, 12), 'ct']] 21.321\n",
      " > Model[[(0, 0, 1), (2, 1, 2, 12), 't']] 23.656\n",
      " > Model[[(0, 0, 1), (1, 0, 1, 12), 'ct']] 21.331\n",
      " > Model[[(0, 0, 1), (1, 1, 0, 12), 'ct']] 25.513\n",
      " > Model[[(0, 0, 1), (1, 1, 1, 12), 'ct']] 23.772\n",
      " > Model[[(0, 0, 1), (1, 0, 2, 12), 'ct']] 21.753\n",
      " > Model[[(0, 0, 1), (0, 1, 2, 12), 'ct']] 23.867\n",
      " > Model[[(0, 0, 1), (0, 2, 1, 12), 'ct']] 28.894\n",
      " > Model[[(0, 0, 1), (1, 2, 2, 12), 't']] 26.367\n",
      " > Model[[(0, 0, 1), (1, 2, 0, 12), 'ct']] 34.360\n",
      " > Model[[(0, 0, 1), (2, 0, 0, 12), 'ct']] 22.132\n",
      " > Model[[(0, 0, 1), (2, 0, 1, 12), 'ct']] 21.855\n",
      " > Model[[(0, 0, 1), (1, 1, 2, 12), 'ct']] 23.854\n",
      " > Model[[(0, 0, 1), (1, 2, 1, 12), 'ct']] 25.764\n",
      " > Model[[(0, 0, 1), (2, 2, 2, 12), 't']] 17113.920\n",
      " > Model[[(0, 0, 1), (2, 0, 2, 12), 'ct']] 22.421\n",
      " > Model[[(0, 0, 1), (0, 2, 2, 12), 'ct']] 29.395\n",
      " > Model[[(0, 0, 1), (2, 1, 0, 12), 'ct']] 24.679\n",
      " > Model[[(0, 0, 2), (0, 0, 0, 12), 'n']] 36.177\n",
      " > Model[[(0, 0, 2), (0, 0, 1, 12), 'n']] 30.409\n",
      " > Model[[(0, 0, 2), (0, 1, 0, 12), 'n']] 25.770\n",
      " > Model[[(0, 0, 2), (0, 0, 2, 12), 'n']] 28.787\n",
      " > Model[[(0, 0, 2), (0, 1, 1, 12), 'n']] 21.761\n",
      " > Model[[(0, 0, 2), (0, 2, 0, 12), 'n']] 42.071\n",
      " > Model[[(0, 0, 2), (0, 1, 2, 12), 'n']] 21.674\n",
      " > Model[[(0, 0, 1), (2, 1, 1, 12), 'ct']] 23.078\n",
      " > Model[[(0, 0, 2), (0, 2, 1, 12), 'n']] 25.949\n",
      " > Model[[(0, 0, 2), (1, 0, 1, 12), 'n']] 21.607\n",
      " > Model[[(0, 0, 2), (1, 1, 0, 12), 'n']] 23.914\n",
      " > Model[[(0, 0, 2), (1, 1, 1, 12), 'n']] 21.296\n",
      " > Model[[(0, 0, 2), (1, 0, 2, 12), 'n']] 21.457\n",
      " > Model[[(0, 0, 1), (2, 1, 2, 12), 'ct']] 23.178\n",
      " > Model[[(0, 0, 1), (2, 2, 0, 12), 'ct']] 30.512\n",
      " > Model[[(0, 0, 2), (1, 2, 0, 12), 'n']] 33.158\n",
      " > Model[[(0, 0, 2), (2, 0, 0, 12), 'n']] 23.384\n",
      " > Model[[(0, 0, 2), (1, 1, 2, 12), 'n']] 21.667\n",
      " > Model[[(0, 0, 2), (1, 2, 1, 12), 'n']] 24.090\n",
      " > Model[[(0, 0, 2), (2, 1, 0, 12), 'n']] 22.826\n",
      " > Model[[(0, 0, 2), (2, 2, 0, 12), 'n']] 29.196\n",
      " > Model[[(0, 0, 1), (1, 2, 2, 12), 'ct']] 27.673\n",
      " > Model[[(0, 0, 2), (0, 0, 0, 12), 'c']] 20.934\n",
      " > Model[[(0, 0, 2), (0, 0, 1, 12), 'c']] 20.562\n",
      " > Model[[(0, 0, 2), (0, 1, 0, 12), 'c']] 25.798\n",
      " > Model[[(0, 0, 2), (2, 1, 1, 12), 'n']] 21.064\n",
      " > Model[[(0, 0, 2), (2, 1, 2, 12), 'n']] 21.703\n",
      " > Model[[(0, 0, 2), (0, 1, 1, 12), 'c']] 21.890\n",
      " > Model[[(0, 0, 2), (0, 0, 2, 12), 'c']] 20.864\n",
      " > Model[[(0, 0, 2), (0, 2, 0, 12), 'c']] 42.092\n",
      " > Model[[(0, 0, 2), (1, 0, 0, 12), 'c']] 20.767\n",
      " > Model[[(0, 0, 2), (0, 2, 2, 12), 'n']] 22.167\n",
      " > Model[[(0, 0, 2), (2, 2, 1, 12), 'n']] 23.045\n",
      " > Model[[(0, 0, 2), (1, 1, 0, 12), 'c']] 23.957\n",
      " > Model[[(0, 0, 2), (0, 2, 1, 12), 'c']] 25.998\n",
      " > Model[[(0, 0, 2), (0, 1, 2, 12), 'c']] 21.802\n",
      " > Model[[(0, 0, 2), (1, 1, 1, 12), 'c']] 21.287\n",
      " > Model[[(0, 0, 2), (1, 2, 0, 12), 'c']] 33.168\n",
      " > Model[[(0, 0, 2), (1, 2, 1, 12), 'c']] 24.145\n",
      " > Model[[(0, 0, 2), (1, 0, 2, 12), 'c']] 20.694\n",
      " > Model[[(0, 0, 2), (2, 0, 0, 12), 'c']] 20.958\n",
      " > Model[[(0, 0, 1), (2, 2, 2, 12), 'ct']] 25.853\n",
      " > Model[[(0, 0, 2), (2, 1, 0, 12), 'c']] 22.895\n",
      " > Model[[(0, 0, 2), (1, 1, 2, 12), 'c']] 21.632\n",
      " > Model[[(0, 0, 2), (2, 0, 1, 12), 'c']] 20.773\n",
      " > Model[[(0, 0, 2), (0, 0, 0, 12), 't']] 22.557\n",
      " > Model[[(0, 0, 2), (2, 0, 2, 12), 'c']] 20.716\n",
      " > Model[[(0, 0, 2), (0, 0, 1, 12), 't']] 21.719\n",
      " > Model[[(0, 0, 2), (0, 1, 0, 12), 't']] 25.834\n",
      " > Model[[(0, 0, 2), (0, 2, 2, 12), 'c']] 22.247\n",
      " > Model[[(0, 0, 2), (0, 0, 2, 12), 't']] 21.925\n",
      " > Model[[(0, 0, 2), (2, 1, 1, 12), 'c']] 20.730\n",
      " > Model[[(0, 0, 2), (2, 2, 1, 12), 'c']] 23.107\n",
      " > Model[[(0, 0, 2), (2, 2, 0, 12), 'c']] 29.197\n",
      " > Model[[(0, 0, 2), (0, 2, 0, 12), 't']] 42.131\n",
      " > Model[[(0, 0, 2), (0, 1, 1, 12), 't']] 22.010\n",
      " > Model[[(0, 0, 2), (2, 1, 2, 12), 'c']] 21.125\n",
      " > Model[[(0, 0, 2), (1, 0, 0, 12), 't']] 21.840\n",
      " > Model[[(0, 0, 2), (1, 0, 1, 12), 't']] 21.516\n",
      " > Model[[(0, 0, 2), (1, 1, 0, 12), 't']] 24.003\n",
      " > Model[[(0, 0, 2), (1, 1, 1, 12), 't']] 21.516\n",
      " > Model[[(0, 0, 2), (1, 0, 2, 12), 't']] 21.396\n"
     ]
    },
    {
     "ename": "KeyboardInterrupt",
     "evalue": "",
     "output_type": "error",
     "traceback": [
      "\u001b[0;31m---------------------------------------------------------------------------\u001b[0m",
      "\u001b[0;31mKeyboardInterrupt\u001b[0m                         Traceback (most recent call last)",
      "\u001b[0;32m<ipython-input-22-b40aff7c185f>\u001b[0m in \u001b[0;36m<module>\u001b[0;34m()\u001b[0m\n\u001b[1;32m    137\u001b[0m         \u001b[0mcfg_list\u001b[0m \u001b[0;34m=\u001b[0m \u001b[0msarima_configs\u001b[0m\u001b[0;34m(\u001b[0m\u001b[0;34m)\u001b[0m\u001b[0;34m\u001b[0m\u001b[0m\n\u001b[1;32m    138\u001b[0m         \u001b[0;31m# grid search\u001b[0m\u001b[0;34m\u001b[0m\u001b[0;34m\u001b[0m\u001b[0m\n\u001b[0;32m--> 139\u001b[0;31m         \u001b[0mscores\u001b[0m \u001b[0;34m=\u001b[0m \u001b[0mgrid_search\u001b[0m\u001b[0;34m(\u001b[0m\u001b[0mdata\u001b[0m\u001b[0;34m,\u001b[0m \u001b[0mcfg_list\u001b[0m\u001b[0;34m,\u001b[0m \u001b[0mn_test\u001b[0m\u001b[0;34m)\u001b[0m\u001b[0;34m\u001b[0m\u001b[0m\n\u001b[0m\u001b[1;32m    140\u001b[0m         \u001b[0mprint\u001b[0m\u001b[0;34m(\u001b[0m\u001b[0;34m'done'\u001b[0m\u001b[0;34m)\u001b[0m\u001b[0;34m\u001b[0m\u001b[0m\n\u001b[1;32m    141\u001b[0m         \u001b[0;31m# list top 3 configs\u001b[0m\u001b[0;34m\u001b[0m\u001b[0;34m\u001b[0m\u001b[0m\n",
      "\u001b[0;32m<ipython-input-22-b40aff7c185f>\u001b[0m in \u001b[0;36mgrid_search\u001b[0;34m(data, cfg_list, n_test, parallel)\u001b[0m\n\u001b[1;32m     82\u001b[0m                 \u001b[0mexecutor\u001b[0m \u001b[0;34m=\u001b[0m \u001b[0mParallel\u001b[0m\u001b[0;34m(\u001b[0m\u001b[0mn_jobs\u001b[0m\u001b[0;34m=\u001b[0m\u001b[0mcpu_count\u001b[0m\u001b[0;34m(\u001b[0m\u001b[0;34m)\u001b[0m\u001b[0;34m,\u001b[0m \u001b[0mbackend\u001b[0m\u001b[0;34m=\u001b[0m\u001b[0;34m'multiprocessing'\u001b[0m\u001b[0;34m)\u001b[0m\u001b[0;34m\u001b[0m\u001b[0m\n\u001b[1;32m     83\u001b[0m                 \u001b[0mtasks\u001b[0m \u001b[0;34m=\u001b[0m \u001b[0;34m(\u001b[0m\u001b[0mdelayed\u001b[0m\u001b[0;34m(\u001b[0m\u001b[0mscore_model\u001b[0m\u001b[0;34m)\u001b[0m\u001b[0;34m(\u001b[0m\u001b[0mdata\u001b[0m\u001b[0;34m,\u001b[0m \u001b[0mn_test\u001b[0m\u001b[0;34m,\u001b[0m \u001b[0mcfg\u001b[0m\u001b[0;34m)\u001b[0m \u001b[0;32mfor\u001b[0m \u001b[0mcfg\u001b[0m \u001b[0;32min\u001b[0m \u001b[0mcfg_list\u001b[0m\u001b[0;34m)\u001b[0m\u001b[0;34m\u001b[0m\u001b[0m\n\u001b[0;32m---> 84\u001b[0;31m                 \u001b[0mscores\u001b[0m \u001b[0;34m=\u001b[0m \u001b[0mexecutor\u001b[0m\u001b[0;34m(\u001b[0m\u001b[0mtasks\u001b[0m\u001b[0;34m)\u001b[0m\u001b[0;34m\u001b[0m\u001b[0m\n\u001b[0m\u001b[1;32m     85\u001b[0m         \u001b[0;32melse\u001b[0m\u001b[0;34m:\u001b[0m\u001b[0;34m\u001b[0m\u001b[0m\n\u001b[1;32m     86\u001b[0m                 \u001b[0mscores\u001b[0m \u001b[0;34m=\u001b[0m \u001b[0;34m[\u001b[0m\u001b[0mscore_model\u001b[0m\u001b[0;34m(\u001b[0m\u001b[0mdata\u001b[0m\u001b[0;34m,\u001b[0m \u001b[0mn_test\u001b[0m\u001b[0;34m,\u001b[0m \u001b[0mcfg\u001b[0m\u001b[0;34m)\u001b[0m \u001b[0;32mfor\u001b[0m \u001b[0mcfg\u001b[0m \u001b[0;32min\u001b[0m \u001b[0mcfg_list\u001b[0m\u001b[0;34m]\u001b[0m\u001b[0;34m\u001b[0m\u001b[0m\n",
      "\u001b[0;32m/anaconda3/lib/python3.6/site-packages/joblib/parallel.py\u001b[0m in \u001b[0;36m__call__\u001b[0;34m(self, iterable)\u001b[0m\n\u001b[1;32m    994\u001b[0m \u001b[0;34m\u001b[0m\u001b[0m\n\u001b[1;32m    995\u001b[0m             \u001b[0;32mwith\u001b[0m \u001b[0mself\u001b[0m\u001b[0;34m.\u001b[0m\u001b[0m_backend\u001b[0m\u001b[0;34m.\u001b[0m\u001b[0mretrieval_context\u001b[0m\u001b[0;34m(\u001b[0m\u001b[0;34m)\u001b[0m\u001b[0;34m:\u001b[0m\u001b[0;34m\u001b[0m\u001b[0m\n\u001b[0;32m--> 996\u001b[0;31m                 \u001b[0mself\u001b[0m\u001b[0;34m.\u001b[0m\u001b[0mretrieve\u001b[0m\u001b[0;34m(\u001b[0m\u001b[0;34m)\u001b[0m\u001b[0;34m\u001b[0m\u001b[0m\n\u001b[0m\u001b[1;32m    997\u001b[0m             \u001b[0;31m# Make sure that we get a last message telling us we are done\u001b[0m\u001b[0;34m\u001b[0m\u001b[0;34m\u001b[0m\u001b[0m\n\u001b[1;32m    998\u001b[0m             \u001b[0melapsed_time\u001b[0m \u001b[0;34m=\u001b[0m \u001b[0mtime\u001b[0m\u001b[0;34m.\u001b[0m\u001b[0mtime\u001b[0m\u001b[0;34m(\u001b[0m\u001b[0;34m)\u001b[0m \u001b[0;34m-\u001b[0m \u001b[0mself\u001b[0m\u001b[0;34m.\u001b[0m\u001b[0m_start_time\u001b[0m\u001b[0;34m\u001b[0m\u001b[0m\n",
      "\u001b[0;32m/anaconda3/lib/python3.6/site-packages/joblib/parallel.py\u001b[0m in \u001b[0;36mretrieve\u001b[0;34m(self)\u001b[0m\n\u001b[1;32m    897\u001b[0m             \u001b[0;32mtry\u001b[0m\u001b[0;34m:\u001b[0m\u001b[0;34m\u001b[0m\u001b[0m\n\u001b[1;32m    898\u001b[0m                 \u001b[0;32mif\u001b[0m \u001b[0mgetattr\u001b[0m\u001b[0;34m(\u001b[0m\u001b[0mself\u001b[0m\u001b[0;34m.\u001b[0m\u001b[0m_backend\u001b[0m\u001b[0;34m,\u001b[0m \u001b[0;34m'supports_timeout'\u001b[0m\u001b[0;34m,\u001b[0m \u001b[0;32mFalse\u001b[0m\u001b[0;34m)\u001b[0m\u001b[0;34m:\u001b[0m\u001b[0;34m\u001b[0m\u001b[0m\n\u001b[0;32m--> 899\u001b[0;31m                     \u001b[0mself\u001b[0m\u001b[0;34m.\u001b[0m\u001b[0m_output\u001b[0m\u001b[0;34m.\u001b[0m\u001b[0mextend\u001b[0m\u001b[0;34m(\u001b[0m\u001b[0mjob\u001b[0m\u001b[0;34m.\u001b[0m\u001b[0mget\u001b[0m\u001b[0;34m(\u001b[0m\u001b[0mtimeout\u001b[0m\u001b[0;34m=\u001b[0m\u001b[0mself\u001b[0m\u001b[0;34m.\u001b[0m\u001b[0mtimeout\u001b[0m\u001b[0;34m)\u001b[0m\u001b[0;34m)\u001b[0m\u001b[0;34m\u001b[0m\u001b[0m\n\u001b[0m\u001b[1;32m    900\u001b[0m                 \u001b[0;32melse\u001b[0m\u001b[0;34m:\u001b[0m\u001b[0;34m\u001b[0m\u001b[0m\n\u001b[1;32m    901\u001b[0m                     \u001b[0mself\u001b[0m\u001b[0;34m.\u001b[0m\u001b[0m_output\u001b[0m\u001b[0;34m.\u001b[0m\u001b[0mextend\u001b[0m\u001b[0;34m(\u001b[0m\u001b[0mjob\u001b[0m\u001b[0;34m.\u001b[0m\u001b[0mget\u001b[0m\u001b[0;34m(\u001b[0m\u001b[0;34m)\u001b[0m\u001b[0;34m)\u001b[0m\u001b[0;34m\u001b[0m\u001b[0m\n",
      "\u001b[0;32m/anaconda3/lib/python3.6/multiprocessing/pool.py\u001b[0m in \u001b[0;36mget\u001b[0;34m(self, timeout)\u001b[0m\n\u001b[1;32m    636\u001b[0m \u001b[0;34m\u001b[0m\u001b[0m\n\u001b[1;32m    637\u001b[0m     \u001b[0;32mdef\u001b[0m \u001b[0mget\u001b[0m\u001b[0;34m(\u001b[0m\u001b[0mself\u001b[0m\u001b[0;34m,\u001b[0m \u001b[0mtimeout\u001b[0m\u001b[0;34m=\u001b[0m\u001b[0;32mNone\u001b[0m\u001b[0;34m)\u001b[0m\u001b[0;34m:\u001b[0m\u001b[0;34m\u001b[0m\u001b[0m\n\u001b[0;32m--> 638\u001b[0;31m         \u001b[0mself\u001b[0m\u001b[0;34m.\u001b[0m\u001b[0mwait\u001b[0m\u001b[0;34m(\u001b[0m\u001b[0mtimeout\u001b[0m\u001b[0;34m)\u001b[0m\u001b[0;34m\u001b[0m\u001b[0m\n\u001b[0m\u001b[1;32m    639\u001b[0m         \u001b[0;32mif\u001b[0m \u001b[0;32mnot\u001b[0m \u001b[0mself\u001b[0m\u001b[0;34m.\u001b[0m\u001b[0mready\u001b[0m\u001b[0;34m(\u001b[0m\u001b[0;34m)\u001b[0m\u001b[0;34m:\u001b[0m\u001b[0;34m\u001b[0m\u001b[0m\n\u001b[1;32m    640\u001b[0m             \u001b[0;32mraise\u001b[0m \u001b[0mTimeoutError\u001b[0m\u001b[0;34m\u001b[0m\u001b[0m\n",
      "\u001b[0;32m/anaconda3/lib/python3.6/multiprocessing/pool.py\u001b[0m in \u001b[0;36mwait\u001b[0;34m(self, timeout)\u001b[0m\n\u001b[1;32m    633\u001b[0m \u001b[0;34m\u001b[0m\u001b[0m\n\u001b[1;32m    634\u001b[0m     \u001b[0;32mdef\u001b[0m \u001b[0mwait\u001b[0m\u001b[0;34m(\u001b[0m\u001b[0mself\u001b[0m\u001b[0;34m,\u001b[0m \u001b[0mtimeout\u001b[0m\u001b[0;34m=\u001b[0m\u001b[0;32mNone\u001b[0m\u001b[0;34m)\u001b[0m\u001b[0;34m:\u001b[0m\u001b[0;34m\u001b[0m\u001b[0m\n\u001b[0;32m--> 635\u001b[0;31m         \u001b[0mself\u001b[0m\u001b[0;34m.\u001b[0m\u001b[0m_event\u001b[0m\u001b[0;34m.\u001b[0m\u001b[0mwait\u001b[0m\u001b[0;34m(\u001b[0m\u001b[0mtimeout\u001b[0m\u001b[0;34m)\u001b[0m\u001b[0;34m\u001b[0m\u001b[0m\n\u001b[0m\u001b[1;32m    636\u001b[0m \u001b[0;34m\u001b[0m\u001b[0m\n\u001b[1;32m    637\u001b[0m     \u001b[0;32mdef\u001b[0m \u001b[0mget\u001b[0m\u001b[0;34m(\u001b[0m\u001b[0mself\u001b[0m\u001b[0;34m,\u001b[0m \u001b[0mtimeout\u001b[0m\u001b[0;34m=\u001b[0m\u001b[0;32mNone\u001b[0m\u001b[0;34m)\u001b[0m\u001b[0;34m:\u001b[0m\u001b[0;34m\u001b[0m\u001b[0m\n",
      "\u001b[0;32m/anaconda3/lib/python3.6/threading.py\u001b[0m in \u001b[0;36mwait\u001b[0;34m(self, timeout)\u001b[0m\n\u001b[1;32m    549\u001b[0m             \u001b[0msignaled\u001b[0m \u001b[0;34m=\u001b[0m \u001b[0mself\u001b[0m\u001b[0;34m.\u001b[0m\u001b[0m_flag\u001b[0m\u001b[0;34m\u001b[0m\u001b[0m\n\u001b[1;32m    550\u001b[0m             \u001b[0;32mif\u001b[0m \u001b[0;32mnot\u001b[0m \u001b[0msignaled\u001b[0m\u001b[0;34m:\u001b[0m\u001b[0;34m\u001b[0m\u001b[0m\n\u001b[0;32m--> 551\u001b[0;31m                 \u001b[0msignaled\u001b[0m \u001b[0;34m=\u001b[0m \u001b[0mself\u001b[0m\u001b[0;34m.\u001b[0m\u001b[0m_cond\u001b[0m\u001b[0;34m.\u001b[0m\u001b[0mwait\u001b[0m\u001b[0;34m(\u001b[0m\u001b[0mtimeout\u001b[0m\u001b[0;34m)\u001b[0m\u001b[0;34m\u001b[0m\u001b[0m\n\u001b[0m\u001b[1;32m    552\u001b[0m             \u001b[0;32mreturn\u001b[0m \u001b[0msignaled\u001b[0m\u001b[0;34m\u001b[0m\u001b[0m\n\u001b[1;32m    553\u001b[0m \u001b[0;34m\u001b[0m\u001b[0m\n",
      "\u001b[0;32m/anaconda3/lib/python3.6/threading.py\u001b[0m in \u001b[0;36mwait\u001b[0;34m(self, timeout)\u001b[0m\n\u001b[1;32m    293\u001b[0m         \u001b[0;32mtry\u001b[0m\u001b[0;34m:\u001b[0m    \u001b[0;31m# restore state no matter what (e.g., KeyboardInterrupt)\u001b[0m\u001b[0;34m\u001b[0m\u001b[0m\n\u001b[1;32m    294\u001b[0m             \u001b[0;32mif\u001b[0m \u001b[0mtimeout\u001b[0m \u001b[0;32mis\u001b[0m \u001b[0;32mNone\u001b[0m\u001b[0;34m:\u001b[0m\u001b[0;34m\u001b[0m\u001b[0m\n\u001b[0;32m--> 295\u001b[0;31m                 \u001b[0mwaiter\u001b[0m\u001b[0;34m.\u001b[0m\u001b[0macquire\u001b[0m\u001b[0;34m(\u001b[0m\u001b[0;34m)\u001b[0m\u001b[0;34m\u001b[0m\u001b[0m\n\u001b[0m\u001b[1;32m    296\u001b[0m                 \u001b[0mgotit\u001b[0m \u001b[0;34m=\u001b[0m \u001b[0;32mTrue\u001b[0m\u001b[0;34m\u001b[0m\u001b[0m\n\u001b[1;32m    297\u001b[0m             \u001b[0;32melse\u001b[0m\u001b[0;34m:\u001b[0m\u001b[0;34m\u001b[0m\u001b[0m\n",
      "\u001b[0;31mKeyboardInterrupt\u001b[0m: "
     ]
    }
   ],
   "source": [
    "# SARIMA Grid Search\n",
    "# ------------------\n",
    "\n",
    "# grid search sarima hyperparameters\n",
    "from math import sqrt\n",
    "from multiprocessing import cpu_count\n",
    "from joblib import Parallel\n",
    "from joblib import delayed\n",
    "from warnings import catch_warnings\n",
    "from warnings import filterwarnings\n",
    "from statsmodels.tsa.statespace.sarimax import SARIMAX\n",
    "from sklearn.metrics import mean_squared_error\n",
    "import simplejson as json\n",
    "import statsmodels.api as sm\n",
    " \n",
    "# one-step sarima forecast\n",
    "def sarima_forecast(history, config):\n",
    "\torder, sorder, trend = config\n",
    "\t# define model\n",
    "\tmodel = SARIMAX(history, order=order, seasonal_order=sorder, \n",
    "                    trend=trend, enforce_stationarity=True, enforce_invertibility=True)\n",
    "\t# fit model\n",
    "\tmodel_fit = model.fit(disp=False)\n",
    "\t# make one step forecast\n",
    "\tyhat = model_fit.predict(len(history), len(history))\n",
    "\treturn yhat[0]\n",
    " \n",
    "# root mean squared error or rmse\n",
    "def measure_rmse(actual, predicted):\n",
    "\treturn sqrt(mean_squared_error(actual, predicted))\n",
    " \n",
    "# split a univariate dataset into train/test sets\n",
    "def train_test_split(data, n_test):\n",
    "\treturn data[:-n_test], data[-n_test:]\n",
    " \n",
    "# walk-forward validation for univariate data\n",
    "def walk_forward_validation(data, n_test, cfg):\n",
    "\tpredictions = list()\n",
    "\t# split dataset\n",
    "\ttrain, test = train_test_split(data, n_test)\n",
    "\t# seed history with training dataset\n",
    "\thistory = [x for x in train]\n",
    "\t# step over each time-step in the test set\n",
    "\tfor i in range(len(test)):\n",
    "\t\t# fit model and make forecast for history\n",
    "\t\tyhat = sarima_forecast(history, cfg)\n",
    "\t\t# store forecast in list of predictions\n",
    "\t\tpredictions.append(yhat)\n",
    "\t\t# add actual observation to history for the next loop\n",
    "\t\thistory.append(test[i])\n",
    "\t# estimate prediction error\n",
    "\terror = measure_rmse(test, predictions)\n",
    "\treturn error\n",
    " \n",
    "# score a model, return None on failure\n",
    "def score_model(data, n_test, cfg, debug=False):\n",
    "\tresult = None\n",
    "\t# convert config to a key\n",
    "\tkey = str(cfg)\n",
    "\t# show all warnings and fail on exception if debugging\n",
    "\tif debug:\n",
    "\t\tresult = walk_forward_validation(data, n_test, cfg)\n",
    "\telse:\n",
    "\t\t# one failure during model validation suggests an unstable config\n",
    "\t\ttry:\n",
    "\t\t\t# never show warnings when grid searching, too noisy\n",
    "\t\t\twith catch_warnings():\n",
    "\t\t\t\tfilterwarnings(\"ignore\")\n",
    "\t\t\t\tresult = walk_forward_validation(data, n_test, cfg)\n",
    "\t\texcept:\n",
    "\t\t\terror = None\n",
    "\t# check for an interesting result\n",
    "\tif result is not None:\n",
    "\t\tprint(' > Model[%s] %.3f' % (key, result))\n",
    "\treturn (key, result)\n",
    " \n",
    "# grid search configs\n",
    "def grid_search(data, cfg_list, n_test, parallel=True):\n",
    "\tscores = None\n",
    "\tif parallel:\n",
    "\t\t# execute configs in parallel\n",
    "\t\texecutor = Parallel(n_jobs=cpu_count(), backend='multiprocessing')\n",
    "\t\ttasks = (delayed(score_model)(data, n_test, cfg) for cfg in cfg_list)\n",
    "\t\tscores = executor(tasks)\n",
    "\telse:\n",
    "\t\tscores = [score_model(data, n_test, cfg) for cfg in cfg_list]\n",
    "\t# remove empty results\n",
    "\tscores = [r for r in scores if r[1] != None]\n",
    "\t# sort configs by error, asc\n",
    "\tscores.sort(key=lambda tup: tup[1])\n",
    "\treturn scores\n",
    "    \n",
    "# create a set of sarima configs to try\n",
    "def sarima_configs(seasonal=[12]):\n",
    "\tmodels = list()\n",
    "\t# define config lists\n",
    "\tp_params = range(0,3)\n",
    "\td_params = range(0,3)\n",
    "\tq_params = range(0,3)\n",
    "\tt_params = ['n','c','t','ct']\n",
    "\tP_params = range(0,3)\n",
    "\tD_params = range(0,3)\n",
    "\tQ_params = range(0,3)\n",
    "\tm_params = seasonal\n",
    "# define config lists\n",
    "#\tp_params = [0, 1, 2, 3, 4, 5]\n",
    "#\td_params = [0, 1, 2, 3, 4, 5]\n",
    "#\tq_params = [0, 1, 2, 3, 4, 5]\n",
    "#\tt_params = ['n','c','t','ct']\n",
    "#\tP_params = [0, 1, 2, 3, 4, 5]\n",
    "#\tD_params = [0, 1, 2, 3, 4, 5]\n",
    "#\tQ_params = [0, 1, 2, 3, 4, 5]\n",
    "#\tm_params = seasonal\n",
    "\t# create config instances\n",
    "\tfor p in p_params:\n",
    "\t\tfor d in d_params:\n",
    "\t\t\tfor q in q_params:\n",
    "\t\t\t\tfor t in t_params:\n",
    "\t\t\t\t\tfor P in P_params:\n",
    "\t\t\t\t\t\tfor D in D_params:\n",
    "\t\t\t\t\t\t\tfor Q in Q_params:\n",
    "\t\t\t\t\t\t\t\tfor m in m_params:\n",
    "\t\t\t\t\t\t\t\t\tcfg = [(p,d,q), (P,D,Q,m), t]\n",
    "#\t\t\t\t\t\t\t\t\tmodel_params = [p,d,q,P,D,Q]\n",
    "#\t\t\t\t\t\t\t\t\tprint(\"best sarima =\", model_params)\n",
    "\t\t\t\t\t\t\t\t\tmodels.append(cfg)\n",
    "\treturn models\n",
    "\n",
    "if __name__ == '__main__':\n",
    "\t# define dataset\n",
    "\tdf_SoEu['nb'].tolist()\n",
    "\tdata = df_SoEu['nb'].tolist()\n",
    "#\tprint(data)\n",
    "\t# data split\n",
    "\tn_test = 167\n",
    "\t# model configs\n",
    "\tcfg_list = sarima_configs()\n",
    "\t# grid search\n",
    "\tscores = grid_search(data, cfg_list, n_test)\n",
    "\tprint('done')\n",
    "\t# list top 3 configs\n",
    "\tfor cfg, error in scores[:1]:\n",
    "\t\tprint(cfg, error)\n",
    "import re\n",
    "model_params = [int(s) for s in re.findall(r'\\b\\d+\\b', cfg)]\n",
    "p = model_params[0]\n",
    "d = model_params[1]\n",
    "q = model_params[2]\n",
    "P = model_params[3]\n",
    "D = model_params[4]\n",
    "Q = model_params[5]\n",
    "\n",
    "model = sm.tsa.statespace.SARIMAX(df_SoEu['nb'], \n",
    "                                order=(p,d,q), \n",
    "                                seasonal_order=(P,D,Q,12),   \n",
    "                                enforce_stationarity=False,\n",
    "                                enforce_invertibility=False)\n",
    "results = model.fit()\n",
    "print(results.summary())"
   ]
  },
  {
   "cell_type": "code",
   "execution_count": 17,
   "metadata": {},
   "outputs": [
    {
     "name": "stdout",
     "output_type": "stream",
     "text": [
      "                           Statespace Model Results                           \n",
      "==============================================================================\n",
      "Dep. Variable:                     nb   No. Observations:                 1019\n",
      "Model:                        SARIMAX   Log Likelihood               -5037.514\n",
      "Date:                Tue, 06 Nov 2018   AIC                          10079.027\n",
      "Time:                        16:49:17   BIC                          10088.878\n",
      "Sample:                             0   HQIC                         10082.768\n",
      "                               - 1019                                         \n",
      "Covariance Type:                  opg                                         \n",
      "==============================================================================\n",
      "                 coef    std err          z      P>|z|      [0.025      0.975]\n",
      "------------------------------------------------------------------------------\n",
      "drift          0.0977      0.002     49.104      0.000       0.094       0.102\n",
      "sigma2      1163.2946     59.143     19.669      0.000    1047.377    1279.212\n",
      "===================================================================================\n",
      "Ljung-Box (Q):                    19354.99   Jarque-Bera (JB):                 9.73\n",
      "Prob(Q):                              0.00   Prob(JB):                         0.01\n",
      "Heteroskedasticity (H):               0.58   Skew:                            -0.17\n",
      "Prob(H) (two-sided):                  0.00   Kurtosis:                         2.65\n",
      "===================================================================================\n",
      "\n",
      "Warnings:\n",
      "[1] Covariance matrix calculated using the outer product of gradients (complex-step).\n"
     ]
    },
    {
     "name": "stderr",
     "output_type": "stream",
     "text": [
      "/anaconda3/lib/python3.6/site-packages/statsmodels/tsa/base/tsa_model.py:213: ValueWarning: An unsupported index was provided and will be ignored when e.g. forecasting.\n",
      "  ' ignored when e.g. forecasting.', ValueWarning)\n",
      "/anaconda3/lib/python3.6/site-packages/statsmodels/tsa/base/tsa_model.py:523: ValueWarning: No supported index is available. Prediction results will be given with an integer index beginning at `start`.\n",
      "  ValueWarning)\n"
     ]
    },
    {
     "data": {
      "text/plain": [
       "<matplotlib.axes._subplots.AxesSubplot at 0x1c0fffe390>"
      ]
     },
     "execution_count": 17,
     "metadata": {},
     "output_type": "execute_result"
    },
    {
     "data": {
      "image/png": "[encoded data removed]",
      "text/plain": [
       "<Figure size 432x288 with 1 Axes>"
      ]
     },
     "metadata": {},
     "output_type": "display_data"
    }
   ],
   "source": [
    "# Forecasts 5\n",
    "\n",
    "model = sm.tsa.statespace.SARIMAX(df_SoEu['nb'],\n",
    "                                  trend='t',\n",
    "                                  order=(0,0,0),\n",
    "                                  seasonal_order=(0,0,0,12),\n",
    "                                  enforce_stationarity=False,\n",
    "                                  enforce_invertibility=False)\n",
    "results = model.fit()\n",
    "print(results.summary())\n",
    "\n",
    "h = 442\n",
    "forecast = results.forecast(h)\n",
    "forecast.plot()"
   ]
  },
  {
   "cell_type": "code",
   "execution_count": 14,
   "metadata": {},
   "outputs": [
    {
     "name": "stdout",
     "output_type": "stream",
     "text": [
      "[[(0, 0, 0), (0, 0, 0, 12), 'n'], [(0, 0, 0), (0, 0, 1, 12), 'n'], [(0, 0, 0), (0, 1, 0, 12), 'n'], [(0, 0, 0), (0, 1, 1, 12), 'n'], [(0, 0, 0), (1, 0, 0, 12), 'n'], [(0, 0, 0), (1, 0, 1, 12), 'n'], [(0, 0, 0), (1, 1, 0, 12), 'n'], [(0, 0, 0), (1, 1, 1, 12), 'n'], [(0, 0, 0), (0, 0, 0, 12), 'c'], [(0, 0, 0), (0, 0, 1, 12), 'c'], [(0, 0, 0), (0, 1, 0, 12), 'c'], [(0, 0, 0), (0, 1, 1, 12), 'c'], [(0, 0, 0), (1, 0, 0, 12), 'c'], [(0, 0, 0), (1, 0, 1, 12), 'c'], [(0, 0, 0), (1, 1, 0, 12), 'c'], [(0, 0, 0), (1, 1, 1, 12), 'c'], [(0, 0, 0), (0, 0, 0, 12), 't'], [(0, 0, 0), (0, 0, 1, 12), 't'], [(0, 0, 0), (0, 1, 0, 12), 't'], [(0, 0, 0), (0, 1, 1, 12), 't'], [(0, 0, 0), (1, 0, 0, 12), 't'], [(0, 0, 0), (1, 0, 1, 12), 't'], [(0, 0, 0), (1, 1, 0, 12), 't'], [(0, 0, 0), (1, 1, 1, 12), 't'], [(0, 0, 0), (0, 0, 0, 12), 'ct'], [(0, 0, 0), (0, 0, 1, 12), 'ct'], [(0, 0, 0), (0, 1, 0, 12), 'ct'], [(0, 0, 0), (0, 1, 1, 12), 'ct'], [(0, 0, 0), (1, 0, 0, 12), 'ct'], [(0, 0, 0), (1, 0, 1, 12), 'ct'], [(0, 0, 0), (1, 1, 0, 12), 'ct'], [(0, 0, 0), (1, 1, 1, 12), 'ct'], [(0, 0, 1), (0, 0, 0, 12), 'n'], [(0, 0, 1), (0, 0, 1, 12), 'n'], [(0, 0, 1), (0, 1, 0, 12), 'n'], [(0, 0, 1), (0, 1, 1, 12), 'n'], [(0, 0, 1), (1, 0, 0, 12), 'n'], [(0, 0, 1), (1, 0, 1, 12), 'n'], [(0, 0, 1), (1, 1, 0, 12), 'n'], [(0, 0, 1), (1, 1, 1, 12), 'n'], [(0, 0, 1), (0, 0, 0, 12), 'c'], [(0, 0, 1), (0, 0, 1, 12), 'c'], [(0, 0, 1), (0, 1, 0, 12), 'c'], [(0, 0, 1), (0, 1, 1, 12), 'c'], [(0, 0, 1), (1, 0, 0, 12), 'c'], [(0, 0, 1), (1, 0, 1, 12), 'c'], [(0, 0, 1), (1, 1, 0, 12), 'c'], [(0, 0, 1), (1, 1, 1, 12), 'c'], [(0, 0, 1), (0, 0, 0, 12), 't'], [(0, 0, 1), (0, 0, 1, 12), 't'], [(0, 0, 1), (0, 1, 0, 12), 't'], [(0, 0, 1), (0, 1, 1, 12), 't'], [(0, 0, 1), (1, 0, 0, 12), 't'], [(0, 0, 1), (1, 0, 1, 12), 't'], [(0, 0, 1), (1, 1, 0, 12), 't'], [(0, 0, 1), (1, 1, 1, 12), 't'], [(0, 0, 1), (0, 0, 0, 12), 'ct'], [(0, 0, 1), (0, 0, 1, 12), 'ct'], [(0, 0, 1), (0, 1, 0, 12), 'ct'], [(0, 0, 1), (0, 1, 1, 12), 'ct'], [(0, 0, 1), (1, 0, 0, 12), 'ct'], [(0, 0, 1), (1, 0, 1, 12), 'ct'], [(0, 0, 1), (1, 1, 0, 12), 'ct'], [(0, 0, 1), (1, 1, 1, 12), 'ct'], [(0, 1, 0), (0, 0, 0, 12), 'n'], [(0, 1, 0), (0, 0, 1, 12), 'n'], [(0, 1, 0), (0, 1, 0, 12), 'n'], [(0, 1, 0), (0, 1, 1, 12), 'n'], [(0, 1, 0), (1, 0, 0, 12), 'n'], [(0, 1, 0), (1, 0, 1, 12), 'n'], [(0, 1, 0), (1, 1, 0, 12), 'n'], [(0, 1, 0), (1, 1, 1, 12), 'n'], [(0, 1, 0), (0, 0, 0, 12), 'c'], [(0, 1, 0), (0, 0, 1, 12), 'c'], [(0, 1, 0), (0, 1, 0, 12), 'c'], [(0, 1, 0), (0, 1, 1, 12), 'c'], [(0, 1, 0), (1, 0, 0, 12), 'c'], [(0, 1, 0), (1, 0, 1, 12), 'c'], [(0, 1, 0), (1, 1, 0, 12), 'c'], [(0, 1, 0), (1, 1, 1, 12), 'c'], [(0, 1, 0), (0, 0, 0, 12), 't'], [(0, 1, 0), (0, 0, 1, 12), 't'], [(0, 1, 0), (0, 1, 0, 12), 't'], [(0, 1, 0), (0, 1, 1, 12), 't'], [(0, 1, 0), (1, 0, 0, 12), 't'], [(0, 1, 0), (1, 0, 1, 12), 't'], [(0, 1, 0), (1, 1, 0, 12), 't'], [(0, 1, 0), (1, 1, 1, 12), 't'], [(0, 1, 0), (0, 0, 0, 12), 'ct'], [(0, 1, 0), (0, 0, 1, 12), 'ct'], [(0, 1, 0), (0, 1, 0, 12), 'ct'], [(0, 1, 0), (0, 1, 1, 12), 'ct'], [(0, 1, 0), (1, 0, 0, 12), 'ct'], [(0, 1, 0), (1, 0, 1, 12), 'ct'], [(0, 1, 0), (1, 1, 0, 12), 'ct'], [(0, 1, 0), (1, 1, 1, 12), 'ct'], [(0, 1, 1), (0, 0, 0, 12), 'n'], [(0, 1, 1), (0, 0, 1, 12), 'n'], [(0, 1, 1), (0, 1, 0, 12), 'n'], [(0, 1, 1), (0, 1, 1, 12), 'n'], [(0, 1, 1), (1, 0, 0, 12), 'n'], [(0, 1, 1), (1, 0, 1, 12), 'n'], [(0, 1, 1), (1, 1, 0, 12), 'n'], [(0, 1, 1), (1, 1, 1, 12), 'n'], [(0, 1, 1), (0, 0, 0, 12), 'c'], [(0, 1, 1), (0, 0, 1, 12), 'c'], [(0, 1, 1), (0, 1, 0, 12), 'c'], [(0, 1, 1), (0, 1, 1, 12), 'c'], [(0, 1, 1), (1, 0, 0, 12), 'c'], [(0, 1, 1), (1, 0, 1, 12), 'c'], [(0, 1, 1), (1, 1, 0, 12), 'c'], [(0, 1, 1), (1, 1, 1, 12), 'c'], [(0, 1, 1), (0, 0, 0, 12), 't'], [(0, 1, 1), (0, 0, 1, 12), 't'], [(0, 1, 1), (0, 1, 0, 12), 't'], [(0, 1, 1), (0, 1, 1, 12), 't'], [(0, 1, 1), (1, 0, 0, 12), 't'], [(0, 1, 1), (1, 0, 1, 12), 't'], [(0, 1, 1), (1, 1, 0, 12), 't'], [(0, 1, 1), (1, 1, 1, 12), 't'], [(0, 1, 1), (0, 0, 0, 12), 'ct'], [(0, 1, 1), (0, 0, 1, 12), 'ct'], [(0, 1, 1), (0, 1, 0, 12), 'ct'], [(0, 1, 1), (0, 1, 1, 12), 'ct'], [(0, 1, 1), (1, 0, 0, 12), 'ct'], [(0, 1, 1), (1, 0, 1, 12), 'ct'], [(0, 1, 1), (1, 1, 0, 12), 'ct'], [(0, 1, 1), (1, 1, 1, 12), 'ct'], [(1, 0, 0), (0, 0, 0, 12), 'n'], [(1, 0, 0), (0, 0, 1, 12), 'n'], [(1, 0, 0), (0, 1, 0, 12), 'n'], [(1, 0, 0), (0, 1, 1, 12), 'n'], [(1, 0, 0), (1, 0, 0, 12), 'n'], [(1, 0, 0), (1, 0, 1, 12), 'n'], [(1, 0, 0), (1, 1, 0, 12), 'n'], [(1, 0, 0), (1, 1, 1, 12), 'n'], [(1, 0, 0), (0, 0, 0, 12), 'c'], [(1, 0, 0), (0, 0, 1, 12), 'c'], [(1, 0, 0), (0, 1, 0, 12), 'c'], [(1, 0, 0), (0, 1, 1, 12), 'c'], [(1, 0, 0), (1, 0, 0, 12), 'c'], [(1, 0, 0), (1, 0, 1, 12), 'c'], [(1, 0, 0), (1, 1, 0, 12), 'c'], [(1, 0, 0), (1, 1, 1, 12), 'c'], [(1, 0, 0), (0, 0, 0, 12), 't'], [(1, 0, 0), (0, 0, 1, 12), 't'], [(1, 0, 0), (0, 1, 0, 12), 't'], [(1, 0, 0), (0, 1, 1, 12), 't'], [(1, 0, 0), (1, 0, 0, 12), 't'], [(1, 0, 0), (1, 0, 1, 12), 't'], [(1, 0, 0), (1, 1, 0, 12), 't'], [(1, 0, 0), (1, 1, 1, 12), 't'], [(1, 0, 0), (0, 0, 0, 12), 'ct'], [(1, 0, 0), (0, 0, 1, 12), 'ct'], [(1, 0, 0), (0, 1, 0, 12), 'ct'], [(1, 0, 0), (0, 1, 1, 12), 'ct'], [(1, 0, 0), (1, 0, 0, 12), 'ct'], [(1, 0, 0), (1, 0, 1, 12), 'ct'], [(1, 0, 0), (1, 1, 0, 12), 'ct'], [(1, 0, 0), (1, 1, 1, 12), 'ct'], [(1, 0, 1), (0, 0, 0, 12), 'n'], [(1, 0, 1), (0, 0, 1, 12), 'n'], [(1, 0, 1), (0, 1, 0, 12), 'n'], [(1, 0, 1), (0, 1, 1, 12), 'n'], [(1, 0, 1), (1, 0, 0, 12), 'n'], [(1, 0, 1), (1, 0, 1, 12), 'n'], [(1, 0, 1), (1, 1, 0, 12), 'n'], [(1, 0, 1), (1, 1, 1, 12), 'n'], [(1, 0, 1), (0, 0, 0, 12), 'c'], [(1, 0, 1), (0, 0, 1, 12), 'c'], [(1, 0, 1), (0, 1, 0, 12), 'c'], [(1, 0, 1), (0, 1, 1, 12), 'c'], [(1, 0, 1), (1, 0, 0, 12), 'c'], [(1, 0, 1), (1, 0, 1, 12), 'c'], [(1, 0, 1), (1, 1, 0, 12), 'c'], [(1, 0, 1), (1, 1, 1, 12), 'c'], [(1, 0, 1), (0, 0, 0, 12), 't'], [(1, 0, 1), (0, 0, 1, 12), 't'], [(1, 0, 1), (0, 1, 0, 12), 't'], [(1, 0, 1), (0, 1, 1, 12), 't'], [(1, 0, 1), (1, 0, 0, 12), 't'], [(1, 0, 1), (1, 0, 1, 12), 't'], [(1, 0, 1), (1, 1, 0, 12), 't'], [(1, 0, 1), (1, 1, 1, 12), 't'], [(1, 0, 1), (0, 0, 0, 12), 'ct'], [(1, 0, 1), (0, 0, 1, 12), 'ct'], [(1, 0, 1), (0, 1, 0, 12), 'ct'], [(1, 0, 1), (0, 1, 1, 12), 'ct'], [(1, 0, 1), (1, 0, 0, 12), 'ct'], [(1, 0, 1), (1, 0, 1, 12), 'ct'], [(1, 0, 1), (1, 1, 0, 12), 'ct'], [(1, 0, 1), (1, 1, 1, 12), 'ct'], [(1, 1, 0), (0, 0, 0, 12), 'n'], [(1, 1, 0), (0, 0, 1, 12), 'n'], [(1, 1, 0), (0, 1, 0, 12), 'n'], [(1, 1, 0), (0, 1, 1, 12), 'n'], [(1, 1, 0), (1, 0, 0, 12), 'n'], [(1, 1, 0), (1, 0, 1, 12), 'n'], [(1, 1, 0), (1, 1, 0, 12), 'n'], [(1, 1, 0), (1, 1, 1, 12), 'n'], [(1, 1, 0), (0, 0, 0, 12), 'c'], [(1, 1, 0), (0, 0, 1, 12), 'c'], [(1, 1, 0), (0, 1, 0, 12), 'c'], [(1, 1, 0), (0, 1, 1, 12), 'c'], [(1, 1, 0), (1, 0, 0, 12), 'c'], [(1, 1, 0), (1, 0, 1, 12), 'c'], [(1, 1, 0), (1, 1, 0, 12), 'c'], [(1, 1, 0), (1, 1, 1, 12), 'c'], [(1, 1, 0), (0, 0, 0, 12), 't'], [(1, 1, 0), (0, 0, 1, 12), 't'], [(1, 1, 0), (0, 1, 0, 12), 't'], [(1, 1, 0), (0, 1, 1, 12), 't'], [(1, 1, 0), (1, 0, 0, 12), 't'], [(1, 1, 0), (1, 0, 1, 12), 't'], [(1, 1, 0), (1, 1, 0, 12), 't'], [(1, 1, 0), (1, 1, 1, 12), 't'], [(1, 1, 0), (0, 0, 0, 12), 'ct'], [(1, 1, 0), (0, 0, 1, 12), 'ct'], [(1, 1, 0), (0, 1, 0, 12), 'ct'], [(1, 1, 0), (0, 1, 1, 12), 'ct'], [(1, 1, 0), (1, 0, 0, 12), 'ct'], [(1, 1, 0), (1, 0, 1, 12), 'ct'], [(1, 1, 0), (1, 1, 0, 12), 'ct'], [(1, 1, 0), (1, 1, 1, 12), 'ct'], [(1, 1, 1), (0, 0, 0, 12), 'n'], [(1, 1, 1), (0, 0, 1, 12), 'n'], [(1, 1, 1), (0, 1, 0, 12), 'n'], [(1, 1, 1), (0, 1, 1, 12), 'n'], [(1, 1, 1), (1, 0, 0, 12), 'n'], [(1, 1, 1), (1, 0, 1, 12), 'n'], [(1, 1, 1), (1, 1, 0, 12), 'n'], [(1, 1, 1), (1, 1, 1, 12), 'n'], [(1, 1, 1), (0, 0, 0, 12), 'c'], [(1, 1, 1), (0, 0, 1, 12), 'c'], [(1, 1, 1), (0, 1, 0, 12), 'c'], [(1, 1, 1), (0, 1, 1, 12), 'c'], [(1, 1, 1), (1, 0, 0, 12), 'c'], [(1, 1, 1), (1, 0, 1, 12), 'c'], [(1, 1, 1), (1, 1, 0, 12), 'c'], [(1, 1, 1), (1, 1, 1, 12), 'c'], [(1, 1, 1), (0, 0, 0, 12), 't'], [(1, 1, 1), (0, 0, 1, 12), 't'], [(1, 1, 1), (0, 1, 0, 12), 't'], [(1, 1, 1), (0, 1, 1, 12), 't'], [(1, 1, 1), (1, 0, 0, 12), 't'], [(1, 1, 1), (1, 0, 1, 12), 't'], [(1, 1, 1), (1, 1, 0, 12), 't'], [(1, 1, 1), (1, 1, 1, 12), 't'], [(1, 1, 1), (0, 0, 0, 12), 'ct'], [(1, 1, 1), (0, 0, 1, 12), 'ct'], [(1, 1, 1), (0, 1, 0, 12), 'ct'], [(1, 1, 1), (0, 1, 1, 12), 'ct'], [(1, 1, 1), (1, 0, 0, 12), 'ct'], [(1, 1, 1), (1, 0, 1, 12), 'ct'], [(1, 1, 1), (1, 1, 0, 12), 'ct'], [(1, 1, 1), (1, 1, 1, 12), 'ct']]\n"
     ]
    },
    {
     "name": "stdout",
     "output_type": "stream",
     "text": [
      "[]\n"
     ]
    }
   ],
   "source": [
    "# SARIMA Grid Search - version 2\n",
    "# ------------------\n",
    "\n",
    "# grid search sarima hyperparameters\n",
    "from math import sqrt\n",
    "from multiprocessing import cpu_count\n",
    "from joblib import Parallel\n",
    "from joblib import delayed\n",
    "from warnings import catch_warnings\n",
    "from warnings import filterwarnings\n",
    "from statsmodels.tsa.statespace.sarimax import SARIMAX\n",
    "from sklearn.metrics import mean_squared_error\n",
    "import simplejson as json\n",
    "import statsmodels.api as sm\n",
    " \n",
    "# one-step sarima forecast\n",
    "def sarima_forecast(data, config):\n",
    "\torder, sorder, trend = config\n",
    "\thistory = [x for x in data]\n",
    "\t# make predictions\n",
    "\tpredictions = list()\n",
    "\tfor t in range(len(data)):\n",
    "\t\tmodel = SARIMAX(history, order=order, seasonal_order=sorder, \n",
    "                    trend=trend, enforce_stationarity=False, enforce_invertibility=False)\n",
    "\t\tmodel_fit = model.fit(disp=0)\n",
    "\t\tyhat = model_fit.forecast()[0]\n",
    "\t\tpredictions.append(yhat)\n",
    "\t\thistory.append(data[t])\n",
    "\t# calculate out of sample error\n",
    "\terror = mean_squared_error(data, predictions)\n",
    "\tmape = np.mean(abs((data-predictions)/data))\n",
    "\treturn error\n",
    "\treturn mape\n",
    " \n",
    "# walk-forward validation for univariate data\n",
    "def walk_forward_validation(data, cfg):\n",
    "\tpredictions = list()\n",
    "\t# seed history with training dataset\n",
    "\thistory = [x for x in X]\n",
    "\t# step over each time-step in the test set\n",
    "\tfor i in range(len(X)):\n",
    "\t\t# fit model and make forecast for history\n",
    "\t\tyhat = sarima_forecast(history, cfg)\n",
    "\t\t# store forecast in list of predictions\n",
    "\t\tpredictions.append(yhat)\n",
    "\t\t# add actual observation to history for the next loop\n",
    "\t\thistory.append(test[i])\n",
    "\t# estimate prediction error\n",
    "\terror = measure_rmse(test, predictions)\n",
    "\treturn error\n",
    " \n",
    "# score a model, return None on failure\n",
    "def score_model(data, cfg, debug=False):\n",
    "\tresult = None\n",
    "\t# convert config to a key\n",
    "\tkey = str(cfg)\n",
    "\t# show all warnings and fail on exception if debugging\n",
    "\tif debug:\n",
    "\t\tresult = walk_forward_validation(data, cfg)\n",
    "\telse:\n",
    "\t\t# one failure during model validation suggests an unstable config\n",
    "\t\ttry:\n",
    "\t\t\t# never show warnings when grid searching, too noisy\n",
    "\t\t\twith catch_warnings():\n",
    "\t\t\t\tfilterwarnings(\"ignore\")\n",
    "\t\t\t\tresult = walk_forward_validation(data, cfg)\n",
    "\t\texcept:\n",
    "\t\t\terror = None\n",
    "\t# check for an interesting result\n",
    "\tif result is not None:\n",
    "\t\tprint(' > Model[%s] %.3f' % (key, result))\n",
    "\treturn (key, result)\n",
    " \n",
    "# grid search configs\n",
    "def grid_search(data, cfg_list, parallel=True):\n",
    "\tscores = None\n",
    "\tif parallel:\n",
    "\t\t# execute configs in parallel\n",
    "\t\texecutor = Parallel(n_jobs=cpu_count(), backend='multiprocessing')\n",
    "\t\ttasks = (delayed(score_model)(data, cfg) for cfg in cfg_list)\n",
    "\t\tscores = executor(tasks)\n",
    "\telse:\n",
    "\t\tscores = [score_model(data, cfg) for cfg in cfg_list]\n",
    "\t# remove empty results\n",
    "\tscores = [r for r in scores if r[1] != None]\n",
    "\t# sort configs by error, asc\n",
    "\tscores.sort(key=lambda tup: tup[1])\n",
    "\treturn scores\n",
    "    \n",
    "# create a set of sarima configs to try\n",
    "def sarima_configs(seasonal=[12]):\n",
    "\tmodels = list()\n",
    "\t# define config lists\n",
    "\tp_params = range(0,2)\n",
    "\td_params = range(0,2)\n",
    "\tq_params = range(0,2)\n",
    "\tt_params = ['n','c','t','ct']\n",
    "\tP_params = range(0,2)\n",
    "\tD_params = range(0,2)\n",
    "\tQ_params = range(0,2)\n",
    "\tm_params = seasonal\n",
    "\t# create config instances\n",
    "\tfor p in p_params:\n",
    "\t\tfor d in d_params:\n",
    "\t\t\tfor q in q_params:\n",
    "\t\t\t\tfor t in t_params:\n",
    "\t\t\t\t\tfor P in P_params:\n",
    "\t\t\t\t\t\tfor D in D_params:\n",
    "\t\t\t\t\t\t\tfor Q in Q_params:\n",
    "\t\t\t\t\t\t\t\tfor m in m_params:\n",
    "\t\t\t\t\t\t\t\t\tcfg = [(p,d,q), (P,D,Q,m), t]\n",
    "#\t\t\t\t\t\t\t\t\tmodel_params = [p,d,q,P,D,Q]\n",
    "#\t\t\t\t\t\t\t\t\tprint(\"best sarima =\", model_params)\n",
    "\t\t\t\t\t\t\t\t\tmodels.append(cfg)\n",
    "\treturn models\n",
    "\n",
    "if __name__ == '__main__':\n",
    "\t# define dataset\n",
    "#\tdf_SoEu['nb'].tolist()\n",
    "\tdata = df_SoEu['nb'].tolist()\n",
    "#\tprint(data)\n",
    "\t# model configs\n",
    "\tcfg_list = sarima_configs()\n",
    "\tprint(cfg_list)\n",
    "\t# grid search\n",
    "\tscores = grid_search(data, cfg_list)\n",
    "#\tprint('done')\n",
    "\tprint(scores)\n",
    "\t# list top 3 configs\n",
    "\tfor cfg, error in scores[:3]:\n",
    "\t\tprint(cfg, error)"
   ]
  },
  {
   "cell_type": "code",
   "execution_count": 12,
   "metadata": {},
   "outputs": [
    {
     "data": {
      "text/plain": [
       "1019"
      ]
     },
     "execution_count": 12,
     "metadata": {},
     "output_type": "execute_result"
    }
   ],
   "source": [
    "len(data)"
   ]
  },
  {
   "cell_type": "code",
   "execution_count": null,
   "metadata": {},
   "outputs": [],
   "source": []
  },
  {
   "cell_type": "code",
   "execution_count": null,
   "metadata": {},
   "outputs": [],
   "source": []
  },
  {
   "cell_type": "code",
   "execution_count": null,
   "metadata": {},
   "outputs": [],
   "source": []
  },
  {
   "cell_type": "code",
   "execution_count": null,
   "metadata": {},
   "outputs": [],
   "source": [
    "import re\n",
    "model_params = [int(s) for s in re.findall(r'\\b\\d+\\b', cfg)]\n",
    "p = model_params[0]\n",
    "d = model_params[1]\n",
    "q = model_params[2]\n",
    "P = model_params[3]\n",
    "D = model_params[4]\n",
    "Q = model_params[5]\n",
    "\n",
    "model = sm.tsa.statespace.SARIMAX(df_SoEu['nb'], \n",
    "                                order=(p,d,q), \n",
    "                                seasonal_order=(P,D,Q,12),   \n",
    "                                enforce_stationarity=False,\n",
    "                                enforce_invertibility=False)\n",
    "results = model.fit()\n",
    "print(results.summary())"
   ]
  }
 ],
 "metadata": {
  "kernelspec": {
   "display_name": "Python 3",
   "language": "python",
   "name": "python3"
  },
  "language_info": {
   "codemirror_mode": {
    "name": "ipython",
    "version": 3
   },
   "file_extension": ".py",
   "mimetype": "text/x-python",
   "name": "python",
   "nbconvert_exporter": "python",
   "pygments_lexer": "ipython3",
   "version": "3.6.5"
  }
 },
 "nbformat": 4,
 "nbformat_minor": 2
}
