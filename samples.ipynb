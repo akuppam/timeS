{
 "cells": [
  {
   "cell_type": "code",
   "execution_count": null,
   "metadata": {},
   "outputs": [],
   "source": []
  },
  {
   "cell_type": "code",
   "execution_count": null,
   "metadata": {},
   "outputs": [],
   "source": []
  },
  {
   "cell_type": "code",
   "execution_count": 2,
   "metadata": {},
   "outputs": [
    {
     "name": "stdout",
     "output_type": "stream",
     "text": [
      "3.6.5 |Anaconda, Inc.| (default, Apr 26 2018, 08:42:37) \n",
      "[GCC 4.2.1 Compatible Clang 4.0.1 (tags/RELEASE_401/final)]\n",
      "beta:    0.8 , alpha:    0.05 , sampleSize:    1\n",
      "calcCritValueSum:  0.04990584425563793\n",
      "statPowerSum:      1.6135541922480405\n"
     ]
    }
   ],
   "source": [
    "### https://stackoverflow.com/questions/51355352/creating-an-a-b-test-sample-size-calculator-from-evan-millers-simple-sequential\n",
    "\n",
    "\n",
    "#### Begin Python Code to Calculate Sample Size ####\n",
    "import random\n",
    "import scipy.stats\n",
    "import math\n",
    "import sys\n",
    "print (sys.version)\n",
    "\n",
    "# Functions and helper functions to \n",
    "# calculate the sample size.\n",
    "def calcStatPowerSum(N, script_delta):\n",
    "    z = scipy.stats.norm.isf(alpha/2.0) #1.96 for alpha = 0.05\n",
    "    d_star = z*(N**0.5)\n",
    "    d_star = int(math.ceil(d_star))\n",
    "    statPowerSum = 0\n",
    "    for i in range(1, N+1):\n",
    "        statPowerSum += (float(d_star)/i)*scipy.stats.binom.pmf((i+d_star)//2, i, 1.0-float(1)/(2+script_delta))\n",
    "        # p and the (1-p) terms are reversed relative to the binomial distribution\n",
    "\n",
    "    return statPowerSum\n",
    "\n",
    "def calcCritValueSum(N, script_delta):\n",
    "    z = scipy.stats.norm.isf(alpha/2.0) #1.96 for alpha = 0.05\n",
    "    d_star = z*(N**0.5)\n",
    "    d_star = int(math.ceil(d_star))\n",
    "    critValueSum = 0\n",
    "    for i in range(d_star, N+1, 2):\n",
    "        critValueSum += (float(d_star)/i)*scipy.stats.binom.pmf((i+d_star)//2, i, 0.5)\n",
    "\n",
    "    return critValueSum\n",
    "\n",
    "def determineSampleSize(alpha, beta, script_delta):\n",
    "    z = scipy.stats.norm.isf(alpha/2.0) #1.96 for alpha = 0.05\n",
    "    d=1\n",
    "    N=int(math.ceil(z*z))-1\n",
    "    statPowerSum = 0\n",
    "    critValueSum = 1\n",
    "    while (statPowerSum <= 1 - beta or critValueSum >= alpha) and N<3000:\n",
    "        d+=1\n",
    "        N=int(math.floor(d*d/z/z))\n",
    "        statPowerSum = calcStatPowerSum(N,  script_delta)\n",
    "        critValueSum = calcCritValueSum(N, script_delta)\n",
    "\n",
    "    return N\n",
    "\n",
    "\n",
    "alpha = 0.05\n",
    "beta = 0.8\n",
    "lift = script_delta = 0.10\n",
    "sampleSize = determineSampleSize(alpha, beta, script_delta)\n",
    "print(\"beta:   \", beta, \", alpha:   \", alpha, \", sampleSize:   \", sampleSize)\n",
    "\n",
    "##  The article suggests that N=2922 satisfies the constraint equations.\n",
    "##  But the calculation suggests otherwise.\n",
    "print(\"calcCritValueSum: \", calcCritValueSum(2922, script_delta))\n",
    "print(\"statPowerSum:     \", calcStatPowerSum(2922, script_delta))\n",
    "\n",
    "#### End Python Code ####"
   ]
  },
  {
   "cell_type": "code",
   "execution_count": 3,
   "metadata": {},
   "outputs": [
    {
     "ename": "SyntaxError",
     "evalue": "invalid syntax (<ipython-input-3-2f8e66dad265>, line 1)",
     "output_type": "error",
     "traceback": [
      "\u001b[0;36m  File \u001b[0;32m\"<ipython-input-3-2f8e66dad265>\"\u001b[0;36m, line \u001b[0;32m1\u001b[0m\n\u001b[0;31m    (*   alpha constraint Plot   *)\u001b[0m\n\u001b[0m                        ^\u001b[0m\n\u001b[0;31mSyntaxError\u001b[0m\u001b[0;31m:\u001b[0m invalid syntax\n"
     ]
    }
   ],
   "source": [
    "(*   alpha constraint Plot   *)\n",
    "z=1.96    (*alpha=0.05*)\n",
    "Table[Sum[(d/n)*PDF[BinomialDistribution[Floor[d^2/z^2], 1/2], (d+n)/2], {n, d, Floor[d^2/z^2], 2}],{d,1,130}]\n",
    "ListLinePlot[%, PlotRange->All, AxesLabel->{d_star,prob},PlotLabel->alpha Constraint Plot]\n",
    "\n",
    "\n",
    "(*   1-beta constraint Plot   *)\n",
    "delta=0.10\n",
    "z=1.96    (*alpha=0.05*)\n",
    "Table[Sum[(d/n)*PDF[BinomialDistribution[Floor[d^2/z^2], (1+delta)/(2+delta)], (d+n)/2], {n, d, Floor[d^2/z^2], 2}],{d,1,130}]\n",
    "ListLinePlot[%, PlotRange->All, AxesLabel->{d_star,prob},PlotLabel->1- beta Constraint Plot]"
   ]
  },
  {
   "cell_type": "code",
   "execution_count": null,
   "metadata": {},
   "outputs": [],
   "source": []
  }
 ],
 "metadata": {
  "kernelspec": {
   "display_name": "Python 3",
   "language": "python",
   "name": "python3"
  },
  "language_info": {
   "codemirror_mode": {
    "name": "ipython",
    "version": 3
   },
   "file_extension": ".py",
   "mimetype": "text/x-python",
   "name": "python",
   "nbconvert_exporter": "python",
   "pygments_lexer": "ipython3",
   "version": "3.6.5"
  }
 },
 "nbformat": 4,
 "nbformat_minor": 2
}
