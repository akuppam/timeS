{
 "cells": [
  {
   "cell_type": "code",
   "execution_count": null,
   "metadata": {},
   "outputs": [],
   "source": [
    "# https://medium.com/themlblog/time-series-analysis-using-recurrent-neural-networks-in-tensorflow-2a0478b00be7"
   ]
  },
  {
   "cell_type": "code",
   "execution_count": 2,
   "metadata": {},
   "outputs": [
    {
     "name": "stderr",
     "output_type": "stream",
     "text": [
      "/anaconda3/lib/python3.6/site-packages/h5py/__init__.py:36: FutureWarning: Conversion of the second argument of issubdtype from `float` to `np.floating` is deprecated. In future, it will be treated as `np.float64 == np.dtype(float).type`.\n",
      "  from ._conv import register_converters as _register_converters\n"
     ]
    },
    {
     "data": {
      "text/plain": [
       "<Figure size 640x480 with 1 Axes>"
      ]
     },
     "metadata": {},
     "output_type": "display_data"
    },
    {
     "name": "stdout",
     "output_type": "stream",
     "text": [
      "(31,)\n"
     ]
    },
    {
     "data": {
      "text/plain": [
       "<Figure size 640x480 with 1 Axes>"
      ]
     },
     "metadata": {},
     "output_type": "display_data"
    },
    {
     "data": {
      "text/plain": [
       "<Figure size 640x480 with 1 Axes>"
      ]
     },
     "metadata": {},
     "output_type": "display_data"
    },
    {
     "name": "stdout",
     "output_type": "stream",
     "text": [
      "0 \tMSE 0.5223706\n",
      "100 \tMSE 0.033915512\n",
      "200 \tMSE 0.012186553\n",
      "300 \tMSE 0.0035922083\n",
      "400 \tMSE 0.021715347\n",
      "500 \tMSE 0.00088384864\n",
      "600 \tMSE 0.0009953774\n",
      "700 \tMSE 0.002889492\n",
      "800 \tMSE 0.00051038305\n",
      "900 \tMSE 0.000698194\n",
      "1000 \tMSE 7.760606e-05\n",
      "1100 \tMSE 0.002965939\n",
      "1200 \tMSE 0.0026660082\n",
      "1300 \tMSE 0.00012859768\n",
      "1400 \tMSE 2.1305777e-05\n",
      "1500 \tMSE 3.7142367e-05\n",
      "1600 \tMSE 6.674914e-05\n",
      "1700 \tMSE 0.00017611428\n",
      "1800 \tMSE 0.00035182142\n",
      "1900 \tMSE 2.2296766e-05\n",
      "2000 \tMSE 0.001063524\n",
      "2100 \tMSE 0.00012127871\n",
      "2200 \tMSE 1.5401743e-05\n",
      "2300 \tMSE 3.340416e-05\n",
      "2400 \tMSE 8.480793e-05\n",
      "2500 \tMSE 1.8884846e-05\n",
      "2600 \tMSE 1.4515023e-05\n",
      "2700 \tMSE 5.1834402e-05\n",
      "2800 \tMSE 3.3235254e-05\n",
      "2900 \tMSE 8.1481536e-05\n",
      "3000 \tMSE 7.612047e-05\n",
      "3100 \tMSE 0.00030185198\n",
      "3200 \tMSE 1.1632189e-05\n",
      "3300 \tMSE 4.3074142e-05\n",
      "3400 \tMSE 2.3082295e-05\n",
      "3500 \tMSE 2.1321775e-05\n",
      "3600 \tMSE 8.966538e-05\n",
      "3700 \tMSE 2.7884738e-05\n",
      "3800 \tMSE 2.8238102e-05\n",
      "3900 \tMSE 9.328385e-06\n",
      "4000 \tMSE 2.435035e-05\n",
      "4100 \tMSE 3.5046618e-05\n",
      "4200 \tMSE 0.002277685\n",
      "4300 \tMSE 0.00010841207\n",
      "4400 \tMSE 0.00029224722\n",
      "4500 \tMSE 1.541088e-05\n",
      "4600 \tMSE 1.8604918e-05\n",
      "4700 \tMSE 9.536078e-06\n",
      "4800 \tMSE 0.00016433255\n",
      "4900 \tMSE 6.3171945e-05\n"
     ]
    },
    {
     "data": {
      "text/plain": [
       "<Figure size 640x480 with 1 Axes>"
      ]
     },
     "metadata": {},
     "output_type": "display_data"
    }
   ],
   "source": [
    "# -*- coding: utf-8 -*-\n",
    "\n",
    "import numpy as np\n",
    "import tensorflow as tf\n",
    "import matplotlib.pyplot as plt\n",
    "\n",
    "class TimeSeriesData():\n",
    "    def __init__(self,num_points,xmin,xmax):\n",
    "        self.xmin=xmin\n",
    "        self.xmax=xmax\n",
    "        self.num_points=num_points\n",
    "        self.resolution=(xmax-xmin)/num_points\n",
    "        self.x_data=np.linspace(xmin,xmax,num_points)\n",
    "        self.y_true=np.sin(self.x_data)\n",
    "        \n",
    "    def ret_true(self,x_series):\n",
    "        return np.sin(x_series)\n",
    "    \n",
    "    def next_batch(self,batch_size,steps,return_batch_ts=False):\n",
    "        #Random starting point for batch\n",
    "        random_start=np.random.rand(batch_size,1)\n",
    "        \n",
    "        #Put the random point on the time series\n",
    "        ts_start=random_start*(self.xmax-self.xmin-(steps*self.resolution)) #Trick to convert any number into a point in the time series\n",
    "        \n",
    "        \n",
    "        batch_ts=ts_start+np.arange(0.0,steps+1) * self.resolution #steps +1 because we are predicting just one tme step ahead\n",
    "        \n",
    "        y_batch=np.sin(batch_ts)\n",
    "        \n",
    "        #Formatting for RNN\n",
    "        if return_batch_ts:\n",
    "            return y_batch[:,:-1].reshape(-1,steps,1) , y_batch[:,1:].reshape(-1,steps,1), batch_ts\n",
    "        else:\n",
    "            return y_batch[:,:-1].reshape(-1,steps,1) , y_batch[:,1:].reshape(-1,steps,1) #Returning the sequence shifted over one time step\n",
    "        \n",
    "        \n",
    "        \n",
    "ts_data=TimeSeriesData(250,0,10)\n",
    "plt.plot(ts_data.x_data,ts_data.y_true)\n",
    "plt.show()\n",
    "\n",
    "num_time_steps=30\n",
    "\n",
    "y1,y2,ts= ts_data.next_batch(1,num_time_steps,True)\n",
    "\n",
    "print(ts.flatten().shape)\n",
    "\n",
    "plt.plot(ts.flatten()[1:],y1.flatten(),\"*\")\n",
    "plt.show()\n",
    "\n",
    "plt.plot(ts_data.x_data,ts_data.y_true)\n",
    "plt.plot(ts.flatten()[1:],y1.flatten(),\"g*\")\n",
    "plt.show()\n",
    "\n",
    "train_inst=np.linspace(5,5+ts_data.resolution*(num_time_steps+1),num_time_steps+1)\n",
    "\n",
    "#CREATE THE MODEL\n",
    "#If using GPU, use the line below in case of any issues\n",
    "tf.reset_default_graph()\n",
    "\n",
    "num_inputs=1\n",
    "num_neurons=100\n",
    "num_outputs=1\n",
    "learning_rate=0.001\n",
    "num_iter=5000\n",
    "batch_size=1\n",
    "\n",
    "x=tf.placeholder(tf.float32,[None,num_time_steps,num_inputs])\n",
    "y=tf.placeholder(tf.float32,[None,num_time_steps,num_outputs])\n",
    "\n",
    "#ANY RNN CELL TYPE\n",
    "cell=tf.contrib.rnn.OutputProjectionWrapper(tf.contrib.rnn.GRUCell(num_units=num_neurons,activation=tf.nn.relu),output_size=num_outputs)\n",
    "\n",
    "outputs,states=tf.nn.dynamic_rnn(cell,x,dtype=tf.float32)\n",
    "\n",
    "#MSE\n",
    "loss=tf.reduce_mean(tf.square(outputs-y))\n",
    "optimizer=tf.train.AdamOptimizer(learning_rate=learning_rate)\n",
    "\n",
    "train=optimizer.minimize(loss)\n",
    "\n",
    "init=tf.global_variables_initializer()\n",
    "\n",
    "\n",
    "x_new=np.sin(np.array(train_inst[:-1].reshape(-1,num_time_steps,num_inputs)))\n",
    "\n",
    "#If using GPU, specify the fraction oof memory to be consumed\n",
    "#gpu_options=tf.GPUOptions(per_process_gpu_memory_fraction=0.75)\n",
    "    \n",
    "with tf.Session() as sess:\n",
    "    sess.run(init)\n",
    "    \n",
    "    for iter in range(num_iter):\n",
    "        x_batch , y_batch = ts_data.next_batch(batch_size,num_time_steps)\n",
    "        \n",
    "        sess.run(train,feed_dict={x:x_batch,y:y_batch})\n",
    "        \n",
    "        if iter %100==0:\n",
    "        \n",
    "            mse=loss.eval(feed_dict={x:x_batch,y:y_batch})\n",
    "            print(iter, \"\\tMSE\",mse)\n",
    "            \n",
    "        y_pred=sess.run(outputs,feed_dict={x:x_new})\n",
    "    \n",
    "\n",
    "plt.title(\"TESTING THE MODEL\")\n",
    "\n",
    "#TRAINING INSTANCE\n",
    "plt.plot(train_inst[:-1],np.sin(train_inst[:-1]),\"bo\",markersize=15,alpha=0.5,label=\"TRAINING INST\")\n",
    "\n",
    "#TARGET TO PREDICT \n",
    "plt.plot(train_inst[1:],np.sin(train_inst[1:]),\"ko\",markersize=8,label=\"TARGET\")\n",
    "\n",
    "#MODEL PREDCTION\n",
    "plt.plot(train_inst[1:],y_pred[0,:,0],\"r.\",markersize=7,label=\"PREDICTIONS\")\n",
    "\n",
    "plt.xlabel(\"TIME\")\n",
    "plt.legend()\n",
    "plt.tight_layout()\n",
    "\n",
    "plt.show()\n",
    "    \n"
   ]
  },
  {
   "cell_type": "code",
   "execution_count": 2,
   "metadata": {},
   "outputs": [
    {
     "data": {
      "text/plain": [
       "[<matplotlib.lines.Line2D at 0x1c2ed9f400>]"
      ]
     },
     "execution_count": 2,
     "metadata": {},
     "output_type": "execute_result"
    },
    {
     "data": {
      "image/png": "[encoded data removed]",
      "text/plain": [
       "<Figure size 432x288 with 1 Axes>"
      ]
     },
     "metadata": {},
     "output_type": "display_data"
    }
   ],
   "source": [
    "#TRAINING INSTANCE\n",
    "plt.plot(train_inst[:-1],np.sin(train_inst[:-1]),\"bo\",markersize=15,alpha=0.5,label=\"TRAINING INST\")"
   ]
  },
  {
   "cell_type": "code",
   "execution_count": 3,
   "metadata": {},
   "outputs": [
    {
     "data": {
      "text/plain": [
       "[<matplotlib.lines.Line2D at 0x1c2ee87fd0>]"
      ]
     },
     "execution_count": 3,
     "metadata": {},
     "output_type": "execute_result"
    },
    {
     "data": {
      "image/png": "[encoded data removed]",
      "text/plain": [
       "<Figure size 432x288 with 1 Axes>"
      ]
     },
     "metadata": {},
     "output_type": "display_data"
    }
   ],
   "source": [
    "#TARGET TO PREDICT \n",
    "plt.plot(train_inst[1:],np.sin(train_inst[1:]),\"ko\",markersize=8,label=\"TARGET\")"
   ]
  },
  {
   "cell_type": "code",
   "execution_count": 4,
   "metadata": {},
   "outputs": [
    {
     "data": {
      "text/plain": [
       "[<matplotlib.lines.Line2D at 0x1c2ef02630>]"
      ]
     },
     "execution_count": 4,
     "metadata": {},
     "output_type": "execute_result"
    },
    {
     "data": {
      "image/png": "[encoded data removed]",
      "text/plain": [
       "<Figure size 432x288 with 1 Axes>"
      ]
     },
     "metadata": {},
     "output_type": "display_data"
    }
   ],
   "source": [
    "#MODEL PREDCTION\n",
    "plt.plot(train_inst[1:],y_pred[0,:,0],\"r.\",markersize=7,label=\"PREDICTIONS\")"
   ]
  },
  {
   "cell_type": "code",
   "execution_count": 1,
   "metadata": {},
   "outputs": [
    {
     "ename": "NameError",
     "evalue": "name 'TimeSeriesData' is not defined",
     "output_type": "error",
     "traceback": [
      "\u001b[0;31m---------------------------------------------------------------------------\u001b[0m",
      "\u001b[0;31mNameError\u001b[0m                                 Traceback (most recent call last)",
      "\u001b[0;32m<ipython-input-1-43888b57fe87>\u001b[0m in \u001b[0;36m<module>\u001b[0;34m()\u001b[0m\n\u001b[0;32m----> 1\u001b[0;31m \u001b[0mts_data\u001b[0m\u001b[0;34m=\u001b[0m\u001b[0mTimeSeriesData\u001b[0m\u001b[0;34m(\u001b[0m\u001b[0;36m250\u001b[0m\u001b[0;34m,\u001b[0m\u001b[0;36m0\u001b[0m\u001b[0;34m,\u001b[0m\u001b[0;36m10\u001b[0m\u001b[0;34m)\u001b[0m\u001b[0;34m\u001b[0m\u001b[0;34m\u001b[0m\u001b[0m\n\u001b[0m\u001b[1;32m      2\u001b[0m \u001b[0mplt\u001b[0m\u001b[0;34m.\u001b[0m\u001b[0mplot\u001b[0m\u001b[0;34m(\u001b[0m\u001b[0mts_data\u001b[0m\u001b[0;34m.\u001b[0m\u001b[0mx_data\u001b[0m\u001b[0;34m,\u001b[0m\u001b[0mts_data\u001b[0m\u001b[0;34m.\u001b[0m\u001b[0my_true\u001b[0m\u001b[0;34m)\u001b[0m\u001b[0;34m\u001b[0m\u001b[0;34m\u001b[0m\u001b[0m\n\u001b[1;32m      3\u001b[0m \u001b[0mplt\u001b[0m\u001b[0;34m.\u001b[0m\u001b[0mshow\u001b[0m\u001b[0;34m(\u001b[0m\u001b[0;34m)\u001b[0m\u001b[0;34m\u001b[0m\u001b[0;34m\u001b[0m\u001b[0m\n",
      "\u001b[0;31mNameError\u001b[0m: name 'TimeSeriesData' is not defined"
     ]
    }
   ],
   "source": [
    "ts_data=TimeSeriesData(250,0,10)\n",
    "plt.plot(ts_data.x_data,ts_data.y_true)\n",
    "plt.show()"
   ]
  },
  {
   "cell_type": "code",
   "execution_count": null,
   "metadata": {},
   "outputs": [],
   "source": []
  }
 ],
 "metadata": {
  "kernelspec": {
   "display_name": "Python 3",
   "language": "python",
   "name": "python3"
  },
  "language_info": {
   "codemirror_mode": {
    "name": "ipython",
    "version": 3
   },
   "file_extension": ".py",
   "mimetype": "text/x-python",
   "name": "python",
   "nbconvert_exporter": "python",
   "pygments_lexer": "ipython3",
   "version": "3.7.1"
  }
 },
 "nbformat": 4,
 "nbformat_minor": 2
}
