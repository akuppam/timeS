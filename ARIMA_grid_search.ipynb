{
 "cells": [
  {
   "cell_type": "markdown",
   "metadata": {},
   "source": [
    "# How to Grid Search ARIMA Model Hyperparameters with Python\n",
    "The ARIMA model for time series analysis and forecasting can be tricky to configure.\n",
    "\n",
    "There are 3 parameters that require estimation by iterative trial and error from reviewing diagnostic plots and using 40-year-old heuristic rules.\n",
    "\n",
    "We can automate the process of evaluating a large number of hyperparameters for the ARIMA model by using a grid search procedure.\n",
    "\n",
    "In this tutorial, you will discover how to tune the ARIMA model using a grid search of hyperparameters in Python.\n",
    "\n",
    "After completing this tutorial, you will know:\n",
    "\n",
    "* A general procedure that you can use to tune the ARIMA hyperparameters for a rolling one-step forecast.\n",
    "* How to apply ARIMA hyperparameter optimization on a standard univariate time series dataset.\n",
    "* Ideas for extending the procedure for more elaborate and robust models.\n",
    "\n",
    "Let’s get started."
   ]
  },
  {
   "cell_type": "markdown",
   "metadata": {},
   "source": [
    "## Grid Searching Method\n",
    "Diagnostic plots of the time series can be used along with heuristic rules to determine the hyperparameters of the ARIMA model.\n",
    "\n",
    "These are good in most, but perhaps not all, situations.\n",
    "\n",
    "We can automate the process of training and evaluating ARIMA models on different combinations of model hyperparameters. In machine learning this is called a grid search or model tuning.\n",
    "\n",
    "In this tutorial, we will develop a method to grid search ARIMA hyperparameters for a one-step rolling forecast.\n",
    "\n",
    "The approach is broken down into two parts:\n",
    "\n",
    "1. Evaluate an ARIMA model.\n",
    "2. Evaluate sets of ARIMA parameters.\n",
    "\n",
    "The code in this tutorial makes use of the scikit-learn, Pandas, and the statsmodels Python libraries."
   ]
  },
  {
   "cell_type": "markdown",
   "metadata": {},
   "source": [
    "### 1. Evaluate ARIMA Model\n",
    "We can evaluate an ARIMA model by preparing it on a training dataset and evaluating predictions on a test dataset.\n",
    "\n",
    "This approach involves the following steps:\n",
    "\n",
    "1. Split the dataset into training and test sets.\n",
    "2. Walk the time steps in the test dataset: (1) Train an ARIMA model, (2) Make a one-step prediction, (3) Store prediction; get and store actual observation.\n",
    "3. Calculate error score for predictions compared to expected values.\n",
    "\n",
    "We can implement this in Python as a new standalone function called evaluate_arima_model() that takes a time series dataset as input as well as a tuple with the p, d, and q parameters for the model to be evaluated.\n",
    "\n",
    "The dataset is split in two: 66% for the initial training dataset and the remaining 34% for the test dataset.\n",
    "\n",
    "Each time step of the test set is iterated. Just one iteration provides a model that you could use to make predictions on new data. The iterative approach allows a new ARIMA model to be trained each time step.\n",
    "\n",
    "A prediction is made each iteration and stored in a list. This is so that at the end of the test set, all predictions can be compared to the list of expected values and an error score calculated. In this case, a mean squared error score is calculated and returned.\n",
    "\n",
    "The complete function is listed below."
   ]
  },
  {
   "cell_type": "code",
   "execution_count": 1,
   "metadata": {},
   "outputs": [
    {
     "data": {
      "text/html": [
       "<div>\n",
       "<style scoped>\n",
       "    .dataframe tbody tr th:only-of-type {\n",
       "        vertical-align: middle;\n",
       "    }\n",
       "\n",
       "    .dataframe tbody tr th {\n",
       "        vertical-align: top;\n",
       "    }\n",
       "\n",
       "    .dataframe thead th {\n",
       "        text-align: right;\n",
       "    }\n",
       "</style>\n",
       "<table border=\"1\" class=\"dataframe\">\n",
       "  <thead>\n",
       "    <tr style=\"text-align: right;\">\n",
       "      <th></th>\n",
       "      <th>date</th>\n",
       "      <th>region</th>\n",
       "      <th>marketing</th>\n",
       "      <th>visits</th>\n",
       "      <th>br</th>\n",
       "      <th>inq</th>\n",
       "      <th>gb</th>\n",
       "      <th>cb</th>\n",
       "      <th>nb</th>\n",
       "      <th>ss</th>\n",
       "      <th>ts</th>\n",
       "      <th>listings</th>\n",
       "    </tr>\n",
       "  </thead>\n",
       "  <tbody>\n",
       "    <tr>\n",
       "      <th>0</th>\n",
       "      <td>2016-01-01</td>\n",
       "      <td>all</td>\n",
       "      <td>all</td>\n",
       "      <td>2293712</td>\n",
       "      <td>8845</td>\n",
       "      <td>118349</td>\n",
       "      <td>8205</td>\n",
       "      <td>698</td>\n",
       "      <td>7507</td>\n",
       "      <td>6.740627e+05</td>\n",
       "      <td>191935.4706</td>\n",
       "      <td>28296771</td>\n",
       "    </tr>\n",
       "    <tr>\n",
       "      <th>1</th>\n",
       "      <td>2016-01-02</td>\n",
       "      <td>all</td>\n",
       "      <td>all</td>\n",
       "      <td>2620436</td>\n",
       "      <td>10255</td>\n",
       "      <td>142797</td>\n",
       "      <td>10094</td>\n",
       "      <td>838</td>\n",
       "      <td>9256</td>\n",
       "      <td>7.939500e+05</td>\n",
       "      <td>248524.9014</td>\n",
       "      <td>28205540</td>\n",
       "    </tr>\n",
       "    <tr>\n",
       "      <th>2</th>\n",
       "      <td>2016-01-03</td>\n",
       "      <td>all</td>\n",
       "      <td>all</td>\n",
       "      <td>3186849</td>\n",
       "      <td>12837</td>\n",
       "      <td>184483</td>\n",
       "      <td>12351</td>\n",
       "      <td>890</td>\n",
       "      <td>11461</td>\n",
       "      <td>7.694853e+05</td>\n",
       "      <td>299503.2650</td>\n",
       "      <td>28194192</td>\n",
       "    </tr>\n",
       "    <tr>\n",
       "      <th>3</th>\n",
       "      <td>2016-01-04</td>\n",
       "      <td>all</td>\n",
       "      <td>all</td>\n",
       "      <td>3317763</td>\n",
       "      <td>13517</td>\n",
       "      <td>188283</td>\n",
       "      <td>14251</td>\n",
       "      <td>1415</td>\n",
       "      <td>12836</td>\n",
       "      <td>1.711552e+06</td>\n",
       "      <td>339585.2933</td>\n",
       "      <td>28349902</td>\n",
       "    </tr>\n",
       "    <tr>\n",
       "      <th>4</th>\n",
       "      <td>2016-01-05</td>\n",
       "      <td>all</td>\n",
       "      <td>all</td>\n",
       "      <td>3267402</td>\n",
       "      <td>14318</td>\n",
       "      <td>194315</td>\n",
       "      <td>15468</td>\n",
       "      <td>1584</td>\n",
       "      <td>13884</td>\n",
       "      <td>1.814768e+06</td>\n",
       "      <td>368632.8372</td>\n",
       "      <td>28373795</td>\n",
       "    </tr>\n",
       "  </tbody>\n",
       "</table>\n",
       "</div>"
      ],
      "text/plain": [
       "         date region marketing   visits     br     inq     gb    cb     nb  \\\n",
       "0  2016-01-01    all       all  2293712   8845  118349   8205   698   7507   \n",
       "1  2016-01-02    all       all  2620436  10255  142797  10094   838   9256   \n",
       "2  2016-01-03    all       all  3186849  12837  184483  12351   890  11461   \n",
       "3  2016-01-04    all       all  3317763  13517  188283  14251  1415  12836   \n",
       "4  2016-01-05    all       all  3267402  14318  194315  15468  1584  13884   \n",
       "\n",
       "             ss           ts  listings  \n",
       "0  6.740627e+05  191935.4706  28296771  \n",
       "1  7.939500e+05  248524.9014  28205540  \n",
       "2  7.694853e+05  299503.2650  28194192  \n",
       "3  1.711552e+06  339585.2933  28349902  \n",
       "4  1.814768e+06  368632.8372  28373795  "
      ]
     },
     "execution_count": 1,
     "metadata": {},
     "output_type": "execute_result"
    }
   ],
   "source": [
    "# load dataset\n",
    "import os\n",
    "import pandas as pd\n",
    "import matplotlib.pyplot as plt\n",
    "\n",
    "df = pd.read_csv(\"/users/akuppam/documents/Data/RoverData/rnbl2agg.csv\")\n",
    "df.head(5)\n",
    "#def parser(x):\n",
    "#\treturn datetime.strptime('190'+x, '%Y-%m')\n",
    "#series = read_csv('*.csv', header=0, parse_dates=[0], index_col=0, squeeze=True, date_parser=parser)"
   ]
  },
  {
   "cell_type": "code",
   "execution_count": null,
   "metadata": {},
   "outputs": [],
   "source": []
  },
  {
   "cell_type": "code",
   "execution_count": null,
   "metadata": {},
   "outputs": [],
   "source": [
    "df.loc[(df['column_name'] == some_value) & df['other_column'].isin(some_values)]"
   ]
  },
  {
   "cell_type": "code",
   "execution_count": null,
   "metadata": {},
   "outputs": [],
   "source": []
  },
  {
   "cell_type": "code",
   "execution_count": 1,
   "metadata": {},
   "outputs": [
    {
     "data": {
      "text/html": [
       "<div>\n",
       "<style scoped>\n",
       "    .dataframe tbody tr th:only-of-type {\n",
       "        vertical-align: middle;\n",
       "    }\n",
       "\n",
       "    .dataframe tbody tr th {\n",
       "        vertical-align: top;\n",
       "    }\n",
       "\n",
       "    .dataframe thead th {\n",
       "        text-align: right;\n",
       "    }\n",
       "</style>\n",
       "<table border=\"1\" class=\"dataframe\">\n",
       "  <thead>\n",
       "    <tr style=\"text-align: right;\">\n",
       "      <th></th>\n",
       "      <th>date</th>\n",
       "      <th>region</th>\n",
       "      <th>marketing</th>\n",
       "      <th>visits</th>\n",
       "      <th>br</th>\n",
       "      <th>inq</th>\n",
       "      <th>gb</th>\n",
       "      <th>cb</th>\n",
       "      <th>nb</th>\n",
       "      <th>ss</th>\n",
       "      <th>ts</th>\n",
       "      <th>listings</th>\n",
       "    </tr>\n",
       "  </thead>\n",
       "  <tbody>\n",
       "    <tr>\n",
       "      <th>0</th>\n",
       "      <td>1/1/16</td>\n",
       "      <td>AMR</td>\n",
       "      <td>NotPaid</td>\n",
       "      <td>1256288</td>\n",
       "      <td>6043</td>\n",
       "      <td>66022</td>\n",
       "      <td>6071</td>\n",
       "      <td>571</td>\n",
       "      <td>5500</td>\n",
       "      <td>485968.08000</td>\n",
       "      <td>144695.894200</td>\n",
       "      <td>10242216</td>\n",
       "    </tr>\n",
       "    <tr>\n",
       "      <th>1</th>\n",
       "      <td>1/1/16</td>\n",
       "      <td>AMR</td>\n",
       "      <td>Paid</td>\n",
       "      <td>189297</td>\n",
       "      <td>1092</td>\n",
       "      <td>11806</td>\n",
       "      <td>743</td>\n",
       "      <td>2</td>\n",
       "      <td>741</td>\n",
       "      <td>0.00000</td>\n",
       "      <td>14138.809600</td>\n",
       "      <td>2133795</td>\n",
       "    </tr>\n",
       "    <tr>\n",
       "      <th>2</th>\n",
       "      <td>1/1/16</td>\n",
       "      <td>UK</td>\n",
       "      <td>NotPaid</td>\n",
       "      <td>201797</td>\n",
       "      <td>435</td>\n",
       "      <td>9662</td>\n",
       "      <td>436</td>\n",
       "      <td>33</td>\n",
       "      <td>403</td>\n",
       "      <td>72698.92472</td>\n",
       "      <td>8317.105056</td>\n",
       "      <td>3561696</td>\n",
       "    </tr>\n",
       "    <tr>\n",
       "      <th>3</th>\n",
       "      <td>1/1/16</td>\n",
       "      <td>UK</td>\n",
       "      <td>Paid</td>\n",
       "      <td>55934</td>\n",
       "      <td>88</td>\n",
       "      <td>2749</td>\n",
       "      <td>61</td>\n",
       "      <td>1</td>\n",
       "      <td>60</td>\n",
       "      <td>0.00000</td>\n",
       "      <td>815.336426</td>\n",
       "      <td>890424</td>\n",
       "    </tr>\n",
       "    <tr>\n",
       "      <th>4</th>\n",
       "      <td>1/1/16</td>\n",
       "      <td>CE</td>\n",
       "      <td>NotPaid</td>\n",
       "      <td>200786</td>\n",
       "      <td>573</td>\n",
       "      <td>9250</td>\n",
       "      <td>435</td>\n",
       "      <td>31</td>\n",
       "      <td>404</td>\n",
       "      <td>40490.73159</td>\n",
       "      <td>12016.782410</td>\n",
       "      <td>3062480</td>\n",
       "    </tr>\n",
       "  </tbody>\n",
       "</table>\n",
       "</div>"
      ],
      "text/plain": [
       "     date region marketing   visits    br    inq    gb   cb    nb  \\\n",
       "0  1/1/16    AMR   NotPaid  1256288  6043  66022  6071  571  5500   \n",
       "1  1/1/16    AMR      Paid   189297  1092  11806   743    2   741   \n",
       "2  1/1/16     UK   NotPaid   201797   435   9662   436   33   403   \n",
       "3  1/1/16     UK      Paid    55934    88   2749    61    1    60   \n",
       "4  1/1/16     CE   NotPaid   200786   573   9250   435   31   404   \n",
       "\n",
       "             ss             ts  listings  \n",
       "0  485968.08000  144695.894200  10242216  \n",
       "1       0.00000   14138.809600   2133795  \n",
       "2   72698.92472    8317.105056   3561696  \n",
       "3       0.00000     815.336426    890424  \n",
       "4   40490.73159   12016.782410   3062480  "
      ]
     },
     "execution_count": 1,
     "metadata": {},
     "output_type": "execute_result"
    }
   ],
   "source": [
    "# load dataset\n",
    "import os\n",
    "import pandas as pd\n",
    "import matplotlib.pyplot as plt\n",
    "\n",
    "df = pd.read_csv(\"/users/akuppam/documents/Hprog/R/Prophet/rnb1015.csv\")\n",
    "df.head(5)"
   ]
  },
  {
   "cell_type": "code",
   "execution_count": null,
   "metadata": {},
   "outputs": [],
   "source": []
  },
  {
   "cell_type": "code",
   "execution_count": null,
   "metadata": {},
   "outputs": [],
   "source": [
    "df.loc[(df['column_name'] == some_value) & df['other_column'].isin(some_values)]"
   ]
  },
  {
   "cell_type": "code",
   "execution_count": 3,
   "metadata": {},
   "outputs": [],
   "source": [
    "df_SoEu = df.loc[(df['region'] == 'SoEu') & (df['marketing'] == 'Paid')]"
   ]
  },
  {
   "cell_type": "code",
   "execution_count": null,
   "metadata": {},
   "outputs": [],
   "source": []
  },
  {
   "cell_type": "code",
   "execution_count": 2,
   "metadata": {},
   "outputs": [],
   "source": [
    "# evaluate an ARIMA model for a given order (p,d,q)\n",
    "def evaluate_arima_model(X, arima_order):\n",
    "\t# prepare training dataset\n",
    "\ttrain_size = int(len(X) * 0.80)\n",
    "\ttrain, test = X[0:train_size], X[train_size:]\n",
    "\thistory = [x for x in train]\n",
    "\t# make predictions\n",
    "\tpredictions = list()\n",
    "\tfor t in range(len(test)):\n",
    "\t\tmodel = ARIMA(history, order=arima_order)\n",
    "\t\tmodel_fit = model.fit(disp=0)\n",
    "\t\tyhat = model_fit.forecast()[0]\n",
    "\t\tpredictions.append(yhat)\n",
    "\t\thistory.append(test[t])\n",
    "\t# calculate out of sample error\n",
    "\terror = mean_squared_error(test, predictions)\n",
    "\treturn error"
   ]
  },
  {
   "cell_type": "markdown",
   "metadata": {},
   "source": [
    "Now that we know how to evaluate one set of ARIMA hyperparameters, let’s see how we can call this function repeatedly for a grid of parameters to evaluate.\n",
    "\n",
    "### 2. Iterate ARIMA Parameters\n",
    "Evaluating a suite of parameters is relatively straightforward.\n",
    "\n",
    "The user must specify a grid of p, d, and q ARIMA parameters to iterate. A model is created for each parameter and its performance evaluated by calling the evaluate_arima_model() function described in the previous section.\n",
    "\n",
    "The function must keep track of the lowest error score observed and the configuration that caused it. This can be summarized at the end of the function with a print to standard out.\n",
    "\n",
    "We can implement this function called evaluate_models() as a series of four loops.\n",
    "\n",
    "There are two additional considerations. The first is to ensure the input data are floating point values (as opposed to integers or strings), as this can cause the ARIMA procedure to fail.\n",
    "\n",
    "Second, the statsmodels ARIMA procedure internally uses numerical optimization procedures to find a set of coefficients for the model. These procedures can fail, which in turn can throw an exception. We must catch these exceptions and skip those configurations that cause a problem. This happens more often then you would think.\n",
    "\n",
    "Additionally, it is recommended that warnings be ignored for this code to avoid a lot of noise from running the procedure. This can be done as follows:"
   ]
  },
  {
   "cell_type": "code",
   "execution_count": 3,
   "metadata": {},
   "outputs": [],
   "source": [
    "import warnings\n",
    "warnings.filterwarnings(\"ignore\")"
   ]
  },
  {
   "cell_type": "markdown",
   "metadata": {},
   "source": [
    "The complete procedure for evaluating a grid of ARIMA hyperparameters is listed below."
   ]
  },
  {
   "cell_type": "code",
   "execution_count": 4,
   "metadata": {},
   "outputs": [],
   "source": [
    "# evaluate combinations of p, d and q values for an ARIMA model\n",
    "def evaluate_models(dataset, p_values, d_values, q_values):\n",
    "\tdataset = dataset.astype('float32')\n",
    "\tbest_score, best_cfg = float(\"inf\"), None\n",
    "\tfor p in p_values:\n",
    "\t\tfor d in d_values:\n",
    "\t\t\tfor q in q_values:\n",
    "\t\t\t\torder = (p,d,q)\n",
    "\t\t\t\ttry:\n",
    "\t\t\t\t\tmse = evaluate_arima_model(dataset, order)\n",
    "\t\t\t\t\tif mse < best_score:\n",
    "\t\t\t\t\t\tbest_score, best_cfg = mse, order\n",
    "\t\t\t\t\tprint('ARIMA%s MSE=%.3f' % (order,mse))\n",
    "\t\t\t\texcept:\n",
    "\t\t\t\t\tcontinue\n",
    "\tprint('Best ARIMA%s MSE=%.3f' % (best_cfg, best_score))"
   ]
  },
  {
   "cell_type": "markdown",
   "metadata": {},
   "source": [
    "Once loaded, we can specify a site of p, d, and q values to search and pass them to the evaluate_models() function.\n",
    "\n",
    "We will try a suite of lag values (p) and just a few difference iterations (d) and residual error lag values (q)."
   ]
  },
  {
   "cell_type": "code",
   "execution_count": 7,
   "metadata": {},
   "outputs": [
    {
     "name": "stdout",
     "output_type": "stream",
     "text": [
      "<class 'pandas.core.frame.DataFrame'>\n",
      "RangeIndex: 998 entries, 0 to 997\n",
      "Data columns (total 12 columns):\n",
      "date         998 non-null object\n",
      "region       998 non-null object\n",
      "marketing    998 non-null object\n",
      "visits       998 non-null int64\n",
      "br           998 non-null int64\n",
      "inq          998 non-null int64\n",
      "gb           998 non-null int64\n",
      "cb           998 non-null int64\n",
      "nb           998 non-null int64\n",
      "ss           998 non-null float64\n",
      "ts           998 non-null float64\n",
      "listings     998 non-null int64\n",
      "dtypes: float64(2), int64(7), object(3)\n",
      "memory usage: 93.6+ KB\n"
     ]
    }
   ],
   "source": [
    "df.info()"
   ]
  },
  {
   "cell_type": "code",
   "execution_count": 8,
   "metadata": {},
   "outputs": [
    {
     "name": "stdout",
     "output_type": "stream",
     "text": [
      "Best ARIMANone MSE=inf\n"
     ]
    }
   ],
   "source": [
    "# evaluate parameters\n",
    "# p_values = [0, 1, 2, 4, 6, 8, 10]\n",
    "p_values = range(0, 3)\n",
    "d_values = range(0, 3)\n",
    "q_values = range(0, 3)\n",
    "warnings.filterwarnings(\"ignore\")\n",
    "evaluate_models(df.nb, p_values, d_values, q_values)"
   ]
  },
  {
   "cell_type": "markdown",
   "metadata": {},
   "source": [
    "Putting this all together with the generic procedures defined in the previous section, we can grid search ARIMA hyperparameters.\n",
    "\n",
    "The complete code example is listed below."
   ]
  },
  {
   "cell_type": "code",
   "execution_count": 37,
   "metadata": {},
   "outputs": [
    {
     "name": "stdout",
     "output_type": "stream",
     "text": [
      "ARIMA(0, 0, 0) MSE=0.230\n",
      "Best ARIMA(0, 0, 0) MSE=0.230\n"
     ]
    },
    {
     "ename": "NameError",
     "evalue": "name 'predictions' is not defined",
     "output_type": "error",
     "traceback": [
      "\u001b[0;31m---------------------------------------------------------------------------\u001b[0m",
      "\u001b[0;31mNameError\u001b[0m                                 Traceback (most recent call last)",
      "\u001b[0;32m<ipython-input-37-8643bc9d4a0a>\u001b[0m in \u001b[0;36m<module>\u001b[0;34m()\u001b[0m\n\u001b[1;32m     62\u001b[0m \u001b[0mpyplot\u001b[0m\u001b[0;34m.\u001b[0m\u001b[0mplot\u001b[0m\u001b[0;34m(\u001b[0m\u001b[0mtrain\u001b[0m\u001b[0;34m)\u001b[0m\u001b[0;34m\u001b[0m\u001b[0m\n\u001b[1;32m     63\u001b[0m \u001b[0mpyplot\u001b[0m\u001b[0;34m.\u001b[0m\u001b[0mplot\u001b[0m\u001b[0;34m(\u001b[0m\u001b[0;34m[\u001b[0m\u001b[0;32mNone\u001b[0m \u001b[0;32mfor\u001b[0m \u001b[0mi\u001b[0m \u001b[0;32min\u001b[0m \u001b[0mtrain\u001b[0m\u001b[0;34m]\u001b[0m \u001b[0;34m+\u001b[0m \u001b[0;34m[\u001b[0m\u001b[0mx\u001b[0m \u001b[0;32mfor\u001b[0m \u001b[0mx\u001b[0m \u001b[0;32min\u001b[0m \u001b[0mtest\u001b[0m\u001b[0;34m]\u001b[0m\u001b[0;34m)\u001b[0m\u001b[0;34m\u001b[0m\u001b[0m\n\u001b[0;32m---> 64\u001b[0;31m \u001b[0mpyplot\u001b[0m\u001b[0;34m.\u001b[0m\u001b[0mplot\u001b[0m\u001b[0;34m(\u001b[0m\u001b[0;34m[\u001b[0m\u001b[0;32mNone\u001b[0m \u001b[0;32mfor\u001b[0m \u001b[0mi\u001b[0m \u001b[0;32min\u001b[0m \u001b[0mtrain\u001b[0m\u001b[0;34m]\u001b[0m \u001b[0;34m+\u001b[0m \u001b[0;34m[\u001b[0m\u001b[0mx\u001b[0m \u001b[0;32mfor\u001b[0m \u001b[0mx\u001b[0m \u001b[0;32min\u001b[0m \u001b[0mpredictions\u001b[0m\u001b[0;34m]\u001b[0m\u001b[0;34m)\u001b[0m\u001b[0;34m\u001b[0m\u001b[0m\n\u001b[0m\u001b[1;32m     65\u001b[0m \u001b[0mpyplot\u001b[0m\u001b[0;34m.\u001b[0m\u001b[0mshow\u001b[0m\u001b[0;34m(\u001b[0m\u001b[0;34m)\u001b[0m\u001b[0;34m\u001b[0m\u001b[0m\n",
      "\u001b[0;31mNameError\u001b[0m: name 'predictions' is not defined"
     ]
    },
    {
     "data": {
      "image/png": "[encoded data removed]",
      "text/plain": [
       "<Figure size 432x288 with 1 Axes>"
      ]
     },
     "metadata": {},
     "output_type": "display_data"
    }
   ],
   "source": [
    "import warnings\n",
    "from pandas import read_csv\n",
    "from pandas import datetime\n",
    "from statsmodels.tsa.arima_model import ARIMA\n",
    "from sklearn.metrics import mean_squared_error\n",
    " \n",
    "# evaluate an ARIMA model for a given order (p,d,q)\n",
    "def evaluate_arima_model(X, arima_order):\n",
    "\t# prepare training dataset\n",
    "\ttrain_size = int(len(X) * 0.80)\n",
    "\ttrain, test = X[0:train_size], X[train_size:]\n",
    "\thistory = [x for x in train]\n",
    "\t# make predictions\n",
    "\tpredictions = list()\n",
    "\tfor t in range(len(test)):\n",
    "\t\tmodel = ARIMA(history, order=arima_order)\n",
    "\t\tmodel_fit = model.fit(disp=0)\n",
    "\t\tyhat = model_fit.forecast()[0]\n",
    "\t\tpredictions.append(yhat)\n",
    "\t\thistory.append(test[t])\n",
    "\t# calculate out of sample error\n",
    "#\terror = mean_squared_error(test, predictions)\n",
    "\tmape = np.mean(abs((test-predictions)/test))\n",
    "\treturn mape\n",
    " \n",
    "# evaluate combinations of p, d and q values for an ARIMA model\n",
    "def evaluate_models(dataset, p_values, d_values, q_values):\n",
    "\tdataset = dataset.astype('float32')\n",
    "\tbest_score, best_cfg = float(\"inf\"), None\n",
    "\tfor p in p_values:\n",
    "\t\tfor d in d_values:\n",
    "\t\t\tfor q in q_values:\n",
    "\t\t\t\torder = (p,d,q)\n",
    "\t\t\t\ttry:\n",
    "\t\t\t\t\tmse = evaluate_arima_model(dataset, order)\n",
    "\t\t\t\t\tif mse < best_score:\n",
    "\t\t\t\t\t\tbest_score, best_cfg = mse, order\n",
    "\t\t\t\t\tprint('ARIMA%s MSE=%.6f' % (order,mse))\n",
    "\t\t\t\texcept:\n",
    "\t\t\t\t\tcontinue\n",
    "\tprint('Best ARIMA%s MSE=%.3f' % (best_cfg, best_score))\n",
    "\n",
    " \n",
    "# load dataset\n",
    "#def parser(x):\n",
    "#\treturn datetime.strptime('190'+x, '%Y-%m')\n",
    "#series = read_csv('*.csv', header=0, parse_dates=[0], index_col=0, squeeze=True, date_parser=parser)\n",
    "series = df['nb']\n",
    "# evaluate parameters\n",
    "#p_values = [0, 1, 2, 4, 6, 8, 10]\n",
    "p_values = range(0, 1)\n",
    "d_values = range(0, 1)\n",
    "q_values = range(0, 1)\n",
    "warnings.filterwarnings(\"ignore\")\n",
    "evaluate_models(series.values, p_values, d_values, q_values)\n"
   ]
  },
  {
   "cell_type": "code",
   "execution_count": 24,
   "metadata": {},
   "outputs": [],
   "source": [
    "import numpy as np\n"
   ]
  },
  {
   "cell_type": "code",
   "execution_count": null,
   "metadata": {},
   "outputs": [],
   "source": [
    "ARIMA(0, 0, 0) MSE=0.230\n",
    "ARIMA(0, 0, 1) MSE=0.166\n",
    "ARIMA(0, 0, 2) MSE=0.162\n",
    "ARIMA(0, 1, 0) MSE=0.171\n",
    "ARIMA(0, 1, 1) MSE=0.170\n",
    "ARIMA(0, 1, 2) MSE=0.162\n",
    "ARIMA(0, 2, 0) MSE=0.207\n",
    "ARIMA(0, 2, 1) MSE=0.172\n",
    "ARIMA(0, 2, 2) MSE=0.171\n",
    "ARIMA(1, 0, 0) MSE=0.165\n",
    "ARIMA(1, 0, 1) MSE=0.165\n",
    "ARIMA(1, 0, 2) MSE=0.161\n",
    "ARIMA(1, 1, 0) MSE=0.171\n",
    "ARIMA(1, 1, 1) MSE=0.163\n",
    "ARIMA(1, 1, 2) MSE=0.164\n",
    "ARIMA(1, 2, 0) MSE=0.201\n",
    "ARIMA(2, 0, 0) MSE=0.165\n",
    "ARIMA(2, 0, 1) MSE=0.161\n",
    "ARIMA(2, 0, 2) MSE=0.161\n",
    "ARIMA(2, 1, 0) MSE=0.167\n",
    "ARIMA(2, 1, 1) MSE=0.163\n",
    "ARIMA(2, 1, 2) MSE=0.165\n",
    "ARIMA(2, 2, 0) MSE=0.193\n",
    "ARIMA(2, 2, 2) MSE=0.164\n",
    "Best ARIMA(1, 0, 2) MSE=0.161"
   ]
  },
  {
   "cell_type": "code",
   "execution_count": null,
   "metadata": {},
   "outputs": [],
   "source": []
  },
  {
   "cell_type": "code",
   "execution_count": null,
   "metadata": {},
   "outputs": [],
   "source": []
  },
  {
   "cell_type": "code",
   "execution_count": null,
   "metadata": {},
   "outputs": [],
   "source": []
  },
  {
   "cell_type": "code",
   "execution_count": null,
   "metadata": {},
   "outputs": [],
   "source": []
  },
  {
   "cell_type": "code",
   "execution_count": null,
   "metadata": {},
   "outputs": [],
   "source": [
    "# walk-forward validation\n",
    "predictions = list()\n",
    "for x in test_X:\n",
    "\tyhat = model_persistence(x)\n",
    "\tpredictions.append(yhat)\n",
    "test_score = mean_squared_error(test_y, predictions)\n",
    "print('Test MSE: %.3f' % test_score)\n",
    " \n",
    "# plot predictions and expected results\n",
    "pyplot.plot(train_y)\n",
    "pyplot.plot([None for i in train_y] + [x for x in test_y])\n",
    "pyplot.plot([None for i in train_y] + [x for x in predictions])\n",
    "pyplot.show()"
   ]
  },
  {
   "cell_type": "code",
   "execution_count": null,
   "metadata": {},
   "outputs": [],
   "source": []
  },
  {
   "cell_type": "code",
   "execution_count": null,
   "metadata": {},
   "outputs": [],
   "source": []
  },
  {
   "cell_type": "code",
   "execution_count": null,
   "metadata": {},
   "outputs": [],
   "source": []
  },
  {
   "cell_type": "markdown",
   "metadata": {},
   "source": [
    "### Visual of 'train' vs 'test'"
   ]
  },
  {
   "cell_type": "code",
   "execution_count": 17,
   "metadata": {},
   "outputs": [
    {
     "name": "stdout",
     "output_type": "stream",
     "text": [
      "Observations: 998\n",
      "Training Observations: 798\n",
      "Testing Observations: 200\n"
     ]
    },
    {
     "data": {
      "image/png": "[encoded data removed]",
      "text/plain": [
       "<Figure size 432x288 with 1 Axes>"
      ]
     },
     "metadata": {},
     "output_type": "display_data"
    }
   ],
   "source": [
    "from pandas import Series\n",
    "from matplotlib import pyplot\n",
    "series = df['nb']\n",
    "X = series.values\n",
    "train_size = int(len(X) * 0.80)\n",
    "train, test = X[0:train_size], X[train_size:len(X)]\n",
    "print('Observations: %d' % (len(X)))\n",
    "print('Training Observations: %d' % (len(train)))\n",
    "print('Testing Observations: %d' % (len(test)))\n",
    "pyplot.plot(train)\n",
    "pyplot.plot([None for i in train] + [x for x in test])\n",
    "pyplot.show()"
   ]
  },
  {
   "cell_type": "code",
   "execution_count": null,
   "metadata": {},
   "outputs": [],
   "source": []
  },
  {
   "cell_type": "markdown",
   "metadata": {},
   "source": [
    "### ARIMA model diagnostics"
   ]
  },
  {
   "cell_type": "code",
   "execution_count": 18,
   "metadata": {},
   "outputs": [],
   "source": [
    "import statsmodels.api as sm"
   ]
  },
  {
   "cell_type": "code",
   "execution_count": 19,
   "metadata": {},
   "outputs": [],
   "source": [
    "from statsmodels.tsa.arima_model import ARIMA\n",
    "from matplotlib import pyplot"
   ]
  },
  {
   "cell_type": "code",
   "execution_count": 38,
   "metadata": {},
   "outputs": [
    {
     "name": "stdout",
     "output_type": "stream",
     "text": [
      "                             ARIMA Model Results                              \n",
      "==============================================================================\n",
      "Dep. Variable:                   D.nb   No. Observations:                  997\n",
      "Model:                 ARIMA(2, 1, 2)   Log Likelihood               -8683.939\n",
      "Method:                       css-mle   S.D. of innovations           1465.952\n",
      "Date:                Mon, 08 Oct 2018   AIC                          17379.879\n",
      "Time:                        15:57:54   BIC                          17409.307\n",
      "Sample:                             1   HQIC                         17391.065\n",
      "                                                                              \n",
      "==============================================================================\n",
      "                 coef    std err          z      P>|z|      [0.025      0.975]\n",
      "------------------------------------------------------------------------------\n",
      "const          6.3134     24.505      0.258      0.797     -41.715      54.341\n",
      "ar.L1.D.nb     1.1776      0.022     53.612      0.000       1.135       1.221\n",
      "ar.L2.D.nb    -0.8309      0.026    -32.448      0.000      -0.881      -0.781\n",
      "ma.L1.D.nb    -1.4333      0.026    -55.207      0.000      -1.484      -1.382\n",
      "ma.L2.D.nb     0.7779      0.022     35.255      0.000       0.735       0.821\n",
      "                                    Roots                                    \n",
      "=============================================================================\n",
      "                  Real          Imaginary           Modulus         Frequency\n",
      "-----------------------------------------------------------------------------\n",
      "AR.1            0.7086           -0.8375j            1.0970           -0.1382\n",
      "AR.2            0.7086           +0.8375j            1.0970            0.1382\n",
      "MA.1            0.9212           -0.6609j            1.1338           -0.0991\n",
      "MA.2            0.9212           +0.6609j            1.1338            0.0991\n",
      "-----------------------------------------------------------------------------\n"
     ]
    }
   ],
   "source": [
    "model = ARIMA(df['nb'], order=(2,1,2))\n",
    "model_fit = model.fit(disp=0)\n",
    "print(model_fit.summary())"
   ]
  },
  {
   "cell_type": "code",
   "execution_count": 39,
   "metadata": {},
   "outputs": [
    {
     "data": {
      "image/png": "[encoded data removed]",
      "text/plain": [
       "<Figure size 432x288 with 1 Axes>"
      ]
     },
     "metadata": {},
     "output_type": "display_data"
    },
    {
     "data": {
      "image/png": "[encoded data removed]",
      "text/plain": [
       "<Figure size 432x288 with 1 Axes>"
      ]
     },
     "metadata": {},
     "output_type": "display_data"
    },
    {
     "name": "stdout",
     "output_type": "stream",
     "text": [
      "                 0\n",
      "count   997.000000\n",
      "mean      2.832127\n",
      "std    1468.426097\n",
      "min   -6610.515698\n",
      "25%    -807.043086\n",
      "50%     -96.835973\n",
      "75%     659.607629\n",
      "max    7709.086948\n"
     ]
    }
   ],
   "source": [
    "# plot residual errors\n",
    "residuals = pd.DataFrame(model_fit.resid)\n",
    "residuals.plot()\n",
    "pyplot.show()\n",
    "residuals.plot(kind='kde')\n",
    "pyplot.show()\n",
    "print(residuals.describe())"
   ]
  },
  {
   "cell_type": "code",
   "execution_count": null,
   "metadata": {},
   "outputs": [],
   "source": []
  },
  {
   "cell_type": "code",
   "execution_count": null,
   "metadata": {},
   "outputs": [],
   "source": []
  },
  {
   "cell_type": "code",
   "execution_count": null,
   "metadata": {},
   "outputs": [],
   "source": []
  },
  {
   "cell_type": "markdown",
   "metadata": {},
   "source": [
    "### Apply grid-searched (or estimated) model\n",
    "#### Plot 'real' vs. 'predictions'"
   ]
  },
  {
   "cell_type": "code",
   "execution_count": 50,
   "metadata": {},
   "outputs": [
    {
     "name": "stdout",
     "output_type": "stream",
     "text": [
      "Test MSE: 3432713.836\n",
      "MAPE: 0.160575\n"
     ]
    },
    {
     "data": {
      "image/png": "[encoded data removed]",
      "text/plain": [
       "<Figure size 432x288 with 1 Axes>"
      ]
     },
     "metadata": {},
     "output_type": "display_data"
    },
    {
     "data": {
      "image/png": "[encoded data removed]",
      "text/plain": [
       "<Figure size 432x288 with 1 Axes>"
      ]
     },
     "metadata": {},
     "output_type": "display_data"
    }
   ],
   "source": [
    "X = series.values\n",
    "size = int(len(X) * 0.80)\n",
    "train, test = X[0:size], X[size:len(X)]\n",
    "history = [x for x in train]\n",
    "predictions = list()\n",
    "for t in range(len(test)):\n",
    "\tmodel = ARIMA(history, order=(1,0,2))\n",
    "\tmodel_fit = model.fit(disp=0)\n",
    "\toutput = model_fit.forecast()\n",
    "\tyhat = output[0]\n",
    "\tpredictions.append(yhat)\n",
    "\tobs = test[t]\n",
    "\thistory.append(obs)\n",
    "#\tprint('predicted=%f, expected=%f' % (yhat, obs))\n",
    "error = mean_squared_error(test, predictions)\n",
    "mape = np.mean(abs((test-predictions)/test))\n",
    "print('Test MSE: %.3f' % error)\n",
    "print('MAPE: %.6f' % mape)\n",
    "# plot\n",
    "pyplot.plot(test)\n",
    "pyplot.plot(predictions, color='red')\n",
    "pyplot.show()\n",
    "#pyplot.plot(train)\n",
    "#pyplot.plot(predictions, color='black')\n",
    "#pyplot.show()\n",
    "pyplot.plot(train)\n",
    "pyplot.plot([None for i in train] + [x for x in test], color='green')\n",
    "pyplot.plot([None for i in train] + [x for x in predictions], color='black')\n",
    "pyplot.show()\n",
    "pdf = pd.DataFrame(predictions)\n",
    "pdf.to_csv(\"predictions_arima_agg.csv\")"
   ]
  },
  {
   "cell_type": "code",
   "execution_count": null,
   "metadata": {},
   "outputs": [],
   "source": []
  },
  {
   "cell_type": "code",
   "execution_count": 52,
   "metadata": {},
   "outputs": [],
   "source": []
  },
  {
   "cell_type": "code",
   "execution_count": null,
   "metadata": {},
   "outputs": [],
   "source": [
    "# re-do grid search with the WHOLE dataset, rather than train/test\n",
    "# re-compute MSE and MAPE, and plot\n",
    "# output predictionsAll"
   ]
  },
  {
   "cell_type": "code",
   "execution_count": null,
   "metadata": {},
   "outputs": [],
   "source": []
  },
  {
   "cell_type": "code",
   "execution_count": null,
   "metadata": {},
   "outputs": [],
   "source": []
  },
  {
   "cell_type": "markdown",
   "metadata": {},
   "source": [
    "### Grid-search ARIMA parameters on 'all' data"
   ]
  },
  {
   "cell_type": "code",
   "execution_count": 4,
   "metadata": {},
   "outputs": [
    {
     "data": {
      "text/html": [
       "<div>\n",
       "<style scoped>\n",
       "    .dataframe tbody tr th:only-of-type {\n",
       "        vertical-align: middle;\n",
       "    }\n",
       "\n",
       "    .dataframe tbody tr th {\n",
       "        vertical-align: top;\n",
       "    }\n",
       "\n",
       "    .dataframe thead th {\n",
       "        text-align: right;\n",
       "    }\n",
       "</style>\n",
       "<table border=\"1\" class=\"dataframe\">\n",
       "  <thead>\n",
       "    <tr style=\"text-align: right;\">\n",
       "      <th></th>\n",
       "      <th>visits</th>\n",
       "      <th>br</th>\n",
       "      <th>inq</th>\n",
       "      <th>gb</th>\n",
       "      <th>cb</th>\n",
       "      <th>nb</th>\n",
       "      <th>ss</th>\n",
       "      <th>ts</th>\n",
       "      <th>listings</th>\n",
       "    </tr>\n",
       "  </thead>\n",
       "  <tbody>\n",
       "    <tr>\n",
       "      <th>count</th>\n",
       "      <td>1019.000000</td>\n",
       "      <td>1019.000000</td>\n",
       "      <td>1019.000000</td>\n",
       "      <td>1019.000000</td>\n",
       "      <td>1019.000000</td>\n",
       "      <td>1019.000000</td>\n",
       "      <td>1019.000000</td>\n",
       "      <td>1019.000000</td>\n",
       "      <td>1.019000e+03</td>\n",
       "    </tr>\n",
       "    <tr>\n",
       "      <th>mean</th>\n",
       "      <td>75323.031403</td>\n",
       "      <td>127.437684</td>\n",
       "      <td>1870.481845</td>\n",
       "      <td>71.300294</td>\n",
       "      <td>10.877331</td>\n",
       "      <td>60.422964</td>\n",
       "      <td>274.992046</td>\n",
       "      <td>4891.324946</td>\n",
       "      <td>1.258473e+06</td>\n",
       "    </tr>\n",
       "    <tr>\n",
       "      <th>std</th>\n",
       "      <td>30668.661438</td>\n",
       "      <td>59.993490</td>\n",
       "      <td>1373.247034</td>\n",
       "      <td>33.129444</td>\n",
       "      <td>8.420766</td>\n",
       "      <td>28.531110</td>\n",
       "      <td>611.260040</td>\n",
       "      <td>3749.940108</td>\n",
       "      <td>2.592105e+05</td>\n",
       "    </tr>\n",
       "    <tr>\n",
       "      <th>min</th>\n",
       "      <td>13699.000000</td>\n",
       "      <td>12.000000</td>\n",
       "      <td>227.000000</td>\n",
       "      <td>7.000000</td>\n",
       "      <td>0.000000</td>\n",
       "      <td>-55.000000</td>\n",
       "      <td>0.000000</td>\n",
       "      <td>-13107.894210</td>\n",
       "      <td>1.688280e+05</td>\n",
       "    </tr>\n",
       "    <tr>\n",
       "      <th>25%</th>\n",
       "      <td>54087.000000</td>\n",
       "      <td>77.000000</td>\n",
       "      <td>769.500000</td>\n",
       "      <td>43.500000</td>\n",
       "      <td>5.000000</td>\n",
       "      <td>38.000000</td>\n",
       "      <td>0.000000</td>\n",
       "      <td>1778.225913</td>\n",
       "      <td>1.116910e+06</td>\n",
       "    </tr>\n",
       "    <tr>\n",
       "      <th>50%</th>\n",
       "      <td>71396.000000</td>\n",
       "      <td>126.000000</td>\n",
       "      <td>1305.000000</td>\n",
       "      <td>71.000000</td>\n",
       "      <td>10.000000</td>\n",
       "      <td>60.000000</td>\n",
       "      <td>0.000000</td>\n",
       "      <td>3805.584926</td>\n",
       "      <td>1.294740e+06</td>\n",
       "    </tr>\n",
       "    <tr>\n",
       "      <th>75%</th>\n",
       "      <td>93718.500000</td>\n",
       "      <td>171.500000</td>\n",
       "      <td>2777.000000</td>\n",
       "      <td>97.000000</td>\n",
       "      <td>15.000000</td>\n",
       "      <td>81.000000</td>\n",
       "      <td>0.000000</td>\n",
       "      <td>7491.486037</td>\n",
       "      <td>1.429740e+06</td>\n",
       "    </tr>\n",
       "    <tr>\n",
       "      <th>max</th>\n",
       "      <td>189138.000000</td>\n",
       "      <td>340.000000</td>\n",
       "      <td>7011.000000</td>\n",
       "      <td>168.000000</td>\n",
       "      <td>145.000000</td>\n",
       "      <td>148.000000</td>\n",
       "      <td>5274.656665</td>\n",
       "      <td>18210.860160</td>\n",
       "      <td>1.710540e+06</td>\n",
       "    </tr>\n",
       "  </tbody>\n",
       "</table>\n",
       "</div>"
      ],
      "text/plain": [
       "              visits           br          inq           gb           cb  \\\n",
       "count    1019.000000  1019.000000  1019.000000  1019.000000  1019.000000   \n",
       "mean    75323.031403   127.437684  1870.481845    71.300294    10.877331   \n",
       "std     30668.661438    59.993490  1373.247034    33.129444     8.420766   \n",
       "min     13699.000000    12.000000   227.000000     7.000000     0.000000   \n",
       "25%     54087.000000    77.000000   769.500000    43.500000     5.000000   \n",
       "50%     71396.000000   126.000000  1305.000000    71.000000    10.000000   \n",
       "75%     93718.500000   171.500000  2777.000000    97.000000    15.000000   \n",
       "max    189138.000000   340.000000  7011.000000   168.000000   145.000000   \n",
       "\n",
       "                nb           ss            ts      listings  \n",
       "count  1019.000000  1019.000000   1019.000000  1.019000e+03  \n",
       "mean     60.422964   274.992046   4891.324946  1.258473e+06  \n",
       "std      28.531110   611.260040   3749.940108  2.592105e+05  \n",
       "min     -55.000000     0.000000 -13107.894210  1.688280e+05  \n",
       "25%      38.000000     0.000000   1778.225913  1.116910e+06  \n",
       "50%      60.000000     0.000000   3805.584926  1.294740e+06  \n",
       "75%      81.000000     0.000000   7491.486037  1.429740e+06  \n",
       "max     148.000000  5274.656665  18210.860160  1.710540e+06  "
      ]
     },
     "execution_count": 4,
     "metadata": {},
     "output_type": "execute_result"
    }
   ],
   "source": [
    "df_SoEu.describe()"
   ]
  },
  {
   "cell_type": "code",
   "execution_count": 77,
   "metadata": {},
   "outputs": [
    {
     "name": "stdout",
     "output_type": "stream",
     "text": [
      "ARIMA (0, 0, 0) MSE=813.751\n",
      "Best ARIMA (0, 0, 0) MSE=813.751\n",
      "(0, 0, 0)\n"
     ]
    },
    {
     "ename": "NameError",
     "evalue": "name 'arima_order' is not defined",
     "output_type": "error",
     "traceback": [
      "\u001b[0;31m---------------------------------------------------------------------------\u001b[0m",
      "\u001b[0;31mNameError\u001b[0m                                 Traceback (most recent call last)",
      "\u001b[0;32m<ipython-input-77-202ff61d023c>\u001b[0m in \u001b[0;36m<module>\u001b[0;34m()\u001b[0m\n\u001b[1;32m     54\u001b[0m \u001b[0mevaluate_models\u001b[0m\u001b[0;34m(\u001b[0m\u001b[0mseries\u001b[0m\u001b[0;34m.\u001b[0m\u001b[0mvalues\u001b[0m\u001b[0;34m,\u001b[0m \u001b[0mp_values\u001b[0m\u001b[0;34m,\u001b[0m \u001b[0md_values\u001b[0m\u001b[0;34m,\u001b[0m \u001b[0mq_values\u001b[0m\u001b[0;34m)\u001b[0m\u001b[0;34m\u001b[0m\u001b[0m\n\u001b[1;32m     55\u001b[0m \u001b[0;34m\u001b[0m\u001b[0m\n\u001b[0;32m---> 56\u001b[0;31m \u001b[0mp\u001b[0m \u001b[0;34m=\u001b[0m \u001b[0marima_order\u001b[0m\u001b[0;34m[\u001b[0m\u001b[0;36m0\u001b[0m\u001b[0;34m]\u001b[0m\u001b[0;34m\u001b[0m\u001b[0m\n\u001b[0m\u001b[1;32m     57\u001b[0m \u001b[0md\u001b[0m \u001b[0;34m=\u001b[0m \u001b[0morder\u001b[0m\u001b[0;34m[\u001b[0m\u001b[0;36m1\u001b[0m\u001b[0;34m]\u001b[0m\u001b[0;34m\u001b[0m\u001b[0m\n\u001b[1;32m     58\u001b[0m \u001b[0mq\u001b[0m \u001b[0;34m=\u001b[0m \u001b[0morder\u001b[0m\u001b[0;34m[\u001b[0m\u001b[0;36m2\u001b[0m\u001b[0;34m]\u001b[0m\u001b[0;34m\u001b[0m\u001b[0m\n",
      "\u001b[0;31mNameError\u001b[0m: name 'arima_order' is not defined"
     ]
    }
   ],
   "source": [
    "import warnings\n",
    "from pandas import read_csv\n",
    "from pandas import datetime\n",
    "from statsmodels.tsa.arima_model import ARIMA\n",
    "from sklearn.metrics import mean_squared_error\n",
    "\n",
    "# evaluate an ARIMA model for a given order (p,d,q)\n",
    "def evaluate_arima_model(X, arima_order):\n",
    "\thistory = [x for x in X]\n",
    "\t# make predictions\n",
    "\tpredictions = list()\n",
    "\tfor t in range(len(X)):\n",
    "\t\tmodel = ARIMA(history, order=arima_order)\n",
    "\t\tmodel_fit = model.fit(disp=0)\n",
    "\t\tyhat = model_fit.forecast()[0]\n",
    "\t\tpredictions.append(yhat)\n",
    "\t\thistory.append(X[t])\n",
    "\t# calculate out of sample error\n",
    "\terror = mean_squared_error(X, predictions)\n",
    "#\tmape = np.mean(abs((X-predictions)/X))\n",
    "\treturn error\n",
    "\n",
    "# evaluate combinations of p, d and q values for an ARIMA model\n",
    "def evaluate_models(dataset, p_values, d_values, q_values):\n",
    "\tdataset = dataset.astype('float32')\n",
    "\tbest_score, best_cfg = float(\"inf\"), None\n",
    "\tfor p in p_values:\n",
    "\t\tfor d in d_values:\n",
    "\t\t\tfor q in q_values:\n",
    "\t\t\t\torder = (p,d,q)\n",
    "\t\t\t\ttry:\n",
    "\t\t\t\t\tmse = evaluate_arima_model(dataset, order)\n",
    "\t\t\t\t\tif mse < best_score:\n",
    "\t\t\t\t\t\tbest_score, best_cfg = mse, order\n",
    "\t\t\t\t\tprint('ARIMA %s MSE=%.3f' % (order,mse))\n",
    "\t\t\t\texcept:\n",
    "\t\t\t\t\tcontinue\n",
    "#\tprint('arima order is ARIMA%s' % (order))\n",
    "\tprint('Best ARIMA %s MSE=%.3f' % (best_cfg, best_score))\n",
    "\tprint(best_cfg)\n",
    "#\tarorder = best_cfg\n",
    "#\tprint('arima order is%s' % (best_cfg))\n",
    "#\treturn best_cfg\n",
    "\n",
    "# load dataset\n",
    "series = df_SoEu['nb']\n",
    "\n",
    "# evaluate parameters\n",
    "#p_values = [0, 1, 2, 4, 6, 8, 10]\n",
    "p_values = range(0, 1)\n",
    "d_values = range(0, 1)\n",
    "q_values = range(0, 1)\n",
    "warnings.filterwarnings(\"ignore\")\n",
    "evaluate_models(series.values, p_values, d_values, q_values)\n",
    "\n",
    "p = arima_order[0]\n",
    "d = order[1]\n",
    "q = order[2]\n",
    "\n",
    "# apply model\n",
    "model = ARIMA(df_SoEu['nb'], order=(p,d,q))"
   ]
  },
  {
   "cell_type": "code",
   "execution_count": null,
   "metadata": {},
   "outputs": [],
   "source": [
    "# apply model\n",
    "model = ARIMA(df_SoEu['nb'], order=(best))"
   ]
  },
  {
   "cell_type": "code",
   "execution_count": null,
   "metadata": {},
   "outputs": [],
   "source": []
  },
  {
   "cell_type": "code",
   "execution_count": null,
   "metadata": {},
   "outputs": [],
   "source": []
  },
  {
   "cell_type": "code",
   "execution_count": 58,
   "metadata": {},
   "outputs": [
    {
     "ename": "NameError",
     "evalue": "name 'arima_order' is not defined",
     "output_type": "error",
     "traceback": [
      "\u001b[0;31m---------------------------------------------------------------------------\u001b[0m",
      "\u001b[0;31mNameError\u001b[0m                                 Traceback (most recent call last)",
      "\u001b[0;32m<ipython-input-58-d8c409a03bc4>\u001b[0m in \u001b[0;36m<module>\u001b[0;34m()\u001b[0m\n\u001b[0;32m----> 1\u001b[0;31m \u001b[0marima_order\u001b[0m\u001b[0;34m\u001b[0m\u001b[0m\n\u001b[0m",
      "\u001b[0;31mNameError\u001b[0m: name 'arima_order' is not defined"
     ]
    }
   ],
   "source": [
    "arima_order"
   ]
  },
  {
   "cell_type": "code",
   "execution_count": 33,
   "metadata": {},
   "outputs": [
    {
     "ename": "SyntaxError",
     "evalue": "'return' outside function (<ipython-input-33-c933db50d54e>, line 1)",
     "output_type": "error",
     "traceback": [
      "\u001b[0;36m  File \u001b[0;32m\"<ipython-input-33-c933db50d54e>\"\u001b[0;36m, line \u001b[0;32m1\u001b[0m\n\u001b[0;31m    return arorder\u001b[0m\n\u001b[0m                  ^\u001b[0m\n\u001b[0;31mSyntaxError\u001b[0m\u001b[0;31m:\u001b[0m 'return' outside function\n"
     ]
    }
   ],
   "source": [
    "return arorder"
   ]
  },
  {
   "cell_type": "code",
   "execution_count": 24,
   "metadata": {},
   "outputs": [
    {
     "ename": "NameError",
     "evalue": "name 'order' is not defined",
     "output_type": "error",
     "traceback": [
      "\u001b[0;31m---------------------------------------------------------------------------\u001b[0m",
      "\u001b[0;31mNameError\u001b[0m                                 Traceback (most recent call last)",
      "\u001b[0;32m<ipython-input-24-a69b0c9dc323>\u001b[0m in \u001b[0;36m<module>\u001b[0;34m()\u001b[0m\n\u001b[0;32m----> 1\u001b[0;31m \u001b[0morder\u001b[0m\u001b[0;34m\u001b[0m\u001b[0m\n\u001b[0m",
      "\u001b[0;31mNameError\u001b[0m: name 'order' is not defined"
     ]
    }
   ],
   "source": [
    "order"
   ]
  },
  {
   "cell_type": "code",
   "execution_count": 26,
   "metadata": {},
   "outputs": [
    {
     "ename": "ModuleNotFoundError",
     "evalue": "No module named 'pyramid.arima'",
     "output_type": "error",
     "traceback": [
      "\u001b[0;31m---------------------------------------------------------------------------\u001b[0m",
      "\u001b[0;31mModuleNotFoundError\u001b[0m                       Traceback (most recent call last)",
      "\u001b[0;32m<ipython-input-26-4211ac68c6c3>\u001b[0m in \u001b[0;36m<module>\u001b[0;34m()\u001b[0m\n\u001b[1;32m      1\u001b[0m \u001b[0;31m#building the model\u001b[0m\u001b[0;34m\u001b[0m\u001b[0;34m\u001b[0m\u001b[0m\n\u001b[0;32m----> 2\u001b[0;31m \u001b[0;32mfrom\u001b[0m \u001b[0mpyramid\u001b[0m\u001b[0;34m.\u001b[0m\u001b[0marima\u001b[0m \u001b[0;32mimport\u001b[0m \u001b[0mauto_arima\u001b[0m\u001b[0;34m\u001b[0m\u001b[0m\n\u001b[0m\u001b[1;32m      3\u001b[0m \u001b[0mmodel\u001b[0m \u001b[0;34m=\u001b[0m \u001b[0mauto_arima\u001b[0m\u001b[0;34m(\u001b[0m\u001b[0mdf_SoEu\u001b[0m\u001b[0;34m[\u001b[0m\u001b[0;34m'nb'\u001b[0m\u001b[0;34m]\u001b[0m\u001b[0;34m,\u001b[0m \u001b[0mtrace\u001b[0m\u001b[0;34m=\u001b[0m\u001b[0;32mTrue\u001b[0m\u001b[0;34m,\u001b[0m \u001b[0merror_action\u001b[0m\u001b[0;34m=\u001b[0m\u001b[0;34m'ignore'\u001b[0m\u001b[0;34m,\u001b[0m \u001b[0msuppress_warnings\u001b[0m\u001b[0;34m=\u001b[0m\u001b[0;32mTrue\u001b[0m\u001b[0;34m)\u001b[0m\u001b[0;34m\u001b[0m\u001b[0m\n\u001b[1;32m      4\u001b[0m \u001b[0mmodel\u001b[0m\u001b[0;34m.\u001b[0m\u001b[0mfit\u001b[0m\u001b[0;34m(\u001b[0m\u001b[0mdf_SoEu\u001b[0m\u001b[0;34m[\u001b[0m\u001b[0;34m'nb'\u001b[0m\u001b[0;34m]\u001b[0m\u001b[0;34m)\u001b[0m\u001b[0;34m\u001b[0m\u001b[0m\n",
      "\u001b[0;31mModuleNotFoundError\u001b[0m: No module named 'pyramid.arima'"
     ]
    }
   ],
   "source": [
    "#building the model\n",
    "from pyramid.arima import auto_arima\n",
    "model = auto_arima(df_SoEu['nb'], trace=True, error_action='ignore', suppress_warnings=True)\n",
    "model.fit(df_SoEu['nb'])"
   ]
  },
  {
   "cell_type": "code",
   "execution_count": null,
   "metadata": {},
   "outputs": [],
   "source": [
    "'''\n",
    "Arima grid search results from \"SoEu_Paid\"\n",
    "\n",
    "ARIMA(0, 0, 0) MSE=813.751\n",
    "ARIMA(0, 0, 1) MSE=451.074\n",
    "ARIMA(0, 0, 2) MSE=357.223\n",
    "ARIMA(0, 1, 0) MSE=279.477\n",
    "ARIMA(0, 1, 1) MSE=225.589\n",
    "ARIMA(0, 1, 2) MSE=218.031\n",
    "ARIMA(0, 2, 0) MSE=737.381\n",
    "ARIMA(0, 2, 1) MSE=279.914\n",
    "ARIMA(1, 0, 0) MSE=255.719\n",
    "ARIMA(1, 0, 1) MSE=223.124\n",
    "ARIMA(1, 0, 2) MSE=216.246\n",
    "ARIMA(1, 1, 0) MSE=251.546\n",
    "ARIMA(1, 1, 1) MSE=218.307\n",
    "ARIMA(1, 1, 2) MSE=218.154\n",
    "ARIMA(1, 2, 0) MSE=489.213\n",
    "ARIMA(2, 0, 0) MSE=239.508\n",
    "ARIMA(2, 0, 1) MSE=216.574\n",
    "ARIMA(2, 0, 2) MSE=216.382\n",
    "ARIMA(2, 1, 0) MSE=238.593\n",
    "ARIMA(2, 1, 1) MSE=217.999\n",
    "ARIMA(2, 1, 2) MSE=212.974\n",
    "ARIMA(2, 2, 0) MSE=402.461\n",
    "Best ARIMA(2, 1, 2) MSE=212.974\n",
    "'''\n"
   ]
  },
  {
   "cell_type": "code",
   "execution_count": null,
   "metadata": {},
   "outputs": [],
   "source": [
    "''' Results from the above block of code\n",
    "ARIMA(0, 0, 0) MSE=25348127.778\n",
    "ARIMA(0, 0, 1) MSE=9310570.488\n",
    "ARIMA(0, 0, 2) MSE=5821136.980\n",
    "ARIMA(0, 1, 0) MSE=3240352.493\n",
    "ARIMA(0, 1, 1) MSE=3244904.813\n",
    "ARIMA(0, 1, 2) MSE=2699074.874\n",
    "ARIMA(0, 2, 0) MSE=6643956.185\n",
    "ARIMA(0, 2, 1) MSE=3246630.829\n",
    "ARIMA(0, 2, 2) MSE=3251389.149\n",
    "ARIMA(1, 0, 0) MSE=3140615.169\n",
    "ARIMA(1, 0, 1) MSE=3146064.663\n",
    "ARIMA(1, 0, 2) MSE=2691424.750\n",
    "ARIMA(1, 1, 0) MSE=3242570.123\n",
    "ARIMA(1, 1, 1) MSE=2854332.273\n",
    "ARIMA(1, 1, 2) MSE=2681621.464\n",
    "ARIMA(1, 2, 0) MSE=5688464.888\n",
    "ARIMA(2, 0, 0) MSE=3143192.303\n",
    "ARIMA(2, 0, 1) MSE=2846138.224\n",
    "ARIMA(2, 0, 2) MSE=2674259.089\n",
    "ARIMA(2, 1, 0) MSE=3009150.366\n",
    "ARIMA(2, 1, 1) MSE=2613145.196\n",
    "ARIMA(2, 1, 2) MSE=2236334.990\n",
    "ARIMA(2, 2, 0) MSE=4878185.323\n",
    "Best ARIMA(2, 1, 2) MSE=2236334.990\n",
    "'''"
   ]
  },
  {
   "cell_type": "code",
   "execution_count": null,
   "metadata": {},
   "outputs": [],
   "source": []
  },
  {
   "cell_type": "code",
   "execution_count": null,
   "metadata": {},
   "outputs": [],
   "source": []
  },
  {
   "cell_type": "code",
   "execution_count": null,
   "metadata": {},
   "outputs": [],
   "source": []
  },
  {
   "cell_type": "code",
   "execution_count": 71,
   "metadata": {},
   "outputs": [],
   "source": [
    "# https://github.com/MaxBenChrist/awesome_time_series_in_python\n",
    "\n",
    "import numpy as np\n",
    "import pandas as pd\n",
    "import pyflux as pf\n",
    "from datetime import datetime\n",
    "import matplotlib.pyplot as plt\n",
    "%matplotlib inline\n",
    "\n",
    "#data = pd.read_csv('https://vincentarelbundock.github.io/Rdatasets/csv/datasets/sunspot.year.csv')\n",
    "#data.index = data['time'].values\n",
    "\n",
    "#plt.figure(figsize=(15,5))\n",
    "#plt.plot(data.index,data['sunspot.year'])\n",
    "#plt.ylabel('Sunspots')\n",
    "#plt.title('Yearly Sunspot Data');"
   ]
  },
  {
   "cell_type": "code",
   "execution_count": null,
   "metadata": {},
   "outputs": [],
   "source": [
    "model = pf.ARIMA(data=data, ar=4, ma=4, target='sunspot.year', family=pf.Normal())"
   ]
  },
  {
   "cell_type": "code",
   "execution_count": 72,
   "metadata": {},
   "outputs": [],
   "source": [
    "model = pf.ARIMA(data=df_SoEu, ar=4, ma=4, target='nb', family=pf.Normal())"
   ]
  },
  {
   "cell_type": "code",
   "execution_count": 73,
   "metadata": {},
   "outputs": [
    {
     "name": "stdout",
     "output_type": "stream",
     "text": [
      "Normal ARIMA(4,0,4)                                                                                       \n",
      "======================================================= ==================================================\n",
      "Dependent Variable: nb                                  Method: MLE                                       \n",
      "Start Date: 47                                          Log Likelihood: -4133.8524                        \n",
      "End Date: 10187                                         AIC: 8287.7048                                    \n",
      "Number of observations: 1015                            BIC: 8336.9312                                    \n",
      "==========================================================================================================\n",
      "Latent Variable                          Estimate   Std Error  z        P>|z|    95% C.I.                 \n",
      "======================================== ========== ========== ======== ======== =========================\n",
      "Constant                                 1.6632     0.7965     2.0881   0.0368   (0.102 | 3.2243)         \n",
      "AR(1)                                    0.6071     0.1477     4.1096   0.0      (0.3175 | 0.8966)        \n",
      "AR(2)                                    -0.39      0.1435     -2.7183  0.0066   (-0.6712 | -0.1088)      \n",
      "AR(3)                                    0.8941     0.0831     10.7614  0.0      (0.7312 | 1.0569)        \n",
      "AR(4)                                    -0.1363    0.1319     -1.0339  0.3012   (-0.3948 | 0.1221)       \n",
      "MA(1)                                    -0.1603    0.1471     -1.0897  0.2758   (-0.4485 | 0.128)        \n",
      "MA(2)                                    0.3937     0.1187     3.3165   0.0009   (0.161 | 0.6263)         \n",
      "MA(3)                                    -0.6455    0.0626     -10.3168 0.0      (-0.7681 | -0.5228)      \n",
      "MA(4)                                    -0.0131    0.0979     -0.1343  0.8932   (-0.2051 | 0.1788)       \n",
      "Normal Scale                             14.1732                                                          \n",
      "==========================================================================================================\n"
     ]
    }
   ],
   "source": [
    "x = model.fit(\"MLE\")\n",
    "x.summary()"
   ]
  },
  {
   "cell_type": "code",
   "execution_count": null,
   "metadata": {},
   "outputs": [],
   "source": []
  },
  {
   "cell_type": "code",
   "execution_count": null,
   "metadata": {},
   "outputs": [],
   "source": []
  },
  {
   "cell_type": "code",
   "execution_count": null,
   "metadata": {},
   "outputs": [],
   "source": []
  },
  {
   "cell_type": "code",
   "execution_count": null,
   "metadata": {},
   "outputs": [],
   "source": []
  },
  {
   "cell_type": "markdown",
   "metadata": {},
   "source": [
    "### Apply grid-searched (or estimated) model - to 'ALL' data"
   ]
  },
  {
   "cell_type": "code",
   "execution_count": 9,
   "metadata": {},
   "outputs": [
    {
     "name": "stdout",
     "output_type": "stream",
     "text": [
      "Test MSE: 218.307\n",
      "MAPE: 0.301372\n"
     ]
    },
    {
     "data": {
      "text/plain": [
       "'\\nResults w/ diff ARIMA orders\\nARIMA(2,1,2)\\nTest MSE: 212.974\\nMAPE: 0.349913\\n\\nARIMA(1,1,1)\\n\\n'"
      ]
     },
     "execution_count": 9,
     "metadata": {},
     "output_type": "execute_result"
    }
   ],
   "source": [
    "# load dataset\n",
    "series = df_SoEu['nb']\n",
    "X = series.values\n",
    "history = [x for x in X]\n",
    "predictions = list()\n",
    "for t in range(len(X)):\n",
    "\tmodel = ARIMA(history, order=(1,1,1))\n",
    "\tmodel_fit = model.fit(disp=0)\n",
    "\toutput = model_fit.forecast()\n",
    "\tyhat = output[0]\n",
    "\tpredictions.append(yhat)\n",
    "\tobs = X[t]\n",
    "\thistory.append(obs)\n",
    "\tabspctdiff = abs((X[t]-predictions[t])/X[t])\n",
    "#\tprint('predicted=%f, expected=%f' % (yhat, obs))\n",
    "error = mean_squared_error(X, predictions)\n",
    "import numpy as np\n",
    "mape = np.mean(abspctdiff)\n",
    "print('Test MSE: %.3f' % error)\n",
    "print('MAPE: %.6f' % mape)\n",
    "\n",
    "'''\n",
    "Results w/ diff ARIMA orders\n",
    "ARIMA(2,1,2)\n",
    "Test MSE: 212.974\n",
    "MAPE: 0.349913\n",
    "\n",
    "ARIMA(1,1,1)\n",
    "Test MSE: 218.307\n",
    "MAPE: 0.301372\n",
    "'''"
   ]
  },
  {
   "cell_type": "markdown",
   "metadata": {},
   "source": [
    "### Output 'predictions' and plot against 'real'"
   ]
  },
  {
   "cell_type": "code",
   "execution_count": 6,
   "metadata": {},
   "outputs": [],
   "source": [
    "pdf = pd.DataFrame(predictions)\n",
    "pdf.to_csv(\"predictions_All_arima_agg1.csv\")"
   ]
  },
  {
   "cell_type": "code",
   "execution_count": 9,
   "metadata": {},
   "outputs": [
    {
     "data": {
      "image/png": "[encoded data removed]",
      "text/plain": [
       "<Figure size 432x288 with 1 Axes>"
      ]
     },
     "metadata": {},
     "output_type": "display_data"
    }
   ],
   "source": [
    "from matplotlib import pyplot\n",
    "pyplot.plot(X)\n",
    "pyplot.plot([x for x in X], color='red')\n",
    "pyplot.plot([x for x in predictions], color='blue')\n",
    "pyplot.show()"
   ]
  },
  {
   "cell_type": "markdown",
   "metadata": {},
   "source": [
    "### Forecast 4 months into the future"
   ]
  },
  {
   "cell_type": "code",
   "execution_count": 57,
   "metadata": {},
   "outputs": [],
   "source": [
    "# Get forecast 120 steps ahead in future\n",
    "pred_forecast = model_fit.forecast(steps=120)\n"
   ]
  },
  {
   "cell_type": "code",
   "execution_count": 60,
   "metadata": {},
   "outputs": [
    {
     "data": {
      "text/plain": [
       "(array([18384.79732762, 17557.21042254, 16079.47993451, 15034.59429342,\n",
       "        15040.31017026, 15920.2264291 , 16952.16761515, 17434.26524556,\n",
       "        17143.35758354, 16402.05294001, 15775.53801631, 15659.30361542,\n",
       "        16047.21253476, 16602.4569835 , 16934.25254091, 16863.94224767,\n",
       "        16507.19631695, 16148.86773489, 16027.38836292, 16185.63116276,\n",
       "        16475.28676684, 16686.29622997, 16695.3447687 , 16532.54141143,\n",
       "        16336.04565278, 16243.16414093, 16300.15402852, 16446.95953729,\n",
       "        16574.43864884, 16604.3501641 , 16535.68255408, 16432.45141747,\n",
       "        16370.74655782, 16386.6580808 , 16459.19625427, 16533.61205543,\n",
       "        16563.04342664, 16538.03329792, 16486.5192721 , 16449.22179146,\n",
       "        16450.72287703, 16485.9817694 , 16528.58718566, 16551.69497955,\n",
       "        16545.76194957, 16521.94194274, 16501.29879953, 16499.29652095,\n",
       "        16516.55802141, 16540.92812423, 16557.59996368, 16559.29875578,\n",
       "        16549.81312735, 16539.65905524, 16538.04012882, 16547.01086397,\n",
       "        16561.31615031, 16573.06670355, 16577.36860399, 16575.04408432,\n",
       "        16571.13812518, 16570.89559223, 16576.27715425, 16585.2165071 ,\n",
       "        16593.65084315, 16598.52657051, 16599.64021956, 16599.29742324,\n",
       "        16600.37789363, 16604.3451072 , 16610.51940763, 16616.88226532,\n",
       "        16621.6274212 , 16624.31391784, 16625.92873293, 16627.99948929,\n",
       "        16631.49929674, 16636.29890316, 16641.43541021, 16645.88469987,\n",
       "        16649.24543727, 16651.89935409, 16654.62961909, 16658.03867683,\n",
       "        16662.1819911 , 16666.62269175, 16670.80103953, 16674.4231703 ,\n",
       "        16677.61013801, 16680.74913519, 16684.19440156, 16688.03964815,\n",
       "        16692.09981111, 16696.07926119, 16699.78473089, 16703.23541614,\n",
       "        16706.61494586, 16710.12316827, 16713.84196138, 16717.70101896,\n",
       "        16721.54946445, 16725.2685425 , 16728.84440015, 16732.35972221,\n",
       "        16735.92324497, 16739.59387407, 16743.35023135, 16747.11809716,\n",
       "        16750.82804654, 16754.46032737, 16758.04957943, 16761.65298092,\n",
       "        16765.30887355, 16769.0146748 , 16772.73539586, 16776.43206152,\n",
       "        16780.08801752, 16783.71616883, 16787.34556384, 16790.99959261]),\n",
       " array([1477.87338966, 1847.3777291 , 1939.29733382, 1960.62078212,\n",
       "        1994.48242077, 2116.58631758, 2361.15956877, 2629.96846809,\n",
       "        2816.54407517, 2911.69676643, 2962.51634728, 3012.34370848,\n",
       "        3093.67000631, 3219.77177973, 3365.66897527, 3491.06109669,\n",
       "        3579.70762301, 3643.07477717, 3701.32795626, 3771.41660433,\n",
       "        3860.43409593, 3960.44065064, 4055.15324943, 4134.44030018,\n",
       "        4200.09280819, 4260.78858975, 4325.35104725, 4398.09749184,\n",
       "        4476.57786688, 4553.92560267, 4624.62349043, 4688.12961024,\n",
       "        4747.94781902, 4808.52771714, 4872.49132956, 4939.28404872,\n",
       "        5005.97972996, 5069.71105417, 5129.64582207, 5187.09681522,\n",
       "        5244.23498171, 5302.5944021 , 5362.22405223, 5421.89895668,\n",
       "        5480.16876097, 5536.38847211, 5590.99325605, 5645.00961894,\n",
       "        5699.30049953, 5754.0521488 , 5808.77559061, 5862.7549636 ,\n",
       "        5915.57322071, 5967.33864181, 6018.52151348, 6069.59096732,\n",
       "        6120.7197727 , 6171.73029264, 6222.27899097, 6272.11929399,\n",
       "        6321.25227816, 6369.88611484, 6418.26869952, 6466.52519064,\n",
       "        6514.60340551, 6562.34433972, 6609.61066004, 6656.37784475,\n",
       "        6702.73446744, 6748.80852678, 6794.68136367, 6840.34702308,\n",
       "        6885.73560187, 6930.77436276, 6975.43978512, 7019.76787972,\n",
       "        7063.82360894, 7107.65679117, 7151.27558139, 7194.65173364,\n",
       "        7237.74870045, 7280.55014186, 7323.07004076, 7365.34108297,\n",
       "        7407.39279136, 7449.23550492, 7490.85964047, 7532.2480602 ,\n",
       "        7573.39115207, 7614.29425389, 7654.97390926, 7695.44738616,\n",
       "        7735.72350245, 7775.80053082, 7815.67132118, 7855.33102679,\n",
       "        7894.78191409, 7934.03261686, 7973.09330145, 8011.97062739,\n",
       "        8050.6658394 , 8089.17669587, 8127.50130312, 8165.64101066,\n",
       "        8203.60063497, 8241.38633341, 8279.00293301, 8316.45256006,\n",
       "        8353.73524315, 8390.85075218, 8427.80025378, 8464.58673077,\n",
       "        8501.21410701, 8537.68587748, 8574.00422842, 8610.17013984,\n",
       "        8646.18423362, 8682.04768234, 8717.7625733 , 8753.33158435]),\n",
       " array([[ 1.54882187e+04,  2.12813759e+04],\n",
       "        [ 1.39364166e+04,  2.11780042e+04],\n",
       "        [ 1.22785270e+04,  1.98804329e+04],\n",
       "        [ 1.11918482e+04,  1.88773404e+04],\n",
       "        [ 1.11311965e+04,  1.89494239e+04],\n",
       "        [ 1.17717935e+04,  2.00686594e+04],\n",
       "        [ 1.23243799e+04,  2.15799553e+04],\n",
       "        [ 1.22796218e+04,  2.25889087e+04],\n",
       "        [ 1.16230326e+04,  2.26636825e+04],\n",
       "        [ 1.06952321e+04,  2.21088737e+04],\n",
       "        [ 9.96911267e+03,  2.15819634e+04],\n",
       "        [ 9.75521844e+03,  2.15633888e+04],\n",
       "        [ 9.98373074e+03,  2.21106943e+04],\n",
       "        [ 1.02918203e+04,  2.29130937e+04],\n",
       "        [ 1.03376626e+04,  2.35308425e+04],\n",
       "        [ 1.00215882e+04,  2.37062963e+04],\n",
       "        [ 9.49109830e+03,  2.35232943e+04],\n",
       "        [ 9.00857238e+03,  2.32891631e+04],\n",
       "        [ 8.77291887e+03,  2.32818579e+04],\n",
       "        [ 8.79379045e+03,  2.35774719e+04],\n",
       "        [ 8.90897497e+03,  2.40415986e+04],\n",
       "        [ 8.92397519e+03,  2.44486173e+04],\n",
       "        [ 8.74739045e+03,  2.46432991e+04],\n",
       "        [ 8.42918733e+03,  2.46358955e+04],\n",
       "        [ 8.10401502e+03,  2.45680763e+04],\n",
       "        [ 7.89217196e+03,  2.45941563e+04],\n",
       "        [ 7.82262176e+03,  2.47776863e+04],\n",
       "        [ 7.82684685e+03,  2.50670722e+04],\n",
       "        [ 7.80050726e+03,  2.53483700e+04],\n",
       "        [ 7.67881999e+03,  2.55298803e+04],\n",
       "        [ 7.47158707e+03,  2.55997780e+04],\n",
       "        [ 7.24388623e+03,  2.56210166e+04],\n",
       "        [ 7.06493983e+03,  2.56765533e+04],\n",
       "        [ 6.96211694e+03,  2.58111992e+04],\n",
       "        [ 6.90928873e+03,  2.60091038e+04],\n",
       "        [ 6.85279321e+03,  2.62144309e+04],\n",
       "        [ 6.75150345e+03,  2.63745834e+04],\n",
       "        [ 6.60158222e+03,  2.64744844e+04],\n",
       "        [ 6.43259821e+03,  2.65404403e+04],\n",
       "        [ 6.28269885e+03,  2.66157447e+04],\n",
       "        [ 6.17221119e+03,  2.67292346e+04],\n",
       "        [ 6.09308772e+03,  2.68788758e+04],\n",
       "        [ 6.01882117e+03,  2.70383532e+04],\n",
       "        [ 5.92496830e+03,  2.71784217e+04],\n",
       "        [ 5.80482855e+03,  2.72866954e+04],\n",
       "        [ 5.67081993e+03,  2.73730640e+04],\n",
       "        [ 5.54315338e+03,  2.74594442e+04],\n",
       "        [ 5.43528098e+03,  2.75633121e+04],\n",
       "        [ 5.34613431e+03,  2.76869817e+04],\n",
       "        [ 5.26319315e+03,  2.78186631e+04],\n",
       "        [ 5.17260901e+03,  2.79425909e+04],\n",
       "        [ 5.06851018e+03,  2.80500873e+04],\n",
       "        [ 4.95550267e+03,  2.81441236e+04],\n",
       "        [ 4.84389023e+03,  2.82354279e+04],\n",
       "        [ 4.74195472e+03,  2.83341255e+04],\n",
       "        [ 4.65083117e+03,  2.84431906e+04],\n",
       "        [ 4.56492584e+03,  2.85577065e+04],\n",
       "        [ 4.47669761e+03,  2.86694358e+04],\n",
       "        [ 4.38192588e+03,  2.87728113e+04],\n",
       "        [ 4.28191616e+03,  2.88681720e+04],\n",
       "        [ 4.18171132e+03,  2.89605649e+04],\n",
       "        [ 4.08614822e+03,  2.90556430e+04],\n",
       "        [ 3.99670166e+03,  2.91558526e+04],\n",
       "        [ 3.91106003e+03,  2.92593730e+04],\n",
       "        [ 3.82526279e+03,  2.93620389e+04],\n",
       "        [ 3.73656801e+03,  2.94604851e+04],\n",
       "        [ 3.64504137e+03,  2.95542391e+04],\n",
       "        [ 3.55303658e+03,  2.96455583e+04],\n",
       "        [ 3.46325974e+03,  2.97374960e+04],\n",
       "        [ 3.37692346e+03,  2.98317668e+04],\n",
       "        [ 3.29318865e+03,  2.99278502e+04],\n",
       "        [ 3.21004846e+03,  3.00237161e+04],\n",
       "        [ 3.12583363e+03,  3.01174212e+04],\n",
       "        [ 3.04024578e+03,  3.02083821e+04],\n",
       "        [ 2.95431798e+03,  3.02975395e+04],\n",
       "        [ 2.86950727e+03,  3.03864917e+04],\n",
       "        [ 2.78665943e+03,  3.04763392e+04],\n",
       "        [ 2.70554758e+03,  3.05670502e+04],\n",
       "        [ 2.62519283e+03,  3.06576780e+04],\n",
       "        [ 2.54462642e+03,  3.07471430e+04],\n",
       "        [ 2.46351866e+03,  3.08349722e+04],\n",
       "        [ 2.38228329e+03,  3.09215154e+04],\n",
       "        [ 2.30167608e+03,  3.10075832e+04],\n",
       "        [ 2.22223542e+03,  3.10938419e+04],\n",
       "        [ 2.14395890e+03,  3.11804051e+04],\n",
       "        [ 2.06638939e+03,  3.12668560e+04],\n",
       "        [ 1.98898593e+03,  3.13526161e+04],\n",
       "        [ 1.91148825e+03,  3.14373581e+04],\n",
       "        [ 1.83403624e+03,  3.15211840e+04],\n",
       "        [ 1.75700663e+03,  3.16044916e+04],\n",
       "        [ 1.68072124e+03,  3.16876676e+04],\n",
       "        [ 1.60523993e+03,  3.17708394e+04],\n",
       "        [ 1.53036035e+03,  3.18538393e+04],\n",
       "        [ 1.45579027e+03,  3.19363683e+04],\n",
       "        [ 1.38135043e+03,  3.20182190e+04],\n",
       "        [ 1.30706952e+03,  3.20994013e+04],\n",
       "        [ 1.23312673e+03,  3.21801032e+04],\n",
       "        [ 1.15970499e+03,  3.22605413e+04],\n",
       "        [ 1.08686625e+03,  3.23408177e+04],\n",
       "        [ 1.01452714e+03,  3.24208749e+04],\n",
       "        [ 9.42534368e+02,  3.25005646e+04],\n",
       "        [ 8.70773554e+02,  3.25797635e+04],\n",
       "        [ 7.99234562e+02,  3.26584542e+04],\n",
       "        [ 7.27997431e+02,  3.27367220e+04],\n",
       "        [ 6.57161457e+02,  3.28146850e+04],\n",
       "        [ 5.86773478e+02,  3.28924143e+04],\n",
       "        [ 5.16802655e+02,  3.29698978e+04],\n",
       "        [ 4.47170600e+02,  3.30470656e+04],\n",
       "        [ 3.77807834e+02,  3.31238483e+04],\n",
       "        [ 3.08695053e+02,  3.32002256e+04],\n",
       "        [ 2.39864613e+02,  3.32762345e+04],\n",
       "        [ 1.71367845e+02,  3.33519381e+04],\n",
       "        [ 1.03235399e+02,  3.34273823e+04],\n",
       "        [ 3.54578436e+01,  3.35025715e+04],\n",
       "        [-3.20040951e+01,  3.35774749e+04],\n",
       "        [-9.91913133e+01,  3.36520554e+04],\n",
       "        [-1.66121684e+02,  3.37262977e+04],\n",
       "        [-2.32784601e+02,  3.38002169e+04],\n",
       "        [-2.99155106e+02,  3.38738462e+04],\n",
       "        [-3.65215057e+02,  3.39472142e+04]]))"
      ]
     },
     "execution_count": 60,
     "metadata": {},
     "output_type": "execute_result"
    }
   ],
   "source": [
    "pred_forecast"
   ]
  },
  {
   "cell_type": "code",
   "execution_count": null,
   "metadata": {},
   "outputs": [],
   "source": [
    "import numpy as np\n",
    "a = np.asarray([ [1,2,3], [4,5,6], [7,8,9] ])\n",
    "a.tofile('foo.csv',sep=',',format='%10.5f')"
   ]
  },
  {
   "cell_type": "code",
   "execution_count": 59,
   "metadata": {},
   "outputs": [
    {
     "ename": "ValueError",
     "evalue": "could not broadcast input array from shape (120,2) into shape (120)",
     "output_type": "error",
     "traceback": [
      "\u001b[0;31m---------------------------------------------------------------------------\u001b[0m",
      "\u001b[0;31mValueError\u001b[0m                                Traceback (most recent call last)",
      "\u001b[0;32m<ipython-input-59-3ad6741c0dc6>\u001b[0m in \u001b[0;36m<module>\u001b[0;34m()\u001b[0m\n\u001b[1;32m      1\u001b[0m \u001b[0;32mimport\u001b[0m \u001b[0mnumpy\u001b[0m \u001b[0;32mas\u001b[0m \u001b[0mnp\u001b[0m\u001b[0;34m\u001b[0m\u001b[0m\n\u001b[0;32m----> 2\u001b[0;31m \u001b[0ma\u001b[0m \u001b[0;34m=\u001b[0m \u001b[0mnp\u001b[0m\u001b[0;34m.\u001b[0m\u001b[0masarray\u001b[0m\u001b[0;34m(\u001b[0m\u001b[0mpred_forecast\u001b[0m\u001b[0;34m)\u001b[0m\u001b[0;34m\u001b[0m\u001b[0m\n\u001b[0m\u001b[1;32m      3\u001b[0m \u001b[0ma\u001b[0m\u001b[0;34m.\u001b[0m\u001b[0mtofile\u001b[0m\u001b[0;34m(\u001b[0m\u001b[0;34m'foo.csv'\u001b[0m\u001b[0;34m,\u001b[0m\u001b[0msep\u001b[0m\u001b[0;34m=\u001b[0m\u001b[0;34m','\u001b[0m\u001b[0;34m,\u001b[0m\u001b[0mformat\u001b[0m\u001b[0;34m=\u001b[0m\u001b[0;34m'%10.5f'\u001b[0m\u001b[0;34m)\u001b[0m\u001b[0;34m\u001b[0m\u001b[0m\n",
      "\u001b[0;32m/anaconda3/lib/python3.6/site-packages/numpy/core/numeric.py\u001b[0m in \u001b[0;36masarray\u001b[0;34m(a, dtype, order)\u001b[0m\n\u001b[1;32m    490\u001b[0m \u001b[0;34m\u001b[0m\u001b[0m\n\u001b[1;32m    491\u001b[0m     \"\"\"\n\u001b[0;32m--> 492\u001b[0;31m     \u001b[0;32mreturn\u001b[0m \u001b[0marray\u001b[0m\u001b[0;34m(\u001b[0m\u001b[0ma\u001b[0m\u001b[0;34m,\u001b[0m \u001b[0mdtype\u001b[0m\u001b[0;34m,\u001b[0m \u001b[0mcopy\u001b[0m\u001b[0;34m=\u001b[0m\u001b[0;32mFalse\u001b[0m\u001b[0;34m,\u001b[0m \u001b[0morder\u001b[0m\u001b[0;34m=\u001b[0m\u001b[0morder\u001b[0m\u001b[0;34m)\u001b[0m\u001b[0;34m\u001b[0m\u001b[0m\n\u001b[0m\u001b[1;32m    493\u001b[0m \u001b[0;34m\u001b[0m\u001b[0m\n\u001b[1;32m    494\u001b[0m \u001b[0;34m\u001b[0m\u001b[0m\n",
      "\u001b[0;31mValueError\u001b[0m: could not broadcast input array from shape (120,2) into shape (120)"
     ]
    }
   ],
   "source": [
    "import numpy as np\n",
    "a = np.asarray(pred_forecast)\n",
    "a.tofile('foo.csv',sep=',',format='%10.5f')"
   ]
  },
  {
   "cell_type": "code",
   "execution_count": 62,
   "metadata": {},
   "outputs": [],
   "source": [
    "pdf = pd.DataFrame(pred_forecast[0])\n",
    "pdf.to_csv(\"predictions_All_arima_agg_120.csv\")"
   ]
  },
  {
   "cell_type": "code",
   "execution_count": null,
   "metadata": {},
   "outputs": [],
   "source": [
    "pdf.to_csv(\"predictions_All_arima_agg_120.csv\")"
   ]
  },
  {
   "cell_type": "code",
   "execution_count": 53,
   "metadata": {},
   "outputs": [],
   "source": []
  },
  {
   "cell_type": "code",
   "execution_count": 55,
   "metadata": {},
   "outputs": [
    {
     "data": {
      "text/plain": [
       "(array([18384.79732762, 17557.21042254, 16079.47993451, 15034.59429342,\n",
       "        15040.31017026, 15920.2264291 , 16952.16761515, 17434.26524556,\n",
       "        17143.35758354, 16402.05294001, 15775.53801631, 15659.30361542,\n",
       "        16047.21253476, 16602.4569835 , 16934.25254091, 16863.94224767,\n",
       "        16507.19631695, 16148.86773489, 16027.38836292, 16185.63116276,\n",
       "        16475.28676684, 16686.29622997, 16695.3447687 , 16532.54141143,\n",
       "        16336.04565278, 16243.16414093, 16300.15402852, 16446.95953729,\n",
       "        16574.43864884, 16604.3501641 , 16535.68255408, 16432.45141747,\n",
       "        16370.74655782, 16386.6580808 , 16459.19625427, 16533.61205543,\n",
       "        16563.04342664, 16538.03329792, 16486.5192721 , 16449.22179146,\n",
       "        16450.72287703, 16485.9817694 , 16528.58718566, 16551.69497955,\n",
       "        16545.76194957, 16521.94194274, 16501.29879953, 16499.29652095,\n",
       "        16516.55802141, 16540.92812423, 16557.59996368, 16559.29875578,\n",
       "        16549.81312735, 16539.65905524, 16538.04012882, 16547.01086397,\n",
       "        16561.31615031, 16573.06670355, 16577.36860399, 16575.04408432,\n",
       "        16571.13812518, 16570.89559223, 16576.27715425, 16585.2165071 ,\n",
       "        16593.65084315, 16598.52657051, 16599.64021956, 16599.29742324,\n",
       "        16600.37789363, 16604.3451072 , 16610.51940763, 16616.88226532,\n",
       "        16621.6274212 , 16624.31391784, 16625.92873293, 16627.99948929,\n",
       "        16631.49929674, 16636.29890316, 16641.43541021, 16645.88469987,\n",
       "        16649.24543727, 16651.89935409, 16654.62961909, 16658.03867683,\n",
       "        16662.1819911 , 16666.62269175, 16670.80103953, 16674.4231703 ,\n",
       "        16677.61013801, 16680.74913519, 16684.19440156, 16688.03964815,\n",
       "        16692.09981111, 16696.07926119, 16699.78473089, 16703.23541614,\n",
       "        16706.61494586, 16710.12316827, 16713.84196138, 16717.70101896,\n",
       "        16721.54946445, 16725.2685425 , 16728.84440015, 16732.35972221,\n",
       "        16735.92324497, 16739.59387407, 16743.35023135, 16747.11809716,\n",
       "        16750.82804654, 16754.46032737, 16758.04957943, 16761.65298092,\n",
       "        16765.30887355, 16769.0146748 , 16772.73539586, 16776.43206152,\n",
       "        16780.08801752, 16783.71616883, 16787.34556384, 16790.99959261]),\n",
       " array([1477.87338966, 1847.3777291 , 1939.29733382, 1960.62078212,\n",
       "        1994.48242077, 2116.58631758, 2361.15956877, 2629.96846809,\n",
       "        2816.54407517, 2911.69676643, 2962.51634728, 3012.34370848,\n",
       "        3093.67000631, 3219.77177973, 3365.66897527, 3491.06109669,\n",
       "        3579.70762301, 3643.07477717, 3701.32795626, 3771.41660433,\n",
       "        3860.43409593, 3960.44065064, 4055.15324943, 4134.44030018,\n",
       "        4200.09280819, 4260.78858975, 4325.35104725, 4398.09749184,\n",
       "        4476.57786688, 4553.92560267, 4624.62349043, 4688.12961024,\n",
       "        4747.94781902, 4808.52771714, 4872.49132956, 4939.28404872,\n",
       "        5005.97972996, 5069.71105417, 5129.64582207, 5187.09681522,\n",
       "        5244.23498171, 5302.5944021 , 5362.22405223, 5421.89895668,\n",
       "        5480.16876097, 5536.38847211, 5590.99325605, 5645.00961894,\n",
       "        5699.30049953, 5754.0521488 , 5808.77559061, 5862.7549636 ,\n",
       "        5915.57322071, 5967.33864181, 6018.52151348, 6069.59096732,\n",
       "        6120.7197727 , 6171.73029264, 6222.27899097, 6272.11929399,\n",
       "        6321.25227816, 6369.88611484, 6418.26869952, 6466.52519064,\n",
       "        6514.60340551, 6562.34433972, 6609.61066004, 6656.37784475,\n",
       "        6702.73446744, 6748.80852678, 6794.68136367, 6840.34702308,\n",
       "        6885.73560187, 6930.77436276, 6975.43978512, 7019.76787972,\n",
       "        7063.82360894, 7107.65679117, 7151.27558139, 7194.65173364,\n",
       "        7237.74870045, 7280.55014186, 7323.07004076, 7365.34108297,\n",
       "        7407.39279136, 7449.23550492, 7490.85964047, 7532.2480602 ,\n",
       "        7573.39115207, 7614.29425389, 7654.97390926, 7695.44738616,\n",
       "        7735.72350245, 7775.80053082, 7815.67132118, 7855.33102679,\n",
       "        7894.78191409, 7934.03261686, 7973.09330145, 8011.97062739,\n",
       "        8050.6658394 , 8089.17669587, 8127.50130312, 8165.64101066,\n",
       "        8203.60063497, 8241.38633341, 8279.00293301, 8316.45256006,\n",
       "        8353.73524315, 8390.85075218, 8427.80025378, 8464.58673077,\n",
       "        8501.21410701, 8537.68587748, 8574.00422842, 8610.17013984,\n",
       "        8646.18423362, 8682.04768234, 8717.7625733 , 8753.33158435]),\n",
       " array([[ 1.54882187e+04,  2.12813759e+04],\n",
       "        [ 1.39364166e+04,  2.11780042e+04],\n",
       "        [ 1.22785270e+04,  1.98804329e+04],\n",
       "        [ 1.11918482e+04,  1.88773404e+04],\n",
       "        [ 1.11311965e+04,  1.89494239e+04],\n",
       "        [ 1.17717935e+04,  2.00686594e+04],\n",
       "        [ 1.23243799e+04,  2.15799553e+04],\n",
       "        [ 1.22796218e+04,  2.25889087e+04],\n",
       "        [ 1.16230326e+04,  2.26636825e+04],\n",
       "        [ 1.06952321e+04,  2.21088737e+04],\n",
       "        [ 9.96911267e+03,  2.15819634e+04],\n",
       "        [ 9.75521844e+03,  2.15633888e+04],\n",
       "        [ 9.98373074e+03,  2.21106943e+04],\n",
       "        [ 1.02918203e+04,  2.29130937e+04],\n",
       "        [ 1.03376626e+04,  2.35308425e+04],\n",
       "        [ 1.00215882e+04,  2.37062963e+04],\n",
       "        [ 9.49109830e+03,  2.35232943e+04],\n",
       "        [ 9.00857238e+03,  2.32891631e+04],\n",
       "        [ 8.77291887e+03,  2.32818579e+04],\n",
       "        [ 8.79379045e+03,  2.35774719e+04],\n",
       "        [ 8.90897497e+03,  2.40415986e+04],\n",
       "        [ 8.92397519e+03,  2.44486173e+04],\n",
       "        [ 8.74739045e+03,  2.46432991e+04],\n",
       "        [ 8.42918733e+03,  2.46358955e+04],\n",
       "        [ 8.10401502e+03,  2.45680763e+04],\n",
       "        [ 7.89217196e+03,  2.45941563e+04],\n",
       "        [ 7.82262176e+03,  2.47776863e+04],\n",
       "        [ 7.82684685e+03,  2.50670722e+04],\n",
       "        [ 7.80050726e+03,  2.53483700e+04],\n",
       "        [ 7.67881999e+03,  2.55298803e+04],\n",
       "        [ 7.47158707e+03,  2.55997780e+04],\n",
       "        [ 7.24388623e+03,  2.56210166e+04],\n",
       "        [ 7.06493983e+03,  2.56765533e+04],\n",
       "        [ 6.96211694e+03,  2.58111992e+04],\n",
       "        [ 6.90928873e+03,  2.60091038e+04],\n",
       "        [ 6.85279321e+03,  2.62144309e+04],\n",
       "        [ 6.75150345e+03,  2.63745834e+04],\n",
       "        [ 6.60158222e+03,  2.64744844e+04],\n",
       "        [ 6.43259821e+03,  2.65404403e+04],\n",
       "        [ 6.28269885e+03,  2.66157447e+04],\n",
       "        [ 6.17221119e+03,  2.67292346e+04],\n",
       "        [ 6.09308772e+03,  2.68788758e+04],\n",
       "        [ 6.01882117e+03,  2.70383532e+04],\n",
       "        [ 5.92496830e+03,  2.71784217e+04],\n",
       "        [ 5.80482855e+03,  2.72866954e+04],\n",
       "        [ 5.67081993e+03,  2.73730640e+04],\n",
       "        [ 5.54315338e+03,  2.74594442e+04],\n",
       "        [ 5.43528098e+03,  2.75633121e+04],\n",
       "        [ 5.34613431e+03,  2.76869817e+04],\n",
       "        [ 5.26319315e+03,  2.78186631e+04],\n",
       "        [ 5.17260901e+03,  2.79425909e+04],\n",
       "        [ 5.06851018e+03,  2.80500873e+04],\n",
       "        [ 4.95550267e+03,  2.81441236e+04],\n",
       "        [ 4.84389023e+03,  2.82354279e+04],\n",
       "        [ 4.74195472e+03,  2.83341255e+04],\n",
       "        [ 4.65083117e+03,  2.84431906e+04],\n",
       "        [ 4.56492584e+03,  2.85577065e+04],\n",
       "        [ 4.47669761e+03,  2.86694358e+04],\n",
       "        [ 4.38192588e+03,  2.87728113e+04],\n",
       "        [ 4.28191616e+03,  2.88681720e+04],\n",
       "        [ 4.18171132e+03,  2.89605649e+04],\n",
       "        [ 4.08614822e+03,  2.90556430e+04],\n",
       "        [ 3.99670166e+03,  2.91558526e+04],\n",
       "        [ 3.91106003e+03,  2.92593730e+04],\n",
       "        [ 3.82526279e+03,  2.93620389e+04],\n",
       "        [ 3.73656801e+03,  2.94604851e+04],\n",
       "        [ 3.64504137e+03,  2.95542391e+04],\n",
       "        [ 3.55303658e+03,  2.96455583e+04],\n",
       "        [ 3.46325974e+03,  2.97374960e+04],\n",
       "        [ 3.37692346e+03,  2.98317668e+04],\n",
       "        [ 3.29318865e+03,  2.99278502e+04],\n",
       "        [ 3.21004846e+03,  3.00237161e+04],\n",
       "        [ 3.12583363e+03,  3.01174212e+04],\n",
       "        [ 3.04024578e+03,  3.02083821e+04],\n",
       "        [ 2.95431798e+03,  3.02975395e+04],\n",
       "        [ 2.86950727e+03,  3.03864917e+04],\n",
       "        [ 2.78665943e+03,  3.04763392e+04],\n",
       "        [ 2.70554758e+03,  3.05670502e+04],\n",
       "        [ 2.62519283e+03,  3.06576780e+04],\n",
       "        [ 2.54462642e+03,  3.07471430e+04],\n",
       "        [ 2.46351866e+03,  3.08349722e+04],\n",
       "        [ 2.38228329e+03,  3.09215154e+04],\n",
       "        [ 2.30167608e+03,  3.10075832e+04],\n",
       "        [ 2.22223542e+03,  3.10938419e+04],\n",
       "        [ 2.14395890e+03,  3.11804051e+04],\n",
       "        [ 2.06638939e+03,  3.12668560e+04],\n",
       "        [ 1.98898593e+03,  3.13526161e+04],\n",
       "        [ 1.91148825e+03,  3.14373581e+04],\n",
       "        [ 1.83403624e+03,  3.15211840e+04],\n",
       "        [ 1.75700663e+03,  3.16044916e+04],\n",
       "        [ 1.68072124e+03,  3.16876676e+04],\n",
       "        [ 1.60523993e+03,  3.17708394e+04],\n",
       "        [ 1.53036035e+03,  3.18538393e+04],\n",
       "        [ 1.45579027e+03,  3.19363683e+04],\n",
       "        [ 1.38135043e+03,  3.20182190e+04],\n",
       "        [ 1.30706952e+03,  3.20994013e+04],\n",
       "        [ 1.23312673e+03,  3.21801032e+04],\n",
       "        [ 1.15970499e+03,  3.22605413e+04],\n",
       "        [ 1.08686625e+03,  3.23408177e+04],\n",
       "        [ 1.01452714e+03,  3.24208749e+04],\n",
       "        [ 9.42534368e+02,  3.25005646e+04],\n",
       "        [ 8.70773554e+02,  3.25797635e+04],\n",
       "        [ 7.99234562e+02,  3.26584542e+04],\n",
       "        [ 7.27997431e+02,  3.27367220e+04],\n",
       "        [ 6.57161457e+02,  3.28146850e+04],\n",
       "        [ 5.86773478e+02,  3.28924143e+04],\n",
       "        [ 5.16802655e+02,  3.29698978e+04],\n",
       "        [ 4.47170600e+02,  3.30470656e+04],\n",
       "        [ 3.77807834e+02,  3.31238483e+04],\n",
       "        [ 3.08695053e+02,  3.32002256e+04],\n",
       "        [ 2.39864613e+02,  3.32762345e+04],\n",
       "        [ 1.71367845e+02,  3.33519381e+04],\n",
       "        [ 1.03235399e+02,  3.34273823e+04],\n",
       "        [ 3.54578436e+01,  3.35025715e+04],\n",
       "        [-3.20040951e+01,  3.35774749e+04],\n",
       "        [-9.91913133e+01,  3.36520554e+04],\n",
       "        [-1.66121684e+02,  3.37262977e+04],\n",
       "        [-2.32784601e+02,  3.38002169e+04],\n",
       "        [-2.99155106e+02,  3.38738462e+04],\n",
       "        [-3.65215057e+02,  3.39472142e+04]]))"
      ]
     },
     "execution_count": 55,
     "metadata": {},
     "output_type": "execute_result"
    }
   ],
   "source": [
    "pred_uc"
   ]
  },
  {
   "cell_type": "code",
   "execution_count": null,
   "metadata": {},
   "outputs": [],
   "source": []
  },
  {
   "cell_type": "code",
   "execution_count": 13,
   "metadata": {},
   "outputs": [
    {
     "ename": "TypeError",
     "evalue": "predict() got an unexpected keyword argument 'n_periods'",
     "output_type": "error",
     "traceback": [
      "\u001b[0;31m---------------------------------------------------------------------------\u001b[0m",
      "\u001b[0;31mTypeError\u001b[0m                                 Traceback (most recent call last)",
      "\u001b[0;32m<ipython-input-13-78a918b68c95>\u001b[0m in \u001b[0;36m<module>\u001b[0;34m()\u001b[0m\n\u001b[1;32m      1\u001b[0m \u001b[0;31m#model.fit(X)\u001b[0m\u001b[0;34m\u001b[0m\u001b[0;34m\u001b[0m\u001b[0m\n\u001b[0;32m----> 2\u001b[0;31m \u001b[0mfuture_forecast\u001b[0m \u001b[0;34m=\u001b[0m \u001b[0mmodel\u001b[0m\u001b[0;34m.\u001b[0m\u001b[0mpredict\u001b[0m\u001b[0;34m(\u001b[0m\u001b[0mn_periods\u001b[0m\u001b[0;34m=\u001b[0m\u001b[0;36m120\u001b[0m\u001b[0;34m)\u001b[0m\u001b[0;34m\u001b[0m\u001b[0m\n\u001b[0m\u001b[1;32m      3\u001b[0m \u001b[0;31m#print(future_forecast)\u001b[0m\u001b[0;34m\u001b[0m\u001b[0;34m\u001b[0m\u001b[0m\n\u001b[1;32m      4\u001b[0m \u001b[0;34m\u001b[0m\u001b[0m\n\u001b[1;32m      5\u001b[0m \u001b[0;31m#future_forecast = pd.DataFrame(future_forecast,index = test.index,columns=['Prediction'])\u001b[0m\u001b[0;34m\u001b[0m\u001b[0;34m\u001b[0m\u001b[0m\n",
      "\u001b[0;31mTypeError\u001b[0m: predict() got an unexpected keyword argument 'n_periods'"
     ]
    }
   ],
   "source": [
    "#model.fit(X)\n",
    "future_forecast = model.predict()\n",
    "#print(future_forecast)\n",
    "\n",
    "#future_forecast = pd.DataFrame(future_forecast,index = test.index,columns=['Prediction'])\n",
    "#pd.concat([X,future_forecast],axis=1).plot()"
   ]
  },
  {
   "cell_type": "code",
   "execution_count": 30,
   "metadata": {},
   "outputs": [],
   "source": [
    "start_index = len(X)\n",
    "end_index = start_index + 20"
   ]
  },
  {
   "cell_type": "code",
   "execution_count": 31,
   "metadata": {},
   "outputs": [
    {
     "data": {
      "text/plain": [
       "998"
      ]
     },
     "execution_count": 31,
     "metadata": {},
     "output_type": "execute_result"
    }
   ],
   "source": [
    "start_index"
   ]
  },
  {
   "cell_type": "code",
   "execution_count": 32,
   "metadata": {},
   "outputs": [
    {
     "data": {
      "text/plain": [
       "1018"
      ]
     },
     "execution_count": 32,
     "metadata": {},
     "output_type": "execute_result"
    }
   ],
   "source": [
    "end_index"
   ]
  },
  {
   "cell_type": "code",
   "execution_count": null,
   "metadata": {},
   "outputs": [],
   "source": []
  },
  {
   "cell_type": "code",
   "execution_count": 43,
   "metadata": {},
   "outputs": [],
   "source": [
    "model_fit = model.fit"
   ]
  },
  {
   "cell_type": "code",
   "execution_count": null,
   "metadata": {},
   "outputs": [],
   "source": []
  },
  {
   "cell_type": "code",
   "execution_count": 42,
   "metadata": {},
   "outputs": [
    {
     "ename": "AttributeError",
     "evalue": "'function' object has no attribute 'forecast'",
     "output_type": "error",
     "traceback": [
      "\u001b[0;31m---------------------------------------------------------------------------\u001b[0m",
      "\u001b[0;31mAttributeError\u001b[0m                            Traceback (most recent call last)",
      "\u001b[0;32m<ipython-input-42-2cefcd7cf488>\u001b[0m in \u001b[0;36m<module>\u001b[0;34m()\u001b[0m\n\u001b[0;32m----> 1\u001b[0;31m \u001b[0mfuture_forecast\u001b[0m \u001b[0;34m=\u001b[0m \u001b[0mmodel_fit\u001b[0m\u001b[0;34m.\u001b[0m\u001b[0mforecast\u001b[0m\u001b[0;34m(\u001b[0m\u001b[0mstart\u001b[0m\u001b[0;34m=\u001b[0m\u001b[0mstart_index\u001b[0m\u001b[0;34m,\u001b[0m \u001b[0mend\u001b[0m\u001b[0;34m=\u001b[0m\u001b[0mend_index\u001b[0m\u001b[0;34m)\u001b[0m\u001b[0;34m\u001b[0m\u001b[0m\n\u001b[0m",
      "\u001b[0;31mAttributeError\u001b[0m: 'function' object has no attribute 'forecast'"
     ]
    }
   ],
   "source": [
    "future_forecast = model_fit.forecast(start=start_index, end=end_index)"
   ]
  },
  {
   "cell_type": "code",
   "execution_count": 34,
   "metadata": {},
   "outputs": [
    {
     "data": {
      "text/plain": [
       "array([-362.33031361,  782.06800873,  836.42661911,  146.54028061,\n",
       "       -378.3973995 , -509.93140311, -363.01688526, -105.04006105,\n",
       "        138.87170025,  229.4299671 ,  -76.92151248, -230.13884953,\n",
       "       -103.40727198,   26.67055454,  137.7425481 ,  219.13808007,\n",
       "        221.28383604,  -81.75276576, -255.75974473,  -90.77123743,\n",
       "         37.79217157])"
      ]
     },
     "execution_count": 34,
     "metadata": {},
     "output_type": "execute_result"
    }
   ],
   "source": [
    "future_forecast"
   ]
  },
  {
   "cell_type": "code",
   "execution_count": null,
   "metadata": {},
   "outputs": [],
   "source": []
  },
  {
   "cell_type": "code",
   "execution_count": null,
   "metadata": {},
   "outputs": [],
   "source": []
  },
  {
   "cell_type": "code",
   "execution_count": 38,
   "metadata": {},
   "outputs": [
    {
     "ename": "TypeError",
     "evalue": "cannot concatenate object of type \"<class 'numpy.ndarray'>\"; only pd.Series, pd.DataFrame, and pd.Panel (deprecated) objs are valid",
     "output_type": "error",
     "traceback": [
      "\u001b[0;31m---------------------------------------------------------------------------\u001b[0m",
      "\u001b[0;31mTypeError\u001b[0m                                 Traceback (most recent call last)",
      "\u001b[0;32m<ipython-input-38-19c13ab7a62b>\u001b[0m in \u001b[0;36m<module>\u001b[0;34m()\u001b[0m\n\u001b[1;32m      1\u001b[0m \u001b[0mfuture_forecast\u001b[0m \u001b[0;34m=\u001b[0m \u001b[0mpd\u001b[0m\u001b[0;34m.\u001b[0m\u001b[0mDataFrame\u001b[0m\u001b[0;34m(\u001b[0m\u001b[0mfuture_forecast\u001b[0m\u001b[0;34m,\u001b[0m \u001b[0mcolumns\u001b[0m\u001b[0;34m=\u001b[0m\u001b[0;34m[\u001b[0m\u001b[0;34m'Prediction'\u001b[0m\u001b[0;34m]\u001b[0m\u001b[0;34m)\u001b[0m\u001b[0;34m\u001b[0m\u001b[0m\n\u001b[0;32m----> 2\u001b[0;31m \u001b[0mpd\u001b[0m\u001b[0;34m.\u001b[0m\u001b[0mconcat\u001b[0m\u001b[0;34m(\u001b[0m\u001b[0;34m[\u001b[0m\u001b[0mX\u001b[0m\u001b[0;34m,\u001b[0m\u001b[0mfuture_forecast\u001b[0m\u001b[0;34m]\u001b[0m\u001b[0;34m,\u001b[0m\u001b[0maxis\u001b[0m\u001b[0;34m=\u001b[0m\u001b[0;36m1\u001b[0m\u001b[0;34m)\u001b[0m\u001b[0;34m.\u001b[0m\u001b[0mplot\u001b[0m\u001b[0;34m(\u001b[0m\u001b[0;34m)\u001b[0m\u001b[0;34m\u001b[0m\u001b[0m\n\u001b[0m",
      "\u001b[0;32m/anaconda3/lib/python3.6/site-packages/pandas/core/reshape/concat.py\u001b[0m in \u001b[0;36mconcat\u001b[0;34m(objs, axis, join, join_axes, ignore_index, keys, levels, names, verify_integrity, sort, copy)\u001b[0m\n\u001b[1;32m    223\u001b[0m                        \u001b[0mkeys\u001b[0m\u001b[0;34m=\u001b[0m\u001b[0mkeys\u001b[0m\u001b[0;34m,\u001b[0m \u001b[0mlevels\u001b[0m\u001b[0;34m=\u001b[0m\u001b[0mlevels\u001b[0m\u001b[0;34m,\u001b[0m \u001b[0mnames\u001b[0m\u001b[0;34m=\u001b[0m\u001b[0mnames\u001b[0m\u001b[0;34m,\u001b[0m\u001b[0;34m\u001b[0m\u001b[0m\n\u001b[1;32m    224\u001b[0m                        \u001b[0mverify_integrity\u001b[0m\u001b[0;34m=\u001b[0m\u001b[0mverify_integrity\u001b[0m\u001b[0;34m,\u001b[0m\u001b[0;34m\u001b[0m\u001b[0m\n\u001b[0;32m--> 225\u001b[0;31m                        copy=copy, sort=sort)\n\u001b[0m\u001b[1;32m    226\u001b[0m     \u001b[0;32mreturn\u001b[0m \u001b[0mop\u001b[0m\u001b[0;34m.\u001b[0m\u001b[0mget_result\u001b[0m\u001b[0;34m(\u001b[0m\u001b[0;34m)\u001b[0m\u001b[0;34m\u001b[0m\u001b[0m\n\u001b[1;32m    227\u001b[0m \u001b[0;34m\u001b[0m\u001b[0m\n",
      "\u001b[0;32m/anaconda3/lib/python3.6/site-packages/pandas/core/reshape/concat.py\u001b[0m in \u001b[0;36m__init__\u001b[0;34m(self, objs, axis, join, join_axes, keys, levels, names, ignore_index, verify_integrity, copy, sort)\u001b[0m\n\u001b[1;32m    284\u001b[0m                        \u001b[0;34m' only pd.Series, pd.DataFrame, and pd.Panel'\u001b[0m\u001b[0;34m\u001b[0m\u001b[0m\n\u001b[1;32m    285\u001b[0m                        ' (deprecated) objs are valid'.format(type(obj)))\n\u001b[0;32m--> 286\u001b[0;31m                 \u001b[0;32mraise\u001b[0m \u001b[0mTypeError\u001b[0m\u001b[0;34m(\u001b[0m\u001b[0mmsg\u001b[0m\u001b[0;34m)\u001b[0m\u001b[0;34m\u001b[0m\u001b[0m\n\u001b[0m\u001b[1;32m    287\u001b[0m \u001b[0;34m\u001b[0m\u001b[0m\n\u001b[1;32m    288\u001b[0m             \u001b[0;31m# consolidate\u001b[0m\u001b[0;34m\u001b[0m\u001b[0;34m\u001b[0m\u001b[0m\n",
      "\u001b[0;31mTypeError\u001b[0m: cannot concatenate object of type \"<class 'numpy.ndarray'>\"; only pd.Series, pd.DataFrame, and pd.Panel (deprecated) objs are valid"
     ]
    }
   ],
   "source": [
    "future_forecast = pd.DataFrame(future_forecast, columns=['Prediction'])\n",
    "pd.concat([X,future_forecast],axis=1).plot()"
   ]
  },
  {
   "cell_type": "code",
   "execution_count": null,
   "metadata": {},
   "outputs": [],
   "source": []
  },
  {
   "cell_type": "code",
   "execution_count": null,
   "metadata": {},
   "outputs": [],
   "source": []
  },
  {
   "cell_type": "code",
   "execution_count": null,
   "metadata": {},
   "outputs": [],
   "source": []
  },
  {
   "cell_type": "code",
   "execution_count": null,
   "metadata": {},
   "outputs": [],
   "source": []
  },
  {
   "cell_type": "code",
   "execution_count": 27,
   "metadata": {},
   "outputs": [
    {
     "ename": "KeyError",
     "evalue": "\"invalid literal for int() with base 10: '2018-10-01'\"",
     "output_type": "error",
     "traceback": [
      "\u001b[0;31m---------------------------------------------------------------------------\u001b[0m",
      "\u001b[0;31mAttributeError\u001b[0m                            Traceback (most recent call last)",
      "\u001b[0;32m/anaconda3/lib/python3.6/site-packages/statsmodels/tsa/base/tsa_model.py\u001b[0m in \u001b[0;36m_get_index_label_loc\u001b[0;34m(self, key, base_index)\u001b[0m\n\u001b[1;32m    407\u001b[0m                 \u001b[0;32mif\u001b[0m \u001b[0;32mnot\u001b[0m \u001b[0misinstance\u001b[0m\u001b[0;34m(\u001b[0m\u001b[0mkey\u001b[0m\u001b[0;34m,\u001b[0m \u001b[0;34m(\u001b[0m\u001b[0mint\u001b[0m\u001b[0;34m,\u001b[0m \u001b[0mlong\u001b[0m\u001b[0;34m,\u001b[0m \u001b[0mnp\u001b[0m\u001b[0;34m.\u001b[0m\u001b[0minteger\u001b[0m\u001b[0;34m)\u001b[0m\u001b[0;34m)\u001b[0m\u001b[0;34m:\u001b[0m\u001b[0;34m\u001b[0m\u001b[0m\n\u001b[0;32m--> 408\u001b[0;31m                     \u001b[0mloc\u001b[0m \u001b[0;34m=\u001b[0m \u001b[0mself\u001b[0m\u001b[0;34m.\u001b[0m\u001b[0mdata\u001b[0m\u001b[0;34m.\u001b[0m\u001b[0mrow_labels\u001b[0m\u001b[0;34m.\u001b[0m\u001b[0mget_loc\u001b[0m\u001b[0;34m(\u001b[0m\u001b[0mkey\u001b[0m\u001b[0;34m)\u001b[0m\u001b[0;34m\u001b[0m\u001b[0m\n\u001b[0m\u001b[1;32m    409\u001b[0m                 \u001b[0;32melse\u001b[0m\u001b[0;34m:\u001b[0m\u001b[0;34m\u001b[0m\u001b[0m\n",
      "\u001b[0;31mAttributeError\u001b[0m: 'NoneType' object has no attribute 'get_loc'",
      "\nDuring handling of the above exception, another exception occurred:\n",
      "\u001b[0;31mKeyError\u001b[0m                                  Traceback (most recent call last)",
      "\u001b[0;32m<ipython-input-27-51f0c312a8a8>\u001b[0m in \u001b[0;36m<module>\u001b[0;34m()\u001b[0m\n\u001b[1;32m      1\u001b[0m \u001b[0;32mfrom\u001b[0m \u001b[0mstatsmodels\u001b[0m\u001b[0;34m.\u001b[0m\u001b[0mtsa\u001b[0m\u001b[0;34m.\u001b[0m\u001b[0marima_model\u001b[0m \u001b[0;32mimport\u001b[0m \u001b[0mARIMA\u001b[0m\u001b[0;34m\u001b[0m\u001b[0m\n\u001b[0;32m----> 2\u001b[0;31m \u001b[0mpred\u001b[0m \u001b[0;34m=\u001b[0m \u001b[0mmodel_fit\u001b[0m\u001b[0;34m.\u001b[0m\u001b[0mpredict\u001b[0m\u001b[0;34m(\u001b[0m\u001b[0mstart\u001b[0m\u001b[0;34m=\u001b[0m\u001b[0;34m\"2018-10-01\"\u001b[0m\u001b[0;34m,\u001b[0m\u001b[0mend\u001b[0m\u001b[0;34m=\u001b[0m\u001b[0;34m\"2018-12-31\"\u001b[0m\u001b[0;34m)\u001b[0m\u001b[0;34m\u001b[0m\u001b[0m\n\u001b[0m",
      "\u001b[0;32m/anaconda3/lib/python3.6/site-packages/statsmodels/base/wrapper.py\u001b[0m in \u001b[0;36mwrapper\u001b[0;34m(self, *args, **kwargs)\u001b[0m\n\u001b[1;32m     94\u001b[0m             \u001b[0mobj\u001b[0m \u001b[0;34m=\u001b[0m \u001b[0mdata\u001b[0m\u001b[0;34m.\u001b[0m\u001b[0mwrap_output\u001b[0m\u001b[0;34m(\u001b[0m\u001b[0mfunc\u001b[0m\u001b[0;34m(\u001b[0m\u001b[0mresults\u001b[0m\u001b[0;34m,\u001b[0m \u001b[0;34m*\u001b[0m\u001b[0margs\u001b[0m\u001b[0;34m,\u001b[0m \u001b[0;34m**\u001b[0m\u001b[0mkwargs\u001b[0m\u001b[0;34m)\u001b[0m\u001b[0;34m,\u001b[0m \u001b[0mhow\u001b[0m\u001b[0;34m[\u001b[0m\u001b[0;36m0\u001b[0m\u001b[0;34m]\u001b[0m\u001b[0;34m,\u001b[0m \u001b[0mhow\u001b[0m\u001b[0;34m[\u001b[0m\u001b[0;36m1\u001b[0m\u001b[0;34m:\u001b[0m\u001b[0;34m]\u001b[0m\u001b[0;34m)\u001b[0m\u001b[0;34m\u001b[0m\u001b[0m\n\u001b[1;32m     95\u001b[0m         \u001b[0;32melif\u001b[0m \u001b[0mhow\u001b[0m\u001b[0;34m:\u001b[0m\u001b[0;34m\u001b[0m\u001b[0m\n\u001b[0;32m---> 96\u001b[0;31m             \u001b[0mobj\u001b[0m \u001b[0;34m=\u001b[0m \u001b[0mdata\u001b[0m\u001b[0;34m.\u001b[0m\u001b[0mwrap_output\u001b[0m\u001b[0;34m(\u001b[0m\u001b[0mfunc\u001b[0m\u001b[0;34m(\u001b[0m\u001b[0mresults\u001b[0m\u001b[0;34m,\u001b[0m \u001b[0;34m*\u001b[0m\u001b[0margs\u001b[0m\u001b[0;34m,\u001b[0m \u001b[0;34m**\u001b[0m\u001b[0mkwargs\u001b[0m\u001b[0;34m)\u001b[0m\u001b[0;34m,\u001b[0m \u001b[0mhow\u001b[0m\u001b[0;34m)\u001b[0m\u001b[0;34m\u001b[0m\u001b[0m\n\u001b[0m\u001b[1;32m     97\u001b[0m         \u001b[0;32mreturn\u001b[0m \u001b[0mobj\u001b[0m\u001b[0;34m\u001b[0m\u001b[0m\n\u001b[1;32m     98\u001b[0m \u001b[0;34m\u001b[0m\u001b[0m\n",
      "\u001b[0;32m/anaconda3/lib/python3.6/site-packages/statsmodels/tsa/arima_model.py\u001b[0m in \u001b[0;36mpredict\u001b[0;34m(self, start, end, exog, typ, dynamic)\u001b[0m\n\u001b[1;32m   1824\u001b[0m     def predict(self, start=None, end=None, exog=None, typ='linear',\n\u001b[1;32m   1825\u001b[0m                 dynamic=False):\n\u001b[0;32m-> 1826\u001b[0;31m         \u001b[0;32mreturn\u001b[0m \u001b[0mself\u001b[0m\u001b[0;34m.\u001b[0m\u001b[0mmodel\u001b[0m\u001b[0;34m.\u001b[0m\u001b[0mpredict\u001b[0m\u001b[0;34m(\u001b[0m\u001b[0mself\u001b[0m\u001b[0;34m.\u001b[0m\u001b[0mparams\u001b[0m\u001b[0;34m,\u001b[0m \u001b[0mstart\u001b[0m\u001b[0;34m,\u001b[0m \u001b[0mend\u001b[0m\u001b[0;34m,\u001b[0m \u001b[0mexog\u001b[0m\u001b[0;34m,\u001b[0m \u001b[0mtyp\u001b[0m\u001b[0;34m,\u001b[0m \u001b[0mdynamic\u001b[0m\u001b[0;34m)\u001b[0m\u001b[0;34m\u001b[0m\u001b[0m\n\u001b[0m\u001b[1;32m   1827\u001b[0m     \u001b[0mpredict\u001b[0m\u001b[0;34m.\u001b[0m\u001b[0m__doc__\u001b[0m \u001b[0;34m=\u001b[0m \u001b[0m_arima_results_predict\u001b[0m\u001b[0;34m\u001b[0m\u001b[0m\n\u001b[1;32m   1828\u001b[0m \u001b[0;34m\u001b[0m\u001b[0m\n",
      "\u001b[0;32m/anaconda3/lib/python3.6/site-packages/statsmodels/tsa/arima_model.py\u001b[0m in \u001b[0;36mpredict\u001b[0;34m(self, params, start, end, exog, typ, dynamic)\u001b[0m\n\u001b[1;32m   1169\u001b[0m         \u001b[0;32mif\u001b[0m \u001b[0misinstance\u001b[0m\u001b[0;34m(\u001b[0m\u001b[0mstart\u001b[0m\u001b[0;34m,\u001b[0m \u001b[0;34m(\u001b[0m\u001b[0mstring_types\u001b[0m\u001b[0;34m,\u001b[0m \u001b[0mdatetime\u001b[0m\u001b[0;34m)\u001b[0m\u001b[0;34m)\u001b[0m\u001b[0;34m:\u001b[0m\u001b[0;34m\u001b[0m\u001b[0m\n\u001b[1;32m   1170\u001b[0m             \u001b[0;31m# start = _index_date(start, self.data.dates)\u001b[0m\u001b[0;34m\u001b[0m\u001b[0;34m\u001b[0m\u001b[0m\n\u001b[0;32m-> 1171\u001b[0;31m             \u001b[0mstart\u001b[0m\u001b[0;34m,\u001b[0m \u001b[0m_\u001b[0m\u001b[0;34m,\u001b[0m \u001b[0m_\u001b[0m \u001b[0;34m=\u001b[0m \u001b[0mself\u001b[0m\u001b[0;34m.\u001b[0m\u001b[0m_get_index_label_loc\u001b[0m\u001b[0;34m(\u001b[0m\u001b[0mstart\u001b[0m\u001b[0;34m)\u001b[0m\u001b[0;34m\u001b[0m\u001b[0m\n\u001b[0m\u001b[1;32m   1172\u001b[0m             \u001b[0;32mif\u001b[0m \u001b[0misinstance\u001b[0m\u001b[0;34m(\u001b[0m\u001b[0mstart\u001b[0m\u001b[0;34m,\u001b[0m \u001b[0mslice\u001b[0m\u001b[0;34m)\u001b[0m\u001b[0;34m:\u001b[0m\u001b[0;34m\u001b[0m\u001b[0m\n\u001b[1;32m   1173\u001b[0m                 \u001b[0mstart\u001b[0m \u001b[0;34m=\u001b[0m \u001b[0mstart\u001b[0m\u001b[0;34m.\u001b[0m\u001b[0mstart\u001b[0m\u001b[0;34m\u001b[0m\u001b[0m\n",
      "\u001b[0;32m/anaconda3/lib/python3.6/site-packages/statsmodels/tsa/base/tsa_model.py\u001b[0m in \u001b[0;36m_get_index_label_loc\u001b[0;34m(self, key, base_index)\u001b[0m\n\u001b[1;32m    413\u001b[0m                 \u001b[0mindex_was_expanded\u001b[0m \u001b[0;34m=\u001b[0m \u001b[0;32mFalse\u001b[0m\u001b[0;34m\u001b[0m\u001b[0m\n\u001b[1;32m    414\u001b[0m             \u001b[0;32mexcept\u001b[0m\u001b[0;34m:\u001b[0m\u001b[0;34m\u001b[0m\u001b[0m\n\u001b[0;32m--> 415\u001b[0;31m                 \u001b[0;32mraise\u001b[0m \u001b[0me\u001b[0m\u001b[0;34m\u001b[0m\u001b[0m\n\u001b[0m\u001b[1;32m    416\u001b[0m         \u001b[0;32mreturn\u001b[0m \u001b[0mloc\u001b[0m\u001b[0;34m,\u001b[0m \u001b[0mindex\u001b[0m\u001b[0;34m,\u001b[0m \u001b[0mindex_was_expanded\u001b[0m\u001b[0;34m\u001b[0m\u001b[0m\n\u001b[1;32m    417\u001b[0m \u001b[0;34m\u001b[0m\u001b[0m\n",
      "\u001b[0;32m/anaconda3/lib/python3.6/site-packages/statsmodels/tsa/base/tsa_model.py\u001b[0m in \u001b[0;36m_get_index_label_loc\u001b[0;34m(self, key, base_index)\u001b[0m\n\u001b[1;32m    402\u001b[0m         \u001b[0;32mtry\u001b[0m\u001b[0;34m:\u001b[0m\u001b[0;34m\u001b[0m\u001b[0m\n\u001b[1;32m    403\u001b[0m             loc, index, index_was_expanded = (\n\u001b[0;32m--> 404\u001b[0;31m                 self._get_index_loc(key, base_index))\n\u001b[0m\u001b[1;32m    405\u001b[0m         \u001b[0;32mexcept\u001b[0m \u001b[0mKeyError\u001b[0m \u001b[0;32mas\u001b[0m \u001b[0me\u001b[0m\u001b[0;34m:\u001b[0m\u001b[0;34m\u001b[0m\u001b[0m\n\u001b[1;32m    406\u001b[0m             \u001b[0;32mtry\u001b[0m\u001b[0;34m:\u001b[0m\u001b[0;34m\u001b[0m\u001b[0m\n",
      "\u001b[0;32m/anaconda3/lib/python3.6/site-packages/statsmodels/tsa/base/tsa_model.py\u001b[0m in \u001b[0;36m_get_index_loc\u001b[0;34m(self, key, base_index)\u001b[0m\n\u001b[1;32m    354\u001b[0m             \u001b[0;31m#   (as of Pandas 0.22)\u001b[0m\u001b[0;34m\u001b[0m\u001b[0;34m\u001b[0m\u001b[0m\n\u001b[1;32m    355\u001b[0m             \u001b[0;32mexcept\u001b[0m \u001b[0;34m(\u001b[0m\u001b[0mIndexError\u001b[0m\u001b[0;34m,\u001b[0m \u001b[0mValueError\u001b[0m\u001b[0;34m)\u001b[0m \u001b[0;32mas\u001b[0m \u001b[0me\u001b[0m\u001b[0;34m:\u001b[0m\u001b[0;34m\u001b[0m\u001b[0m\n\u001b[0;32m--> 356\u001b[0;31m                 \u001b[0;32mraise\u001b[0m \u001b[0mKeyError\u001b[0m\u001b[0;34m(\u001b[0m\u001b[0mstr\u001b[0m\u001b[0;34m(\u001b[0m\u001b[0me\u001b[0m\u001b[0;34m)\u001b[0m\u001b[0;34m)\u001b[0m\u001b[0;34m\u001b[0m\u001b[0m\n\u001b[0m\u001b[1;32m    357\u001b[0m             \u001b[0mloc\u001b[0m \u001b[0;34m=\u001b[0m \u001b[0mkey\u001b[0m\u001b[0;34m\u001b[0m\u001b[0m\n\u001b[1;32m    358\u001b[0m         \u001b[0;32melse\u001b[0m\u001b[0;34m:\u001b[0m\u001b[0;34m\u001b[0m\u001b[0m\n",
      "\u001b[0;31mKeyError\u001b[0m: \"invalid literal for int() with base 10: '2018-10-01'\""
     ]
    }
   ],
   "source": [
    "from statsmodels.tsa.arima_model import ARIMA\n",
    "pred = model_fit.predict(start=\"2018-10-01\",end=\"2018-12-31\")"
   ]
  },
  {
   "cell_type": "code",
   "execution_count": 23,
   "metadata": {},
   "outputs": [
    {
     "name": "stdout",
     "output_type": "stream",
     "text": [
      "<statsmodels.tsa.arima_model.ARIMA object at 0x109255518>\n"
     ]
    }
   ],
   "source": []
  },
  {
   "cell_type": "code",
   "execution_count": null,
   "metadata": {},
   "outputs": [],
   "source": [
    "start_index = len(differenced)\n",
    "end_index = start_index + 6\n",
    "forecast = model_fit.predict(start=start_index, end=end_index)\n"
   ]
  },
  {
   "cell_type": "code",
   "execution_count": null,
   "metadata": {},
   "outputs": [],
   "source": [
    "from pylab import rcParams\n",
    "rcParams['figure.figsize'] = 18, 8\n",
    "\n",
    "rnbld = sm.tsa.seasonal_decompose(rnbl['nb'], model='additive', freq = 365)\n",
    "fig = rnbld.plot()\n",
    "plt.show()"
   ]
  },
  {
   "cell_type": "code",
   "execution_count": null,
   "metadata": {},
   "outputs": [],
   "source": [
    "mod = sm.tsa.statespace.SARIMAX(y, order=param,\n",
    "                                seasonal_order=param_seasonal,\n",
    "                                enforce_stationarity=False,\n",
    "                                enforce_invertibility=False)\n",
    "results = mod.fit()"
   ]
  },
  {
   "cell_type": "code",
   "execution_count": null,
   "metadata": {},
   "outputs": [],
   "source": []
  },
  {
   "cell_type": "code",
   "execution_count": null,
   "metadata": {},
   "outputs": [],
   "source": []
  },
  {
   "cell_type": "code",
   "execution_count": null,
   "metadata": {},
   "outputs": [],
   "source": []
  },
  {
   "cell_type": "code",
   "execution_count": null,
   "metadata": {},
   "outputs": [],
   "source": []
  },
  {
   "cell_type": "markdown",
   "metadata": {},
   "source": [
    "Running the example prints the ARIMA parameters and mean squared error for each configuration successfully evaluated.\n",
    "\n",
    "The best mean parameters are reported as ARIMA(4, 2, 0) with a mean squared error of 28982.474.\n",
    "\n",
    "## Extensions\n",
    "The grid search method used in this tutorial is simple and can easily be extended.\n",
    "\n",
    "This section lists some ideas to extend the approach you may wish to explore.\n",
    "\n",
    "* **Seed Grid**. The classical diagnostic tools of ACF and PACF plots can still be used with the results used to seed the grid of ARIMA parameters to search.\n",
    "* **Alternate Measures**. The search seeks to optimize the out-of-sample mean squared error. This could be changed to another out-of-sample statistic, an in-sample statistic, such as AIC or BIC, or some combination of the two. You can choose a metric that is most meaningful on your project.\n",
    "* **Residual Diagnostics**. Statistics can automatically be calculated on the residual forecast errors to provide an additional indication of the quality of the fit. Examples include statistical tests for whether the distribution of residuals is Gaussian and whether there is an autocorrelation in the residuals.\n",
    "* **Update Model**. The ARIMA model is created from scratch for each one-step forecast. With careful inspection of the API, it may be possible to update the internal data of the model with new observations rather than recreating it from scratch.\n",
    "* **Preconditions**. The ARIMA model can make assumptions about the time series dataset, such as normality and stationarity. These could be checked and a warning raised for a given of a dataset prior to a given model being trained.\n",
    "\n",
    "## Summary\n",
    "In this tutorial, you discovered how to grid search the hyperparameters for the ARIMA model in Python.\n",
    "\n",
    "Specifically, you learned:\n",
    "\n",
    "* A procedure that you can use to grid search ARIMA hyperparameters for a one-step rolling forecast.\n",
    "* How to apply ARIMA hyperparameters tuning on standard univariate time series datasets.\n",
    "* Ideas on how to further improve grid searching of ARIMA hyperparameters."
   ]
  }
 ],
 "metadata": {
  "kernelspec": {
   "display_name": "Python 3",
   "language": "python",
   "name": "python3"
  },
  "language_info": {
   "codemirror_mode": {
    "name": "ipython",
    "version": 3
   },
   "file_extension": ".py",
   "mimetype": "text/x-python",
   "name": "python",
   "nbconvert_exporter": "python",
   "pygments_lexer": "ipython3",
   "version": "3.6.5"
  }
 },
 "nbformat": 4,
 "nbformat_minor": 2
}
