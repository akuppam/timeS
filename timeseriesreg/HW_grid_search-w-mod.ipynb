{
 "cells": [
  {
   "cell_type": "code",
   "execution_count": 1,
   "metadata": {},
   "outputs": [
    {
     "data": {
      "text/html": [
       "<div>\n",
       "<style scoped>\n",
       "    .dataframe tbody tr th:only-of-type {\n",
       "        vertical-align: middle;\n",
       "    }\n",
       "\n",
       "    .dataframe tbody tr th {\n",
       "        vertical-align: top;\n",
       "    }\n",
       "\n",
       "    .dataframe thead th {\n",
       "        text-align: right;\n",
       "    }\n",
       "</style>\n",
       "<table border=\"1\" class=\"dataframe\">\n",
       "  <thead>\n",
       "    <tr style=\"text-align: right;\">\n",
       "      <th></th>\n",
       "      <th>date</th>\n",
       "      <th>region</th>\n",
       "      <th>marketing</th>\n",
       "      <th>visits</th>\n",
       "      <th>br</th>\n",
       "      <th>inq</th>\n",
       "      <th>gb</th>\n",
       "      <th>cb</th>\n",
       "      <th>nb</th>\n",
       "      <th>ss</th>\n",
       "      <th>ts</th>\n",
       "      <th>listings</th>\n",
       "    </tr>\n",
       "  </thead>\n",
       "  <tbody>\n",
       "    <tr>\n",
       "      <th>0</th>\n",
       "      <td>1/1/16</td>\n",
       "      <td>AMR</td>\n",
       "      <td>NotPaid</td>\n",
       "      <td>1256288</td>\n",
       "      <td>6043</td>\n",
       "      <td>66022</td>\n",
       "      <td>6071</td>\n",
       "      <td>571</td>\n",
       "      <td>5500</td>\n",
       "      <td>485968.08000</td>\n",
       "      <td>144695.894200</td>\n",
       "      <td>10242216</td>\n",
       "    </tr>\n",
       "    <tr>\n",
       "      <th>1</th>\n",
       "      <td>1/1/16</td>\n",
       "      <td>AMR</td>\n",
       "      <td>Paid</td>\n",
       "      <td>189297</td>\n",
       "      <td>1092</td>\n",
       "      <td>11806</td>\n",
       "      <td>743</td>\n",
       "      <td>2</td>\n",
       "      <td>741</td>\n",
       "      <td>0.00000</td>\n",
       "      <td>14138.809600</td>\n",
       "      <td>2133795</td>\n",
       "    </tr>\n",
       "    <tr>\n",
       "      <th>2</th>\n",
       "      <td>1/1/16</td>\n",
       "      <td>UK</td>\n",
       "      <td>NotPaid</td>\n",
       "      <td>201797</td>\n",
       "      <td>435</td>\n",
       "      <td>9662</td>\n",
       "      <td>436</td>\n",
       "      <td>33</td>\n",
       "      <td>403</td>\n",
       "      <td>72698.92472</td>\n",
       "      <td>8317.105056</td>\n",
       "      <td>3561696</td>\n",
       "    </tr>\n",
       "    <tr>\n",
       "      <th>3</th>\n",
       "      <td>1/1/16</td>\n",
       "      <td>UK</td>\n",
       "      <td>Paid</td>\n",
       "      <td>55934</td>\n",
       "      <td>88</td>\n",
       "      <td>2749</td>\n",
       "      <td>61</td>\n",
       "      <td>1</td>\n",
       "      <td>60</td>\n",
       "      <td>0.00000</td>\n",
       "      <td>815.336426</td>\n",
       "      <td>890424</td>\n",
       "    </tr>\n",
       "    <tr>\n",
       "      <th>4</th>\n",
       "      <td>1/1/16</td>\n",
       "      <td>CE</td>\n",
       "      <td>NotPaid</td>\n",
       "      <td>200786</td>\n",
       "      <td>573</td>\n",
       "      <td>9250</td>\n",
       "      <td>435</td>\n",
       "      <td>31</td>\n",
       "      <td>404</td>\n",
       "      <td>40490.73159</td>\n",
       "      <td>12016.782410</td>\n",
       "      <td>3062480</td>\n",
       "    </tr>\n",
       "  </tbody>\n",
       "</table>\n",
       "</div>"
      ],
      "text/plain": [
       "     date region marketing   visits    br    inq    gb   cb    nb  \\\n",
       "0  1/1/16    AMR   NotPaid  1256288  6043  66022  6071  571  5500   \n",
       "1  1/1/16    AMR      Paid   189297  1092  11806   743    2   741   \n",
       "2  1/1/16     UK   NotPaid   201797   435   9662   436   33   403   \n",
       "3  1/1/16     UK      Paid    55934    88   2749    61    1    60   \n",
       "4  1/1/16     CE   NotPaid   200786   573   9250   435   31   404   \n",
       "\n",
       "             ss             ts  listings  \n",
       "0  485968.08000  144695.894200  10242216  \n",
       "1       0.00000   14138.809600   2133795  \n",
       "2   72698.92472    8317.105056   3561696  \n",
       "3       0.00000     815.336426    890424  \n",
       "4   40490.73159   12016.782410   3062480  "
      ]
     },
     "execution_count": 1,
     "metadata": {},
     "output_type": "execute_result"
    }
   ],
   "source": [
    "# load dataset\n",
    "import os\n",
    "import pandas as pd\n",
    "import matplotlib.pyplot as plt\n",
    "import pickle\n",
    "import simplejson as json\n",
    "import numpy as np\n",
    "\n",
    "df = pd.read_csv(\"/users/akuppam/documents/Hprog/Py/rnb1015_2.csv\")\n",
    "df.head(5)"
   ]
  },
  {
   "cell_type": "code",
   "execution_count": 2,
   "metadata": {},
   "outputs": [
    {
     "data": {
      "text/html": [
       "<div>\n",
       "<style scoped>\n",
       "    .dataframe tbody tr th:only-of-type {\n",
       "        vertical-align: middle;\n",
       "    }\n",
       "\n",
       "    .dataframe tbody tr th {\n",
       "        vertical-align: top;\n",
       "    }\n",
       "\n",
       "    .dataframe thead th {\n",
       "        text-align: right;\n",
       "    }\n",
       "</style>\n",
       "<table border=\"1\" class=\"dataframe\">\n",
       "  <thead>\n",
       "    <tr style=\"text-align: right;\">\n",
       "      <th></th>\n",
       "      <th>nb</th>\n",
       "    </tr>\n",
       "    <tr>\n",
       "      <th>date</th>\n",
       "      <th></th>\n",
       "    </tr>\n",
       "  </thead>\n",
       "  <tbody>\n",
       "    <tr>\n",
       "      <th>2016-01-01</th>\n",
       "      <td>403</td>\n",
       "    </tr>\n",
       "    <tr>\n",
       "      <th>2016-01-02</th>\n",
       "      <td>451</td>\n",
       "    </tr>\n",
       "    <tr>\n",
       "      <th>2016-01-03</th>\n",
       "      <td>682</td>\n",
       "    </tr>\n",
       "    <tr>\n",
       "      <th>2016-01-04</th>\n",
       "      <td>672</td>\n",
       "    </tr>\n",
       "    <tr>\n",
       "      <th>2016-01-05</th>\n",
       "      <td>705</td>\n",
       "    </tr>\n",
       "  </tbody>\n",
       "</table>\n",
       "</div>"
      ],
      "text/plain": [
       "             nb\n",
       "date           \n",
       "2016-01-01  403\n",
       "2016-01-02  451\n",
       "2016-01-03  682\n",
       "2016-01-04  672\n",
       "2016-01-05  705"
      ]
     },
     "execution_count": 2,
     "metadata": {},
     "output_type": "execute_result"
    }
   ],
   "source": [
    "df = pd.read_csv(\"/users/akuppam/documents/Hprog/Py/rnb1015_2.csv\")\n",
    "df = df.loc[(df['region'] == 'UK') & (df['marketing'] == 'NotPaid')]\n",
    "df = df[~(df['nb'] < 0)]\n",
    "df.describe()\n",
    "df.index = pd.to_datetime(df.date)\n",
    "cols = [\"nb\"]\n",
    "y = df[cols]\n",
    "y.head()"
   ]
  },
  {
   "cell_type": "code",
   "execution_count": 3,
   "metadata": {},
   "outputs": [
    {
     "data": {
      "text/plain": [
       "'\\nt Trend: Additive\\nd Damped: False\\ns Seasonal: Additive\\np Seasonal Periods: 12\\nb Box-Cox Transform: False\\nr Remove Bias: True\\n'"
      ]
     },
     "execution_count": 3,
     "metadata": {},
     "output_type": "execute_result"
    }
   ],
   "source": [
    "'''\n",
    "t Trend: Additive\n",
    "d Damped: False\n",
    "s Seasonal: Additive\n",
    "p Seasonal Periods: 12\n",
    "b Box-Cox Transform: False\n",
    "r Remove Bias: True\n",
    "'''"
   ]
  },
  {
   "cell_type": "code",
   "execution_count": 6,
   "metadata": {},
   "outputs": [
    {
     "name": "stdout",
     "output_type": "stream",
     "text": [
      " > Model[[None, False, 'add', 7, True, True]] 82.008\n",
      " > Model[['add', False, None, 7, True, True]] 117.334\n",
      " > Model[[None, False, 'add', 7, True, False]] 81.934\n",
      " > Model[['add', False, None, 7, True, False]] 117.320\n",
      " > Model[['add', False, None, 365, True, True]] 117.334\n",
      " > Model[['add', False, None, 365, True, False]] 117.320\n",
      " > Model[[None, False, 'add', 365, True, True]] 138.680\n",
      " > Model[['mul', False, 'add', 7, True, True]] 82.068\n",
      " > Model[[None, False, 'add', 365, True, False]] 138.282\n",
      " > Model[[None, False, 'mul', 7, True, True]] 81.620\n",
      " > Model[[None, False, 'mul', 7, True, False]] 81.552\n",
      " > Model[['mul', False, 'add', 7, True, False]] 82.027\n",
      " > Model[[None, False, 'mul', 365, True, True]] 140.944\n",
      " > Model[[None, False, 'mul', 365, True, False]] 140.684\n",
      " > Model[[None, False, None, 1, True, True]] 117.289\n",
      " > Model[[None, False, None, 1, True, False]] 117.228\n",
      " > Model[[None, False, None, 7, True, True]] 117.289\n",
      " > Model[[None, False, None, 7, True, False]] 117.228\n",
      " > Model[[None, False, None, 365, True, True]] 117.289\n",
      " > Model[[None, False, None, 365, True, False]] 117.228\n",
      " > Model[['add', True, 'add', 7, True, False]] 81.934\n",
      " > Model[['add', True, 'add', 7, True, True]] 82.008\n",
      " > Model[['add', True, 'mul', 7, True, True]] 81.616\n",
      " > Model[['add', True, 'add', 365, True, True]] 138.993\n",
      " > Model[['add', True, 'add', 365, True, False]] 138.595\n",
      " > Model[['mul', False, 'mul', 7, True, True]] 81.561\n",
      " > Model[['mul', False, 'mul', 7, True, False]] 81.537\n",
      " > Model[['mul', True, 'add', 7, True, True]] 82.043\n",
      " > Model[['add', True, 'mul', 7, True, False]] 81.549\n",
      " > Model[['mul', False, 'mul', 365, True, True]] 145.827\n",
      " > Model[['mul', False, 'mul', 365, True, False]] 145.763\n",
      " > Model[['mul', False, None, 1, True, True]] 117.263\n",
      " > Model[['mul', False, None, 1, True, False]] 117.267\n",
      " > Model[['mul', False, None, 7, True, True]] 117.263\n",
      " > Model[['mul', False, None, 7, True, False]] 117.267\n",
      " > Model[['add', True, 'mul', 365, True, True]] 141.348\n",
      " > Model[['mul', False, None, 365, True, True]] 117.263\n",
      " > Model[['mul', False, None, 365, True, False]] 117.267\n",
      " > Model[['mul', True, 'add', 7, True, False]] 81.873\n",
      " > Model[['add', True, 'mul', 365, True, False]] 141.091\n",
      " > Model[['add', True, None, 1, True, True]] 117.076\n",
      " > Model[['add', True, None, 1, True, False]] 117.017\n",
      " > Model[['add', True, None, 7, True, True]] 117.076\n",
      " > Model[['add', True, None, 7, True, False]] 117.017\n",
      " > Model[['add', True, None, 365, True, True]] 117.076\n",
      " > Model[['add', True, None, 365, True, False]] 117.017\n",
      " > Model[['add', False, 'add', 7, True, True]] 82.036\n",
      " > Model[['add', False, 'add', 7, True, False]] 81.994\n",
      " > Model[['add', False, 'add', 365, True, True]] 142.666\n",
      " > Model[['add', False, 'add', 365, True, False]] 142.501\n",
      " > Model[['add', False, 'mul', 7, True, True]] 81.535\n",
      " > Model[['add', False, 'mul', 7, True, False]] 81.492\n",
      " > Model[['add', False, 'mul', 365, True, True]] 146.679\n",
      " > Model[['add', False, 'mul', 365, True, False]] 146.413\n",
      " > Model[['add', False, None, 1, True, True]] 117.334\n",
      " > Model[['add', False, None, 1, True, False]] 117.320\n",
      " > Model[['mul', True, 'mul', 365, True, True]] 141.351\n",
      " > Model[['mul', True, 'mul', 365, True, False]] 141.094\n",
      " > Model[['mul', True, None, 1, True, True]] 117.075\n",
      " > Model[['mul', True, None, 1, True, False]] 117.015\n",
      " > Model[['mul', True, None, 7, True, True]] 117.075\n",
      " > Model[['mul', True, None, 7, True, False]] 117.015\n",
      " > Model[['mul', True, None, 365, True, True]] 117.075\n",
      " > Model[['mul', True, None, 365, True, False]] 117.015\n",
      "done\n",
      "['add', False, 'mul', 7, True, False] 81.49152678204416\n"
     ]
    },
    {
     "name": "stderr",
     "output_type": "stream",
     "text": [
      "/anaconda3/lib/python3.6/site-packages/statsmodels/tsa/base/tsa_model.py:163: ValueWarning: No frequency information was provided, so inferred frequency D will be used.\n",
      "  % freq, ValueWarning)\n"
     ]
    }
   ],
   "source": [
    "# going back to the original code\n",
    "# make changes to params\n",
    "# expt w/ n_test\n",
    "# finalize this\n",
    "from math import sqrt\n",
    "from multiprocessing import cpu_count\n",
    "from joblib import Parallel\n",
    "from joblib import delayed\n",
    "from warnings import catch_warnings\n",
    "from warnings import filterwarnings\n",
    "from statsmodels.tsa.holtwinters import ExponentialSmoothing\n",
    "from sklearn.metrics import mean_squared_error\n",
    "from pandas import read_csv\n",
    "from numpy import array\n",
    " \n",
    "# one-step Holt Winter’s Exponential Smoothing forecast\n",
    "def exp_smoothing_forecast(history, hw_params):\n",
    "\tt,d,s,p,b,r = hw_params\n",
    "\t# define model\n",
    "\thistory = array(history)\n",
    "\tmodel = ExponentialSmoothing(history, trend=t, damped=d, seasonal=s, seasonal_periods=p)\n",
    "\t# fit model\n",
    "\tmodel_fit = model.fit(optimized=True, use_boxcox=b, remove_bias=r)\n",
    "\t# make one step forecast\n",
    "\tyhat = model_fit.predict(len(history), len(history))\n",
    "\treturn yhat[0]\n",
    " \n",
    "# root mean squared error or rmse\n",
    "def measure_rmse(actual, predicted):\n",
    "\treturn sqrt(mean_squared_error(actual, predicted))\n",
    " \n",
    "# split a univariate dataset into train/test sets\n",
    "def train_test_split(data, n_test):\n",
    "\treturn data[:-n_test], data[-n_test:]\n",
    " \n",
    "# walk-forward validation for univariate data\n",
    "def walk_forward_validation(data, n_test, params):\n",
    "\tpredictions = list()\n",
    "\t# split dataset\n",
    "\ttrain, test = train_test_split(data, n_test)\n",
    "\t# seed history with training dataset\n",
    "\thistory = [x for x in train]\n",
    "\t# step over each time-step in the test set\n",
    "\tfor i in range(len(test)):\n",
    "\t\t# fit model and make forecast for history\n",
    "\t\tyhat = exp_smoothing_forecast(history, params)\n",
    "\t\t# store forecast in list of predictions\n",
    "\t\tpredictions.append(yhat)\n",
    "\t\t# add actual observation to history for the next loop\n",
    "\t\thistory.append(test[i])\n",
    "\t# estimate prediction error\n",
    "\terror = measure_rmse(test, predictions)\n",
    "\treturn error\n",
    " \n",
    "# score a model, return None on failure\n",
    "def score_model(data, n_test, params, debug=False):\n",
    "\tresult = None\n",
    "\t# convert params to a key\n",
    "\tkey = params\n",
    "\t# show all warnings and fail on exception if debugging\n",
    "\tif debug:\n",
    "\t\tresult = walk_forward_validation(data, n_test, params)\n",
    "\telse:\n",
    "\t\t# one failure during model validation suggests unstable params\n",
    "\t\ttry:\n",
    "\t\t\t# never show warnings when grid searching\n",
    "\t\t\twith catch_warnings():\n",
    "\t\t\t\tfilterwarnings(\"ignore\")\n",
    "\t\t\t\tresult = walk_forward_validation(data, n_test, params)\n",
    "\t\texcept:\n",
    "\t\t\terror = None\n",
    "\t# check results\n",
    "\tif result is not None:\n",
    "\t\tprint(' > Model[%s] %.3f' % (key, result))\n",
    "\treturn (key, result)\n",
    " \n",
    "# grid search params\n",
    "def grid_search(data, params_list, n_test, parallel=True):\n",
    "\tscores = None\n",
    "\tif parallel:\n",
    "\t\t# execute configs in parallel\n",
    "\t\texecutor = Parallel(n_jobs=cpu_count(), backend='multiprocessing')\n",
    "\t\ttasks = (delayed(score_model)(data, n_test, params) for params in params_list)\n",
    "\t\tscores = executor(tasks)\n",
    "\telse:\n",
    "\t\tscores = [score_model(data, n_test, params) for params in params_list]\n",
    "\t# remove empty results\n",
    "\tscores = [r for r in scores if r[1] != None]\n",
    "\t# sort params by error, asc\n",
    "\tscores.sort(key=lambda tup: tup[1])\n",
    "\treturn scores\n",
    " \n",
    "# create a set of exponential smoothing params\n",
    "def exp_smoothing_params(seasonal=[None]):\n",
    "\tmodels = list()\n",
    "\t# define params lists\n",
    "\tt_params = ['add', 'mul', None]\n",
    "\td_params = [True, False]\n",
    "\ts_params = ['add', 'mul', None]\n",
    "\tp_params = seasonal\n",
    "\tb_params = [True, False]\n",
    "\tr_params = [True, False]\n",
    "\t# create params instances\n",
    "\tfor t in t_params:\n",
    "\t\tfor d in d_params:\n",
    "\t\t\tfor s in s_params:\n",
    "\t\t\t\tfor p in p_params:\n",
    "\t\t\t\t\tfor b in b_params:\n",
    "\t\t\t\t\t\tfor r in r_params:\n",
    "\t\t\t\t\t\t\tparams = [t,d,s,p,b,r]\n",
    "\t\t\t\t\t\t\tmodels.append(params)\n",
    "\treturn models\n",
    " \n",
    "if __name__ == '__main__':\n",
    "\t# load dataset\n",
    "\tdf.index = pd.to_datetime(df.date)\n",
    "\tcols = [\"nb\"]\n",
    "\ty = df[cols]\n",
    "\tseries_y = y['nb'].iloc[:,]\n",
    "\tdata = series_y.values\n",
    "\t# data split\n",
    "\tn_test = 200\n",
    "\t# model params\n",
    "\tparams_list = exp_smoothing_params(seasonal=[1,7,365])\n",
    "\t# grid search\n",
    "\tscores = grid_search(data, params_list, n_test)\n",
    "\tprint('done')\n",
    "\t# list top 3 params\n",
    "\tfor params, error in scores[:1]:\n",
    "\t\tprint(params, error)\n",
    "\n",
    "with open('model_params.json','w') as out_params:\n",
    "        json.dump(params, out_params)\n",
    "\n",
    "with open('model_params.json') as json_file:\n",
    "    out_params = json.load(json_file)\n",
    "\n",
    "t = out_params[0]\n",
    "d = out_params[1]\n",
    "s = out_params[2]\n",
    "p = out_params[3]\n",
    "b = out_params[4]\n",
    "r = out_params[5]\n",
    "\n",
    "model = ExponentialSmoothing(series_y, trend=t, damped=d, seasonal=s, seasonal_periods=p)\n",
    "model_fit = model.fit(optimized=True, use_boxcox=b, remove_bias=r)\n",
    "predictions = model_fit.fittedvalues\n",
    "yhat = model_fit.forecast(442)\n",
    "series_hw = predictions.append(yhat)"
   ]
  },
  {
   "cell_type": "code",
   "execution_count": 7,
   "metadata": {},
   "outputs": [],
   "source": [
    "series_hw.to_csv(\"series_hw-w.csv\")"
   ]
  },
  {
   "cell_type": "code",
   "execution_count": 8,
   "metadata": {},
   "outputs": [
    {
     "data": {
      "text/plain": [
       "[<matplotlib.lines.Line2D at 0x10ee14710>]"
      ]
     },
     "execution_count": 8,
     "metadata": {},
     "output_type": "execute_result"
    },
    {
     "data": {
      "image/png": "[encoded data removed]",
      "text/plain": [
       "<Figure size 432x288 with 1 Axes>"
      ]
     },
     "metadata": {},
     "output_type": "display_data"
    }
   ],
   "source": [
    "plt.plot(series_hw)"
   ]
  },
  {
   "cell_type": "code",
   "execution_count": 9,
   "metadata": {},
   "outputs": [
    {
     "name": "stderr",
     "output_type": "stream",
     "text": [
      "/anaconda3/lib/python3.6/site-packages/statsmodels/tsa/base/tsa_model.py:163: ValueWarning: No frequency information was provided, so inferred frequency D will be used.\n",
      "  % freq, ValueWarning)\n",
      "/anaconda3/lib/python3.6/site-packages/statsmodels/tsa/holtwinters.py:713: ConvergenceWarning: Optimization failed to converge. Check mle_retvals.\n",
      "  ConvergenceWarning)\n"
     ]
    },
    {
     "data": {
      "text/plain": [
       "[<matplotlib.lines.Line2D at 0x10fa0dba8>]"
      ]
     },
     "execution_count": 9,
     "metadata": {},
     "output_type": "execute_result"
    },
    {
     "data": {
      "image/png": "[encoded data removed]",
      "text/plain": [
       "<Figure size 432x288 with 1 Axes>"
      ]
     },
     "metadata": {},
     "output_type": "display_data"
    }
   ],
   "source": [
    "# best HW model (['add', False, 'mul', 7, True, False] 81.49152678204416)\n",
    "t = 'add'\n",
    "d = False\n",
    "s = 'mul'\n",
    "p = 365\n",
    "b = True\n",
    "r = False\n",
    "model = ExponentialSmoothing(series_y, trend=t, damped=d, seasonal=s, seasonal_periods=p)\n",
    "model_fit = model.fit(optimized=True, use_boxcox=b, remove_bias=r)\n",
    "predictions = model_fit.fittedvalues\n",
    "yhat = model_fit.forecast(442)\n",
    "series_hw = predictions.append(yhat)\n",
    "plt.plot(series_hw)"
   ]
  },
  {
   "cell_type": "code",
   "execution_count": 16,
   "metadata": {},
   "outputs": [
    {
     "name": "stderr",
     "output_type": "stream",
     "text": [
      "/anaconda3/lib/python3.6/site-packages/statsmodels/tsa/base/tsa_model.py:163: ValueWarning: No frequency information was provided, so inferred frequency D will be used.\n",
      "  % freq, ValueWarning)\n"
     ]
    },
    {
     "data": {
      "text/plain": [
       "[<matplotlib.lines.Line2D at 0x1a1bd88e10>]"
      ]
     },
     "execution_count": 16,
     "metadata": {},
     "output_type": "execute_result"
    },
    {
     "data": {
      "image/png": "[encoded data removed]",
      "text/plain": [
       "<Figure size 432x288 with 1 Axes>"
      ]
     },
     "metadata": {},
     "output_type": "display_data"
    }
   ],
   "source": [
    "# best HW model ['add', False, 'mul', 7, True, False] 81.49152678204416\n",
    "t = 'add'\n",
    "d = False\n",
    "s = 'mul'\n",
    "p = 52\n",
    "b = True\n",
    "r = False\n",
    "model = ExponentialSmoothing(series_y, trend=t, damped=d, seasonal=s, seasonal_periods=p)\n",
    "model_fit = model.fit(optimized=True, use_boxcox=b, remove_bias=r)\n",
    "predictions = model_fit.fittedvalues\n",
    "yhat = model_fit.forecast(442)\n",
    "series_hw = predictions.append(yhat)\n",
    "plt.plot(series_hw)"
   ]
  },
  {
   "cell_type": "code",
   "execution_count": 45,
   "metadata": {},
   "outputs": [],
   "source": [
    "import warnings\n",
    "import pandas as pd\n",
    "import numpy as np\n",
    "from pandas import read_csv\n",
    "from pandas import datetime\n",
    "from statsmodels.tsa.holtwinters import ExponentialSmoothing\n",
    "from sklearn.metrics import mean_squared_error\n",
    "import matplotlib.pyplot as plt\n",
    "\n",
    "def HWFxn(df, fcstdays):\n",
    "\n",
    "        series = df['y']\n",
    "    \n",
    "        # evaluate parameters\n",
    "        t_params = ['add', 'mul', None]\n",
    "        d_params = [True, False]\n",
    "        s_params = ['add', 'mul', None]\n",
    "        p_params = [365]\n",
    "        b_params = [True, False]\n",
    "        r_params = [True, False]\n",
    "           \n",
    "        best_score, best_params = float(\"inf\"), None\n",
    "        series = series.astype('double')\n",
    "        for t in t_params:\n",
    "            for d in d_params:\n",
    "                for s in s_params:\n",
    "                    for p in p_params:\n",
    "                        for b in b_params:\n",
    "                            for r in r_params:\n",
    "                                params = (t,d,s,p,b,r)\n",
    "                                try:\n",
    "                                    mse = evaluate_hw_model(series, params, fcstdays)\n",
    "                                    if mse < best_score:\n",
    "                                        best_score, best_params = mse, params\n",
    "                                    #print('HW MSE=%.3f' % (mse))\n",
    "                                    #print('HW params', params)\n",
    "                                except:\n",
    "                                    continue\n",
    "        # apply model\n",
    "        model = ExponentialSmoothing(series, trend=params[0], damped=params[1], seasonal=params[2], seasonal_periods=params[3])\n",
    "        model_fit = model.fit(optimized=True, use_boxcox=params[4], remove_bias=params[5])\n",
    "        print(model_fit.summary())\n",
    "    \n",
    "        pred_fcst = model_fit.fittedvalues\n",
    "        hw_forecast = model_fit.forecast(fcstdays)\n",
    "        hw_series = pred_fcst.append(hw_forecast)\n",
    "    \n",
    "        return hw_series\n",
    "\n",
    "    \n",
    "def evaluate_hw_model(X, hw_params, fcstdays):\n",
    "    (t,d,s,p,b,r) = hw_params\n",
    "    # make predictions\n",
    "    predictions = list()\n",
    "    model = ExponentialSmoothing(X, trend=t, damped=d, seasonal=s, seasonal_periods=p)\n",
    "    model_fit = model.fit(optimized=True, use_boxcox=b, remove_bias=r)\n",
    "    predictions = model_fit.fittedvalues\n",
    "    yhat = model_fit.forecast(fcstdays)\n",
    "    # calculate out of sample error\n",
    "    error = mean_squared_error(X, predictions)\n",
    "    print('error = ', error)\n",
    "    return error"
   ]
  },
  {
   "cell_type": "code",
   "execution_count": 46,
   "metadata": {},
   "outputs": [
    {
     "data": {
      "text/html": [
       "<div>\n",
       "<style scoped>\n",
       "    .dataframe tbody tr th:only-of-type {\n",
       "        vertical-align: middle;\n",
       "    }\n",
       "\n",
       "    .dataframe tbody tr th {\n",
       "        vertical-align: top;\n",
       "    }\n",
       "\n",
       "    .dataframe thead th {\n",
       "        text-align: right;\n",
       "    }\n",
       "</style>\n",
       "<table border=\"1\" class=\"dataframe\">\n",
       "  <thead>\n",
       "    <tr style=\"text-align: right;\">\n",
       "      <th></th>\n",
       "      <th>y</th>\n",
       "    </tr>\n",
       "    <tr>\n",
       "      <th>date</th>\n",
       "      <th></th>\n",
       "    </tr>\n",
       "  </thead>\n",
       "  <tbody>\n",
       "    <tr>\n",
       "      <th>2016-01-01</th>\n",
       "      <td>403</td>\n",
       "    </tr>\n",
       "    <tr>\n",
       "      <th>2016-01-02</th>\n",
       "      <td>451</td>\n",
       "    </tr>\n",
       "    <tr>\n",
       "      <th>2016-01-03</th>\n",
       "      <td>682</td>\n",
       "    </tr>\n",
       "    <tr>\n",
       "      <th>2016-01-04</th>\n",
       "      <td>672</td>\n",
       "    </tr>\n",
       "    <tr>\n",
       "      <th>2016-01-05</th>\n",
       "      <td>705</td>\n",
       "    </tr>\n",
       "  </tbody>\n",
       "</table>\n",
       "</div>"
      ],
      "text/plain": [
       "              y\n",
       "date           \n",
       "2016-01-01  403\n",
       "2016-01-02  451\n",
       "2016-01-03  682\n",
       "2016-01-04  672\n",
       "2016-01-05  705"
      ]
     },
     "execution_count": 46,
     "metadata": {},
     "output_type": "execute_result"
    }
   ],
   "source": [
    "df = pd.read_csv(\"/users/akuppam/documents/Hprog/Py/rnb1015_2.csv\")\n",
    "df = df.loc[(df['region'] == 'UK') & (df['marketing'] == 'NotPaid')]\n",
    "df = df[~(df['nb'] < 0)]\n",
    "df.describe()\n",
    "df.index = pd.to_datetime(df.date)\n",
    "cols = [\"nb\"]\n",
    "df = df[cols]\n",
    "df.columns = ['y']\n",
    "df.head()"
   ]
  },
  {
   "cell_type": "code",
   "execution_count": 47,
   "metadata": {},
   "outputs": [
    {
     "name": "stderr",
     "output_type": "stream",
     "text": [
      "/anaconda3/lib/python3.6/site-packages/statsmodels/tsa/base/tsa_model.py:171: ValueWarning: No frequency information was provided, so inferred frequency D will be used.\n",
      "  % freq, ValueWarning)\n"
     ]
    },
    {
     "name": "stdout",
     "output_type": "stream",
     "text": [
      "error =  7469.921628523252\n"
     ]
    },
    {
     "name": "stderr",
     "output_type": "stream",
     "text": [
      "/anaconda3/lib/python3.6/site-packages/statsmodels/tsa/base/tsa_model.py:171: ValueWarning: No frequency information was provided, so inferred frequency D will be used.\n",
      "  % freq, ValueWarning)\n"
     ]
    },
    {
     "name": "stdout",
     "output_type": "stream",
     "text": [
      "error =  7508.323137462976\n"
     ]
    },
    {
     "name": "stderr",
     "output_type": "stream",
     "text": [
      "/anaconda3/lib/python3.6/site-packages/statsmodels/tsa/base/tsa_model.py:171: ValueWarning: No frequency information was provided, so inferred frequency D will be used.\n",
      "  % freq, ValueWarning)\n"
     ]
    },
    {
     "name": "stdout",
     "output_type": "stream",
     "text": [
      "error =  9563.310797410128\n"
     ]
    },
    {
     "name": "stderr",
     "output_type": "stream",
     "text": [
      "/anaconda3/lib/python3.6/site-packages/statsmodels/tsa/base/tsa_model.py:171: ValueWarning: No frequency information was provided, so inferred frequency D will be used.\n",
      "  % freq, ValueWarning)\n"
     ]
    },
    {
     "name": "stdout",
     "output_type": "stream",
     "text": [
      "error =  9564.712845635277\n"
     ]
    },
    {
     "name": "stderr",
     "output_type": "stream",
     "text": [
      "/anaconda3/lib/python3.6/site-packages/statsmodels/tsa/base/tsa_model.py:171: ValueWarning: No frequency information was provided, so inferred frequency D will be used.\n",
      "  % freq, ValueWarning)\n"
     ]
    },
    {
     "name": "stdout",
     "output_type": "stream",
     "text": [
      "error =  7323.462501352966\n"
     ]
    },
    {
     "name": "stderr",
     "output_type": "stream",
     "text": [
      "/anaconda3/lib/python3.6/site-packages/statsmodels/tsa/base/tsa_model.py:171: ValueWarning: No frequency information was provided, so inferred frequency D will be used.\n",
      "  % freq, ValueWarning)\n"
     ]
    },
    {
     "name": "stdout",
     "output_type": "stream",
     "text": [
      "error =  7358.892270395762\n"
     ]
    },
    {
     "name": "stderr",
     "output_type": "stream",
     "text": [
      "/anaconda3/lib/python3.6/site-packages/statsmodels/tsa/base/tsa_model.py:171: ValueWarning: No frequency information was provided, so inferred frequency D will be used.\n",
      "  % freq, ValueWarning)\n"
     ]
    },
    {
     "name": "stdout",
     "output_type": "stream",
     "text": [
      "error =  14237.749526362602\n"
     ]
    },
    {
     "name": "stderr",
     "output_type": "stream",
     "text": [
      "/anaconda3/lib/python3.6/site-packages/statsmodels/tsa/base/tsa_model.py:171: ValueWarning: No frequency information was provided, so inferred frequency D will be used.\n",
      "  % freq, ValueWarning)\n"
     ]
    },
    {
     "name": "stdout",
     "output_type": "stream",
     "text": [
      "error =  14271.328840629581\n"
     ]
    },
    {
     "name": "stderr",
     "output_type": "stream",
     "text": [
      "/anaconda3/lib/python3.6/site-packages/statsmodels/tsa/base/tsa_model.py:171: ValueWarning: No frequency information was provided, so inferred frequency D will be used.\n",
      "  % freq, ValueWarning)\n"
     ]
    },
    {
     "name": "stdout",
     "output_type": "stream",
     "text": [
      "error =  13558.861012113673\n"
     ]
    },
    {
     "name": "stderr",
     "output_type": "stream",
     "text": [
      "/anaconda3/lib/python3.6/site-packages/statsmodels/tsa/base/tsa_model.py:171: ValueWarning: No frequency information was provided, so inferred frequency D will be used.\n",
      "  % freq, ValueWarning)\n"
     ]
    },
    {
     "name": "stdout",
     "output_type": "stream",
     "text": [
      "error =  13566.184124091635\n"
     ]
    },
    {
     "name": "stderr",
     "output_type": "stream",
     "text": [
      "/anaconda3/lib/python3.6/site-packages/statsmodels/tsa/base/tsa_model.py:171: ValueWarning: No frequency information was provided, so inferred frequency D will be used.\n",
      "  % freq, ValueWarning)\n"
     ]
    },
    {
     "name": "stdout",
     "output_type": "stream",
     "text": [
      "error =  13676.199125713381\n"
     ]
    },
    {
     "name": "stderr",
     "output_type": "stream",
     "text": [
      "/anaconda3/lib/python3.6/site-packages/statsmodels/tsa/base/tsa_model.py:171: ValueWarning: No frequency information was provided, so inferred frequency D will be used.\n",
      "  % freq, ValueWarning)\n"
     ]
    },
    {
     "name": "stdout",
     "output_type": "stream",
     "text": [
      "error =  13676.28515049344\n"
     ]
    },
    {
     "name": "stderr",
     "output_type": "stream",
     "text": [
      "/anaconda3/lib/python3.6/site-packages/statsmodels/tsa/base/tsa_model.py:171: ValueWarning: No frequency information was provided, so inferred frequency D will be used.\n",
      "  % freq, ValueWarning)\n"
     ]
    },
    {
     "name": "stdout",
     "output_type": "stream",
     "text": [
      "error =  8221.44792391713\n"
     ]
    },
    {
     "name": "stderr",
     "output_type": "stream",
     "text": [
      "/anaconda3/lib/python3.6/site-packages/statsmodels/tsa/base/tsa_model.py:171: ValueWarning: No frequency information was provided, so inferred frequency D will be used.\n",
      "  % freq, ValueWarning)\n"
     ]
    },
    {
     "name": "stdout",
     "output_type": "stream",
     "text": [
      "error =  8225.971053833982\n"
     ]
    },
    {
     "name": "stderr",
     "output_type": "stream",
     "text": [
      "/anaconda3/lib/python3.6/site-packages/statsmodels/tsa/base/tsa_model.py:171: ValueWarning: No frequency information was provided, so inferred frequency D will be used.\n",
      "  % freq, ValueWarning)\n"
     ]
    },
    {
     "name": "stdout",
     "output_type": "stream",
     "text": [
      "error =  10282.059288237595\n"
     ]
    },
    {
     "name": "stderr",
     "output_type": "stream",
     "text": [
      "/anaconda3/lib/python3.6/site-packages/statsmodels/tsa/base/tsa_model.py:171: ValueWarning: No frequency information was provided, so inferred frequency D will be used.\n",
      "  % freq, ValueWarning)\n"
     ]
    },
    {
     "name": "stdout",
     "output_type": "stream",
     "text": [
      "error =  10282.176766500674\n"
     ]
    },
    {
     "name": "stderr",
     "output_type": "stream",
     "text": [
      "/anaconda3/lib/python3.6/site-packages/statsmodels/tsa/base/tsa_model.py:171: ValueWarning: No frequency information was provided, so inferred frequency D will be used.\n",
      "  % freq, ValueWarning)\n"
     ]
    },
    {
     "name": "stdout",
     "output_type": "stream",
     "text": [
      "error =  7389.375539418955\n"
     ]
    },
    {
     "name": "stderr",
     "output_type": "stream",
     "text": [
      "/anaconda3/lib/python3.6/site-packages/statsmodels/tsa/base/tsa_model.py:171: ValueWarning: No frequency information was provided, so inferred frequency D will be used.\n",
      "  % freq, ValueWarning)\n"
     ]
    },
    {
     "name": "stdout",
     "output_type": "stream",
     "text": [
      "error =  7399.011610530934\n"
     ]
    },
    {
     "name": "stderr",
     "output_type": "stream",
     "text": [
      "/anaconda3/lib/python3.6/site-packages/statsmodels/tsa/base/tsa_model.py:171: ValueWarning: No frequency information was provided, so inferred frequency D will be used.\n",
      "  % freq, ValueWarning)\n"
     ]
    },
    {
     "name": "stdout",
     "output_type": "stream",
     "text": [
      "error =  7815.165131378179\n"
     ]
    },
    {
     "name": "stderr",
     "output_type": "stream",
     "text": [
      "/anaconda3/lib/python3.6/site-packages/statsmodels/tsa/base/tsa_model.py:171: ValueWarning: No frequency information was provided, so inferred frequency D will be used.\n",
      "  % freq, ValueWarning)\n"
     ]
    },
    {
     "name": "stdout",
     "output_type": "stream",
     "text": [
      "error =  7815.165917828248\n"
     ]
    },
    {
     "name": "stderr",
     "output_type": "stream",
     "text": [
      "/anaconda3/lib/python3.6/site-packages/statsmodels/tsa/base/tsa_model.py:171: ValueWarning: No frequency information was provided, so inferred frequency D will be used.\n",
      "  % freq, ValueWarning)\n"
     ]
    },
    {
     "name": "stdout",
     "output_type": "stream",
     "text": [
      "error =  13616.67151552888\n"
     ]
    },
    {
     "name": "stderr",
     "output_type": "stream",
     "text": [
      "/anaconda3/lib/python3.6/site-packages/statsmodels/tsa/base/tsa_model.py:171: ValueWarning: No frequency information was provided, so inferred frequency D will be used.\n",
      "  % freq, ValueWarning)\n"
     ]
    },
    {
     "name": "stdout",
     "output_type": "stream",
     "text": [
      "error =  13624.069201422883\n"
     ]
    },
    {
     "name": "stderr",
     "output_type": "stream",
     "text": [
      "/anaconda3/lib/python3.6/site-packages/statsmodels/tsa/base/tsa_model.py:171: ValueWarning: No frequency information was provided, so inferred frequency D will be used.\n",
      "  % freq, ValueWarning)\n"
     ]
    },
    {
     "name": "stdout",
     "output_type": "stream",
     "text": [
      "error =  13714.995961841598\n"
     ]
    },
    {
     "name": "stderr",
     "output_type": "stream",
     "text": [
      "/anaconda3/lib/python3.6/site-packages/statsmodels/tsa/base/tsa_model.py:171: ValueWarning: No frequency information was provided, so inferred frequency D will be used.\n",
      "  % freq, ValueWarning)\n"
     ]
    },
    {
     "name": "stdout",
     "output_type": "stream",
     "text": [
      "error =  13714.995961862302\n"
     ]
    },
    {
     "name": "stderr",
     "output_type": "stream",
     "text": [
      "/anaconda3/lib/python3.6/site-packages/statsmodels/tsa/base/tsa_model.py:171: ValueWarning: No frequency information was provided, so inferred frequency D will be used.\n",
      "  % freq, ValueWarning)\n"
     ]
    },
    {
     "name": "stdout",
     "output_type": "stream",
     "text": [
      "error =  40626.22830593509\n"
     ]
    },
    {
     "name": "stderr",
     "output_type": "stream",
     "text": [
      "/anaconda3/lib/python3.6/site-packages/statsmodels/tsa/base/tsa_model.py:171: ValueWarning: No frequency information was provided, so inferred frequency D will be used.\n",
      "  % freq, ValueWarning)\n"
     ]
    },
    {
     "name": "stdout",
     "output_type": "stream",
     "text": [
      "error =  41047.21064411516\n"
     ]
    },
    {
     "name": "stderr",
     "output_type": "stream",
     "text": [
      "/anaconda3/lib/python3.6/site-packages/statsmodels/tsa/base/tsa_model.py:171: ValueWarning: No frequency information was provided, so inferred frequency D will be used.\n",
      "  % freq, ValueWarning)\n"
     ]
    },
    {
     "name": "stdout",
     "output_type": "stream",
     "text": [
      "error =  13132.203446542619\n"
     ]
    },
    {
     "name": "stderr",
     "output_type": "stream",
     "text": [
      "/anaconda3/lib/python3.6/site-packages/statsmodels/tsa/base/tsa_model.py:171: ValueWarning: No frequency information was provided, so inferred frequency D will be used.\n",
      "  % freq, ValueWarning)\n"
     ]
    },
    {
     "name": "stdout",
     "output_type": "stream",
     "text": [
      "error =  13133.045632357773\n"
     ]
    },
    {
     "name": "stderr",
     "output_type": "stream",
     "text": [
      "/anaconda3/lib/python3.6/site-packages/statsmodels/tsa/base/tsa_model.py:171: ValueWarning: No frequency information was provided, so inferred frequency D will be used.\n",
      "  % freq, ValueWarning)\n"
     ]
    },
    {
     "name": "stdout",
     "output_type": "stream",
     "text": [
      "error =  7326.569774540481\n"
     ]
    },
    {
     "name": "stderr",
     "output_type": "stream",
     "text": [
      "/anaconda3/lib/python3.6/site-packages/statsmodels/tsa/base/tsa_model.py:171: ValueWarning: No frequency information was provided, so inferred frequency D will be used.\n",
      "  % freq, ValueWarning)\n"
     ]
    },
    {
     "name": "stdout",
     "output_type": "stream",
     "text": [
      "error =  7359.541630180073\n"
     ]
    },
    {
     "name": "stderr",
     "output_type": "stream",
     "text": [
      "/anaconda3/lib/python3.6/site-packages/statsmodels/tsa/base/tsa_model.py:171: ValueWarning: No frequency information was provided, so inferred frequency D will be used.\n",
      "  % freq, ValueWarning)\n",
      "/anaconda3/lib/python3.6/site-packages/statsmodels/tsa/holtwinters.py:182: RuntimeWarning: invalid value encountered in double_scalars\n",
      "  (alphac * (l[i - 1] * b[i - 1]**phi))\n",
      "/anaconda3/lib/python3.6/site-packages/statsmodels/tsa/holtwinters.py:183: RuntimeWarning: invalid value encountered in double_scalars\n",
      "  b[i] = (beta * (l[i] / l[i - 1])) + (betac * b[i - 1]**phi)\n",
      "/anaconda3/lib/python3.6/site-packages/statsmodels/tsa/holtwinters.py:185: RuntimeWarning: invalid value encountered in double_scalars\n",
      "  b[i - 1]**phi)) + (gammac * s[i - 1])\n",
      "/anaconda3/lib/python3.6/site-packages/statsmodels/tsa/holtwinters.py:186: RuntimeWarning: invalid value encountered in power\n",
      "  return sqeuclidean((l * b**phi) * s[:-(m - 1)], y)\n",
      "/anaconda3/lib/python3.6/site-packages/statsmodels/tsa/holtwinters.py:670: RuntimeWarning: invalid value encountered in power\n",
      "  (alphac * trended(l[i - 1], dampen(b[i - 1], phi)))\n",
      "/anaconda3/lib/python3.6/site-packages/statsmodels/tsa/holtwinters.py:673: RuntimeWarning: invalid value encountered in power\n",
      "  (betac * dampen(b[i - 1], phi))\n",
      "/anaconda3/lib/python3.6/site-packages/statsmodels/tsa/holtwinters.py:675: RuntimeWarning: invalid value encountered in power\n",
      "  trended(l[i - 1], dampen(b[i - 1], phi)) + \\\n",
      "/anaconda3/lib/python3.6/site-packages/statsmodels/tsa/holtwinters.py:681: RuntimeWarning: invalid value encountered in power\n",
      "  b[:i] = dampen(b[:i], phi)\n",
      "/anaconda3/lib/python3.6/site-packages/statsmodels/tsa/base/tsa_model.py:171: ValueWarning: No frequency information was provided, so inferred frequency D will be used.\n",
      "  % freq, ValueWarning)\n",
      "/anaconda3/lib/python3.6/site-packages/statsmodels/tsa/holtwinters.py:182: RuntimeWarning: invalid value encountered in double_scalars\n",
      "  (alphac * (l[i - 1] * b[i - 1]**phi))\n",
      "/anaconda3/lib/python3.6/site-packages/statsmodels/tsa/holtwinters.py:183: RuntimeWarning: invalid value encountered in double_scalars\n",
      "  b[i] = (beta * (l[i] / l[i - 1])) + (betac * b[i - 1]**phi)\n",
      "/anaconda3/lib/python3.6/site-packages/statsmodels/tsa/holtwinters.py:185: RuntimeWarning: invalid value encountered in double_scalars\n",
      "  b[i - 1]**phi)) + (gammac * s[i - 1])\n",
      "/anaconda3/lib/python3.6/site-packages/statsmodels/tsa/holtwinters.py:186: RuntimeWarning: invalid value encountered in power\n",
      "  return sqeuclidean((l * b**phi) * s[:-(m - 1)], y)\n",
      "/anaconda3/lib/python3.6/site-packages/statsmodels/tsa/holtwinters.py:670: RuntimeWarning: invalid value encountered in power\n",
      "  (alphac * trended(l[i - 1], dampen(b[i - 1], phi)))\n",
      "/anaconda3/lib/python3.6/site-packages/statsmodels/tsa/holtwinters.py:673: RuntimeWarning: invalid value encountered in power\n",
      "  (betac * dampen(b[i - 1], phi))\n",
      "/anaconda3/lib/python3.6/site-packages/statsmodels/tsa/holtwinters.py:675: RuntimeWarning: invalid value encountered in power\n",
      "  trended(l[i - 1], dampen(b[i - 1], phi)) + \\\n",
      "/anaconda3/lib/python3.6/site-packages/statsmodels/tsa/holtwinters.py:681: RuntimeWarning: invalid value encountered in power\n",
      "  b[:i] = dampen(b[:i], phi)\n",
      "/anaconda3/lib/python3.6/site-packages/statsmodels/tsa/base/tsa_model.py:171: ValueWarning: No frequency information was provided, so inferred frequency D will be used.\n",
      "  % freq, ValueWarning)\n"
     ]
    },
    {
     "name": "stdout",
     "output_type": "stream",
     "text": [
      "error =  13558.818970941515\n"
     ]
    },
    {
     "name": "stderr",
     "output_type": "stream",
     "text": [
      "/anaconda3/lib/python3.6/site-packages/statsmodels/tsa/base/tsa_model.py:171: ValueWarning: No frequency information was provided, so inferred frequency D will be used.\n",
      "  % freq, ValueWarning)\n"
     ]
    },
    {
     "name": "stdout",
     "output_type": "stream",
     "text": [
      "error =  13566.159761706622\n"
     ]
    },
    {
     "name": "stderr",
     "output_type": "stream",
     "text": [
      "/anaconda3/lib/python3.6/site-packages/statsmodels/tsa/base/tsa_model.py:171: ValueWarning: No frequency information was provided, so inferred frequency D will be used.\n",
      "  % freq, ValueWarning)\n"
     ]
    },
    {
     "name": "stdout",
     "output_type": "stream",
     "text": [
      "error =  13676.415650786312\n"
     ]
    },
    {
     "name": "stderr",
     "output_type": "stream",
     "text": [
      "/anaconda3/lib/python3.6/site-packages/statsmodels/tsa/base/tsa_model.py:171: ValueWarning: No frequency information was provided, so inferred frequency D will be used.\n",
      "  % freq, ValueWarning)\n"
     ]
    },
    {
     "name": "stdout",
     "output_type": "stream",
     "text": [
      "error =  13676.495938646594\n"
     ]
    },
    {
     "name": "stderr",
     "output_type": "stream",
     "text": [
      "/anaconda3/lib/python3.6/site-packages/statsmodels/tsa/base/tsa_model.py:171: ValueWarning: No frequency information was provided, so inferred frequency D will be used.\n",
      "  % freq, ValueWarning)\n"
     ]
    },
    {
     "name": "stdout",
     "output_type": "stream",
     "text": [
      "error =  40704.32085475591\n"
     ]
    },
    {
     "name": "stderr",
     "output_type": "stream",
     "text": [
      "/anaconda3/lib/python3.6/site-packages/statsmodels/tsa/base/tsa_model.py:171: ValueWarning: No frequency information was provided, so inferred frequency D will be used.\n",
      "  % freq, ValueWarning)\n"
     ]
    },
    {
     "name": "stdout",
     "output_type": "stream",
     "text": [
      "error =  41149.86712676566\n"
     ]
    },
    {
     "name": "stderr",
     "output_type": "stream",
     "text": [
      "/anaconda3/lib/python3.6/site-packages/statsmodels/tsa/base/tsa_model.py:171: ValueWarning: No frequency information was provided, so inferred frequency D will be used.\n",
      "  % freq, ValueWarning)\n"
     ]
    },
    {
     "name": "stdout",
     "output_type": "stream",
     "text": [
      "error =  14773.291312741827\n"
     ]
    },
    {
     "name": "stderr",
     "output_type": "stream",
     "text": [
      "/anaconda3/lib/python3.6/site-packages/statsmodels/tsa/base/tsa_model.py:171: ValueWarning: No frequency information was provided, so inferred frequency D will be used.\n",
      "  % freq, ValueWarning)\n"
     ]
    },
    {
     "name": "stdout",
     "output_type": "stream",
     "text": [
      "error =  14780.508697329884\n"
     ]
    },
    {
     "name": "stderr",
     "output_type": "stream",
     "text": [
      "/anaconda3/lib/python3.6/site-packages/statsmodels/tsa/base/tsa_model.py:171: ValueWarning: No frequency information was provided, so inferred frequency D will be used.\n",
      "  % freq, ValueWarning)\n"
     ]
    },
    {
     "name": "stdout",
     "output_type": "stream",
     "text": [
      "error =  23242.944567223556\n"
     ]
    },
    {
     "name": "stderr",
     "output_type": "stream",
     "text": [
      "/anaconda3/lib/python3.6/site-packages/statsmodels/tsa/base/tsa_model.py:171: ValueWarning: No frequency information was provided, so inferred frequency D will be used.\n",
      "  % freq, ValueWarning)\n"
     ]
    },
    {
     "name": "stdout",
     "output_type": "stream",
     "text": [
      "error =  23356.27006046149\n"
     ]
    },
    {
     "name": "stderr",
     "output_type": "stream",
     "text": [
      "/anaconda3/lib/python3.6/site-packages/statsmodels/tsa/base/tsa_model.py:171: ValueWarning: No frequency information was provided, so inferred frequency D will be used.\n",
      "  % freq, ValueWarning)\n"
     ]
    },
    {
     "name": "stdout",
     "output_type": "stream",
     "text": [
      "error =  17217.26418703956\n"
     ]
    },
    {
     "name": "stderr",
     "output_type": "stream",
     "text": [
      "/anaconda3/lib/python3.6/site-packages/statsmodels/tsa/base/tsa_model.py:171: ValueWarning: No frequency information was provided, so inferred frequency D will be used.\n",
      "  % freq, ValueWarning)\n"
     ]
    },
    {
     "name": "stdout",
     "output_type": "stream",
     "text": [
      "error =  17347.85645076463\n"
     ]
    },
    {
     "name": "stderr",
     "output_type": "stream",
     "text": [
      "/anaconda3/lib/python3.6/site-packages/statsmodels/tsa/base/tsa_model.py:171: ValueWarning: No frequency information was provided, so inferred frequency D will be used.\n",
      "  % freq, ValueWarning)\n"
     ]
    },
    {
     "name": "stdout",
     "output_type": "stream",
     "text": [
      "error =  13600.96696572262\n"
     ]
    },
    {
     "name": "stderr",
     "output_type": "stream",
     "text": [
      "/anaconda3/lib/python3.6/site-packages/statsmodels/tsa/base/tsa_model.py:171: ValueWarning: No frequency information was provided, so inferred frequency D will be used.\n",
      "  % freq, ValueWarning)\n"
     ]
    },
    {
     "name": "stdout",
     "output_type": "stream",
     "text": [
      "error =  13615.045056956234\n"
     ]
    },
    {
     "name": "stderr",
     "output_type": "stream",
     "text": [
      "/anaconda3/lib/python3.6/site-packages/statsmodels/tsa/base/tsa_model.py:171: ValueWarning: No frequency information was provided, so inferred frequency D will be used.\n",
      "  % freq, ValueWarning)\n",
      "/anaconda3/lib/python3.6/site-packages/statsmodels/tsa/holtwinters.py:70: RuntimeWarning: divide by zero encountered in double_scalars\n",
      "  b[i] = (beta * (l[i] / l[i - 1])) + (betac * b[i - 1]**phi)\n",
      "/anaconda3/lib/python3.6/site-packages/statsmodels/tsa/holtwinters.py:70: RuntimeWarning: invalid value encountered in double_scalars\n",
      "  b[i] = (beta * (l[i] / l[i - 1])) + (betac * b[i - 1]**phi)\n",
      "/anaconda3/lib/python3.6/site-packages/statsmodels/tsa/base/tsa_model.py:171: ValueWarning: No frequency information was provided, so inferred frequency D will be used.\n",
      "  % freq, ValueWarning)\n"
     ]
    },
    {
     "name": "stdout",
     "output_type": "stream",
     "text": [
      "error =  13660.81821447707\n"
     ]
    },
    {
     "name": "stderr",
     "output_type": "stream",
     "text": [
      "/anaconda3/lib/python3.6/site-packages/statsmodels/tsa/holtwinters.py:70: RuntimeWarning: divide by zero encountered in double_scalars\n",
      "  b[i] = (beta * (l[i] / l[i - 1])) + (betac * b[i - 1]**phi)\n",
      "/anaconda3/lib/python3.6/site-packages/statsmodels/tsa/holtwinters.py:70: RuntimeWarning: invalid value encountered in double_scalars\n",
      "  b[i] = (beta * (l[i] / l[i - 1])) + (betac * b[i - 1]**phi)\n",
      "/anaconda3/lib/python3.6/site-packages/statsmodels/tsa/base/tsa_model.py:171: ValueWarning: No frequency information was provided, so inferred frequency D will be used.\n",
      "  % freq, ValueWarning)\n",
      "/anaconda3/lib/python3.6/site-packages/statsmodels/tsa/base/tsa_model.py:171: ValueWarning: No frequency information was provided, so inferred frequency D will be used.\n",
      "  % freq, ValueWarning)\n",
      "/anaconda3/lib/python3.6/site-packages/statsmodels/tsa/base/tsa_model.py:171: ValueWarning: No frequency information was provided, so inferred frequency D will be used.\n",
      "  % freq, ValueWarning)\n",
      "/anaconda3/lib/python3.6/site-packages/statsmodels/tsa/base/tsa_model.py:171: ValueWarning: No frequency information was provided, so inferred frequency D will be used.\n",
      "  % freq, ValueWarning)\n",
      "/anaconda3/lib/python3.6/site-packages/statsmodels/tsa/base/tsa_model.py:171: ValueWarning: No frequency information was provided, so inferred frequency D will be used.\n",
      "  % freq, ValueWarning)\n",
      "/anaconda3/lib/python3.6/site-packages/statsmodels/tsa/base/tsa_model.py:171: ValueWarning: No frequency information was provided, so inferred frequency D will be used.\n",
      "  % freq, ValueWarning)\n",
      "/anaconda3/lib/python3.6/site-packages/statsmodels/tsa/base/tsa_model.py:171: ValueWarning: No frequency information was provided, so inferred frequency D will be used.\n",
      "  % freq, ValueWarning)\n",
      "/anaconda3/lib/python3.6/site-packages/statsmodels/tsa/base/tsa_model.py:171: ValueWarning: No frequency information was provided, so inferred frequency D will be used.\n",
      "  % freq, ValueWarning)\n",
      "/anaconda3/lib/python3.6/site-packages/statsmodels/tsa/base/tsa_model.py:171: ValueWarning: No frequency information was provided, so inferred frequency D will be used.\n",
      "  % freq, ValueWarning)\n",
      "/anaconda3/lib/python3.6/site-packages/statsmodels/tsa/base/tsa_model.py:171: ValueWarning: No frequency information was provided, so inferred frequency D will be used.\n",
      "  % freq, ValueWarning)\n",
      "/anaconda3/lib/python3.6/site-packages/statsmodels/tsa/base/tsa_model.py:171: ValueWarning: No frequency information was provided, so inferred frequency D will be used.\n",
      "  % freq, ValueWarning)\n",
      "/anaconda3/lib/python3.6/site-packages/statsmodels/tsa/base/tsa_model.py:171: ValueWarning: No frequency information was provided, so inferred frequency D will be used.\n",
      "  % freq, ValueWarning)\n",
      "/anaconda3/lib/python3.6/site-packages/statsmodels/tsa/base/tsa_model.py:171: ValueWarning: No frequency information was provided, so inferred frequency D will be used.\n",
      "  % freq, ValueWarning)\n"
     ]
    },
    {
     "name": "stdout",
     "output_type": "stream",
     "text": [
      "error =  13806.56825553948\n",
      "error =  7468.076954824886\n"
     ]
    },
    {
     "name": "stderr",
     "output_type": "stream",
     "text": [
      "/anaconda3/lib/python3.6/site-packages/statsmodels/tsa/base/tsa_model.py:171: ValueWarning: No frequency information was provided, so inferred frequency D will be used.\n",
      "  % freq, ValueWarning)\n"
     ]
    },
    {
     "name": "stdout",
     "output_type": "stream",
     "text": [
      "error =  7506.011621433578\n"
     ]
    },
    {
     "name": "stderr",
     "output_type": "stream",
     "text": [
      "/anaconda3/lib/python3.6/site-packages/statsmodels/tsa/base/tsa_model.py:171: ValueWarning: No frequency information was provided, so inferred frequency D will be used.\n",
      "  % freq, ValueWarning)\n"
     ]
    },
    {
     "name": "stdout",
     "output_type": "stream",
     "text": [
      "error =  8073.597503337528\n"
     ]
    },
    {
     "name": "stderr",
     "output_type": "stream",
     "text": [
      "/anaconda3/lib/python3.6/site-packages/statsmodels/tsa/base/tsa_model.py:171: ValueWarning: No frequency information was provided, so inferred frequency D will be used.\n",
      "  % freq, ValueWarning)\n"
     ]
    },
    {
     "name": "stdout",
     "output_type": "stream",
     "text": [
      "error =  8074.7340967839145\n"
     ]
    },
    {
     "name": "stderr",
     "output_type": "stream",
     "text": [
      "/anaconda3/lib/python3.6/site-packages/statsmodels/tsa/base/tsa_model.py:171: ValueWarning: No frequency information was provided, so inferred frequency D will be used.\n",
      "  % freq, ValueWarning)\n"
     ]
    },
    {
     "name": "stdout",
     "output_type": "stream",
     "text": [
      "error =  7323.461841609523\n"
     ]
    },
    {
     "name": "stderr",
     "output_type": "stream",
     "text": [
      "/anaconda3/lib/python3.6/site-packages/statsmodels/tsa/base/tsa_model.py:171: ValueWarning: No frequency information was provided, so inferred frequency D will be used.\n",
      "  % freq, ValueWarning)\n"
     ]
    },
    {
     "name": "stdout",
     "output_type": "stream",
     "text": [
      "error =  7358.891386477097\n"
     ]
    },
    {
     "name": "stderr",
     "output_type": "stream",
     "text": [
      "/anaconda3/lib/python3.6/site-packages/statsmodels/tsa/base/tsa_model.py:171: ValueWarning: No frequency information was provided, so inferred frequency D will be used.\n",
      "  % freq, ValueWarning)\n"
     ]
    },
    {
     "name": "stdout",
     "output_type": "stream",
     "text": [
      "error =  14094.127610513851\n"
     ]
    },
    {
     "name": "stderr",
     "output_type": "stream",
     "text": [
      "/anaconda3/lib/python3.6/site-packages/statsmodels/tsa/base/tsa_model.py:171: ValueWarning: No frequency information was provided, so inferred frequency D will be used.\n",
      "  % freq, ValueWarning)\n"
     ]
    },
    {
     "name": "stdout",
     "output_type": "stream",
     "text": [
      "error =  14132.647039886562\n",
      "error =  13612.555926995394\n",
      "error =  13621.650239231883\n",
      "error =  13714.996161122823\n",
      "error =  13715.042258557414\n"
     ]
    },
    {
     "name": "stderr",
     "output_type": "stream",
     "text": [
      "/anaconda3/lib/python3.6/site-packages/statsmodels/tsa/base/tsa_model.py:171: ValueWarning: No frequency information was provided, so inferred frequency D will be used.\n",
      "  % freq, ValueWarning)\n",
      "/anaconda3/lib/python3.6/site-packages/statsmodels/tsa/base/tsa_model.py:171: ValueWarning: No frequency information was provided, so inferred frequency D will be used.\n",
      "  % freq, ValueWarning)\n",
      "/anaconda3/lib/python3.6/site-packages/statsmodels/tsa/base/tsa_model.py:171: ValueWarning: No frequency information was provided, so inferred frequency D will be used.\n",
      "  % freq, ValueWarning)\n",
      "/anaconda3/lib/python3.6/site-packages/statsmodels/tsa/base/tsa_model.py:171: ValueWarning: No frequency information was provided, so inferred frequency D will be used.\n",
      "  % freq, ValueWarning)\n",
      "/anaconda3/lib/python3.6/site-packages/statsmodels/tsa/base/tsa_model.py:171: ValueWarning: No frequency information was provided, so inferred frequency D will be used.\n",
      "  % freq, ValueWarning)\n"
     ]
    },
    {
     "name": "stdout",
     "output_type": "stream",
     "text": [
      "None\n"
     ]
    },
    {
     "data": {
      "text/plain": [
       "2016-01-01    479.299085\n",
       "2016-01-02    439.696443\n",
       "2016-01-03    445.563495\n",
       "2016-01-04    568.284629\n",
       "2016-01-05    622.117551\n",
       "2016-01-06    665.137254\n",
       "2016-01-07    668.699326\n",
       "2016-01-08    658.993539\n",
       "2016-01-09    660.554027\n",
       "2016-01-10    633.795178\n",
       "2016-01-11    744.458028\n",
       "2016-01-12    764.982082\n",
       "2016-01-13    730.734427\n",
       "2016-01-14    704.920032\n",
       "2016-01-15    650.461837\n",
       "2016-01-16    605.065227\n",
       "2016-01-17    608.664685\n",
       "2016-01-18    714.204819\n",
       "2016-01-19    731.226987\n",
       "2016-01-20    675.571379\n",
       "2016-01-21    658.146330\n",
       "2016-01-22    636.789542\n",
       "2016-01-23    591.222838\n",
       "2016-01-24    594.740489\n",
       "2016-01-25    668.579546\n",
       "2016-01-26    685.926258\n",
       "2016-01-27    707.764414\n",
       "2016-01-28    701.139112\n",
       "2016-01-29    696.395503\n",
       "2016-01-30    631.828667\n",
       "                 ...    \n",
       "2019-09-16    592.856995\n",
       "2019-09-17    592.856995\n",
       "2019-09-18    592.856995\n",
       "2019-09-19    592.856995\n",
       "2019-09-20    592.856995\n",
       "2019-09-21    592.856995\n",
       "2019-09-22    592.856995\n",
       "2019-09-23    592.856995\n",
       "2019-09-24    592.856995\n",
       "2019-09-25    592.856995\n",
       "2019-09-26    592.856995\n",
       "2019-09-27    592.856995\n",
       "2019-09-28    592.856995\n",
       "2019-09-29    592.856995\n",
       "2019-09-30    592.856995\n",
       "2019-10-01    592.856995\n",
       "2019-10-02    592.856995\n",
       "2019-10-03    592.856995\n",
       "2019-10-04    592.856995\n",
       "2019-10-05    592.856995\n",
       "2019-10-06    592.856995\n",
       "2019-10-07    592.856995\n",
       "2019-10-08    592.856995\n",
       "2019-10-09    592.856995\n",
       "2019-10-10    592.856995\n",
       "2019-10-11    592.856995\n",
       "2019-10-12    592.856995\n",
       "2019-10-13    592.856995\n",
       "2019-10-14    592.856995\n",
       "2019-10-15    592.856995\n",
       "Length: 1384, dtype: float64"
      ]
     },
     "execution_count": 47,
     "metadata": {},
     "output_type": "execute_result"
    }
   ],
   "source": [
    "HWFxn(df, 365)"
   ]
  },
  {
   "cell_type": "code",
   "execution_count": null,
   "metadata": {},
   "outputs": [],
   "source": []
  },
  {
   "cell_type": "code",
   "execution_count": 103,
   "metadata": {},
   "outputs": [],
   "source": [
    "import warnings\n",
    "import pandas as pd\n",
    "import numpy as np\n",
    "from pandas import read_csv\n",
    "from pandas import datetime\n",
    "from statsmodels.tsa.holtwinters import ExponentialSmoothing\n",
    "from sklearn.metrics import mean_squared_error\n",
    "import matplotlib.pyplot as plt\n",
    "\n",
    "def HWFxn(df, fcstdays):\n",
    "\n",
    "        series = df['y']\n",
    "    \n",
    "        # evaluate parameters\n",
    "        t_params = ['add', 'mul', None]\n",
    "        d_params = [True, False]\n",
    "        s_params = ['add', 'mul', None]\n",
    "        p_params = [365]\n",
    "        b_params = [True, False]\n",
    "        r_params = [True, False]\n",
    "           \n",
    "        best_score, best_params = float(\"inf\"), None\n",
    "        series = series.astype('double')\n",
    "        for t in t_params:\n",
    "            for d in d_params:\n",
    "                for s in s_params:\n",
    "                    for p in p_params:\n",
    "                        for b in b_params:\n",
    "                            for r in r_params:\n",
    "                                params = (t,d,s,p,b,r)\n",
    "                                try:\n",
    "                                    mse = evaluate_hw_model(series, params, fcstdays)\n",
    "                                    if mse < best_score:\n",
    "                                        best_score, best_params = mse, params\n",
    "                                    #print('HW MSE=%.3f' % (mse))\n",
    "                                    print('HW params', params)\n",
    "                                except:\n",
    "                                    continue\n",
    "        # apply model\n",
    "        model = ExponentialSmoothing(series, trend=params[0], damped=params[1], seasonal=params[2], seasonal_periods=params[3])\n",
    "        model_fit = model.fit(optimized=True, use_boxcox=params[4], remove_bias=params[5])\n",
    "        print(model_fit.summary())\n",
    "    \n",
    "        pred_fcst = model_fit.fittedvalues\n",
    "        hw_forecast = model_fit.forecast(fcstdays)\n",
    "        hw_series = pred_fcst.append(hw_forecast)\n",
    "    \n",
    "        return hw_series\n",
    "\n",
    "    \n",
    "def evaluate_hw_model(X, hw_params, fcstdays):\n",
    "    (t,d,s,p,b,r) = hw_params\n",
    "    # make predictions\n",
    "    predictions = list()\n",
    "    model = ExponentialSmoothing(X, trend=t, damped=d, seasonal=s, seasonal_periods=p)\n",
    "    model_fit = model.fit(optimized=True, use_boxcox=b, remove_bias=r)\n",
    "    predictions = model_fit.fittedvalues\n",
    "    yhat = model_fit.forecast(fcstdays)\n",
    "    # calculate out of sample error\n",
    "    error = mean_squared_error(X, predictions)\n",
    "    print('error = ', error)\n",
    "    print('hw_params = ', hw_params)\n",
    "    return error"
   ]
  },
  {
   "cell_type": "code",
   "execution_count": 104,
   "metadata": {},
   "outputs": [
    {
     "name": "stdout",
     "output_type": "stream",
     "text": [
      "error =  7469.818896496007\n",
      "hw_params =  ('add', True, 'add', 365, True, True)\n",
      "HW params ('add', True, 'add', 365, True, True)\n",
      "error =  7508.208708015873\n",
      "hw_params =  ('add', True, 'add', 365, True, False)\n",
      "HW params ('add', True, 'add', 365, True, False)\n",
      "error =  9562.550671785224\n",
      "hw_params =  ('add', True, 'add', 365, False, True)\n",
      "HW params ('add', True, 'add', 365, False, True)\n",
      "error =  9563.948457800807\n",
      "hw_params =  ('add', True, 'add', 365, False, False)\n",
      "HW params ('add', True, 'add', 365, False, False)\n",
      "error =  7323.4600987830845\n",
      "hw_params =  ('add', True, 'mul', 365, True, True)\n",
      "HW params ('add', True, 'mul', 365, True, True)\n",
      "error =  7358.889620351147\n",
      "hw_params =  ('add', True, 'mul', 365, True, False)\n",
      "HW params ('add', True, 'mul', 365, True, False)\n",
      "error =  13823.009335816427\n",
      "hw_params =  ('add', True, 'mul', 365, False, True)\n",
      "HW params ('add', True, 'mul', 365, False, True)\n",
      "error =  13874.103804797633\n",
      "hw_params =  ('add', True, 'mul', 365, False, False)\n",
      "HW params ('add', True, 'mul', 365, False, False)\n",
      "error =  13558.862055459587\n",
      "hw_params =  ('add', True, None, 365, True, True)\n",
      "HW params ('add', True, None, 365, True, True)\n",
      "error =  13566.185096119667\n",
      "hw_params =  ('add', True, None, 365, True, False)\n",
      "HW params ('add', True, None, 365, True, False)\n",
      "error =  13676.199171427905\n",
      "hw_params =  ('add', True, None, 365, False, True)\n",
      "HW params ('add', True, None, 365, False, True)\n",
      "error =  13676.28514677418\n",
      "hw_params =  ('add', True, None, 365, False, False)\n",
      "HW params ('add', True, None, 365, False, False)\n",
      "error =  8221.086993462126\n",
      "hw_params =  ('add', False, 'add', 365, True, True)\n",
      "HW params ('add', False, 'add', 365, True, True)\n",
      "error =  8225.597744413944\n",
      "hw_params =  ('add', False, 'add', 365, True, False)\n",
      "HW params ('add', False, 'add', 365, True, False)\n",
      "error =  10283.004974145944\n",
      "hw_params =  ('add', False, 'add', 365, False, True)\n",
      "HW params ('add', False, 'add', 365, False, True)\n",
      "error =  10283.122422799635\n",
      "hw_params =  ('add', False, 'add', 365, False, False)\n",
      "HW params ('add', False, 'add', 365, False, False)\n",
      "error =  7389.221079081919\n",
      "hw_params =  ('add', False, 'mul', 365, True, True)\n",
      "HW params ('add', False, 'mul', 365, True, True)\n",
      "error =  7398.857725796497\n",
      "hw_params =  ('add', False, 'mul', 365, True, False)\n",
      "HW params ('add', False, 'mul', 365, True, False)\n",
      "error =  7815.372286959516\n",
      "hw_params =  ('add', False, 'mul', 365, False, True)\n",
      "HW params ('add', False, 'mul', 365, False, True)\n",
      "error =  7815.373075191261\n",
      "hw_params =  ('add', False, 'mul', 365, False, False)\n",
      "HW params ('add', False, 'mul', 365, False, False)\n",
      "error =  13616.671797950914\n",
      "hw_params =  ('add', False, None, 365, True, True)\n",
      "HW params ('add', False, None, 365, True, True)\n",
      "error =  13624.069435653455\n",
      "hw_params =  ('add', False, None, 365, True, False)\n",
      "HW params ('add', False, None, 365, True, False)\n",
      "error =  13714.995963580732\n",
      "hw_params =  ('add', False, None, 365, False, True)\n",
      "HW params ('add', False, None, 365, False, True)\n",
      "error =  13714.99596553444\n",
      "hw_params =  ('add', False, None, 365, False, False)\n",
      "HW params ('add', False, None, 365, False, False)\n",
      "error =  14671.294902021169\n",
      "hw_params =  ('mul', True, 'add', 365, True, True)\n",
      "HW params ('mul', True, 'add', 365, True, True)\n",
      "error =  14671.388540674805\n",
      "hw_params =  ('mul', True, 'add', 365, True, False)\n",
      "HW params ('mul', True, 'add', 365, True, False)\n",
      "error =  10290.74810432263\n",
      "hw_params =  ('mul', True, 'add', 365, False, True)\n",
      "HW params ('mul', True, 'add', 365, False, True)\n",
      "error =  10292.701788884946\n",
      "hw_params =  ('mul', True, 'add', 365, False, False)\n",
      "HW params ('mul', True, 'add', 365, False, False)\n",
      "error =  7323.4596301118445\n",
      "hw_params =  ('mul', True, 'mul', 365, True, True)\n",
      "HW params ('mul', True, 'mul', 365, True, True)\n",
      "error =  7358.889225266236\n",
      "hw_params =  ('mul', True, 'mul', 365, True, False)\n",
      "HW params ('mul', True, 'mul', 365, True, False)\n",
      "error =  14334.521971042635\n",
      "hw_params =  ('mul', True, 'mul', 365, False, True)\n",
      "HW params ('mul', True, 'mul', 365, False, True)\n",
      "error =  14376.337087260414\n",
      "hw_params =  ('mul', True, 'mul', 365, False, False)\n",
      "HW params ('mul', True, 'mul', 365, False, False)\n",
      "error =  13558.819002475555\n",
      "hw_params =  ('mul', True, None, 365, True, True)\n",
      "HW params ('mul', True, None, 365, True, True)\n",
      "error =  13566.159791051063\n",
      "hw_params =  ('mul', True, None, 365, True, False)\n",
      "HW params ('mul', True, None, 365, True, False)\n",
      "error =  13676.415651731866\n",
      "hw_params =  ('mul', True, None, 365, False, True)\n",
      "HW params ('mul', True, None, 365, False, True)\n",
      "error =  13676.49593861368\n",
      "hw_params =  ('mul', True, None, 365, False, False)\n",
      "HW params ('mul', True, None, 365, False, False)\n",
      "error =  14258.9052749969\n",
      "hw_params =  ('mul', False, 'add', 365, True, True)\n",
      "HW params ('mul', False, 'add', 365, True, True)\n",
      "error =  14258.920289804408\n",
      "hw_params =  ('mul', False, 'add', 365, True, False)\n",
      "HW params ('mul', False, 'add', 365, True, False)\n",
      "error =  10555.689276806934\n",
      "hw_params =  ('mul', False, 'add', 365, False, True)\n",
      "HW params ('mul', False, 'add', 365, False, True)\n",
      "error =  10558.132393856453\n",
      "hw_params =  ('mul', False, 'add', 365, False, False)\n",
      "HW params ('mul', False, 'add', 365, False, False)\n",
      "error =  13198.920601313326\n",
      "hw_params =  ('mul', False, 'mul', 365, True, True)\n",
      "HW params ('mul', False, 'mul', 365, True, True)\n",
      "error =  13201.451511477131\n",
      "hw_params =  ('mul', False, 'mul', 365, True, False)\n",
      "HW params ('mul', False, 'mul', 365, True, False)\n",
      "error =  13890.79359138079\n",
      "hw_params =  ('mul', False, 'mul', 365, False, True)\n",
      "HW params ('mul', False, 'mul', 365, False, True)\n",
      "error =  14000.656762177183\n",
      "hw_params =  ('mul', False, 'mul', 365, False, False)\n",
      "HW params ('mul', False, 'mul', 365, False, False)\n",
      "error =  13600.967086203553\n",
      "hw_params =  ('mul', False, None, 365, True, True)\n",
      "HW params ('mul', False, None, 365, True, True)\n",
      "error =  13615.045171281849\n",
      "hw_params =  ('mul', False, None, 365, True, False)\n",
      "HW params ('mul', False, None, 365, True, False)\n",
      "error =  13660.876639375461\n",
      "hw_params =  ('mul', False, None, 365, False, True)\n",
      "HW params ('mul', False, None, 365, False, True)\n",
      "error =  13806.61985802026\n",
      "hw_params =  ('mul', False, None, 365, False, False)\n",
      "HW params ('mul', False, None, 365, False, False)\n",
      "error =  7467.873362952764\n",
      "hw_params =  (None, False, 'add', 365, True, True)\n",
      "HW params (None, False, 'add', 365, True, True)\n",
      "error =  7505.857419334129\n",
      "hw_params =  (None, False, 'add', 365, True, False)\n",
      "HW params (None, False, 'add', 365, True, False)\n",
      "error =  8052.421846431496\n",
      "hw_params =  (None, False, 'add', 365, False, True)\n",
      "HW params (None, False, 'add', 365, False, True)\n",
      "error =  8053.462783539221\n",
      "hw_params =  (None, False, 'add', 365, False, False)\n",
      "HW params (None, False, 'add', 365, False, False)\n",
      "error =  7323.4643021485745\n",
      "hw_params =  (None, False, 'mul', 365, True, True)\n",
      "HW params (None, False, 'mul', 365, True, True)\n",
      "error =  7358.89407749143\n",
      "hw_params =  (None, False, 'mul', 365, True, False)\n",
      "HW params (None, False, 'mul', 365, True, False)\n",
      "error =  14341.008161324471\n",
      "hw_params =  (None, False, 'mul', 365, False, True)\n",
      "HW params (None, False, 'mul', 365, False, True)\n",
      "error =  14371.330999606242\n",
      "hw_params =  (None, False, 'mul', 365, False, False)\n",
      "HW params (None, False, 'mul', 365, False, False)\n",
      "error =  13612.55595643174\n",
      "hw_params =  (None, False, None, 365, True, True)\n",
      "HW params (None, False, None, 365, True, True)\n",
      "error =  13621.650267015808\n",
      "hw_params =  (None, False, None, 365, True, False)\n",
      "HW params (None, False, None, 365, True, False)\n",
      "error =  13714.996092752723\n",
      "hw_params =  (None, False, None, 365, False, True)\n",
      "HW params (None, False, None, 365, False, True)\n",
      "error =  13715.042251117777\n",
      "hw_params =  (None, False, None, 365, False, False)\n",
      "HW params (None, False, None, 365, False, False)\n",
      "                       ExponentialSmoothing Model Results                       \n",
      "================================================================================\n",
      "Dep. Variable:                    endog   No. Observations:                 1019\n",
      "Model:             ExponentialSmoothing   SSE                       13975628.054\n",
      "Optimized:                         True   AIC                           9711.247\n",
      "Trend:                             None   BIC                           9721.100\n",
      "Seasonal:                          None   AICC                          9711.287\n",
      "Seasonal Periods:                  None   Date:                 Thu, 15 Nov 2018\n",
      "Box-Cox:                          False   Time:                         17:13:29\n",
      "Box-Cox Coeff.:                    None                                         \n",
      "==============================================================================\n",
      "                       coeff                 code              optimized      \n",
      "------------------------------------------------------------------------------\n",
      "smoothing_level            0.5190485                alpha                 True\n",
      "initial_level              479.22356                  l.0                 True\n",
      "------------------------------------------------------------------------------\n"
     ]
    },
    {
     "data": {
      "text/plain": [
       "2016-01-01    479.223561\n",
       "2016-01-02    439.659839\n",
       "2016-01-03    445.545932\n",
       "2016-01-04    568.277051\n",
       "2016-01-05    622.114288\n",
       "2016-01-06    665.135989\n",
       "2016-01-07    668.698743\n",
       "2016-01-08    658.993189\n",
       "2016-01-09    660.553870\n",
       "2016-01-10    633.794913\n",
       "2016-01-11    744.458684\n",
       "2016-01-12    764.982543\n",
       "2016-01-13    730.734406\n",
       "2016-01-14    704.919839\n",
       "2016-01-15    650.461359\n",
       "2016-01-16    605.064676\n",
       "2016-01-17    608.664445\n",
       "2016-01-18    714.205451\n",
       "2016-01-19    731.227411\n",
       "2016-01-20    675.571189\n",
       "2016-01-21    658.146115\n",
       "2016-01-22    636.789288\n",
       "2016-01-23    591.222393\n",
       "2016-01-24    594.740300\n",
       "2016-01-25    668.579977\n",
       "2016-01-26    685.926589\n",
       "2016-01-27    707.764728\n",
       "2016-01-28    701.139216\n",
       "2016-01-29    696.395520\n",
       "2016-01-30    631.828217\n",
       "                 ...    \n",
       "2019-09-16    592.857300\n",
       "2019-09-17    592.857300\n",
       "2019-09-18    592.857300\n",
       "2019-09-19    592.857300\n",
       "2019-09-20    592.857300\n",
       "2019-09-21    592.857300\n",
       "2019-09-22    592.857300\n",
       "2019-09-23    592.857300\n",
       "2019-09-24    592.857300\n",
       "2019-09-25    592.857300\n",
       "2019-09-26    592.857300\n",
       "2019-09-27    592.857300\n",
       "2019-09-28    592.857300\n",
       "2019-09-29    592.857300\n",
       "2019-09-30    592.857300\n",
       "2019-10-01    592.857300\n",
       "2019-10-02    592.857300\n",
       "2019-10-03    592.857300\n",
       "2019-10-04    592.857300\n",
       "2019-10-05    592.857300\n",
       "2019-10-06    592.857300\n",
       "2019-10-07    592.857300\n",
       "2019-10-08    592.857300\n",
       "2019-10-09    592.857300\n",
       "2019-10-10    592.857300\n",
       "2019-10-11    592.857300\n",
       "2019-10-12    592.857300\n",
       "2019-10-13    592.857300\n",
       "2019-10-14    592.857300\n",
       "2019-10-15    592.857300\n",
       "Length: 1384, dtype: float64"
      ]
     },
     "execution_count": 104,
     "metadata": {},
     "output_type": "execute_result"
    }
   ],
   "source": [
    "HWFxn(df, 365)"
   ]
  },
  {
   "cell_type": "code",
   "execution_count": 105,
   "metadata": {},
   "outputs": [],
   "source": [
    "import warnings\n",
    "import pandas as pd\n",
    "import numpy as np\n",
    "from pandas import read_csv\n",
    "from pandas import datetime\n",
    "from statsmodels.tsa.holtwinters import ExponentialSmoothing\n",
    "from sklearn.metrics import mean_squared_error\n",
    "import matplotlib.pyplot as plt\n",
    "\n",
    "def HWFxn(df, fcstdays):\n",
    "    \n",
    "\n",
    "        series = df['y']\n",
    "    \n",
    "        # evaluate parameters\n",
    "        t_params = ['add', 'mul', None]\n",
    "        d_params = [True, False]\n",
    "        s_params = ['add', 'mul', None]\n",
    "        p = 365\n",
    "        b_params = [True, False]\n",
    "        r_params = [True, False]\n",
    "           \n",
    "        best_score, best_params = float(\"inf\"), None\n",
    "        series = series.astype('double')\n",
    "        for t in t_params:\n",
    "            for d in d_params:\n",
    "                for s in s_params:\n",
    "                    for b in b_params:\n",
    "                        for r in r_params:\n",
    "                            params = (t,d,s,p,b,r)\n",
    "                            try:\n",
    "                                mse = evaluate_hw_model(series, params, fcstdays)\n",
    "                                if mse < best_score:\n",
    "                                    best_score, best_params = mse, params\n",
    "                                #print('HW MSE=%.3f' % (mse))\n",
    "                                print('HW params', params)\n",
    "                            except:\n",
    "                                continue\n",
    "        # apply model\n",
    "        model = ExponentialSmoothing(series, trend=best_params[0], damped=best_params[1], seasonal=best_params[2], seasonal_periods=best_params[3])\n",
    "        model_fit = model.fit(optimized=True, use_boxcox=best_params[4], remove_bias=best_params[5])\n",
    "        print(model_fit.summary())\n",
    "    \n",
    "        pred_fcst = model_fit.fittedvalues\n",
    "        hw_forecast = model_fit.forecast(fcstdays)\n",
    "        hw_series = pred_fcst.append(hw_forecast)\n",
    "    \n",
    "        return hw_series\n",
    "\n",
    "    \n",
    "def evaluate_hw_model(X, hw_params, fcstdays):\n",
    "    p = 365\n",
    "    (t,d,s,p,b,r) = hw_params\n",
    "    # make predictions\n",
    "    predictions = list()\n",
    "    model = ExponentialSmoothing(X, trend=t, damped=d, seasonal=s, seasonal_periods=365)\n",
    "    model_fit = model.fit(optimized=True, use_boxcox=b, remove_bias=r)\n",
    "    predictions = model_fit.fittedvalues\n",
    "    yhat = model_fit.forecast(fcstdays)\n",
    "    # calculate out of sample error\n",
    "    error = mean_squared_error(X, predictions)\n",
    "    print('error = ', error)\n",
    "    print('hw_params = ', hw_params)\n",
    "    return error"
   ]
  },
  {
   "cell_type": "code",
   "execution_count": 106,
   "metadata": {},
   "outputs": [
    {
     "name": "stdout",
     "output_type": "stream",
     "text": [
      "error =  7469.818896496007\n",
      "hw_params =  ('add', True, 'add', 365, True, True)\n",
      "HW params ('add', True, 'add', 365, True, True)\n",
      "error =  7508.208708015873\n",
      "hw_params =  ('add', True, 'add', 365, True, False)\n",
      "HW params ('add', True, 'add', 365, True, False)\n",
      "error =  9562.550671785224\n",
      "hw_params =  ('add', True, 'add', 365, False, True)\n",
      "HW params ('add', True, 'add', 365, False, True)\n",
      "error =  9563.948457800807\n",
      "hw_params =  ('add', True, 'add', 365, False, False)\n",
      "HW params ('add', True, 'add', 365, False, False)\n",
      "error =  7323.4600987830845\n",
      "hw_params =  ('add', True, 'mul', 365, True, True)\n",
      "HW params ('add', True, 'mul', 365, True, True)\n",
      "error =  7358.889620351147\n",
      "hw_params =  ('add', True, 'mul', 365, True, False)\n",
      "HW params ('add', True, 'mul', 365, True, False)\n",
      "error =  13823.009335816427\n",
      "hw_params =  ('add', True, 'mul', 365, False, True)\n",
      "HW params ('add', True, 'mul', 365, False, True)\n",
      "error =  13874.103804797633\n",
      "hw_params =  ('add', True, 'mul', 365, False, False)\n",
      "HW params ('add', True, 'mul', 365, False, False)\n",
      "error =  13558.862055459587\n",
      "hw_params =  ('add', True, None, 365, True, True)\n",
      "HW params ('add', True, None, 365, True, True)\n",
      "error =  13566.185096119667\n",
      "hw_params =  ('add', True, None, 365, True, False)\n",
      "HW params ('add', True, None, 365, True, False)\n",
      "error =  13676.199171427905\n",
      "hw_params =  ('add', True, None, 365, False, True)\n",
      "HW params ('add', True, None, 365, False, True)\n",
      "error =  13676.28514677418\n",
      "hw_params =  ('add', True, None, 365, False, False)\n",
      "HW params ('add', True, None, 365, False, False)\n",
      "error =  8221.086993462126\n",
      "hw_params =  ('add', False, 'add', 365, True, True)\n",
      "HW params ('add', False, 'add', 365, True, True)\n",
      "error =  8225.597744413944\n",
      "hw_params =  ('add', False, 'add', 365, True, False)\n",
      "HW params ('add', False, 'add', 365, True, False)\n",
      "error =  10283.004974145944\n",
      "hw_params =  ('add', False, 'add', 365, False, True)\n",
      "HW params ('add', False, 'add', 365, False, True)\n",
      "error =  10283.122422799635\n",
      "hw_params =  ('add', False, 'add', 365, False, False)\n",
      "HW params ('add', False, 'add', 365, False, False)\n",
      "error =  7389.221079081919\n",
      "hw_params =  ('add', False, 'mul', 365, True, True)\n",
      "HW params ('add', False, 'mul', 365, True, True)\n",
      "error =  7398.857725796497\n",
      "hw_params =  ('add', False, 'mul', 365, True, False)\n",
      "HW params ('add', False, 'mul', 365, True, False)\n",
      "error =  7815.372286959516\n",
      "hw_params =  ('add', False, 'mul', 365, False, True)\n",
      "HW params ('add', False, 'mul', 365, False, True)\n",
      "error =  7815.373075191261\n",
      "hw_params =  ('add', False, 'mul', 365, False, False)\n",
      "HW params ('add', False, 'mul', 365, False, False)\n",
      "error =  13616.671797950914\n",
      "hw_params =  ('add', False, None, 365, True, True)\n",
      "HW params ('add', False, None, 365, True, True)\n",
      "error =  13624.069435653455\n",
      "hw_params =  ('add', False, None, 365, True, False)\n",
      "HW params ('add', False, None, 365, True, False)\n",
      "error =  13714.995963580732\n",
      "hw_params =  ('add', False, None, 365, False, True)\n",
      "HW params ('add', False, None, 365, False, True)\n",
      "error =  13714.99596553444\n",
      "hw_params =  ('add', False, None, 365, False, False)\n",
      "HW params ('add', False, None, 365, False, False)\n",
      "error =  14671.294902021169\n",
      "hw_params =  ('mul', True, 'add', 365, True, True)\n",
      "HW params ('mul', True, 'add', 365, True, True)\n",
      "error =  14671.388540674805\n",
      "hw_params =  ('mul', True, 'add', 365, True, False)\n",
      "HW params ('mul', True, 'add', 365, True, False)\n",
      "error =  10290.74810432263\n",
      "hw_params =  ('mul', True, 'add', 365, False, True)\n",
      "HW params ('mul', True, 'add', 365, False, True)\n",
      "error =  10292.701788884946\n",
      "hw_params =  ('mul', True, 'add', 365, False, False)\n",
      "HW params ('mul', True, 'add', 365, False, False)\n",
      "error =  7323.4596301118445\n",
      "hw_params =  ('mul', True, 'mul', 365, True, True)\n",
      "HW params ('mul', True, 'mul', 365, True, True)\n",
      "error =  7358.889225266236\n",
      "hw_params =  ('mul', True, 'mul', 365, True, False)\n",
      "HW params ('mul', True, 'mul', 365, True, False)\n",
      "error =  14334.521971042635\n",
      "hw_params =  ('mul', True, 'mul', 365, False, True)\n",
      "HW params ('mul', True, 'mul', 365, False, True)\n",
      "error =  14376.337087260414\n",
      "hw_params =  ('mul', True, 'mul', 365, False, False)\n",
      "HW params ('mul', True, 'mul', 365, False, False)\n",
      "error =  13558.819002475555\n",
      "hw_params =  ('mul', True, None, 365, True, True)\n",
      "HW params ('mul', True, None, 365, True, True)\n",
      "error =  13566.159791051063\n",
      "hw_params =  ('mul', True, None, 365, True, False)\n",
      "HW params ('mul', True, None, 365, True, False)\n",
      "error =  13676.415651731866\n",
      "hw_params =  ('mul', True, None, 365, False, True)\n",
      "HW params ('mul', True, None, 365, False, True)\n",
      "error =  13676.49593861368\n",
      "hw_params =  ('mul', True, None, 365, False, False)\n",
      "HW params ('mul', True, None, 365, False, False)\n",
      "error =  14258.9052749969\n",
      "hw_params =  ('mul', False, 'add', 365, True, True)\n",
      "HW params ('mul', False, 'add', 365, True, True)\n",
      "error =  14258.920289804408\n",
      "hw_params =  ('mul', False, 'add', 365, True, False)\n",
      "HW params ('mul', False, 'add', 365, True, False)\n",
      "error =  10555.689276806934\n",
      "hw_params =  ('mul', False, 'add', 365, False, True)\n",
      "HW params ('mul', False, 'add', 365, False, True)\n",
      "error =  10558.132393856453\n",
      "hw_params =  ('mul', False, 'add', 365, False, False)\n",
      "HW params ('mul', False, 'add', 365, False, False)\n",
      "error =  13198.920601313326\n",
      "hw_params =  ('mul', False, 'mul', 365, True, True)\n",
      "HW params ('mul', False, 'mul', 365, True, True)\n",
      "error =  13201.451511477131\n",
      "hw_params =  ('mul', False, 'mul', 365, True, False)\n",
      "HW params ('mul', False, 'mul', 365, True, False)\n",
      "error =  13890.79359138079\n",
      "hw_params =  ('mul', False, 'mul', 365, False, True)\n",
      "HW params ('mul', False, 'mul', 365, False, True)\n",
      "error =  14000.656762177183\n",
      "hw_params =  ('mul', False, 'mul', 365, False, False)\n",
      "HW params ('mul', False, 'mul', 365, False, False)\n",
      "error =  13600.967086203553\n",
      "hw_params =  ('mul', False, None, 365, True, True)\n",
      "HW params ('mul', False, None, 365, True, True)\n",
      "error =  13615.045171281849\n",
      "hw_params =  ('mul', False, None, 365, True, False)\n",
      "HW params ('mul', False, None, 365, True, False)\n",
      "error =  13660.876639375461\n",
      "hw_params =  ('mul', False, None, 365, False, True)\n",
      "HW params ('mul', False, None, 365, False, True)\n",
      "error =  13806.61985802026\n",
      "hw_params =  ('mul', False, None, 365, False, False)\n",
      "HW params ('mul', False, None, 365, False, False)\n",
      "error =  7467.873362952764\n",
      "hw_params =  (None, False, 'add', 365, True, True)\n",
      "HW params (None, False, 'add', 365, True, True)\n",
      "error =  7505.857419334129\n",
      "hw_params =  (None, False, 'add', 365, True, False)\n",
      "HW params (None, False, 'add', 365, True, False)\n",
      "error =  8052.421846431496\n",
      "hw_params =  (None, False, 'add', 365, False, True)\n",
      "HW params (None, False, 'add', 365, False, True)\n",
      "error =  8053.462783539221\n",
      "hw_params =  (None, False, 'add', 365, False, False)\n",
      "HW params (None, False, 'add', 365, False, False)\n",
      "error =  7323.4643021485745\n",
      "hw_params =  (None, False, 'mul', 365, True, True)\n",
      "HW params (None, False, 'mul', 365, True, True)\n",
      "error =  7358.89407749143\n",
      "hw_params =  (None, False, 'mul', 365, True, False)\n",
      "HW params (None, False, 'mul', 365, True, False)\n",
      "error =  14341.008161324471\n",
      "hw_params =  (None, False, 'mul', 365, False, True)\n",
      "HW params (None, False, 'mul', 365, False, True)\n",
      "error =  14371.330999606242\n",
      "hw_params =  (None, False, 'mul', 365, False, False)\n",
      "HW params (None, False, 'mul', 365, False, False)\n",
      "error =  13612.55595643174\n",
      "hw_params =  (None, False, None, 365, True, True)\n",
      "HW params (None, False, None, 365, True, True)\n",
      "error =  13621.650267015808\n",
      "hw_params =  (None, False, None, 365, True, False)\n",
      "HW params (None, False, None, 365, True, False)\n",
      "error =  13714.996092752723\n",
      "hw_params =  (None, False, None, 365, False, True)\n",
      "HW params (None, False, None, 365, False, True)\n",
      "error =  13715.042251117777\n",
      "hw_params =  (None, False, None, 365, False, False)\n",
      "HW params (None, False, None, 365, False, False)\n",
      "                       ExponentialSmoothing Model Results                       \n",
      "================================================================================\n",
      "Dep. Variable:                    endog   No. Observations:                 1019\n",
      "Model:             ExponentialSmoothing   SSE                        7498708.121\n",
      "Optimized:                         True   AIC                           9812.834\n",
      "Trend:                   Multiplicative   BIC                          11635.667\n",
      "Seasonal:                Multiplicative   AICC                         10242.419\n",
      "Seasonal Periods:                   365   Date:                 Thu, 15 Nov 2018\n",
      "Box-Cox:                           True   Time:                         17:19:28\n",
      "Box-Cox Coeff.:                -0.00667                                         \n",
      "==================================================================================\n",
      "                           coeff                 code              optimized      \n",
      "----------------------------------------------------------------------------------\n",
      "smoothing_level                0.1284473                alpha                 True\n",
      "smoothing_slope                0.0526279                 beta                 True\n",
      "smoothing_seasonal              0.000000                gamma                 True\n",
      "initial_level                  6.0031364                  l.0                 True\n",
      "initial_slope                  1.0000000                  b.0                 True\n",
      "damping_slope                 6.7239e-05                  phi                 True\n",
      "initial_seasons.0              0.9749502                  s.0                 True\n",
      "initial_seasons.1              1.0041795                  s.1                 True\n",
      "initial_seasons.2              1.0534786                  s.2                 True\n",
      "initial_seasons.3              1.0639296                  s.3                 True\n",
      "initial_seasons.4              1.0605206                  s.4                 True\n",
      "initial_seasons.5              1.0600510                  s.5                 True\n",
      "initial_seasons.6              1.0611407                  s.6                 True\n",
      "initial_seasons.7              1.0727163                  s.7                 True\n",
      "initial_seasons.8              1.0766029                  s.8                 True\n",
      "initial_seasons.9              1.0860515                  s.9                 True\n",
      "initial_seasons.10             1.0760921                 s.10                 True\n",
      "initial_seasons.11             1.0632192                 s.11                 True\n",
      "initial_seasons.12             1.0532410                 s.12                 True\n",
      "initial_seasons.13             1.0504187                 s.13                 True\n",
      "initial_seasons.14             1.0642421                 s.14                 True\n",
      "initial_seasons.15             1.0762126                 s.15                 True\n",
      "initial_seasons.16             1.0757159                 s.16                 True\n",
      "initial_seasons.17             1.0641236                 s.17                 True\n",
      "initial_seasons.18             1.0476028                 s.18                 True\n",
      "initial_seasons.19             1.0350122                 s.19                 True\n",
      "initial_seasons.20             1.0333491                 s.20                 True\n",
      "initial_seasons.21             1.0535124                 s.21                 True\n",
      "initial_seasons.22             1.0597811                 s.22                 True\n",
      "initial_seasons.23             1.0613594                 s.23                 True\n",
      "initial_seasons.24             1.0481111                 s.24                 True\n",
      "initial_seasons.25             1.0441817                 s.25                 True\n",
      "initial_seasons.26             1.0371056                 s.26                 True\n",
      "initial_seasons.27             1.0404114                 s.27                 True\n",
      "initial_seasons.28             1.0506664                 s.28                 True\n",
      "initial_seasons.29             1.0537564                 s.29                 True\n",
      "initial_seasons.30             1.0609053                 s.30                 True\n",
      "initial_seasons.31             1.0486552                 s.31                 True\n",
      "initial_seasons.32             1.0375602                 s.32                 True\n",
      "initial_seasons.33             1.0238753                 s.33                 True\n",
      "initial_seasons.34             1.0181431                 s.34                 True\n",
      "initial_seasons.35             1.0396446                 s.35                 True\n",
      "initial_seasons.36             1.0412565                 s.36                 True\n",
      "initial_seasons.37             1.0403987                 s.37                 True\n",
      "initial_seasons.38             1.0369425                 s.38                 True\n",
      "initial_seasons.39             1.0175950                 s.39                 True\n",
      "initial_seasons.40             1.0105659                 s.40                 True\n",
      "initial_seasons.41             1.0096122                 s.41                 True\n",
      "initial_seasons.42             1.0175111                 s.42                 True\n",
      "initial_seasons.43             1.0272338                 s.43                 True\n",
      "initial_seasons.44             1.0352649                 s.44                 True\n",
      "initial_seasons.45             1.0211478                 s.45                 True\n",
      "initial_seasons.46             1.0082735                 s.46                 True\n",
      "initial_seasons.47             0.9909154                 s.47                 True\n",
      "initial_seasons.48             1.0018658                 s.48                 True\n",
      "initial_seasons.49             1.0213669                 s.49                 True\n",
      "initial_seasons.50             1.0278180                 s.50                 True\n",
      "initial_seasons.51             1.0316811                 s.51                 True\n",
      "initial_seasons.52             1.0160809                 s.52                 True\n",
      "initial_seasons.53             1.0126402                 s.53                 True\n",
      "initial_seasons.54             0.9975178                 s.54                 True\n",
      "initial_seasons.55             0.9873003                 s.55                 True\n",
      "initial_seasons.56             1.0103932                 s.56                 True\n",
      "initial_seasons.57             1.0217153                 s.57                 True\n",
      "initial_seasons.58             1.0176367                 s.58                 True\n",
      "initial_seasons.59             1.0146860                 s.59                 True\n",
      "initial_seasons.60             1.0032101                 s.60                 True\n",
      "initial_seasons.61             0.9944415                 s.61                 True\n",
      "initial_seasons.62             0.9966984                 s.62                 True\n",
      "initial_seasons.63             1.0174289                 s.63                 True\n",
      "initial_seasons.64             1.0157725                 s.64                 True\n",
      "initial_seasons.65             1.0141652                 s.65                 True\n",
      "initial_seasons.66             1.0094353                 s.66                 True\n",
      "initial_seasons.67             0.9926693                 s.67                 True\n",
      "initial_seasons.68             0.9969490                 s.68                 True\n",
      "initial_seasons.69             0.9918249                 s.69                 True\n",
      "initial_seasons.70             0.9906485                 s.70                 True\n",
      "initial_seasons.71             1.0045928                 s.71                 True\n",
      "initial_seasons.72             1.0058071                 s.72                 True\n",
      "initial_seasons.73             0.9942773                 s.73                 True\n",
      "initial_seasons.74             1.0016883                 s.74                 True\n",
      "initial_seasons.75             0.9790227                 s.75                 True\n",
      "initial_seasons.76             0.9777123                 s.76                 True\n",
      "initial_seasons.77             0.9981230                 s.77                 True\n",
      "initial_seasons.78             1.0091695                 s.78                 True\n",
      "initial_seasons.79             1.0060607                 s.79                 True\n",
      "initial_seasons.80             1.0230415                 s.80                 True\n",
      "initial_seasons.81             0.9827538                 s.81                 True\n",
      "initial_seasons.82             0.9723207                 s.82                 True\n",
      "initial_seasons.83             0.9746275                 s.83                 True\n",
      "initial_seasons.84             0.9771443                 s.84                 True\n",
      "initial_seasons.85             0.9803354                 s.85                 True\n",
      "initial_seasons.86             0.9859629                 s.86                 True\n",
      "initial_seasons.87             1.0018373                 s.87                 True\n",
      "initial_seasons.88             0.9838104                 s.88                 True\n",
      "initial_seasons.89             0.9895625                 s.89                 True\n",
      "initial_seasons.90             0.9826299                 s.90                 True\n",
      "initial_seasons.91             0.9828422                 s.91                 True\n",
      "initial_seasons.92             1.0120081                 s.92                 True\n",
      "initial_seasons.93             1.0075497                 s.93                 True\n",
      "initial_seasons.94             1.0079747                 s.94                 True\n",
      "initial_seasons.95             0.9851660                 s.95                 True\n",
      "initial_seasons.96             0.9909944                 s.96                 True\n",
      "initial_seasons.97             0.9845501                 s.97                 True\n",
      "initial_seasons.98             0.9815613                 s.98                 True\n",
      "initial_seasons.99             0.9875924                 s.99                 True\n",
      "initial_seasons.100            0.9943551                s.100                 True\n",
      "initial_seasons.101            0.9904114                s.101                 True\n",
      "initial_seasons.102            1.0059557                s.102                 True\n",
      "initial_seasons.103            0.9678641                s.103                 True\n",
      "initial_seasons.104            0.9707308                s.104                 True\n",
      "initial_seasons.105            0.9781593                s.105                 True\n",
      "initial_seasons.106            0.9846161                s.106                 True\n",
      "initial_seasons.107            0.9942342                s.107                 True\n",
      "initial_seasons.108            0.9916933                s.108                 True\n",
      "initial_seasons.109            0.9757651                s.109                 True\n",
      "initial_seasons.110            0.9730546                s.110                 True\n",
      "initial_seasons.111            0.9617484                s.111                 True\n",
      "initial_seasons.112            0.9809310                s.112                 True\n",
      "initial_seasons.113            1.0045116                s.113                 True\n",
      "initial_seasons.114            0.9979893                s.114                 True\n",
      "initial_seasons.115            1.0020044                s.115                 True\n",
      "initial_seasons.116            0.9962333                s.116                 True\n",
      "initial_seasons.117            0.9835883                s.117                 True\n",
      "initial_seasons.118            0.9762652                s.118                 True\n",
      "initial_seasons.119            1.0059910                s.119                 True\n",
      "initial_seasons.120            0.9862598                s.120                 True\n",
      "initial_seasons.121            1.0000461                s.121                 True\n",
      "initial_seasons.122            1.0089027                s.122                 True\n",
      "initial_seasons.123            0.9890340                s.123                 True\n",
      "initial_seasons.124            0.9814715                s.124                 True\n",
      "initial_seasons.125            0.9622741                s.125                 True\n",
      "initial_seasons.126            0.9598005                s.126                 True\n",
      "initial_seasons.127            0.9870802                s.127                 True\n",
      "initial_seasons.128            0.9974431                s.128                 True\n",
      "initial_seasons.129            0.9914515                s.129                 True\n",
      "initial_seasons.130            0.9930839                s.130                 True\n",
      "initial_seasons.131            0.9774953                s.131                 True\n",
      "initial_seasons.132            0.9678920                s.132                 True\n",
      "initial_seasons.133            0.9697631                s.133                 True\n",
      "initial_seasons.134            0.9826306                s.134                 True\n",
      "initial_seasons.135            0.9802565                s.135                 True\n",
      "initial_seasons.136            0.9834218                s.136                 True\n",
      "initial_seasons.137            0.9754969                s.137                 True\n",
      "initial_seasons.138            0.9683095                s.138                 True\n",
      "initial_seasons.139            0.9424000                s.139                 True\n",
      "initial_seasons.140            0.9581750                s.140                 True\n",
      "initial_seasons.141            0.9831397                s.141                 True\n",
      "initial_seasons.142            0.9346798                s.142                 True\n",
      "initial_seasons.143            0.9989026                s.143                 True\n",
      "initial_seasons.144            0.9691011                s.144                 True\n",
      "initial_seasons.145            0.9682300                s.145                 True\n",
      "initial_seasons.146            0.9472684                s.146                 True\n",
      "initial_seasons.147            0.9492100                s.147                 True\n",
      "initial_seasons.148            0.9626292                s.148                 True\n",
      "initial_seasons.149            0.9685177                s.149                 True\n",
      "initial_seasons.150            0.9792115                s.150                 True\n",
      "initial_seasons.151            0.9730554                s.151                 True\n",
      "initial_seasons.152            0.9562934                s.152                 True\n",
      "initial_seasons.153            0.9524698                s.153                 True\n",
      "initial_seasons.154            0.9480120                s.154                 True\n",
      "initial_seasons.155            0.9652252                s.155                 True\n",
      "initial_seasons.156            0.9709191                s.156                 True\n",
      "initial_seasons.157            0.9644825                s.157                 True\n",
      "initial_seasons.158            0.9606458                s.158                 True\n",
      "initial_seasons.159            0.9520117                s.159                 True\n",
      "initial_seasons.160            0.9394463                s.160                 True\n",
      "initial_seasons.161            0.9538186                s.161                 True\n",
      "initial_seasons.162            0.9613823                s.162                 True\n",
      "initial_seasons.163            0.9781350                s.163                 True\n",
      "initial_seasons.164            0.9672947                s.164                 True\n",
      "initial_seasons.165            0.9602347                s.165                 True\n",
      "initial_seasons.166            0.9442940                s.166                 True\n",
      "initial_seasons.167            0.9383142                s.167                 True\n",
      "initial_seasons.168            0.9379850                s.168                 True\n",
      "initial_seasons.169            0.9414370                s.169                 True\n",
      "initial_seasons.170            0.9477869                s.170                 True\n",
      "initial_seasons.171            0.9531712                s.171                 True\n",
      "initial_seasons.172            0.9565735                s.172                 True\n",
      "initial_seasons.173            0.9489545                s.173                 True\n",
      "initial_seasons.174            0.9319671                s.174                 True\n",
      "initial_seasons.175            0.9294104                s.175                 True\n",
      "initial_seasons.176            0.9544050                s.176                 True\n",
      "initial_seasons.177            0.9623144                s.177                 True\n",
      "initial_seasons.178            0.9546588                s.178                 True\n",
      "initial_seasons.179            0.9506408                s.179                 True\n",
      "initial_seasons.180            0.9425923                s.180                 True\n",
      "initial_seasons.181            0.9477526                s.181                 True\n",
      "initial_seasons.182            0.9491926                s.182                 True\n",
      "initial_seasons.183            0.9613091                s.183                 True\n",
      "initial_seasons.184            0.9673518                s.184                 True\n",
      "initial_seasons.185            0.9645959                s.185                 True\n",
      "initial_seasons.186            0.9632685                s.186                 True\n",
      "initial_seasons.187            0.9412063                s.187                 True\n",
      "initial_seasons.188            0.9338314                s.188                 True\n",
      "initial_seasons.189            0.9559149                s.189                 True\n",
      "initial_seasons.190            0.9540283                s.190                 True\n",
      "initial_seasons.191            0.9601920                s.191                 True\n",
      "initial_seasons.192            0.9664283                s.192                 True\n",
      "initial_seasons.193            0.9494007                s.193                 True\n",
      "initial_seasons.194            0.9501149                s.194                 True\n",
      "initial_seasons.195            0.9315701                s.195                 True\n",
      "initial_seasons.196            0.9423477                s.196                 True\n",
      "initial_seasons.197            0.9614926                s.197                 True\n",
      "initial_seasons.198            0.9560781                s.198                 True\n",
      "initial_seasons.199            0.9686673                s.199                 True\n",
      "initial_seasons.200            0.9444302                s.200                 True\n",
      "initial_seasons.201            0.9432727                s.201                 True\n",
      "initial_seasons.202            0.9390947                s.202                 True\n",
      "initial_seasons.203            0.9557299                s.203                 True\n",
      "initial_seasons.204            0.9563267                s.204                 True\n",
      "initial_seasons.205            0.9541223                s.205                 True\n",
      "initial_seasons.206            0.9571617                s.206                 True\n",
      "initial_seasons.207            0.9436180                s.207                 True\n",
      "initial_seasons.208            0.9504338                s.208                 True\n",
      "initial_seasons.209            0.9474031                s.209                 True\n",
      "initial_seasons.210            0.9599404                s.210                 True\n",
      "initial_seasons.211            0.9555476                s.211                 True\n",
      "initial_seasons.212            0.9682685                s.212                 True\n",
      "initial_seasons.213            0.9703180                s.213                 True\n",
      "initial_seasons.214            0.9701764                s.214                 True\n",
      "initial_seasons.215            0.9656106                s.215                 True\n",
      "initial_seasons.216            0.9472711                s.216                 True\n",
      "initial_seasons.217            0.9573367                s.217                 True\n",
      "initial_seasons.218            0.9529830                s.218                 True\n",
      "initial_seasons.219            0.9625338                s.219                 True\n",
      "initial_seasons.220            0.9639245                s.220                 True\n",
      "initial_seasons.221            0.9580973                s.221                 True\n",
      "initial_seasons.222            0.9515954                s.222                 True\n",
      "initial_seasons.223            0.9435462                s.223                 True\n",
      "initial_seasons.224            0.9499672                s.224                 True\n",
      "initial_seasons.225            0.9554153                s.225                 True\n",
      "initial_seasons.226            0.9588085                s.226                 True\n",
      "initial_seasons.227            0.9685772                s.227                 True\n",
      "initial_seasons.228            0.9641788                s.228                 True\n",
      "initial_seasons.229            0.9553109                s.229                 True\n",
      "initial_seasons.230            0.9489678                s.230                 True\n",
      "initial_seasons.231            0.9620029                s.231                 True\n",
      "initial_seasons.232            0.9613735                s.232                 True\n",
      "initial_seasons.233            0.9700422                s.233                 True\n",
      "initial_seasons.234            0.9621867                s.234                 True\n",
      "initial_seasons.235            0.9564769                s.235                 True\n",
      "initial_seasons.236            0.9522818                s.236                 True\n",
      "initial_seasons.237            0.9459159                s.237                 True\n",
      "initial_seasons.238            0.9533334                s.238                 True\n",
      "initial_seasons.239            0.9487033                s.239                 True\n",
      "initial_seasons.240            0.9625485                s.240                 True\n",
      "initial_seasons.241            0.9716405                s.241                 True\n",
      "initial_seasons.242            0.9722610                s.242                 True\n",
      "initial_seasons.243            0.9590407                s.243                 True\n",
      "initial_seasons.244            0.9514376                s.244                 True\n",
      "initial_seasons.245            0.9542572                s.245                 True\n",
      "initial_seasons.246            0.9751881                s.246                 True\n",
      "initial_seasons.247            0.9864641                s.247                 True\n",
      "initial_seasons.248            0.9726479                s.248                 True\n",
      "initial_seasons.249            0.9655595                s.249                 True\n",
      "initial_seasons.250            0.9570897                s.250                 True\n",
      "initial_seasons.251            0.9530410                s.251                 True\n",
      "initial_seasons.252            0.9718432                s.252                 True\n",
      "initial_seasons.253            0.9802843                s.253                 True\n",
      "initial_seasons.254            0.9740307                s.254                 True\n",
      "initial_seasons.255            1.0192858                s.255                 True\n",
      "initial_seasons.256            0.9565293                s.256                 True\n",
      "initial_seasons.257            0.9491609                s.257                 True\n",
      "initial_seasons.258            0.9438985                s.258                 True\n",
      "initial_seasons.259            0.9642247                s.259                 True\n",
      "initial_seasons.260            0.9614724                s.260                 True\n",
      "initial_seasons.261            0.9668708                s.261                 True\n",
      "initial_seasons.262            0.9769625                s.262                 True\n",
      "initial_seasons.263            0.9688393                s.263                 True\n",
      "initial_seasons.264            0.9587548                s.264                 True\n",
      "initial_seasons.265            0.9496536                s.265                 True\n",
      "initial_seasons.266            0.9634610                s.266                 True\n",
      "initial_seasons.267            0.9581831                s.267                 True\n",
      "initial_seasons.268            0.9621466                s.268                 True\n",
      "initial_seasons.269            0.9566237                s.269                 True\n",
      "initial_seasons.270            0.9677719                s.270                 True\n",
      "initial_seasons.271            0.9576975                s.271                 True\n",
      "initial_seasons.272            0.9409308                s.272                 True\n",
      "initial_seasons.273            0.9540258                s.273                 True\n",
      "initial_seasons.274            0.9601012                s.274                 True\n",
      "initial_seasons.275            0.9671612                s.275                 True\n",
      "initial_seasons.276            0.9514411                s.276                 True\n",
      "initial_seasons.277            0.9429653                s.277                 True\n",
      "initial_seasons.278            0.9391362                s.278                 True\n",
      "initial_seasons.279            0.9360377                s.279                 True\n",
      "initial_seasons.280            0.9516506                s.280                 True\n",
      "initial_seasons.281            0.9501862                s.281                 True\n",
      "initial_seasons.282            0.9619724                s.282                 True\n",
      "initial_seasons.283            0.9526283                s.283                 True\n",
      "initial_seasons.284            0.9409307                s.284                 True\n",
      "initial_seasons.285            0.9232110                s.285                 True\n",
      "initial_seasons.286            0.9356871                s.286                 True\n",
      "initial_seasons.287            0.9387173                s.287                 True\n",
      "initial_seasons.288            0.9471377                s.288                 True\n",
      "initial_seasons.289            0.9533269                s.289                 True\n",
      "initial_seasons.290            0.9545909                s.290                 True\n",
      "initial_seasons.291            0.9378558                s.291                 True\n",
      "initial_seasons.292            0.9273736                s.292                 True\n",
      "initial_seasons.293            0.9203815                s.293                 True\n",
      "initial_seasons.294            0.9152033                s.294                 True\n",
      "initial_seasons.295            0.9375869                s.295                 True\n",
      "initial_seasons.296            0.9629386                s.296                 True\n",
      "initial_seasons.297            0.9541785                s.297                 True\n",
      "initial_seasons.298            0.9504056                s.298                 True\n",
      "initial_seasons.299            0.9349899                s.299                 True\n",
      "initial_seasons.300            0.9221775                s.300                 True\n",
      "initial_seasons.301            0.9148167                s.301                 True\n",
      "initial_seasons.302            0.9345457                s.302                 True\n",
      "initial_seasons.303            0.9556361                s.303                 True\n",
      "initial_seasons.304            0.9403113                s.304                 True\n",
      "initial_seasons.305            0.9276561                s.305                 True\n",
      "initial_seasons.306            0.9301326                s.306                 True\n",
      "initial_seasons.307            0.9389261                s.307                 True\n",
      "initial_seasons.308            0.9396951                s.308                 True\n",
      "initial_seasons.309            0.9469622                s.309                 True\n",
      "initial_seasons.310            0.9775486                s.310                 True\n",
      "initial_seasons.311            0.9586741                s.311                 True\n",
      "initial_seasons.312            0.9430466                s.312                 True\n",
      "initial_seasons.313            0.9268666                s.313                 True\n",
      "initial_seasons.314            0.9146347                s.314                 True\n",
      "initial_seasons.315            0.9082294                s.315                 True\n",
      "initial_seasons.316            0.9391925                s.316                 True\n",
      "initial_seasons.317            0.9552651                s.317                 True\n",
      "initial_seasons.318            0.9608001                s.318                 True\n",
      "initial_seasons.319            0.9410397                s.319                 True\n",
      "initial_seasons.320            0.9170894                s.320                 True\n",
      "initial_seasons.321            0.9080186                s.321                 True\n",
      "initial_seasons.322            0.8948850                s.322                 True\n",
      "initial_seasons.323            0.9207861                s.323                 True\n",
      "initial_seasons.324            0.9449601                s.324                 True\n",
      "initial_seasons.325            0.9353011                s.325                 True\n",
      "initial_seasons.326            0.9223009                s.326                 True\n",
      "initial_seasons.327            0.9091973                s.327                 True\n",
      "initial_seasons.328            0.8933373                s.328                 True\n",
      "initial_seasons.329            0.8917329                s.329                 True\n",
      "initial_seasons.330            0.9102043                s.330                 True\n",
      "initial_seasons.331            0.9206527                s.331                 True\n",
      "initial_seasons.332            0.9159806                s.332                 True\n",
      "initial_seasons.333            0.9114723                s.333                 True\n",
      "initial_seasons.334            0.9080756                s.334                 True\n",
      "initial_seasons.335            0.8778798                s.335                 True\n",
      "initial_seasons.336            0.8570865                s.336                 True\n",
      "initial_seasons.337            0.8998365                s.337                 True\n",
      "initial_seasons.338            0.9060921                s.338                 True\n",
      "initial_seasons.339            0.9094803                s.339                 True\n",
      "initial_seasons.340            0.8919363                s.340                 True\n",
      "initial_seasons.341            0.8879498                s.341                 True\n",
      "initial_seasons.342            0.8604715                s.342                 True\n",
      "initial_seasons.343            0.8323892                s.343                 True\n",
      "initial_seasons.344            0.8673161                s.344                 True\n",
      "initial_seasons.345            0.8828429                s.345                 True\n",
      "initial_seasons.346            0.8764892                s.346                 True\n",
      "initial_seasons.347            0.8752500                s.347                 True\n",
      "initial_seasons.348            0.8405291                s.348                 True\n",
      "initial_seasons.349            0.8201597                s.349                 True\n",
      "initial_seasons.350            0.8277771                s.350                 True\n",
      "initial_seasons.351            0.8476889                s.351                 True\n",
      "initial_seasons.352            0.8762493                s.352                 True\n",
      "initial_seasons.353            0.8657189                s.353                 True\n",
      "initial_seasons.354            0.8654767                s.354                 True\n",
      "initial_seasons.355            0.8731296                s.355                 True\n",
      "initial_seasons.356            0.8549154                s.356                 True\n",
      "initial_seasons.357            0.8476780                s.357                 True\n",
      "initial_seasons.358            0.8062036                s.358                 True\n",
      "initial_seasons.359            0.7076577                s.359                 True\n",
      "initial_seasons.360            0.8501300                s.360                 True\n",
      "initial_seasons.361            0.9318638                s.361                 True\n",
      "initial_seasons.362            0.9563598                s.362                 True\n",
      "initial_seasons.363            0.9851993                s.363                 True\n",
      "initial_seasons.364            0.9858799                s.364                 True\n",
      "----------------------------------------------------------------------------------\n"
     ]
    },
    {
     "data": {
      "text/plain": [
       "2016-01-01    397.508332\n",
       "2016-01-02    477.799454\n",
       "2016-01-03    644.643264\n",
       "2016-01-04    693.705220\n",
       "2016-01-05    677.152460\n",
       "2016-01-06    679.412337\n",
       "2016-01-07    683.847021\n",
       "2016-01-08    730.996655\n",
       "2016-01-09    740.237726\n",
       "2016-01-10    766.359706\n",
       "2016-01-11    730.379850\n",
       "2016-01-12    681.071839\n",
       "2016-01-13    642.992975\n",
       "2016-01-14    637.200679\n",
       "2016-01-15    689.855054\n",
       "2016-01-16    724.754571\n",
       "2016-01-17    707.873782\n",
       "2016-01-18    671.186693\n",
       "2016-01-19    614.869235\n",
       "2016-01-20    570.528008\n",
       "2016-01-21    573.967882\n",
       "2016-01-22    657.564416\n",
       "2016-01-23    668.900842\n",
       "2016-01-24    666.663739\n",
       "2016-01-25    622.634971\n",
       "2016-01-26    617.700386\n",
       "2016-01-27    604.244631\n",
       "2016-01-28    628.739229\n",
       "2016-01-29    679.589019\n",
       "2016-01-30    678.575731\n",
       "                 ...    \n",
       "2019-09-16    652.284689\n",
       "2019-09-17    640.199350\n",
       "2019-09-18    664.122546\n",
       "2019-09-19    711.307546\n",
       "2019-09-20    673.069924\n",
       "2019-09-21    628.489665\n",
       "2019-09-22    590.835742\n",
       "2019-09-23    648.908273\n",
       "2019-09-24    626.054049\n",
       "2019-09-25    643.138719\n",
       "2019-09-26    619.459739\n",
       "2019-09-27    668.203022\n",
       "2019-09-28    623.993087\n",
       "2019-09-29    556.899650\n",
       "2019-09-30    608.629516\n",
       "2019-10-01    634.263941\n",
       "2019-10-02    665.434892\n",
       "2019-10-03    598.045391\n",
       "2019-10-04    564.633245\n",
       "2019-10-05    550.167313\n",
       "2019-10-06    538.738187\n",
       "2019-10-07    598.896511\n",
       "2019-10-08    592.974672\n",
       "2019-10-09    642.377868\n",
       "2019-10-10    602.883589\n",
       "2019-10-11    556.899230\n",
       "2019-10-12    493.938605\n",
       "2019-10-13    537.460341\n",
       "2019-10-14    548.607799\n",
       "2019-10-15    580.837071\n",
       "Length: 1384, dtype: float64"
      ]
     },
     "execution_count": 106,
     "metadata": {},
     "output_type": "execute_result"
    }
   ],
   "source": [
    "HWFxn(df, 365)"
   ]
  },
  {
   "cell_type": "code",
   "execution_count": null,
   "metadata": {},
   "outputs": [],
   "source": []
  },
  {
   "cell_type": "code",
   "execution_count": 17,
   "metadata": {},
   "outputs": [],
   "source": [
    "from itertools import product\n",
    "\n",
    "# evaluate parameters\n",
    "t_params = (0,1)\n",
    "d_params = (0,1)\n",
    "s_params = (0,1)\n",
    "b_params = (0,1)\n",
    "r_params = (0,1)\n",
    "p = 365\n",
    "\n",
    "parameter_grid = list(product(\n",
    "                t_params,\n",
    "                d_params,\n",
    "                s_params,\n",
    "                b_params,\n",
    "                r_params,\n",
    "                [p]\n",
    "        ))\n"
   ]
  },
  {
   "cell_type": "code",
   "execution_count": 18,
   "metadata": {},
   "outputs": [
    {
     "data": {
      "text/plain": [
       "(1, 1, 1)"
      ]
     },
     "execution_count": 18,
     "metadata": {},
     "output_type": "execute_result"
    }
   ],
   "source": [
    "for parameters in parameter_grid:\n",
    "    t = parameters[:3]\n",
    "    d = parameters[1:2]\n",
    "    s = parameters[2:3]\n",
    "    b = parameters[3:4]\n",
    "    r = parameters[4:5]\n",
    "\n",
    "t"
   ]
  },
  {
   "cell_type": "code",
   "execution_count": 19,
   "metadata": {},
   "outputs": [
    {
     "data": {
      "text/plain": [
       "[(0, 0, 0, 0, 0, 365),\n",
       " (0, 0, 0, 0, 1, 365),\n",
       " (0, 0, 0, 1, 0, 365),\n",
       " (0, 0, 0, 1, 1, 365),\n",
       " (0, 0, 1, 0, 0, 365),\n",
       " (0, 0, 1, 0, 1, 365),\n",
       " (0, 0, 1, 1, 0, 365),\n",
       " (0, 0, 1, 1, 1, 365),\n",
       " (0, 1, 0, 0, 0, 365),\n",
       " (0, 1, 0, 0, 1, 365),\n",
       " (0, 1, 0, 1, 0, 365),\n",
       " (0, 1, 0, 1, 1, 365),\n",
       " (0, 1, 1, 0, 0, 365),\n",
       " (0, 1, 1, 0, 1, 365),\n",
       " (0, 1, 1, 1, 0, 365),\n",
       " (0, 1, 1, 1, 1, 365),\n",
       " (1, 0, 0, 0, 0, 365),\n",
       " (1, 0, 0, 0, 1, 365),\n",
       " (1, 0, 0, 1, 0, 365),\n",
       " (1, 0, 0, 1, 1, 365),\n",
       " (1, 0, 1, 0, 0, 365),\n",
       " (1, 0, 1, 0, 1, 365),\n",
       " (1, 0, 1, 1, 0, 365),\n",
       " (1, 0, 1, 1, 1, 365),\n",
       " (1, 1, 0, 0, 0, 365),\n",
       " (1, 1, 0, 0, 1, 365),\n",
       " (1, 1, 0, 1, 0, 365),\n",
       " (1, 1, 0, 1, 1, 365),\n",
       " (1, 1, 1, 0, 0, 365),\n",
       " (1, 1, 1, 0, 1, 365),\n",
       " (1, 1, 1, 1, 0, 365),\n",
       " (1, 1, 1, 1, 1, 365)]"
      ]
     },
     "execution_count": 19,
     "metadata": {},
     "output_type": "execute_result"
    }
   ],
   "source": [
    "parameter_grid"
   ]
  },
  {
   "cell_type": "code",
   "execution_count": 27,
   "metadata": {},
   "outputs": [],
   "source": [
    "from itertools import product\n",
    "\n",
    "# evaluate parameters\n",
    "t_params = ['add', 'mul', None]\n",
    "d_params = [True, False]\n",
    "s_params = ['add', 'mul', None]\n",
    "b_params = [True, False]\n",
    "r_params = [True, False]\n",
    "p = 365\n",
    "\n",
    "parameter_grid = list(product(\n",
    "                t_params,\n",
    "                d_params,\n",
    "                s_params,\n",
    "                b_params,\n",
    "                r_params,\n",
    "                [p]\n",
    "        ))\n",
    "\n",
    "def evaluate_hw_model(X, fcstdays, parameters):\n",
    "        #order = parameters[:3]\n",
    "        #sorder = parameters[3:]\n",
    "        t = parameters[:1]\n",
    "        d = parameters[1:2]\n",
    "        s = parameters[2:3]\n",
    "        b = parameters[3:4]\n",
    "        r = parameters[4:5]"
   ]
  },
  {
   "cell_type": "code",
   "execution_count": 31,
   "metadata": {},
   "outputs": [],
   "source": [
    "for parameters in parameter_grid:\n",
    "    t = parameters[0]\n",
    "    d = parameters[1]\n",
    "    s = parameters[2]\n",
    "    b = parameters[3]\n",
    "    r = parameters[4]"
   ]
  },
  {
   "cell_type": "code",
   "execution_count": 32,
   "metadata": {},
   "outputs": [
    {
     "data": {
      "text/plain": [
       "(None, False, None, False, False, 365)"
      ]
     },
     "execution_count": 32,
     "metadata": {},
     "output_type": "execute_result"
    }
   ],
   "source": [
    "t, d, s, b, r, p"
   ]
  },
  {
   "cell_type": "code",
   "execution_count": 30,
   "metadata": {},
   "outputs": [
    {
     "data": {
      "text/plain": [
       "False"
      ]
     },
     "execution_count": 30,
     "metadata": {},
     "output_type": "execute_result"
    }
   ],
   "source": [
    "t"
   ]
  },
  {
   "cell_type": "code",
   "execution_count": 11,
   "metadata": {},
   "outputs": [
    {
     "data": {
      "text/plain": [
       "365"
      ]
     },
     "execution_count": 11,
     "metadata": {},
     "output_type": "execute_result"
    }
   ],
   "source": [
    "p"
   ]
  },
  {
   "cell_type": "code",
   "execution_count": 4,
   "metadata": {},
   "outputs": [
    {
     "data": {
      "text/plain": [
       "[('add', True, 'add', True, True, 365),\n",
       " ('add', True, 'add', True, False, 365),\n",
       " ('add', True, 'add', False, True, 365),\n",
       " ('add', True, 'add', False, False, 365),\n",
       " ('add', True, 'mul', True, True, 365),\n",
       " ('add', True, 'mul', True, False, 365),\n",
       " ('add', True, 'mul', False, True, 365),\n",
       " ('add', True, 'mul', False, False, 365),\n",
       " ('add', True, None, True, True, 365),\n",
       " ('add', True, None, True, False, 365),\n",
       " ('add', True, None, False, True, 365),\n",
       " ('add', True, None, False, False, 365),\n",
       " ('add', False, 'add', True, True, 365),\n",
       " ('add', False, 'add', True, False, 365),\n",
       " ('add', False, 'add', False, True, 365),\n",
       " ('add', False, 'add', False, False, 365),\n",
       " ('add', False, 'mul', True, True, 365),\n",
       " ('add', False, 'mul', True, False, 365),\n",
       " ('add', False, 'mul', False, True, 365),\n",
       " ('add', False, 'mul', False, False, 365),\n",
       " ('add', False, None, True, True, 365),\n",
       " ('add', False, None, True, False, 365),\n",
       " ('add', False, None, False, True, 365),\n",
       " ('add', False, None, False, False, 365),\n",
       " ('mul', True, 'add', True, True, 365),\n",
       " ('mul', True, 'add', True, False, 365),\n",
       " ('mul', True, 'add', False, True, 365),\n",
       " ('mul', True, 'add', False, False, 365),\n",
       " ('mul', True, 'mul', True, True, 365),\n",
       " ('mul', True, 'mul', True, False, 365),\n",
       " ('mul', True, 'mul', False, True, 365),\n",
       " ('mul', True, 'mul', False, False, 365),\n",
       " ('mul', True, None, True, True, 365),\n",
       " ('mul', True, None, True, False, 365),\n",
       " ('mul', True, None, False, True, 365),\n",
       " ('mul', True, None, False, False, 365),\n",
       " ('mul', False, 'add', True, True, 365),\n",
       " ('mul', False, 'add', True, False, 365),\n",
       " ('mul', False, 'add', False, True, 365),\n",
       " ('mul', False, 'add', False, False, 365),\n",
       " ('mul', False, 'mul', True, True, 365),\n",
       " ('mul', False, 'mul', True, False, 365),\n",
       " ('mul', False, 'mul', False, True, 365),\n",
       " ('mul', False, 'mul', False, False, 365),\n",
       " ('mul', False, None, True, True, 365),\n",
       " ('mul', False, None, True, False, 365),\n",
       " ('mul', False, None, False, True, 365),\n",
       " ('mul', False, None, False, False, 365),\n",
       " (None, True, 'add', True, True, 365),\n",
       " (None, True, 'add', True, False, 365),\n",
       " (None, True, 'add', False, True, 365),\n",
       " (None, True, 'add', False, False, 365),\n",
       " (None, True, 'mul', True, True, 365),\n",
       " (None, True, 'mul', True, False, 365),\n",
       " (None, True, 'mul', False, True, 365),\n",
       " (None, True, 'mul', False, False, 365),\n",
       " (None, True, None, True, True, 365),\n",
       " (None, True, None, True, False, 365),\n",
       " (None, True, None, False, True, 365),\n",
       " (None, True, None, False, False, 365),\n",
       " (None, False, 'add', True, True, 365),\n",
       " (None, False, 'add', True, False, 365),\n",
       " (None, False, 'add', False, True, 365),\n",
       " (None, False, 'add', False, False, 365),\n",
       " (None, False, 'mul', True, True, 365),\n",
       " (None, False, 'mul', True, False, 365),\n",
       " (None, False, 'mul', False, True, 365),\n",
       " (None, False, 'mul', False, False, 365),\n",
       " (None, False, None, True, True, 365),\n",
       " (None, False, None, True, False, 365),\n",
       " (None, False, None, False, True, 365),\n",
       " (None, False, None, False, False, 365)]"
      ]
     },
     "execution_count": 4,
     "metadata": {},
     "output_type": "execute_result"
    }
   ],
   "source": [
    "parameter_grid"
   ]
  },
  {
   "cell_type": "code",
   "execution_count": 23,
   "metadata": {},
   "outputs": [
    {
     "name": "stdout",
     "output_type": "stream",
     "text": [
      "       ds RLT Marketing Channel     y\n",
      "0  7/1/17             Undefined  1225\n",
      "1  7/1/17                Direct  1732\n",
      "2  7/1/17               Display   256\n",
      "3  7/1/17                 Email  1262\n",
      "4  7/1/17               Partner   885\n",
      "ds                       object\n",
      "RLT Marketing Channel    object\n",
      "y                         int64\n",
      "dtype: object\n"
     ]
    },
    {
     "name": "stderr",
     "output_type": "stream",
     "text": [
      "/anaconda3/lib/python3.6/site-packages/statsmodels/tsa/base/tsa_model.py:221: ValueWarning: An unsupported index was provided and will be ignored when e.g. forecasting.\n",
      "  ' ignored when e.g. forecasting.', ValueWarning)\n"
     ]
    },
    {
     "ename": "NameError",
     "evalue": "name 'mse' is not defined",
     "output_type": "error",
     "traceback": [
      "\u001b[0;31m---------------------------------------------------------------------------\u001b[0m",
      "\u001b[0;31mNameError\u001b[0m                                 Traceback (most recent call last)",
      "\u001b[0;32m<ipython-input-23-6dbb8419fac6>\u001b[0m in \u001b[0;36m<module>\u001b[0;34m()\u001b[0m\n\u001b[1;32m     68\u001b[0m \u001b[0;34m\u001b[0m\u001b[0m\n\u001b[1;32m     69\u001b[0m                             results.append({\n\u001b[0;32m---> 70\u001b[0;31m                                 \u001b[0;34m\"mse\"\u001b[0m\u001b[0;34m:\u001b[0m \u001b[0mmse\u001b[0m\u001b[0;34m,\u001b[0m\u001b[0;34m\u001b[0m\u001b[0m\n\u001b[0m\u001b[1;32m     71\u001b[0m                                 \u001b[0;34m\"dimension\"\u001b[0m\u001b[0;34m:\u001b[0m \u001b[0mgroup\u001b[0m\u001b[0;34m,\u001b[0m\u001b[0;34m\u001b[0m\u001b[0m\n\u001b[1;32m     72\u001b[0m                                 \u001b[0;34m\"time\"\u001b[0m\u001b[0;34m:\u001b[0m \u001b[0mstop\u001b[0m \u001b[0;34m-\u001b[0m \u001b[0mstart\u001b[0m\u001b[0;34m,\u001b[0m\u001b[0;34m\u001b[0m\u001b[0m\n",
      "\u001b[0;31mNameError\u001b[0m: name 'mse' is not defined"
     ]
    }
   ],
   "source": [
    "import pandas as pd\n",
    "from time_series_multireg import TimeSeriesMultiReg\n",
    "from time import time\n",
    "from itertools import product\n",
    "import statsmodels.api as sm\n",
    "import sys\n",
    "from sklearn.metrics import mean_squared_error\n",
    "from statsmodels.tsa.holtwinters import ExponentialSmoothing\n",
    "\n",
    "test_data = pd.read_csv('test_data_6m.csv')\n",
    "model = TimeSeriesMultiReg()\n",
    "\n",
    "X = model.format_df(test_data)\n",
    "\n",
    "print(X.head())\n",
    "print(X.dtypes)\n",
    "# sys.exit(1)\n",
    "\n",
    "# evaluate parameters\n",
    "t_params = ['add', 'mul', None]\n",
    "d_params = [True, False]\n",
    "s_params = ['add', 'mul', None]\n",
    "b_params = [True, False]\n",
    "r_params = [True, False]\n",
    "p = 365\n",
    "\n",
    "parameter_grid = list(product(\n",
    "                t_params,\n",
    "                d_params,\n",
    "                s_params,\n",
    "                b_params,\n",
    "                r_params,\n",
    "                [p]\n",
    "        ))\n",
    "\n",
    "def evaluate_hw_model(X, fcstdays, parameters):\n",
    "        p = 365\n",
    "        (t,d,s,p,b,r) = parameters\n",
    "    \n",
    "        # make predictions\n",
    "        predictions = list()\n",
    "        model = ExponentialSmoothing(X, trend=t, damped=d, seasonal=s, seasonal_periods=p)\n",
    "        model_fit = model.fit(optimized=True, use_boxcox=b, remove_bias=r)\n",
    "        predictions = model_fit.fittedvalues\n",
    "        #yhat = model_fit.forecast(fcstdays)    \n",
    "        # calculate out of sample error\n",
    "        error = mean_squared_error(X, predictions)\n",
    "        print('error = ', error)\n",
    "        return error\n",
    "\n",
    "results = []\n",
    "for group, frame in X.groupby('RLT Marketing Channel'):\n",
    "    series = frame['y']\n",
    "    series = series.astype('double')\n",
    "    #for parameters in parameter_grid:\n",
    "    for t in t_params:\n",
    "            for d in d_params:\n",
    "                for s in s_params:\n",
    "                    for b in b_params:\n",
    "                        for r in r_params:\n",
    "                            parameters = (t,d,s,p,b,r)\n",
    "                            try:\n",
    "                                start = time()\n",
    "                                mse = evaluate_hw_model(series, 365, parameters)\n",
    "                                stop = time()\n",
    "                            except:\n",
    "                                pass\n",
    "                            \n",
    "                            results.append({\n",
    "                                \"mse\": mse,\n",
    "                                \"dimension\": group,\n",
    "                                \"time\": stop - start,\n",
    "                                **{\n",
    "                                    x: p for x, p in zip(\n",
    "                                        [\"t\",\"d\",\"s\",\"b\", \"r\", \"p\"],\n",
    "                                        parameters\n",
    "                                    )\n",
    "                                }\n",
    "                            })\n",
    "\n",
    "all_results = pd.DataFrame.from_records(\n",
    "    results\n",
    ").to_csv(\n",
    "    'hw_profile.csv',\n",
    "    index=False\n",
    ")"
   ]
  },
  {
   "cell_type": "code",
   "execution_count": 26,
   "metadata": {},
   "outputs": [
    {
     "data": {
      "text/plain": [
       "('add', True, 'add', 365, True, True)"
      ]
     },
     "execution_count": 26,
     "metadata": {},
     "output_type": "execute_result"
    }
   ],
   "source": [
    "t,d,s,p,b,r"
   ]
  },
  {
   "cell_type": "code",
   "execution_count": 25,
   "metadata": {},
   "outputs": [
    {
     "data": {
      "text/plain": [
       "True"
      ]
     },
     "execution_count": 25,
     "metadata": {},
     "output_type": "execute_result"
    }
   ],
   "source": []
  },
  {
   "cell_type": "code",
   "execution_count": 44,
   "metadata": {},
   "outputs": [
    {
     "name": "stdout",
     "output_type": "stream",
     "text": [
      "       ds RLT Marketing Channel     y\n",
      "0  7/1/17             Undefined  1225\n",
      "1  7/1/17                Direct  1732\n",
      "2  7/1/17               Display   256\n",
      "3  7/1/17                 Email  1262\n",
      "4  7/1/17               Partner   885\n",
      "ds                       object\n",
      "RLT Marketing Channel    object\n",
      "y                         int64\n",
      "dtype: object\n",
      "1543422761.2006028\n"
     ]
    },
    {
     "name": "stderr",
     "output_type": "stream",
     "text": [
      "/anaconda3/lib/python3.6/site-packages/statsmodels/tsa/base/tsa_model.py:221: ValueWarning: An unsupported index was provided and will be ignored when e.g. forecasting.\n",
      "  ' ignored when e.g. forecasting.', ValueWarning)\n"
     ]
    },
    {
     "ename": "ValueError",
     "evalue": "operands could not be broadcast together with shapes (0,) (184,) ",
     "output_type": "error",
     "traceback": [
      "\u001b[0;31m---------------------------------------------------------------------------\u001b[0m",
      "\u001b[0;31mValueError\u001b[0m                                Traceback (most recent call last)",
      "\u001b[0;32m<ipython-input-44-7deea6f85d89>\u001b[0m in \u001b[0;36m<module>\u001b[0;34m()\u001b[0m\n\u001b[1;32m     60\u001b[0m         \u001b[0mstart\u001b[0m \u001b[0;34m=\u001b[0m \u001b[0mtime\u001b[0m\u001b[0;34m(\u001b[0m\u001b[0;34m)\u001b[0m\u001b[0;34m\u001b[0m\u001b[0m\n\u001b[1;32m     61\u001b[0m         \u001b[0mprint\u001b[0m\u001b[0;34m(\u001b[0m\u001b[0mstart\u001b[0m\u001b[0;34m)\u001b[0m\u001b[0;34m\u001b[0m\u001b[0m\n\u001b[0;32m---> 62\u001b[0;31m         \u001b[0mmse\u001b[0m \u001b[0;34m=\u001b[0m \u001b[0mevaluate_hw_model\u001b[0m\u001b[0;34m(\u001b[0m\u001b[0mseries\u001b[0m\u001b[0;34m,\u001b[0m \u001b[0;36m365\u001b[0m\u001b[0;34m,\u001b[0m \u001b[0mparameters\u001b[0m\u001b[0;34m)\u001b[0m\u001b[0;34m\u001b[0m\u001b[0m\n\u001b[0m\u001b[1;32m     63\u001b[0m         \u001b[0mprint\u001b[0m\u001b[0;34m(\u001b[0m\u001b[0mmse\u001b[0m\u001b[0;34m)\u001b[0m\u001b[0;34m\u001b[0m\u001b[0m\n\u001b[1;32m     64\u001b[0m         \u001b[0mstop\u001b[0m \u001b[0;34m=\u001b[0m \u001b[0mtime\u001b[0m\u001b[0;34m(\u001b[0m\u001b[0;34m)\u001b[0m\u001b[0;34m\u001b[0m\u001b[0m\n",
      "\u001b[0;32m<ipython-input-44-7deea6f85d89>\u001b[0m in \u001b[0;36mevaluate_hw_model\u001b[0;34m(X, fcstdays, parameters)\u001b[0m\n\u001b[1;32m     44\u001b[0m     \u001b[0mpredictions\u001b[0m \u001b[0;34m=\u001b[0m \u001b[0mlist\u001b[0m\u001b[0;34m(\u001b[0m\u001b[0;34m)\u001b[0m\u001b[0;34m\u001b[0m\u001b[0m\n\u001b[1;32m     45\u001b[0m     \u001b[0mmodel\u001b[0m \u001b[0;34m=\u001b[0m \u001b[0mExponentialSmoothing\u001b[0m\u001b[0;34m(\u001b[0m\u001b[0mX\u001b[0m\u001b[0;34m,\u001b[0m \u001b[0mtrend\u001b[0m\u001b[0;34m=\u001b[0m\u001b[0mt\u001b[0m\u001b[0;34m,\u001b[0m \u001b[0mdamped\u001b[0m\u001b[0;34m=\u001b[0m\u001b[0md\u001b[0m\u001b[0;34m,\u001b[0m \u001b[0mseasonal\u001b[0m\u001b[0;34m=\u001b[0m\u001b[0ms\u001b[0m\u001b[0;34m,\u001b[0m \u001b[0mseasonal_periods\u001b[0m\u001b[0;34m=\u001b[0m\u001b[0mp\u001b[0m\u001b[0;34m)\u001b[0m\u001b[0;34m\u001b[0m\u001b[0m\n\u001b[0;32m---> 46\u001b[0;31m     \u001b[0mmodel_fit\u001b[0m \u001b[0;34m=\u001b[0m \u001b[0mmodel\u001b[0m\u001b[0;34m.\u001b[0m\u001b[0mfit\u001b[0m\u001b[0;34m(\u001b[0m\u001b[0moptimized\u001b[0m\u001b[0;34m=\u001b[0m\u001b[0;32mTrue\u001b[0m\u001b[0;34m,\u001b[0m \u001b[0muse_boxcox\u001b[0m\u001b[0;34m=\u001b[0m\u001b[0mb\u001b[0m\u001b[0;34m,\u001b[0m \u001b[0mremove_bias\u001b[0m\u001b[0;34m=\u001b[0m\u001b[0mr\u001b[0m\u001b[0;34m)\u001b[0m\u001b[0;34m\u001b[0m\u001b[0m\n\u001b[0m\u001b[1;32m     47\u001b[0m     \u001b[0mpredictions\u001b[0m \u001b[0;34m=\u001b[0m \u001b[0mmodel_fit\u001b[0m\u001b[0;34m.\u001b[0m\u001b[0mfittedvalues\u001b[0m\u001b[0;34m\u001b[0m\u001b[0m\n\u001b[1;32m     48\u001b[0m     \u001b[0;31m#yhat = model_fit.forecast(fcstdays)\u001b[0m\u001b[0;34m\u001b[0m\u001b[0;34m\u001b[0m\u001b[0m\n",
      "\u001b[0;32m/anaconda3/lib/python3.6/site-packages/statsmodels/tsa/holtwinters.py\u001b[0m in \u001b[0;36mfit\u001b[0;34m(self, smoothing_level, smoothing_slope, smoothing_seasonal, damping_slope, optimized, use_boxcox, remove_bias, use_basinhopping)\u001b[0m\n\u001b[1;32m    520\u001b[0m         \u001b[0;32mif\u001b[0m \u001b[0mseasoning\u001b[0m\u001b[0;34m:\u001b[0m\u001b[0;34m\u001b[0m\u001b[0m\n\u001b[1;32m    521\u001b[0m             \u001b[0ml0\u001b[0m \u001b[0;34m=\u001b[0m \u001b[0my\u001b[0m\u001b[0;34m[\u001b[0m\u001b[0mnp\u001b[0m\u001b[0;34m.\u001b[0m\u001b[0marange\u001b[0m\u001b[0;34m(\u001b[0m\u001b[0mself\u001b[0m\u001b[0;34m.\u001b[0m\u001b[0mnobs\u001b[0m\u001b[0;34m)\u001b[0m \u001b[0;34m%\u001b[0m \u001b[0mm\u001b[0m \u001b[0;34m==\u001b[0m \u001b[0;36m0\u001b[0m\u001b[0;34m]\u001b[0m\u001b[0;34m.\u001b[0m\u001b[0mmean\u001b[0m\u001b[0;34m(\u001b[0m\u001b[0;34m)\u001b[0m\u001b[0;34m\u001b[0m\u001b[0m\n\u001b[0;32m--> 522\u001b[0;31m             \u001b[0mb0\u001b[0m \u001b[0;34m=\u001b[0m \u001b[0;34m(\u001b[0m\u001b[0;34m(\u001b[0m\u001b[0my\u001b[0m\u001b[0;34m[\u001b[0m\u001b[0mm\u001b[0m\u001b[0;34m:\u001b[0m\u001b[0mm\u001b[0m \u001b[0;34m+\u001b[0m \u001b[0mm\u001b[0m\u001b[0;34m]\u001b[0m \u001b[0;34m-\u001b[0m \u001b[0my\u001b[0m\u001b[0;34m[\u001b[0m\u001b[0;34m:\u001b[0m\u001b[0mm\u001b[0m\u001b[0;34m]\u001b[0m\u001b[0;34m)\u001b[0m \u001b[0;34m/\u001b[0m \u001b[0mm\u001b[0m\u001b[0;34m)\u001b[0m\u001b[0;34m.\u001b[0m\u001b[0mmean\u001b[0m\u001b[0;34m(\u001b[0m\u001b[0;34m)\u001b[0m \u001b[0;32mif\u001b[0m \u001b[0mtrending\u001b[0m \u001b[0;32melse\u001b[0m \u001b[0;32mNone\u001b[0m\u001b[0;34m\u001b[0m\u001b[0m\n\u001b[0m\u001b[1;32m    523\u001b[0m             \u001b[0ms0\u001b[0m \u001b[0;34m=\u001b[0m \u001b[0mlist\u001b[0m\u001b[0;34m(\u001b[0m\u001b[0my\u001b[0m\u001b[0;34m[\u001b[0m\u001b[0;34m:\u001b[0m\u001b[0mm\u001b[0m\u001b[0;34m]\u001b[0m \u001b[0;34m/\u001b[0m \u001b[0ml0\u001b[0m\u001b[0;34m)\u001b[0m \u001b[0;32mif\u001b[0m \u001b[0mseasonal\u001b[0m \u001b[0;34m==\u001b[0m \u001b[0;34m'mul'\u001b[0m \u001b[0;32melse\u001b[0m \u001b[0mlist\u001b[0m\u001b[0;34m(\u001b[0m\u001b[0my\u001b[0m\u001b[0;34m[\u001b[0m\u001b[0;34m:\u001b[0m\u001b[0mm\u001b[0m\u001b[0;34m]\u001b[0m \u001b[0;34m-\u001b[0m \u001b[0ml0\u001b[0m\u001b[0;34m)\u001b[0m\u001b[0;34m\u001b[0m\u001b[0m\n\u001b[1;32m    524\u001b[0m         \u001b[0;32melif\u001b[0m \u001b[0mtrending\u001b[0m\u001b[0;34m:\u001b[0m\u001b[0;34m\u001b[0m\u001b[0m\n",
      "\u001b[0;31mValueError\u001b[0m: operands could not be broadcast together with shapes (0,) (184,) "
     ]
    }
   ],
   "source": [
    "import pandas as pd\n",
    "from time_series_multireg import TimeSeriesMultiReg\n",
    "from time import time\n",
    "from itertools import product\n",
    "import statsmodels.api as sm\n",
    "import sys\n",
    "from sklearn.metrics import mean_squared_error\n",
    "from statsmodels.tsa.holtwinters import ExponentialSmoothing\n",
    "\n",
    "test_data = pd.read_csv('test_data_6m.csv')\n",
    "model = TimeSeriesMultiReg()\n",
    "\n",
    "X = model.format_df(test_data)\n",
    "\n",
    "print(X.head())\n",
    "print(X.dtypes)\n",
    "# sys.exit(1)\n",
    "\n",
    "# evaluate parameters\n",
    "t_params = ['add', 'mul', None]\n",
    "d_params = [True, False]\n",
    "s_params = ['add', 'mul', None]\n",
    "b_params = [True, False]\n",
    "r_params = [True, False]\n",
    "p = 365\n",
    "\n",
    "parameter_grid = list(product(\n",
    "                t_params,\n",
    "                d_params,\n",
    "                s_params,\n",
    "                b_params,\n",
    "                r_params,\n",
    "                [p]\n",
    "        ))\n",
    "\n",
    "def evaluate_hw_model(X, fcstdays, parameters):\n",
    "    t = parameters[0]\n",
    "    d = parameters[1]\n",
    "    s = parameters[2]\n",
    "    b = parameters[3]\n",
    "    r = parameters[4]\n",
    "    p = parameters[5]\n",
    "    # make predictions\n",
    "    predictions = list()\n",
    "    model = ExponentialSmoothing(X, trend=t, damped=d, seasonal=s, seasonal_periods=p)\n",
    "    model_fit = model.fit(optimized=True, use_boxcox=b, remove_bias=r)\n",
    "    predictions = model_fit.fittedvalues\n",
    "    #yhat = model_fit.forecast(fcstdays)\n",
    "    # calculate out of sample error\n",
    "    error = mean_squared_error(X, predictions)\n",
    "    print('error = ', error)\n",
    "    return error\n",
    "\n",
    "results = []\n",
    "for group, frame in X.groupby('RLT Marketing Channel'):\n",
    "    series = frame['y']\n",
    "    series = series.astype('double')\n",
    "    for parameters in parameter_grid:\n",
    "        #try:\n",
    "        start = time()\n",
    "        print(start)\n",
    "        mse = evaluate_hw_model(series, 365, parameters)\n",
    "        print(mse)\n",
    "        stop = time()\n",
    "        print(stop)\n",
    "        #except:\n",
    "            #pass\n",
    "        results.append({\n",
    "            \"mse\": mse,\n",
    "            \"dimension\": group,\n",
    "            \"time\": stop - start,\n",
    "            **{\n",
    "                x: p for x, p in zip(\n",
    "                    [\"t\",\"d\",\"s\",\"b\",\"r\",\"p\"],\n",
    "                    parameters\n",
    "                )\n",
    "            }\n",
    "        })\n",
    "\n",
    "all_results = pd.DataFrame.from_records(\n",
    "    results\n",
    ").to_csv(\n",
    "    'hw_profile.csv',\n",
    "    index=False\n",
    ")"
   ]
  },
  {
   "cell_type": "code",
   "execution_count": null,
   "metadata": {},
   "outputs": [],
   "source": []
  }
 ],
 "metadata": {
  "kernelspec": {
   "display_name": "Python 3",
   "language": "python",
   "name": "python3"
  },
  "language_info": {
   "codemirror_mode": {
    "name": "ipython",
    "version": 3
   },
   "file_extension": ".py",
   "mimetype": "text/x-python",
   "name": "python",
   "nbconvert_exporter": "python",
   "pygments_lexer": "ipython3",
   "version": "3.6.5"
  }
 },
 "nbformat": 4,
 "nbformat_minor": 2
}
