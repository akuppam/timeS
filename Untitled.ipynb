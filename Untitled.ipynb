{
 "cells": [
  {
   "cell_type": "code",
   "execution_count": null,
   "metadata": {},
   "outputs": [],
   "source": [
    "# ARIMA Function from TimeSeriesMultiReg"
   ]
  },
  {
   "cell_type": "code",
   "execution_count": null,
   "metadata": {},
   "outputs": [],
   "source": []
  },
  {
   "cell_type": "code",
   "execution_count": null,
   "metadata": {},
   "outputs": [],
   "source": []
  },
  {
   "cell_type": "code",
   "execution_count": null,
   "metadata": {},
   "outputs": [],
   "source": [
    "  def ArimaFxn(self, df, fcstdays):\n",
    "\n",
    "       series = df['y']\n",
    "\n",
    "       # evaluate parameters\n",
    "       p_values = range(0, 2)\n",
    "       d_values = range(0, 1)\n",
    "       q_values = range(0, 2)\n",
    "\n",
    "       fcstdays = 365\n",
    "\n",
    "       best_score, best_params = float(\"inf\"), None\n",
    "       for p in p_values:\n",
    "           for d in d_values:\n",
    "               for q in q_values:\n",
    "                   order = (p,d,q)\n",
    "                   mse = self.evaluate_arima_model(series, order, fcstdays)\n",
    "                   if mse < best_score:\n",
    "                       best_score, best_params = mse, order\n",
    "                       print('ARIMA %s %s MSE=%.3f' % (order, mse))\n",
    "                       print('Best ARIMA %s MSE=%.3f' % (best_params, best_score))\n",
    "                       print('Best Params: ', best_params)\n",
    "\n",
    "       # apply model\n",
    "       model = ARIMA(series, order=(best_params[0],best_params[1],best_params[2]))\n",
    "       model_fit = model.fit(transparams=True)\n",
    "       print(model_fit.summary())\n",
    "\n",
    "       pred_fcst = model_fit.predict(start=0, end=len(df['y'])-1, dynamic=False)\n",
    "       arima_forecast = model_fit.forecast(fcstdays)\n",
    "       arima_series = pred_fcst.append(arima_forecast)\n",
    "\n",
    "       return arima_series\n",
    "\n",
    "\n",
    "    def evaluate_arima_model(self, X, order, fcstdays):\n",
    "       # make predictions\n",
    "       predictions = list()\n",
    "       model = ARIMA(X,order=order)\n",
    "       model_fit = model.fit(transparams=True)\n",
    "       predictions = model_fit.predict(start=0, end=len(X)-1, dynamic=False)\n",
    "       #yhat = model_fit.forecast(fcstdays)\n",
    "       # calculate out of sample error\n",
    "       error = mean_squared_error(X, predictions)\n",
    "       print('error = ', error)\n",
    "       return error"
   ]
  },
  {
   "cell_type": "code",
   "execution_count": null,
   "metadata": {},
   "outputs": [],
   "source": []
  }
 ],
 "metadata": {
  "kernelspec": {
   "display_name": "Python 3",
   "language": "python",
   "name": "python3"
  },
  "language_info": {
   "codemirror_mode": {
    "name": "ipython",
    "version": 3
   },
   "file_extension": ".py",
   "mimetype": "text/x-python",
   "name": "python",
   "nbconvert_exporter": "python",
   "pygments_lexer": "ipython3",
   "version": "3.6.5"
  }
 },
 "nbformat": 4,
 "nbformat_minor": 2
}
